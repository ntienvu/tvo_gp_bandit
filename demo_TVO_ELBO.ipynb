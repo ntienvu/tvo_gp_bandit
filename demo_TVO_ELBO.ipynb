{
 "cells": [
  {
   "cell_type": "code",
   "execution_count": null,
   "metadata": {},
   "outputs": [],
   "source": []
  },
  {
   "cell_type": "markdown",
   "metadata": {},
   "source": [
    "# Deep generative model learning task\n",
    "learning_task = 'continuous_vae' or 'discrete_vae'\n",
    "\n",
    "\n",
    "## Dataset for continuous VAE\n",
    "dataset = 'mnist' or 'omniglot' or 'tiny_mnist'\n",
    "\n",
    "## Dataset for discrete VAE\n",
    "dataset = 'binarized_mnist' or 'binarized_omniglot'\n",
    "\n",
    "\n",
    "# Objective function for variational inference\n",
    "loss = 'tvo' or 'elbo'\n",
    "\n",
    "\n",
    "\n",
    "## TVO hyperparameters\n",
    "K = 5 # number of partitions\n",
    "S = 10 # number of MCMC samples for Self Normalized Important Sampling\n",
    "\n",
    "## Integration schedule\n",
    "schedule = 'gp_bandit', 'log', 'linear', 'moments'\n",
    "\n",
    "\n",
    "## Neural architecture and hyperparameter\n",
    "hidden_dim = 100  # Hidden dimension of middle NN layers in vae\n",
    "\n",
    "latent_dim = 25  # Dimension of latent variable z\n",
    "\n",
    "optimizer = \"adam\"\n",
    "\n",
    "lr = 0.001\n",
    "\n",
    "num_stochastic_layers = 1\n",
    "\n",
    "num_deterministic_layers = 2\n",
    "\n",
    "seed = 1\n",
    "\n",
    "epochs = 10000\n",
    "\n",
    "batch_size = 1000\n",
    "\n"
   ]
  },
  {
   "cell_type": "markdown",
   "metadata": {},
   "source": [
    "# Training VAE using TVO and the proposed gp_bandit schedule"
   ]
  },
  {
   "cell_type": "code",
   "execution_count": null,
   "metadata": {},
   "outputs": [
    {
     "name": "stderr",
     "output_type": "stream",
     "text": [
      "INFO - main - Running command 'experiment'\n",
      "INFO - main - Started run with ID \"12\"\n"
     ]
    },
    {
     "name": "stdout",
     "output_type": "stream",
     "text": [
      "Reparam turned: OFF\n"
     ]
    },
    {
     "name": "stderr",
     "output_type": "stream",
     "text": [
      "\r",
      "  0%|                                                                                         | 0/5000 [00:00<?, ?it/s]"
     ]
    },
    {
     "name": "stdout",
     "output_type": "stream",
     "text": [
      "Epoch: 0 - train_elbo: -538.5930 train_logpx: -534.6685 train_tvo_log_evidence: -534.7023\n",
      "Epoch: 0 - test_logpx: -508.2463 test_kl: 10.6198\n"
     ]
    },
    {
     "name": "stderr",
     "output_type": "stream",
     "text": [
      "\r",
      "  0%|                                                                              | 1/5000 [00:09<12:41:08,  9.14s/it]"
     ]
    },
    {
     "name": "stdout",
     "output_type": "stream",
     "text": [
      "Epoch: 1 - train_elbo: -483.7701 train_logpx: -472.9474 train_tvo_log_evidence: -473.0142\n"
     ]
    },
    {
     "name": "stderr",
     "output_type": "stream",
     "text": [
      "\r",
      "  0%|                                                                               | 2/5000 [00:10<9:15:53,  6.67s/it]"
     ]
    },
    {
     "name": "stdout",
     "output_type": "stream",
     "text": [
      "Epoch: 2 - train_elbo: -375.8050 train_logpx: -371.8774 train_tvo_log_evidence: -371.9049\n"
     ]
    },
    {
     "name": "stderr",
     "output_type": "stream",
     "text": [
      "\r",
      "  0%|                                                                               | 3/5000 [00:11<6:53:54,  4.97s/it]"
     ]
    },
    {
     "name": "stdout",
     "output_type": "stream",
     "text": [
      "Epoch: 3 - train_elbo: -297.6391 train_logpx: -294.2188 train_tvo_log_evidence: -294.2486\n"
     ]
    },
    {
     "name": "stderr",
     "output_type": "stream",
     "text": [
      "\r",
      "  0%|                                                                               | 4/5000 [00:11<5:11:22,  3.74s/it]"
     ]
    },
    {
     "name": "stdout",
     "output_type": "stream",
     "text": [
      "Epoch: 4 - train_elbo: -255.2943 train_logpx: -252.6456 train_tvo_log_evidence: -252.6617\n"
     ]
    },
    {
     "name": "stderr",
     "output_type": "stream",
     "text": [
      "\r",
      "  0%|                                                                               | 5/5000 [00:12<4:01:26,  2.90s/it]"
     ]
    },
    {
     "name": "stdout",
     "output_type": "stream",
     "text": [
      "Epoch: 5 - train_elbo: -236.0990 train_logpx: -233.1174 train_tvo_log_evidence: -233.1296\n"
     ]
    },
    {
     "name": "stderr",
     "output_type": "stream",
     "text": [
      "\r",
      "  0%|                                                                               | 6/5000 [00:13<3:12:03,  2.31s/it]"
     ]
    },
    {
     "name": "stdout",
     "output_type": "stream",
     "text": [
      "Epoch: 6 - train_elbo: -227.0083 train_logpx: -223.2112 train_tvo_log_evidence: -223.2243\n"
     ]
    },
    {
     "name": "stderr",
     "output_type": "stream",
     "text": [
      "\r",
      "  0%|                                                                               | 7/5000 [00:14<2:36:01,  1.87s/it]"
     ]
    },
    {
     "name": "stdout",
     "output_type": "stream",
     "text": [
      "Epoch: 7 - train_elbo: -222.3663 train_logpx: -217.9654 train_tvo_log_evidence: -217.9793\n"
     ]
    },
    {
     "name": "stderr",
     "output_type": "stream",
     "text": [
      "\r",
      "  0%|▏                                                                              | 8/5000 [00:15<2:10:43,  1.57s/it]"
     ]
    },
    {
     "name": "stdout",
     "output_type": "stream",
     "text": [
      "Epoch: 8 - train_elbo: -219.5058 train_logpx: -214.7609 train_tvo_log_evidence: -214.7755\n"
     ]
    },
    {
     "name": "stderr",
     "output_type": "stream",
     "text": [
      "\r",
      "  0%|▏                                                                              | 9/5000 [00:16<1:53:57,  1.37s/it]"
     ]
    },
    {
     "name": "stdout",
     "output_type": "stream",
     "text": [
      "Epoch: 9 - train_elbo: -218.6198 train_logpx: -212.8612 train_tvo_log_evidence: -212.8758\n"
     ]
    },
    {
     "name": "stderr",
     "output_type": "stream",
     "text": [
      "\r",
      "  0%|▏                                                                             | 10/5000 [00:17<1:44:44,  1.26s/it]"
     ]
    },
    {
     "name": "stdout",
     "output_type": "stream",
     "text": [
      "Epoch: 10 - train_elbo: -218.0631 train_logpx: -211.5337 train_tvo_log_evidence: -211.5483\n"
     ]
    },
    {
     "name": "stderr",
     "output_type": "stream",
     "text": [
      "\r",
      "  0%|▏                                                                             | 11/5000 [00:18<1:38:42,  1.19s/it]"
     ]
    },
    {
     "name": "stdout",
     "output_type": "stream",
     "text": [
      "Epoch: 11 - train_elbo: -217.3240 train_logpx: -210.4766 train_tvo_log_evidence: -210.4921\n"
     ]
    },
    {
     "name": "stderr",
     "output_type": "stream",
     "text": [
      "\r",
      "  0%|▏                                                                             | 12/5000 [00:19<1:34:37,  1.14s/it]"
     ]
    },
    {
     "name": "stdout",
     "output_type": "stream",
     "text": [
      "Epoch: 12 - train_elbo: -217.6662 train_logpx: -209.6961 train_tvo_log_evidence: -209.7124\n"
     ]
    },
    {
     "name": "stderr",
     "output_type": "stream",
     "text": [
      "\r",
      "  0%|▏                                                                             | 13/5000 [00:20<1:28:59,  1.07s/it]"
     ]
    },
    {
     "name": "stdout",
     "output_type": "stream",
     "text": [
      "Epoch: 13 - train_elbo: -217.0100 train_logpx: -209.0840 train_tvo_log_evidence: -209.1010\n"
     ]
    },
    {
     "name": "stderr",
     "output_type": "stream",
     "text": [
      "\r",
      "  0%|▏                                                                             | 14/5000 [00:21<1:27:14,  1.05s/it]"
     ]
    },
    {
     "name": "stdout",
     "output_type": "stream",
     "text": [
      "Epoch: 14 - train_elbo: -217.4467 train_logpx: -208.6860 train_tvo_log_evidence: -208.7034\n"
     ]
    },
    {
     "name": "stderr",
     "output_type": "stream",
     "text": [
      "\r",
      "  0%|▏                                                                             | 15/5000 [00:22<1:25:34,  1.03s/it]"
     ]
    },
    {
     "name": "stdout",
     "output_type": "stream",
     "text": [
      "Epoch: 15 - train_elbo: -216.7145 train_logpx: -208.0773 train_tvo_log_evidence: -208.0956\n"
     ]
    },
    {
     "name": "stderr",
     "output_type": "stream",
     "text": [
      "\r",
      "  0%|▏                                                                             | 16/5000 [00:23<1:22:33,  1.01it/s]"
     ]
    },
    {
     "name": "stdout",
     "output_type": "stream",
     "text": [
      "Epoch: 16 - train_elbo: -215.7873 train_logpx: -207.7314 train_tvo_log_evidence: -207.7512\n"
     ]
    },
    {
     "name": "stderr",
     "output_type": "stream",
     "text": [
      "\r",
      "  0%|▎                                                                             | 17/5000 [00:24<1:24:16,  1.01s/it]"
     ]
    },
    {
     "name": "stdout",
     "output_type": "stream",
     "text": [
      "Epoch: 17 - train_elbo: -217.5513 train_logpx: -207.4208 train_tvo_log_evidence: -207.4404\n"
     ]
    },
    {
     "name": "stderr",
     "output_type": "stream",
     "text": [
      "\r",
      "  0%|▎                                                                             | 18/5000 [00:25<1:23:16,  1.00s/it]"
     ]
    },
    {
     "name": "stdout",
     "output_type": "stream",
     "text": [
      "Epoch: 18 - train_elbo: -216.4316 train_logpx: -207.1414 train_tvo_log_evidence: -207.1625\n"
     ]
    },
    {
     "name": "stderr",
     "output_type": "stream",
     "text": [
      "\r",
      "  0%|▎                                                                             | 19/5000 [00:26<1:22:10,  1.01it/s]"
     ]
    },
    {
     "name": "stdout",
     "output_type": "stream",
     "text": [
      "Epoch: 19 - train_elbo: -216.6069 train_logpx: -206.8491 train_tvo_log_evidence: -206.8701\n"
     ]
    },
    {
     "name": "stderr",
     "output_type": "stream",
     "text": [
      "\r",
      "  0%|▎                                                                             | 20/5000 [00:27<1:19:59,  1.04it/s]"
     ]
    },
    {
     "name": "stdout",
     "output_type": "stream",
     "text": [
      "Epoch: 20 - train_elbo: -216.5549 train_logpx: -206.4653 train_tvo_log_evidence: -206.4872\n"
     ]
    },
    {
     "name": "stderr",
     "output_type": "stream",
     "text": [
      "\r",
      "  0%|▎                                                                             | 21/5000 [00:28<1:18:10,  1.06it/s]"
     ]
    },
    {
     "name": "stdout",
     "output_type": "stream",
     "text": [
      "Epoch: 21 - train_elbo: -216.5710 train_logpx: -206.2491 train_tvo_log_evidence: -206.2718\n"
     ]
    },
    {
     "name": "stderr",
     "output_type": "stream",
     "text": [
      "\r",
      "  0%|▎                                                                             | 22/5000 [00:29<1:20:19,  1.03it/s]"
     ]
    },
    {
     "name": "stdout",
     "output_type": "stream",
     "text": [
      "Epoch: 22 - train_elbo: -217.0357 train_logpx: -205.9465 train_tvo_log_evidence: -205.9692\n"
     ]
    },
    {
     "name": "stderr",
     "output_type": "stream",
     "text": [
      "\r",
      "  0%|▎                                                                             | 23/5000 [00:30<1:19:13,  1.05it/s]"
     ]
    },
    {
     "name": "stdout",
     "output_type": "stream",
     "text": [
      "Epoch: 23 - train_elbo: -216.7295 train_logpx: -205.6321 train_tvo_log_evidence: -205.6560\n"
     ]
    },
    {
     "name": "stderr",
     "output_type": "stream",
     "text": [
      "\r",
      "  0%|▎                                                                             | 24/5000 [00:31<1:19:50,  1.04it/s]"
     ]
    },
    {
     "name": "stdout",
     "output_type": "stream",
     "text": [
      "ignore for the first time to save the first value of Y\n",
      "==================================\n",
      "K=6 points=tensor([0.0000, 0.0501, 0.1282, 0.3221, 0.3561, 1.0000], device='cuda:0')\n",
      "==================================\n",
      "Epoch: 24 - train_elbo: -214.5692 train_logpx: -205.4449 train_tvo_log_evidence: -205.4719\n"
     ]
    },
    {
     "name": "stderr",
     "output_type": "stream",
     "text": [
      "\r",
      "  0%|▍                                                                             | 25/5000 [00:31<1:19:13,  1.05it/s]"
     ]
    },
    {
     "name": "stdout",
     "output_type": "stream",
     "text": [
      "Epoch: 25 - train_elbo: -214.2865 train_logpx: -205.1260 train_tvo_log_evidence: -205.1524\n"
     ]
    },
    {
     "name": "stderr",
     "output_type": "stream",
     "text": [
      "\r",
      "  1%|▍                                                                             | 26/5000 [00:32<1:17:47,  1.07it/s]"
     ]
    },
    {
     "name": "stdout",
     "output_type": "stream",
     "text": [
      "Epoch: 26 - train_elbo: -213.8272 train_logpx: -204.9661 train_tvo_log_evidence: -204.9950\n"
     ]
    },
    {
     "name": "stderr",
     "output_type": "stream",
     "text": [
      "\r",
      "  1%|▍                                                                             | 27/5000 [00:33<1:19:38,  1.04it/s]"
     ]
    },
    {
     "name": "stdout",
     "output_type": "stream",
     "text": [
      "Epoch: 27 - train_elbo: -213.4794 train_logpx: -204.6272 train_tvo_log_evidence: -204.6557\n"
     ]
    },
    {
     "name": "stderr",
     "output_type": "stream",
     "text": [
      "\r",
      "  1%|▍                                                                             | 28/5000 [00:34<1:21:43,  1.01it/s]"
     ]
    },
    {
     "name": "stdout",
     "output_type": "stream",
     "text": [
      "Epoch: 28 - train_elbo: -214.0421 train_logpx: -204.0758 train_tvo_log_evidence: -204.1031\n"
     ]
    },
    {
     "name": "stderr",
     "output_type": "stream",
     "text": [
      "\r",
      "  1%|▍                                                                             | 29/5000 [00:35<1:19:46,  1.04it/s]"
     ]
    },
    {
     "name": "stdout",
     "output_type": "stream",
     "text": [
      "Epoch: 29 - train_elbo: -213.0688 train_logpx: -203.4370 train_tvo_log_evidence: -203.4657\n"
     ]
    },
    {
     "name": "stderr",
     "output_type": "stream",
     "text": [
      "\r",
      "  1%|▍                                                                             | 30/5000 [00:36<1:18:54,  1.05it/s]"
     ]
    },
    {
     "name": "stdout",
     "output_type": "stream",
     "text": [
      "==================================\n",
      "K=6 points=tensor([0.0000, 0.0775, 0.0892, 0.1734, 0.3610, 1.0000], device='cuda:0')\n",
      "==================================\n",
      "Epoch: 30 - train_elbo: -211.9789 train_logpx: -202.7921 train_tvo_log_evidence: -202.8240\n"
     ]
    },
    {
     "name": "stderr",
     "output_type": "stream",
     "text": [
      "\r",
      "  1%|▍                                                                             | 31/5000 [00:37<1:18:44,  1.05it/s]"
     ]
    },
    {
     "name": "stdout",
     "output_type": "stream",
     "text": [
      "Epoch: 31 - train_elbo: -211.1208 train_logpx: -202.0407 train_tvo_log_evidence: -202.0722\n"
     ]
    },
    {
     "name": "stderr",
     "output_type": "stream",
     "text": [
      "\r",
      "  1%|▍                                                                             | 32/5000 [00:38<1:17:35,  1.07it/s]"
     ]
    },
    {
     "name": "stdout",
     "output_type": "stream",
     "text": [
      "Epoch: 32 - train_elbo: -209.7931 train_logpx: -201.2347 train_tvo_log_evidence: -201.2654\n"
     ]
    },
    {
     "name": "stderr",
     "output_type": "stream",
     "text": [
      "\r",
      "  1%|▌                                                                             | 33/5000 [00:39<1:16:53,  1.08it/s]"
     ]
    },
    {
     "name": "stdout",
     "output_type": "stream",
     "text": [
      "Epoch: 33 - train_elbo: -208.3703 train_logpx: -200.3201 train_tvo_log_evidence: -200.3530\n"
     ]
    },
    {
     "name": "stderr",
     "output_type": "stream",
     "text": [
      "\r",
      "  1%|▌                                                                             | 34/5000 [00:40<1:17:57,  1.06it/s]"
     ]
    },
    {
     "name": "stdout",
     "output_type": "stream",
     "text": [
      "Epoch: 34 - train_elbo: -207.8678 train_logpx: -199.5520 train_tvo_log_evidence: -199.5856\n"
     ]
    },
    {
     "name": "stderr",
     "output_type": "stream",
     "text": [
      "\r",
      "  1%|▌                                                                             | 35/5000 [00:41<1:20:45,  1.02it/s]"
     ]
    },
    {
     "name": "stdout",
     "output_type": "stream",
     "text": [
      "Epoch: 35 - train_elbo: -207.3084 train_logpx: -198.8391 train_tvo_log_evidence: -198.8723\n"
     ]
    },
    {
     "name": "stderr",
     "output_type": "stream",
     "text": [
      "\r",
      "  1%|▌                                                                             | 36/5000 [00:42<1:20:25,  1.03it/s]"
     ]
    },
    {
     "name": "stdout",
     "output_type": "stream",
     "text": [
      "==================================\n",
      "K=6 points=tensor([0.0000, 0.1244, 0.2790, 0.3277, 0.6667, 1.0000], device='cuda:0')\n",
      "==================================\n",
      "Epoch: 36 - train_elbo: -205.7677 train_logpx: -198.4790 train_tvo_log_evidence: -198.5180\n"
     ]
    },
    {
     "name": "stderr",
     "output_type": "stream",
     "text": [
      "\r",
      "  1%|▌                                                                             | 37/5000 [00:43<1:21:02,  1.02it/s]"
     ]
    },
    {
     "name": "stdout",
     "output_type": "stream",
     "text": [
      "Epoch: 37 - train_elbo: -204.8104 train_logpx: -198.1362 train_tvo_log_evidence: -198.1766\n"
     ]
    },
    {
     "name": "stderr",
     "output_type": "stream",
     "text": [
      "\r",
      "  1%|▌                                                                             | 38/5000 [00:44<1:19:00,  1.05it/s]"
     ]
    },
    {
     "name": "stdout",
     "output_type": "stream",
     "text": [
      "Epoch: 38 - train_elbo: -204.2798 train_logpx: -197.7152 train_tvo_log_evidence: -197.7548\n"
     ]
    },
    {
     "name": "stderr",
     "output_type": "stream",
     "text": [
      "\r",
      "  1%|▌                                                                             | 39/5000 [00:45<1:20:09,  1.03it/s]"
     ]
    },
    {
     "name": "stdout",
     "output_type": "stream",
     "text": [
      "Epoch: 39 - train_elbo: -204.1213 train_logpx: -197.3728 train_tvo_log_evidence: -197.4118\n"
     ]
    },
    {
     "name": "stderr",
     "output_type": "stream",
     "text": [
      "\r",
      "  1%|▌                                                                             | 40/5000 [00:46<1:20:01,  1.03it/s]"
     ]
    },
    {
     "name": "stdout",
     "output_type": "stream",
     "text": [
      "Epoch: 40 - train_elbo: -203.2866 train_logpx: -197.1202 train_tvo_log_evidence: -197.1604\n"
     ]
    },
    {
     "name": "stderr",
     "output_type": "stream",
     "text": [
      "\r",
      "  1%|▋                                                                             | 41/5000 [00:47<1:18:53,  1.05it/s]"
     ]
    },
    {
     "name": "stdout",
     "output_type": "stream",
     "text": [
      "Epoch: 41 - train_elbo: -202.9256 train_logpx: -196.7087 train_tvo_log_evidence: -196.7475\n"
     ]
    },
    {
     "name": "stderr",
     "output_type": "stream",
     "text": [
      "\r",
      "  1%|▋                                                                             | 42/5000 [00:48<1:18:11,  1.06it/s]"
     ]
    },
    {
     "name": "stdout",
     "output_type": "stream",
     "text": [
      "==================================\n",
      "K=6 points=tensor([0.0000, 0.0681, 0.0883, 0.4232, 0.6534, 1.0000], device='cuda:0')\n",
      "==================================\n",
      "Epoch: 42 - train_elbo: -203.2162 train_logpx: -196.1882 train_tvo_log_evidence: -196.2240\n"
     ]
    },
    {
     "name": "stderr",
     "output_type": "stream",
     "text": [
      "\r",
      "  1%|▋                                                                             | 43/5000 [00:49<1:19:06,  1.04it/s]"
     ]
    },
    {
     "name": "stdout",
     "output_type": "stream",
     "text": [
      "Epoch: 43 - train_elbo: -203.1478 train_logpx: -195.8626 train_tvo_log_evidence: -195.8973\n"
     ]
    },
    {
     "name": "stderr",
     "output_type": "stream",
     "text": [
      "\r",
      "  1%|▋                                                                             | 44/5000 [00:50<1:19:21,  1.04it/s]"
     ]
    },
    {
     "name": "stdout",
     "output_type": "stream",
     "text": [
      "Epoch: 44 - train_elbo: -202.5483 train_logpx: -195.6345 train_tvo_log_evidence: -195.6708\n"
     ]
    },
    {
     "name": "stderr",
     "output_type": "stream",
     "text": [
      "\r",
      "  1%|▋                                                                             | 45/5000 [00:51<1:19:24,  1.04it/s]"
     ]
    },
    {
     "name": "stdout",
     "output_type": "stream",
     "text": [
      "Epoch: 45 - train_elbo: -202.0995 train_logpx: -195.3314 train_tvo_log_evidence: -195.3675\n"
     ]
    },
    {
     "name": "stderr",
     "output_type": "stream",
     "text": [
      "\r",
      "  1%|▋                                                                             | 46/5000 [00:52<1:18:28,  1.05it/s]"
     ]
    },
    {
     "name": "stdout",
     "output_type": "stream",
     "text": [
      "Epoch: 46 - train_elbo: -201.6607 train_logpx: -195.0846 train_tvo_log_evidence: -195.1202\n"
     ]
    },
    {
     "name": "stderr",
     "output_type": "stream",
     "text": [
      "\r",
      "  1%|▋                                                                             | 47/5000 [00:53<1:18:45,  1.05it/s]"
     ]
    },
    {
     "name": "stdout",
     "output_type": "stream",
     "text": [
      "Epoch: 47 - train_elbo: -201.5916 train_logpx: -194.7689 train_tvo_log_evidence: -194.8034\n"
     ]
    },
    {
     "name": "stderr",
     "output_type": "stream",
     "text": [
      "\r",
      "  1%|▋                                                                             | 48/5000 [00:54<1:20:46,  1.02it/s]"
     ]
    },
    {
     "name": "stdout",
     "output_type": "stream",
     "text": [
      "==================================\n",
      "K=6 points=tensor([0.0000, 0.1282, 0.1430, 0.2283, 0.2874, 1.0000], device='cuda:0')\n",
      "==================================\n",
      "Epoch: 48 - train_elbo: -201.0916 train_logpx: -194.3084 train_tvo_log_evidence: -194.3441\n"
     ]
    },
    {
     "name": "stderr",
     "output_type": "stream",
     "text": [
      "\r",
      "  1%|▊                                                                             | 49/5000 [00:55<1:20:42,  1.02it/s]"
     ]
    },
    {
     "name": "stdout",
     "output_type": "stream",
     "text": [
      "Epoch: 49 - train_elbo: -201.5724 train_logpx: -194.1512 train_tvo_log_evidence: -194.1872\n"
     ]
    },
    {
     "name": "stderr",
     "output_type": "stream",
     "text": [
      "\r",
      "  1%|▊                                                                             | 50/5000 [00:55<1:18:09,  1.06it/s]"
     ]
    },
    {
     "name": "stdout",
     "output_type": "stream",
     "text": [
      "Epoch: 50 - train_elbo: -200.8431 train_logpx: -193.9517 train_tvo_log_evidence: -193.9884\n"
     ]
    },
    {
     "name": "stderr",
     "output_type": "stream",
     "text": [
      "\r",
      "  1%|▊                                                                             | 51/5000 [00:56<1:19:22,  1.04it/s]"
     ]
    },
    {
     "name": "stdout",
     "output_type": "stream",
     "text": [
      "Epoch: 51 - train_elbo: -201.1028 train_logpx: -193.5496 train_tvo_log_evidence: -193.5859\n"
     ]
    },
    {
     "name": "stderr",
     "output_type": "stream",
     "text": [
      "\r",
      "  1%|▊                                                                             | 52/5000 [00:57<1:19:09,  1.04it/s]"
     ]
    },
    {
     "name": "stdout",
     "output_type": "stream",
     "text": [
      "Epoch: 52 - train_elbo: -200.7025 train_logpx: -193.5261 train_tvo_log_evidence: -193.5639\n"
     ]
    },
    {
     "name": "stderr",
     "output_type": "stream",
     "text": [
      "\r",
      "  1%|▊                                                                             | 53/5000 [00:58<1:20:44,  1.02it/s]"
     ]
    },
    {
     "name": "stdout",
     "output_type": "stream",
     "text": [
      "Epoch: 53 - train_elbo: -200.1013 train_logpx: -193.1305 train_tvo_log_evidence: -193.1677\n"
     ]
    },
    {
     "name": "stderr",
     "output_type": "stream",
     "text": [
      "\r",
      "  1%|▊                                                                             | 54/5000 [00:59<1:20:09,  1.03it/s]"
     ]
    },
    {
     "name": "stdout",
     "output_type": "stream",
     "text": [
      "==================================\n",
      "K=6 points=tensor([0.0000, 0.2001, 0.2576, 0.4615, 0.6731, 1.0000], device='cuda:0')\n",
      "==================================\n",
      "Epoch: 54 - train_elbo: -199.4613 train_logpx: -193.3266 train_tvo_log_evidence: -193.3694\n"
     ]
    },
    {
     "name": "stderr",
     "output_type": "stream",
     "text": [
      "\r",
      "  1%|▊                                                                             | 55/5000 [01:00<1:19:37,  1.04it/s]"
     ]
    },
    {
     "name": "stdout",
     "output_type": "stream",
     "text": [
      "Epoch: 55 - train_elbo: -198.9408 train_logpx: -193.6699 train_tvo_log_evidence: -193.7154\n"
     ]
    },
    {
     "name": "stderr",
     "output_type": "stream",
     "text": [
      "\r",
      "  1%|▊                                                                             | 56/5000 [01:01<1:18:30,  1.05it/s]"
     ]
    },
    {
     "name": "stdout",
     "output_type": "stream",
     "text": [
      "Epoch: 56 - train_elbo: -198.5011 train_logpx: -193.2878 train_tvo_log_evidence: -193.3301\n"
     ]
    },
    {
     "name": "stderr",
     "output_type": "stream",
     "text": [
      "\r",
      "  1%|▉                                                                             | 57/5000 [01:02<1:17:46,  1.06it/s]"
     ]
    },
    {
     "name": "stdout",
     "output_type": "stream",
     "text": [
      "Epoch: 57 - train_elbo: -198.2844 train_logpx: -192.8302 train_tvo_log_evidence: -192.8707\n"
     ]
    },
    {
     "name": "stderr",
     "output_type": "stream",
     "text": [
      "\r",
      "  1%|▉                                                                             | 58/5000 [01:03<1:16:37,  1.07it/s]"
     ]
    },
    {
     "name": "stdout",
     "output_type": "stream",
     "text": [
      "Epoch: 58 - train_elbo: -197.9167 train_logpx: -192.7972 train_tvo_log_evidence: -192.8402\n"
     ]
    },
    {
     "name": "stderr",
     "output_type": "stream",
     "text": [
      "\r",
      "  1%|▉                                                                             | 59/5000 [01:04<1:16:47,  1.07it/s]"
     ]
    },
    {
     "name": "stdout",
     "output_type": "stream",
     "text": [
      "Epoch: 59 - train_elbo: -197.6908 train_logpx: -192.5415 train_tvo_log_evidence: -192.5842\n"
     ]
    },
    {
     "name": "stderr",
     "output_type": "stream",
     "text": [
      "\r",
      "  1%|▉                                                                             | 60/5000 [01:05<1:18:58,  1.04it/s]"
     ]
    },
    {
     "name": "stdout",
     "output_type": "stream",
     "text": [
      "==================================\n",
      "K=6 points=tensor([0.0000, 0.0851, 0.1063, 0.2143, 0.4302, 1.0000], device='cuda:0')\n",
      "==================================\n",
      "Epoch: 60 - train_elbo: -198.3979 train_logpx: -192.1246 train_tvo_log_evidence: -192.1628\n"
     ]
    },
    {
     "name": "stderr",
     "output_type": "stream",
     "text": [
      "\r",
      "  1%|▉                                                                             | 61/5000 [01:06<1:17:30,  1.06it/s]"
     ]
    },
    {
     "name": "stdout",
     "output_type": "stream",
     "text": [
      "Epoch: 61 - train_elbo: -199.0499 train_logpx: -191.5849 train_tvo_log_evidence: -191.6227\n"
     ]
    },
    {
     "name": "stderr",
     "output_type": "stream",
     "text": [
      "\r",
      "  1%|▉                                                                             | 62/5000 [01:07<1:22:10,  1.00it/s]"
     ]
    },
    {
     "name": "stdout",
     "output_type": "stream",
     "text": [
      "Epoch: 62 - train_elbo: -198.6199 train_logpx: -191.4004 train_tvo_log_evidence: -191.4390\n"
     ]
    },
    {
     "name": "stderr",
     "output_type": "stream",
     "text": [
      "\r",
      "  1%|▉                                                                             | 63/5000 [01:08<1:19:56,  1.03it/s]"
     ]
    },
    {
     "name": "stdout",
     "output_type": "stream",
     "text": [
      "Epoch: 63 - train_elbo: -198.0013 train_logpx: -191.2655 train_tvo_log_evidence: -191.3038\n"
     ]
    },
    {
     "name": "stderr",
     "output_type": "stream",
     "text": [
      "\r",
      "  1%|▉                                                                             | 64/5000 [01:09<1:21:02,  1.02it/s]"
     ]
    },
    {
     "name": "stdout",
     "output_type": "stream",
     "text": [
      "Epoch: 64 - train_elbo: -197.8647 train_logpx: -191.0243 train_tvo_log_evidence: -191.0623\n"
     ]
    },
    {
     "name": "stderr",
     "output_type": "stream",
     "text": [
      "\r",
      "  1%|█                                                                             | 65/5000 [01:10<1:19:18,  1.04it/s]"
     ]
    },
    {
     "name": "stdout",
     "output_type": "stream",
     "text": [
      "Epoch: 65 - train_elbo: -198.0817 train_logpx: -190.9456 train_tvo_log_evidence: -190.9838\n"
     ]
    },
    {
     "name": "stderr",
     "output_type": "stream",
     "text": [
      "\r",
      "  1%|█                                                                             | 66/5000 [01:11<1:19:00,  1.04it/s]"
     ]
    },
    {
     "name": "stdout",
     "output_type": "stream",
     "text": [
      "==================================\n",
      "K=6 points=tensor([0.0000, 0.0818, 0.1152, 0.4232, 0.4290, 1.0000], device='cuda:0')\n",
      "==================================\n",
      "Epoch: 66 - train_elbo: -198.0101 train_logpx: -190.7122 train_tvo_log_evidence: -190.7499\n"
     ]
    },
    {
     "name": "stderr",
     "output_type": "stream",
     "text": [
      "\r",
      "  1%|█                                                                             | 67/5000 [01:12<1:19:03,  1.04it/s]"
     ]
    },
    {
     "name": "stdout",
     "output_type": "stream",
     "text": [
      "Epoch: 67 - train_elbo: -197.4863 train_logpx: -190.3584 train_tvo_log_evidence: -190.3956\n"
     ]
    },
    {
     "name": "stderr",
     "output_type": "stream",
     "text": [
      "\r",
      "  1%|█                                                                             | 68/5000 [01:13<1:21:12,  1.01it/s]"
     ]
    },
    {
     "name": "stdout",
     "output_type": "stream",
     "text": [
      "Epoch: 68 - train_elbo: -197.5356 train_logpx: -190.3761 train_tvo_log_evidence: -190.4142\n"
     ]
    },
    {
     "name": "stderr",
     "output_type": "stream",
     "text": [
      "\r",
      "  1%|█                                                                             | 69/5000 [01:14<1:19:40,  1.03it/s]"
     ]
    },
    {
     "name": "stdout",
     "output_type": "stream",
     "text": [
      "Epoch: 69 - train_elbo: -197.7304 train_logpx: -190.2011 train_tvo_log_evidence: -190.2384\n"
     ]
    },
    {
     "name": "stderr",
     "output_type": "stream",
     "text": [
      "\r",
      "  1%|█                                                                             | 70/5000 [01:15<1:19:09,  1.04it/s]"
     ]
    },
    {
     "name": "stdout",
     "output_type": "stream",
     "text": [
      "Epoch: 70 - train_elbo: -196.9906 train_logpx: -190.0424 train_tvo_log_evidence: -190.0798\n"
     ]
    },
    {
     "name": "stderr",
     "output_type": "stream",
     "text": [
      "\r",
      "  1%|█                                                                             | 71/5000 [01:16<1:18:54,  1.04it/s]"
     ]
    },
    {
     "name": "stdout",
     "output_type": "stream",
     "text": [
      "Epoch: 71 - train_elbo: -196.9947 train_logpx: -189.7223 train_tvo_log_evidence: -189.7594\n"
     ]
    },
    {
     "name": "stderr",
     "output_type": "stream",
     "text": [
      "\r",
      "  1%|█                                                                             | 72/5000 [01:17<1:18:56,  1.04it/s]"
     ]
    },
    {
     "name": "stdout",
     "output_type": "stream",
     "text": [
      "==================================\n",
      "K=6 points=tensor([0.0000, 0.2296, 0.2766, 0.3340, 0.5084, 1.0000], device='cuda:0')\n",
      "==================================\n",
      "Epoch: 72 - train_elbo: -196.3500 train_logpx: -190.0747 train_tvo_log_evidence: -190.1177\n"
     ]
    },
    {
     "name": "stderr",
     "output_type": "stream",
     "text": [
      "\r",
      "  1%|█▏                                                                            | 73/5000 [01:18<1:17:21,  1.06it/s]"
     ]
    },
    {
     "name": "stdout",
     "output_type": "stream",
     "text": [
      "Epoch: 73 - train_elbo: -195.7275 train_logpx: -190.4518 train_tvo_log_evidence: -190.4952\n"
     ]
    },
    {
     "name": "stderr",
     "output_type": "stream",
     "text": [
      "\r",
      "  1%|█▏                                                                            | 74/5000 [01:19<1:18:42,  1.04it/s]"
     ]
    },
    {
     "name": "stdout",
     "output_type": "stream",
     "text": [
      "===early update=== logtvopx[-1]-average_y[-1] -0.2223 drip_threshold -0.05\n",
      "==================================\n",
      "K=6 points=tensor([0.0000, 0.0621, 0.1787, 0.4047, 0.7251, 1.0000], device='cuda:0')\n",
      "==================================\n",
      "Epoch: 74 - train_elbo: -195.4660 train_logpx: -189.7011 train_tvo_log_evidence: -189.7407\n"
     ]
    },
    {
     "name": "stderr",
     "output_type": "stream",
     "text": [
      "\r",
      "  2%|█▏                                                                            | 75/5000 [01:19<1:18:05,  1.05it/s]"
     ]
    },
    {
     "name": "stdout",
     "output_type": "stream",
     "text": [
      "Epoch: 75 - train_elbo: -196.5952 train_logpx: -189.0287 train_tvo_log_evidence: -189.0644\n"
     ]
    },
    {
     "name": "stderr",
     "output_type": "stream",
     "text": [
      "\r",
      "  2%|█▏                                                                            | 76/5000 [01:20<1:17:55,  1.05it/s]"
     ]
    },
    {
     "name": "stdout",
     "output_type": "stream",
     "text": [
      "Epoch: 76 - train_elbo: -195.1996 train_logpx: -188.9333 train_tvo_log_evidence: -188.9713\n"
     ]
    },
    {
     "name": "stderr",
     "output_type": "stream",
     "text": [
      "\r",
      "  2%|█▏                                                                            | 77/5000 [01:21<1:16:51,  1.07it/s]"
     ]
    },
    {
     "name": "stdout",
     "output_type": "stream",
     "text": [
      "Epoch: 77 - train_elbo: -195.2675 train_logpx: -188.6981 train_tvo_log_evidence: -188.7359\n"
     ]
    },
    {
     "name": "stderr",
     "output_type": "stream",
     "text": [
      "\r",
      "  2%|█▏                                                                            | 78/5000 [01:22<1:16:30,  1.07it/s]"
     ]
    },
    {
     "name": "stdout",
     "output_type": "stream",
     "text": [
      "==================================\n",
      "K=6 points=tensor([0.0000, 0.2354, 0.2358, 0.3680, 0.7604, 1.0000], device='cuda:0')\n",
      "==================================\n",
      "args.schedule_update_frequency= 7\n",
      "Epoch: 78 - train_elbo: -194.7419 train_logpx: -188.8676 train_tvo_log_evidence: -188.9083\n"
     ]
    },
    {
     "name": "stderr",
     "output_type": "stream",
     "text": [
      "\r",
      "  2%|█▏                                                                            | 79/5000 [01:23<1:16:04,  1.08it/s]"
     ]
    },
    {
     "name": "stdout",
     "output_type": "stream",
     "text": [
      "Epoch: 79 - train_elbo: -194.1710 train_logpx: -189.1482 train_tvo_log_evidence: -189.1904\n"
     ]
    },
    {
     "name": "stderr",
     "output_type": "stream",
     "text": [
      "\r",
      "  2%|█▏                                                                            | 80/5000 [01:24<1:17:19,  1.06it/s]"
     ]
    },
    {
     "name": "stdout",
     "output_type": "stream",
     "text": [
      "Epoch: 80 - train_elbo: -193.9100 train_logpx: -188.6757 train_tvo_log_evidence: -188.7155\n"
     ]
    },
    {
     "name": "stderr",
     "output_type": "stream",
     "text": [
      "\r",
      "  2%|█▎                                                                            | 81/5000 [01:25<1:17:45,  1.05it/s]"
     ]
    },
    {
     "name": "stdout",
     "output_type": "stream",
     "text": [
      "Epoch: 81 - train_elbo: -193.5712 train_logpx: -188.2685 train_tvo_log_evidence: -188.3075\n"
     ]
    },
    {
     "name": "stderr",
     "output_type": "stream",
     "text": [
      "\r",
      "  2%|█▎                                                                            | 82/5000 [01:26<1:17:41,  1.05it/s]"
     ]
    },
    {
     "name": "stdout",
     "output_type": "stream",
     "text": [
      "Epoch: 82 - train_elbo: -193.1192 train_logpx: -188.2213 train_tvo_log_evidence: -188.2608\n"
     ]
    },
    {
     "name": "stderr",
     "output_type": "stream",
     "text": [
      "\r",
      "  2%|█▎                                                                            | 83/5000 [01:27<1:16:48,  1.07it/s]"
     ]
    },
    {
     "name": "stdout",
     "output_type": "stream",
     "text": [
      "Epoch: 83 - train_elbo: -192.8307 train_logpx: -187.7997 train_tvo_log_evidence: -187.8381\n"
     ]
    },
    {
     "name": "stderr",
     "output_type": "stream",
     "text": [
      "\r",
      "  2%|█▎                                                                            | 84/5000 [01:28<1:19:43,  1.03it/s]"
     ]
    },
    {
     "name": "stdout",
     "output_type": "stream",
     "text": [
      "==================================\n",
      "K=6 points=tensor([0.0000, 0.0694, 0.2404, 0.3143, 0.6519, 1.0000], device='cuda:0')\n",
      "==================================\n",
      "Epoch: 84 - train_elbo: -192.6249 train_logpx: -187.0449 train_tvo_log_evidence: -187.0838\n"
     ]
    },
    {
     "name": "stderr",
     "output_type": "stream",
     "text": [
      "\r",
      "  2%|█▎                                                                            | 85/5000 [01:29<1:19:20,  1.03it/s]"
     ]
    },
    {
     "name": "stdout",
     "output_type": "stream",
     "text": [
      "Epoch: 85 - train_elbo: -193.1068 train_logpx: -186.5463 train_tvo_log_evidence: -186.5841\n"
     ]
    },
    {
     "name": "stderr",
     "output_type": "stream",
     "text": [
      "\r",
      "  2%|█▎                                                                            | 86/5000 [01:30<1:18:32,  1.04it/s]"
     ]
    },
    {
     "name": "stdout",
     "output_type": "stream",
     "text": [
      "Epoch: 86 - train_elbo: -192.7129 train_logpx: -186.0255 train_tvo_log_evidence: -186.0642\n"
     ]
    },
    {
     "name": "stderr",
     "output_type": "stream",
     "text": [
      "\r",
      "  2%|█▎                                                                            | 87/5000 [01:31<1:19:41,  1.03it/s]"
     ]
    },
    {
     "name": "stdout",
     "output_type": "stream",
     "text": [
      "Epoch: 87 - train_elbo: -191.9520 train_logpx: -185.4600 train_tvo_log_evidence: -185.4995\n"
     ]
    },
    {
     "name": "stderr",
     "output_type": "stream",
     "text": [
      "\r",
      "  2%|█▎                                                                            | 88/5000 [01:32<1:20:14,  1.02it/s]"
     ]
    },
    {
     "name": "stdout",
     "output_type": "stream",
     "text": [
      "Epoch: 88 - train_elbo: -191.6692 train_logpx: -185.0685 train_tvo_log_evidence: -185.1075\n"
     ]
    },
    {
     "name": "stderr",
     "output_type": "stream",
     "text": [
      "\r",
      "  2%|█▍                                                                            | 89/5000 [01:33<1:20:26,  1.02it/s]"
     ]
    },
    {
     "name": "stdout",
     "output_type": "stream",
     "text": [
      "Epoch: 89 - train_elbo: -191.4234 train_logpx: -184.5920 train_tvo_log_evidence: -184.6314\n"
     ]
    },
    {
     "name": "stderr",
     "output_type": "stream",
     "text": [
      "\r",
      "  2%|█▍                                                                            | 90/5000 [01:34<1:19:22,  1.03it/s]"
     ]
    },
    {
     "name": "stdout",
     "output_type": "stream",
     "text": [
      "Epoch: 90 - train_elbo: -190.9343 train_logpx: -183.8580 train_tvo_log_evidence: -183.8980\n"
     ]
    },
    {
     "name": "stderr",
     "output_type": "stream",
     "text": [
      "\r",
      "  2%|█▍                                                                            | 91/5000 [01:35<1:18:27,  1.04it/s]"
     ]
    },
    {
     "name": "stdout",
     "output_type": "stream",
     "text": [
      "==================================\n",
      "K=6 points=tensor([0.0000, 0.0628, 0.1040, 0.1053, 0.6610, 1.0000], device='cuda:0')\n",
      "==================================\n",
      "Epoch: 91 - train_elbo: -191.1472 train_logpx: -183.1251 train_tvo_log_evidence: -183.1626\n"
     ]
    },
    {
     "name": "stderr",
     "output_type": "stream",
     "text": [
      "\r",
      "  2%|█▍                                                                            | 92/5000 [01:36<1:20:30,  1.02it/s]"
     ]
    },
    {
     "name": "stdout",
     "output_type": "stream",
     "text": [
      "Epoch: 92 - train_elbo: -190.3455 train_logpx: -182.5168 train_tvo_log_evidence: -182.5552\n"
     ]
    },
    {
     "name": "stderr",
     "output_type": "stream",
     "text": [
      "\r",
      "  2%|█▍                                                                            | 93/5000 [01:37<1:21:15,  1.01it/s]"
     ]
    },
    {
     "name": "stdout",
     "output_type": "stream",
     "text": [
      "Epoch: 93 - train_elbo: -189.8032 train_logpx: -181.7150 train_tvo_log_evidence: -181.7521\n"
     ]
    },
    {
     "name": "stderr",
     "output_type": "stream",
     "text": [
      "\r",
      "  2%|█▍                                                                            | 94/5000 [01:38<1:23:10,  1.02s/it]"
     ]
    },
    {
     "name": "stdout",
     "output_type": "stream",
     "text": [
      "Epoch: 94 - train_elbo: -189.1510 train_logpx: -180.8434 train_tvo_log_evidence: -180.8809\n"
     ]
    },
    {
     "name": "stderr",
     "output_type": "stream",
     "text": [
      "\r",
      "  2%|█▍                                                                            | 95/5000 [01:39<1:22:06,  1.00s/it]"
     ]
    },
    {
     "name": "stdout",
     "output_type": "stream",
     "text": [
      "Epoch: 95 - train_elbo: -187.5899 train_logpx: -180.1440 train_tvo_log_evidence: -180.1820\n"
     ]
    },
    {
     "name": "stderr",
     "output_type": "stream",
     "text": [
      "\r",
      "  2%|█▍                                                                            | 96/5000 [01:40<1:20:34,  1.01it/s]"
     ]
    },
    {
     "name": "stdout",
     "output_type": "stream",
     "text": [
      "Epoch: 96 - train_elbo: -186.9480 train_logpx: -179.1290 train_tvo_log_evidence: -179.1664\n"
     ]
    },
    {
     "name": "stderr",
     "output_type": "stream",
     "text": [
      "\r",
      "  2%|█▌                                                                            | 97/5000 [01:41<1:19:06,  1.03it/s]"
     ]
    },
    {
     "name": "stdout",
     "output_type": "stream",
     "text": [
      "Epoch: 97 - train_elbo: -186.1959 train_logpx: -178.3720 train_tvo_log_evidence: -178.4099\n"
     ]
    },
    {
     "name": "stderr",
     "output_type": "stream",
     "text": [
      "\r",
      "  2%|█▌                                                                            | 98/5000 [01:42<1:18:51,  1.04it/s]"
     ]
    },
    {
     "name": "stdout",
     "output_type": "stream",
     "text": [
      "==================================\n",
      "K=6 points=tensor([0.0000, 0.0897, 0.0980, 0.1629, 0.3757, 1.0000], device='cuda:0')\n",
      "==================================\n",
      "Epoch: 98 - train_elbo: -184.4577 train_logpx: -177.5443 train_tvo_log_evidence: -177.5844\n"
     ]
    },
    {
     "name": "stderr",
     "output_type": "stream",
     "text": [
      "\r",
      "  2%|█▌                                                                            | 99/5000 [01:43<1:17:43,  1.05it/s]"
     ]
    },
    {
     "name": "stdout",
     "output_type": "stream",
     "text": [
      "Epoch: 99 - train_elbo: -184.1976 train_logpx: -176.6589 train_tvo_log_evidence: -176.6994\n"
     ]
    },
    {
     "name": "stderr",
     "output_type": "stream",
     "text": [
      "\r",
      "  2%|█▌                                                                           | 100/5000 [01:44<1:17:48,  1.05it/s]"
     ]
    },
    {
     "name": "stdout",
     "output_type": "stream",
     "text": [
      "Epoch: 100 - train_elbo: -183.0653 train_logpx: -175.7397 train_tvo_log_evidence: -175.7830\n"
     ]
    },
    {
     "name": "stderr",
     "output_type": "stream",
     "text": [
      "\r",
      "  2%|█▌                                                                           | 101/5000 [01:44<1:16:41,  1.06it/s]"
     ]
    },
    {
     "name": "stdout",
     "output_type": "stream",
     "text": [
      "Epoch: 101 - train_elbo: -182.5372 train_logpx: -174.9851 train_tvo_log_evidence: -175.0285\n"
     ]
    },
    {
     "name": "stderr",
     "output_type": "stream",
     "text": [
      "\r",
      "  2%|█▌                                                                           | 102/5000 [01:45<1:17:11,  1.06it/s]"
     ]
    },
    {
     "name": "stdout",
     "output_type": "stream",
     "text": [
      "Epoch: 102 - train_elbo: -181.5789 train_logpx: -173.9597 train_tvo_log_evidence: -174.0041\n"
     ]
    },
    {
     "name": "stderr",
     "output_type": "stream",
     "text": [
      "\r",
      "  2%|█▌                                                                           | 103/5000 [01:46<1:19:11,  1.03it/s]"
     ]
    },
    {
     "name": "stdout",
     "output_type": "stream",
     "text": [
      "Epoch: 103 - train_elbo: -180.6153 train_logpx: -173.1134 train_tvo_log_evidence: -173.1585\n"
     ]
    },
    {
     "name": "stderr",
     "output_type": "stream",
     "text": [
      "\r",
      "  2%|█▌                                                                           | 104/5000 [01:47<1:18:18,  1.04it/s]"
     ]
    },
    {
     "name": "stdout",
     "output_type": "stream",
     "text": [
      "Epoch: 104 - train_elbo: -180.1704 train_logpx: -172.3687 train_tvo_log_evidence: -172.4144\n"
     ]
    },
    {
     "name": "stderr",
     "output_type": "stream",
     "text": [
      "\r",
      "  2%|█▌                                                                           | 105/5000 [01:48<1:19:17,  1.03it/s]"
     ]
    },
    {
     "name": "stdout",
     "output_type": "stream",
     "text": [
      "==================================\n",
      "K=6 points=tensor([0.0000, 0.1124, 0.1576, 0.4404, 0.6798, 1.0000], device='cuda:0')\n",
      "==================================\n",
      "Epoch: 105 - train_elbo: -178.9924 train_logpx: -171.4992 train_tvo_log_evidence: -171.5453\n"
     ]
    },
    {
     "name": "stderr",
     "output_type": "stream",
     "text": [
      "\r",
      "  2%|█▋                                                                           | 106/5000 [01:49<1:20:40,  1.01it/s]"
     ]
    },
    {
     "name": "stdout",
     "output_type": "stream",
     "text": [
      "Epoch: 106 - train_elbo: -177.6614 train_logpx: -170.7979 train_tvo_log_evidence: -170.8446\n"
     ]
    },
    {
     "name": "stderr",
     "output_type": "stream",
     "text": [
      "\r",
      "  2%|█▋                                                                           | 107/5000 [01:50<1:21:32,  1.00it/s]"
     ]
    },
    {
     "name": "stdout",
     "output_type": "stream",
     "text": [
      "Epoch: 107 - train_elbo: -176.6626 train_logpx: -170.0695 train_tvo_log_evidence: -170.1156\n"
     ]
    },
    {
     "name": "stderr",
     "output_type": "stream",
     "text": [
      "\r",
      "  2%|█▋                                                                           | 108/5000 [01:51<1:19:32,  1.03it/s]"
     ]
    },
    {
     "name": "stdout",
     "output_type": "stream",
     "text": [
      "Epoch: 108 - train_elbo: -176.0320 train_logpx: -169.3179 train_tvo_log_evidence: -169.3637\n"
     ]
    },
    {
     "name": "stderr",
     "output_type": "stream",
     "text": [
      "\r",
      "  2%|█▋                                                                           | 109/5000 [01:52<1:17:36,  1.05it/s]"
     ]
    },
    {
     "name": "stdout",
     "output_type": "stream",
     "text": [
      "Epoch: 109 - train_elbo: -175.2126 train_logpx: -168.5646 train_tvo_log_evidence: -168.6098\n"
     ]
    },
    {
     "name": "stderr",
     "output_type": "stream",
     "text": [
      "\r",
      "  2%|█▋                                                                           | 110/5000 [01:53<1:16:36,  1.06it/s]"
     ]
    },
    {
     "name": "stdout",
     "output_type": "stream",
     "text": [
      "Epoch: 110 - train_elbo: -174.2544 train_logpx: -167.7181 train_tvo_log_evidence: -167.7634\n"
     ]
    },
    {
     "name": "stderr",
     "output_type": "stream",
     "text": [
      "\r",
      "  2%|█▋                                                                           | 111/5000 [01:54<1:15:27,  1.08it/s]"
     ]
    },
    {
     "name": "stdout",
     "output_type": "stream",
     "text": [
      "Epoch: 111 - train_elbo: -173.5366 train_logpx: -167.1283 train_tvo_log_evidence: -167.1735\n"
     ]
    },
    {
     "name": "stderr",
     "output_type": "stream",
     "text": [
      "\r",
      "  2%|█▋                                                                           | 112/5000 [01:55<1:17:02,  1.06it/s]"
     ]
    },
    {
     "name": "stdout",
     "output_type": "stream",
     "text": [
      "==================================\n",
      "K=6 points=tensor([0.0000, 0.0500, 0.0500, 0.0500, 0.4220, 1.0000], device='cuda:0')\n",
      "==================================\n",
      "Epoch: 112 - train_elbo: -172.9399 train_logpx: -166.3957 train_tvo_log_evidence: -166.4405\n"
     ]
    },
    {
     "name": "stderr",
     "output_type": "stream",
     "text": [
      "\r",
      "  2%|█▋                                                                           | 113/5000 [01:56<1:26:03,  1.06s/it]"
     ]
    },
    {
     "name": "stdout",
     "output_type": "stream",
     "text": [
      "Epoch: 113 - train_elbo: -172.3975 train_logpx: -165.8681 train_tvo_log_evidence: -165.9117\n"
     ]
    },
    {
     "name": "stderr",
     "output_type": "stream",
     "text": [
      "\r",
      "  2%|█▊                                                                           | 114/5000 [01:57<1:21:41,  1.00s/it]"
     ]
    },
    {
     "name": "stdout",
     "output_type": "stream",
     "text": [
      "Epoch: 114 - train_elbo: -171.7770 train_logpx: -165.3544 train_tvo_log_evidence: -165.3972\n"
     ]
    },
    {
     "name": "stderr",
     "output_type": "stream",
     "text": [
      "\r",
      "  2%|█▊                                                                           | 115/5000 [01:58<1:21:39,  1.00s/it]"
     ]
    },
    {
     "name": "stdout",
     "output_type": "stream",
     "text": [
      "Epoch: 115 - train_elbo: -170.9724 train_logpx: -164.7968 train_tvo_log_evidence: -164.8389\n"
     ]
    },
    {
     "name": "stderr",
     "output_type": "stream",
     "text": [
      "\r",
      "  2%|█▊                                                                           | 116/5000 [01:59<1:18:56,  1.03it/s]"
     ]
    },
    {
     "name": "stdout",
     "output_type": "stream",
     "text": [
      "Epoch: 116 - train_elbo: -170.4313 train_logpx: -164.2237 train_tvo_log_evidence: -164.2657\n"
     ]
    },
    {
     "name": "stderr",
     "output_type": "stream",
     "text": [
      "\r",
      "  2%|█▊                                                                           | 117/5000 [02:00<1:17:14,  1.05it/s]"
     ]
    },
    {
     "name": "stdout",
     "output_type": "stream",
     "text": [
      "Epoch: 117 - train_elbo: -169.7670 train_logpx: -163.7059 train_tvo_log_evidence: -163.7474\n"
     ]
    },
    {
     "name": "stderr",
     "output_type": "stream",
     "text": [
      "\r",
      "  2%|█▊                                                                           | 118/5000 [02:01<1:16:52,  1.06it/s]"
     ]
    },
    {
     "name": "stdout",
     "output_type": "stream",
     "text": [
      "Epoch: 118 - train_elbo: -169.2013 train_logpx: -163.2619 train_tvo_log_evidence: -163.3032\n"
     ]
    },
    {
     "name": "stderr",
     "output_type": "stream",
     "text": [
      "\r",
      "  2%|█▊                                                                           | 119/5000 [02:02<1:15:59,  1.07it/s]"
     ]
    },
    {
     "name": "stdout",
     "output_type": "stream",
     "text": [
      "==================================\n",
      "K=6 points=tensor([0.0000, 0.0500, 0.0500, 0.0500, 0.6346, 1.0000], device='cuda:0')\n",
      "==================================\n",
      "Epoch: 119 - train_elbo: -168.6699 train_logpx: -162.8877 train_tvo_log_evidence: -162.9288\n"
     ]
    },
    {
     "name": "stderr",
     "output_type": "stream",
     "text": [
      "\r",
      "  2%|█▊                                                                           | 120/5000 [02:03<1:27:45,  1.08s/it]"
     ]
    },
    {
     "name": "stdout",
     "output_type": "stream",
     "text": [
      "Epoch: 120 - train_elbo: -168.0141 train_logpx: -162.5236 train_tvo_log_evidence: -162.5646\n"
     ]
    },
    {
     "name": "stderr",
     "output_type": "stream",
     "text": [
      "\r",
      "  2%|█▊                                                                           | 121/5000 [02:04<1:23:19,  1.02s/it]"
     ]
    },
    {
     "name": "stdout",
     "output_type": "stream",
     "text": [
      "Epoch: 121 - train_elbo: -167.5241 train_logpx: -162.1745 train_tvo_log_evidence: -162.2149\n"
     ]
    },
    {
     "name": "stderr",
     "output_type": "stream",
     "text": [
      "\r",
      "  2%|█▉                                                                           | 122/5000 [02:05<1:21:16,  1.00it/s]"
     ]
    },
    {
     "name": "stdout",
     "output_type": "stream",
     "text": [
      "Epoch: 122 - train_elbo: -167.1578 train_logpx: -161.7032 train_tvo_log_evidence: -161.7430\n"
     ]
    },
    {
     "name": "stderr",
     "output_type": "stream",
     "text": [
      "\r",
      "  2%|█▉                                                                           | 123/5000 [02:06<1:19:13,  1.03it/s]"
     ]
    },
    {
     "name": "stdout",
     "output_type": "stream",
     "text": [
      "Epoch: 123 - train_elbo: -166.5755 train_logpx: -161.2539 train_tvo_log_evidence: -161.2936\n"
     ]
    },
    {
     "name": "stderr",
     "output_type": "stream",
     "text": [
      "\r",
      "  2%|█▉                                                                           | 124/5000 [02:07<1:18:35,  1.03it/s]"
     ]
    },
    {
     "name": "stdout",
     "output_type": "stream",
     "text": [
      "Epoch: 124 - train_elbo: -166.0500 train_logpx: -160.8630 train_tvo_log_evidence: -160.9023\n"
     ]
    },
    {
     "name": "stderr",
     "output_type": "stream",
     "text": [
      "\r",
      "  2%|█▉                                                                           | 125/5000 [02:08<1:19:02,  1.03it/s]"
     ]
    },
    {
     "name": "stdout",
     "output_type": "stream",
     "text": [
      "Epoch: 125 - train_elbo: -165.5692 train_logpx: -160.4662 train_tvo_log_evidence: -160.5049\n"
     ]
    },
    {
     "name": "stderr",
     "output_type": "stream",
     "text": [
      "\r",
      "  3%|█▉                                                                           | 126/5000 [02:09<1:18:52,  1.03it/s]"
     ]
    },
    {
     "name": "stdout",
     "output_type": "stream",
     "text": [
      "==================================\n",
      "K=6 points=tensor([0.0000, 0.0672, 0.1127, 0.1327, 0.4549, 1.0000], device='cuda:0')\n",
      "==================================\n",
      "Epoch: 126 - train_elbo: -165.2315 train_logpx: -159.8590 train_tvo_log_evidence: -159.8973\n"
     ]
    },
    {
     "name": "stderr",
     "output_type": "stream",
     "text": [
      "\r",
      "  3%|█▉                                                                           | 127/5000 [02:10<1:29:40,  1.10s/it]"
     ]
    },
    {
     "name": "stdout",
     "output_type": "stream",
     "text": [
      "Epoch: 127 - train_elbo: -165.4371 train_logpx: -159.1951 train_tvo_log_evidence: -159.2348\n"
     ]
    },
    {
     "name": "stderr",
     "output_type": "stream",
     "text": [
      "\r",
      "  3%|█▉                                                                           | 128/5000 [02:11<1:27:29,  1.08s/it]"
     ]
    },
    {
     "name": "stdout",
     "output_type": "stream",
     "text": [
      "Epoch: 128 - train_elbo: -165.1006 train_logpx: -158.8789 train_tvo_log_evidence: -158.9188\n"
     ]
    },
    {
     "name": "stderr",
     "output_type": "stream",
     "text": [
      "\r",
      "  3%|█▉                                                                           | 129/5000 [02:12<1:23:14,  1.03s/it]"
     ]
    },
    {
     "name": "stdout",
     "output_type": "stream",
     "text": [
      "Epoch: 129 - train_elbo: -164.3724 train_logpx: -158.4327 train_tvo_log_evidence: -158.4721\n"
     ]
    },
    {
     "name": "stderr",
     "output_type": "stream",
     "text": [
      "\r",
      "  3%|██                                                                           | 130/5000 [02:13<1:20:31,  1.01it/s]"
     ]
    },
    {
     "name": "stdout",
     "output_type": "stream",
     "text": [
      "Epoch: 130 - train_elbo: -163.9296 train_logpx: -157.9472 train_tvo_log_evidence: -157.9871\n"
     ]
    },
    {
     "name": "stderr",
     "output_type": "stream",
     "text": [
      "\r",
      "  3%|██                                                                           | 131/5000 [02:14<1:21:31,  1.00s/it]"
     ]
    },
    {
     "name": "stdout",
     "output_type": "stream",
     "text": [
      "Epoch: 131 - train_elbo: -163.5836 train_logpx: -157.4512 train_tvo_log_evidence: -157.4917\n"
     ]
    },
    {
     "name": "stderr",
     "output_type": "stream",
     "text": [
      "\r",
      "  3%|██                                                                           | 132/5000 [02:15<1:20:53,  1.00it/s]"
     ]
    },
    {
     "name": "stdout",
     "output_type": "stream",
     "text": [
      "Epoch: 132 - train_elbo: -163.3184 train_logpx: -157.1195 train_tvo_log_evidence: -157.1601\n"
     ]
    },
    {
     "name": "stderr",
     "output_type": "stream",
     "text": [
      "\r",
      "  3%|██                                                                           | 133/5000 [02:16<1:18:13,  1.04it/s]"
     ]
    },
    {
     "name": "stdout",
     "output_type": "stream",
     "text": [
      "estimated [epsilon lengthscale noisevar] [0.9        1.17280648 0.28589538]\n",
      "==================================\n",
      "K=6 points=tensor([0.0000, 0.1347, 0.2047, 0.2911, 0.6033, 1.0000], device='cuda:0')\n",
      "==================================\n",
      "Epoch: 133 - train_elbo: -162.9492 train_logpx: -156.8874 train_tvo_log_evidence: -156.9290\n"
     ]
    },
    {
     "name": "stderr",
     "output_type": "stream",
     "text": [
      "\r",
      "  3%|██                                                                           | 134/5000 [02:18<1:52:18,  1.38s/it]"
     ]
    },
    {
     "name": "stdout",
     "output_type": "stream",
     "text": [
      "Epoch: 134 - train_elbo: -162.1463 train_logpx: -156.5031 train_tvo_log_evidence: -156.5447\n"
     ]
    },
    {
     "name": "stderr",
     "output_type": "stream",
     "text": [
      "\r",
      "  3%|██                                                                           | 135/5000 [02:19<1:41:25,  1.25s/it]"
     ]
    },
    {
     "name": "stdout",
     "output_type": "stream",
     "text": [
      "Epoch: 135 - train_elbo: -161.5898 train_logpx: -156.0252 train_tvo_log_evidence: -156.0673\n"
     ]
    },
    {
     "name": "stderr",
     "output_type": "stream",
     "text": [
      "\r",
      "  3%|██                                                                           | 136/5000 [02:20<1:35:10,  1.17s/it]"
     ]
    },
    {
     "name": "stdout",
     "output_type": "stream",
     "text": [
      "Epoch: 136 - train_elbo: -161.2926 train_logpx: -155.5196 train_tvo_log_evidence: -155.5622\n"
     ]
    },
    {
     "name": "stderr",
     "output_type": "stream",
     "text": [
      "\r",
      "  3%|██                                                                           | 137/5000 [02:21<1:30:01,  1.11s/it]"
     ]
    },
    {
     "name": "stdout",
     "output_type": "stream",
     "text": [
      "Epoch: 137 - train_elbo: -160.9681 train_logpx: -155.1940 train_tvo_log_evidence: -155.2363\n"
     ]
    },
    {
     "name": "stderr",
     "output_type": "stream",
     "text": [
      "\r",
      "  3%|██▏                                                                          | 138/5000 [02:22<1:27:02,  1.07s/it]"
     ]
    },
    {
     "name": "stdout",
     "output_type": "stream",
     "text": [
      "Epoch: 138 - train_elbo: -160.6065 train_logpx: -154.6627 train_tvo_log_evidence: -154.7055\n"
     ]
    },
    {
     "name": "stderr",
     "output_type": "stream",
     "text": [
      "\r",
      "  3%|██▏                                                                          | 139/5000 [02:23<1:26:06,  1.06s/it]"
     ]
    },
    {
     "name": "stdout",
     "output_type": "stream",
     "text": [
      "Epoch: 139 - train_elbo: -160.2221 train_logpx: -154.3131 train_tvo_log_evidence: -154.3563\n"
     ]
    },
    {
     "name": "stderr",
     "output_type": "stream",
     "text": [
      "\r",
      "  3%|██▏                                                                          | 140/5000 [02:24<1:25:03,  1.05s/it]"
     ]
    },
    {
     "name": "stdout",
     "output_type": "stream",
     "text": [
      "==================================\n",
      "K=6 points=tensor([0.0000, 0.0659, 0.0861, 0.1482, 0.6608, 1.0000], device='cuda:0')\n",
      "==================================\n",
      "Epoch: 140 - train_elbo: -159.9821 train_logpx: -153.9130 train_tvo_log_evidence: -153.9562\n"
     ]
    },
    {
     "name": "stderr",
     "output_type": "stream",
     "text": [
      "\r",
      "  3%|██▏                                                                          | 141/5000 [02:27<1:54:20,  1.41s/it]"
     ]
    },
    {
     "name": "stdout",
     "output_type": "stream",
     "text": [
      "Epoch: 141 - train_elbo: -159.8642 train_logpx: -153.4288 train_tvo_log_evidence: -153.4721\n"
     ]
    },
    {
     "name": "stderr",
     "output_type": "stream",
     "text": [
      "\r",
      "  3%|██▏                                                                          | 142/5000 [02:28<1:43:02,  1.27s/it]"
     ]
    },
    {
     "name": "stdout",
     "output_type": "stream",
     "text": [
      "Epoch: 142 - train_elbo: -159.6187 train_logpx: -152.9912 train_tvo_log_evidence: -153.0353\n"
     ]
    },
    {
     "name": "stderr",
     "output_type": "stream",
     "text": [
      "\r",
      "  3%|██▏                                                                          | 143/5000 [02:29<1:34:14,  1.16s/it]"
     ]
    },
    {
     "name": "stdout",
     "output_type": "stream",
     "text": [
      "Epoch: 143 - train_elbo: -159.0254 train_logpx: -152.7283 train_tvo_log_evidence: -152.7716\n"
     ]
    },
    {
     "name": "stderr",
     "output_type": "stream",
     "text": [
      "\r",
      "  3%|██▏                                                                          | 144/5000 [02:29<1:28:06,  1.09s/it]"
     ]
    },
    {
     "name": "stdout",
     "output_type": "stream",
     "text": [
      "Epoch: 144 - train_elbo: -158.5513 train_logpx: -152.2586 train_tvo_log_evidence: -152.3020\n"
     ]
    },
    {
     "name": "stderr",
     "output_type": "stream",
     "text": [
      "\r",
      "  3%|██▏                                                                          | 145/5000 [02:30<1:23:56,  1.04s/it]"
     ]
    },
    {
     "name": "stdout",
     "output_type": "stream",
     "text": [
      "Epoch: 145 - train_elbo: -158.2120 train_logpx: -151.8912 train_tvo_log_evidence: -151.9347\n"
     ]
    },
    {
     "name": "stderr",
     "output_type": "stream",
     "text": [
      "\r",
      "  3%|██▏                                                                          | 146/5000 [02:31<1:22:23,  1.02s/it]"
     ]
    },
    {
     "name": "stdout",
     "output_type": "stream",
     "text": [
      "Epoch: 146 - train_elbo: -158.0480 train_logpx: -151.6003 train_tvo_log_evidence: -151.6443\n"
     ]
    },
    {
     "name": "stderr",
     "output_type": "stream",
     "text": [
      "\r",
      "  3%|██▎                                                                          | 147/5000 [02:32<1:20:10,  1.01it/s]"
     ]
    },
    {
     "name": "stdout",
     "output_type": "stream",
     "text": [
      "==================================\n",
      "K=6 points=tensor([0.0000, 0.0665, 0.0838, 0.1293, 0.4182, 1.0000], device='cuda:0')\n",
      "==================================\n",
      "args.schedule_update_frequency= 8\n",
      "Epoch: 147 - train_elbo: -157.4977 train_logpx: -151.0705 train_tvo_log_evidence: -151.1142\n"
     ]
    },
    {
     "name": "stderr",
     "output_type": "stream",
     "text": [
      "\r",
      "  3%|██▎                                                                          | 148/5000 [02:34<1:32:25,  1.14s/it]"
     ]
    },
    {
     "name": "stdout",
     "output_type": "stream",
     "text": [
      "Epoch: 148 - train_elbo: -157.4571 train_logpx: -150.8077 train_tvo_log_evidence: -150.8517\n"
     ]
    },
    {
     "name": "stderr",
     "output_type": "stream",
     "text": [
      "\r",
      "  3%|██▎                                                                          | 149/5000 [02:35<1:27:45,  1.09s/it]"
     ]
    },
    {
     "name": "stdout",
     "output_type": "stream",
     "text": [
      "Epoch: 149 - train_elbo: -156.9637 train_logpx: -150.3422 train_tvo_log_evidence: -150.3862\n"
     ]
    },
    {
     "name": "stderr",
     "output_type": "stream",
     "text": [
      "\r",
      "  3%|██▎                                                                          | 150/5000 [02:36<1:25:13,  1.05s/it]"
     ]
    },
    {
     "name": "stdout",
     "output_type": "stream",
     "text": [
      "Epoch: 150 - train_elbo: -156.6644 train_logpx: -150.0596 train_tvo_log_evidence: -150.1041\n"
     ]
    },
    {
     "name": "stderr",
     "output_type": "stream",
     "text": [
      "\r",
      "  3%|██▎                                                                          | 151/5000 [02:37<1:20:00,  1.01it/s]"
     ]
    },
    {
     "name": "stdout",
     "output_type": "stream",
     "text": [
      "Epoch: 151 - train_elbo: -156.4156 train_logpx: -149.7883 train_tvo_log_evidence: -149.8332\n"
     ]
    },
    {
     "name": "stderr",
     "output_type": "stream",
     "text": [
      "\r",
      "  3%|██▎                                                                          | 152/5000 [02:37<1:16:56,  1.05it/s]"
     ]
    },
    {
     "name": "stdout",
     "output_type": "stream",
     "text": [
      "==================================\n",
      "K=6 points=tensor([0.0000, 0.0680, 0.0889, 0.1136, 0.4089, 1.0000], device='cuda:0')\n",
      "==================================\n",
      "Epoch: 152 - train_elbo: -155.8696 train_logpx: -149.3187 train_tvo_log_evidence: -149.3633\n"
     ]
    },
    {
     "name": "stderr",
     "output_type": "stream",
     "text": [
      "\r",
      "  3%|██▎                                                                          | 153/5000 [02:39<1:37:41,  1.21s/it]"
     ]
    },
    {
     "name": "stdout",
     "output_type": "stream",
     "text": [
      "Epoch: 153 - train_elbo: -155.7102 train_logpx: -149.0449 train_tvo_log_evidence: -149.0896\n"
     ]
    },
    {
     "name": "stderr",
     "output_type": "stream",
     "text": [
      "\r",
      "  3%|██▎                                                                          | 154/5000 [02:40<1:30:23,  1.12s/it]"
     ]
    },
    {
     "name": "stdout",
     "output_type": "stream",
     "text": [
      "Epoch: 154 - train_elbo: -155.5167 train_logpx: -148.7194 train_tvo_log_evidence: -148.7645\n"
     ]
    },
    {
     "name": "stderr",
     "output_type": "stream",
     "text": [
      "\r",
      "  3%|██▍                                                                          | 155/5000 [02:41<1:26:34,  1.07s/it]"
     ]
    },
    {
     "name": "stdout",
     "output_type": "stream",
     "text": [
      "Epoch: 155 - train_elbo: -154.8809 train_logpx: -148.3147 train_tvo_log_evidence: -148.3602\n"
     ]
    },
    {
     "name": "stderr",
     "output_type": "stream",
     "text": [
      "\r",
      "  3%|██▍                                                                          | 156/5000 [02:42<1:23:52,  1.04s/it]"
     ]
    },
    {
     "name": "stdout",
     "output_type": "stream",
     "text": [
      "Epoch: 156 - train_elbo: -154.5590 train_logpx: -147.9897 train_tvo_log_evidence: -148.0347\n"
     ]
    },
    {
     "name": "stderr",
     "output_type": "stream",
     "text": [
      "\r",
      "  3%|██▍                                                                          | 157/5000 [02:43<1:21:34,  1.01s/it]"
     ]
    },
    {
     "name": "stdout",
     "output_type": "stream",
     "text": [
      "Epoch: 157 - train_elbo: -154.4213 train_logpx: -147.6382 train_tvo_log_evidence: -147.6838\n"
     ]
    },
    {
     "name": "stderr",
     "output_type": "stream",
     "text": [
      "\r",
      "  3%|██▍                                                                          | 158/5000 [02:44<1:20:21,  1.00it/s]"
     ]
    },
    {
     "name": "stdout",
     "output_type": "stream",
     "text": [
      "Epoch: 158 - train_elbo: -153.6915 train_logpx: -147.2630 train_tvo_log_evidence: -147.3072\n"
     ]
    },
    {
     "name": "stderr",
     "output_type": "stream",
     "text": [
      "\r",
      "  3%|██▍                                                                          | 159/5000 [02:45<1:19:52,  1.01it/s]"
     ]
    },
    {
     "name": "stdout",
     "output_type": "stream",
     "text": [
      "Epoch: 159 - train_elbo: -153.5103 train_logpx: -146.9466 train_tvo_log_evidence: -146.9918\n"
     ]
    },
    {
     "name": "stderr",
     "output_type": "stream",
     "text": [
      "\r",
      "  3%|██▍                                                                          | 160/5000 [02:46<1:20:02,  1.01it/s]"
     ]
    },
    {
     "name": "stdout",
     "output_type": "stream",
     "text": [
      "==================================\n",
      "K=6 points=tensor([0.0000, 0.0907, 0.1014, 0.1135, 0.2094, 1.0000], device='cuda:0')\n",
      "==================================\n",
      "Epoch: 160 - train_elbo: -153.3432 train_logpx: -146.6254 train_tvo_log_evidence: -146.6705\n"
     ]
    },
    {
     "name": "stderr",
     "output_type": "stream",
     "text": [
      "\r",
      "  3%|██▍                                                                          | 161/5000 [02:48<1:43:07,  1.28s/it]"
     ]
    },
    {
     "name": "stdout",
     "output_type": "stream",
     "text": [
      "Epoch: 161 - train_elbo: -153.2767 train_logpx: -146.3231 train_tvo_log_evidence: -146.3692\n"
     ]
    },
    {
     "name": "stderr",
     "output_type": "stream",
     "text": [
      "\r",
      "  3%|██▍                                                                          | 162/5000 [02:49<1:36:17,  1.19s/it]"
     ]
    },
    {
     "name": "stdout",
     "output_type": "stream",
     "text": [
      "Epoch: 162 - train_elbo: -152.7730 train_logpx: -146.0112 train_tvo_log_evidence: -146.0565\n"
     ]
    },
    {
     "name": "stderr",
     "output_type": "stream",
     "text": [
      "\r",
      "  3%|██▌                                                                          | 163/5000 [02:50<1:31:17,  1.13s/it]"
     ]
    },
    {
     "name": "stdout",
     "output_type": "stream",
     "text": [
      "Epoch: 163 - train_elbo: -152.5479 train_logpx: -145.7315 train_tvo_log_evidence: -145.7773\n"
     ]
    },
    {
     "name": "stderr",
     "output_type": "stream",
     "text": [
      "\r",
      "  3%|██▌                                                                          | 164/5000 [02:51<1:25:47,  1.06s/it]"
     ]
    },
    {
     "name": "stdout",
     "output_type": "stream",
     "text": [
      "Epoch: 164 - train_elbo: -151.9630 train_logpx: -145.3530 train_tvo_log_evidence: -145.3985\n"
     ]
    },
    {
     "name": "stderr",
     "output_type": "stream",
     "text": [
      "\r",
      "  3%|██▌                                                                          | 165/5000 [02:52<1:23:16,  1.03s/it]"
     ]
    },
    {
     "name": "stdout",
     "output_type": "stream",
     "text": [
      "Epoch: 165 - train_elbo: -151.6271 train_logpx: -144.9875 train_tvo_log_evidence: -145.0325\n"
     ]
    },
    {
     "name": "stderr",
     "output_type": "stream",
     "text": [
      "\r",
      "  3%|██▌                                                                          | 166/5000 [02:53<1:21:21,  1.01s/it]"
     ]
    },
    {
     "name": "stdout",
     "output_type": "stream",
     "text": [
      "Epoch: 166 - train_elbo: -151.1945 train_logpx: -144.6700 train_tvo_log_evidence: -144.7149\n"
     ]
    },
    {
     "name": "stderr",
     "output_type": "stream",
     "text": [
      "\r",
      "  3%|██▌                                                                          | 167/5000 [02:54<1:19:12,  1.02it/s]"
     ]
    },
    {
     "name": "stdout",
     "output_type": "stream",
     "text": [
      "Epoch: 167 - train_elbo: -150.9806 train_logpx: -144.3168 train_tvo_log_evidence: -144.3622\n"
     ]
    },
    {
     "name": "stderr",
     "output_type": "stream",
     "text": [
      "\r",
      "  3%|██▌                                                                          | 168/5000 [02:54<1:16:42,  1.05it/s]"
     ]
    },
    {
     "name": "stdout",
     "output_type": "stream",
     "text": [
      "estimated [epsilon lengthscale noisevar] [0.9        2.66149218 0.34099027]\n",
      "==================================\n",
      "K=6 points=tensor([0.0000, 0.1164, 0.2336, 0.2845, 0.5861, 1.0000], device='cuda:0')\n",
      "==================================\n",
      "Epoch: 168 - train_elbo: -150.7082 train_logpx: -144.1666 train_tvo_log_evidence: -144.2128\n"
     ]
    },
    {
     "name": "stderr",
     "output_type": "stream",
     "text": [
      "\r",
      "  3%|██▌                                                                          | 169/5000 [02:57<1:43:51,  1.29s/it]"
     ]
    },
    {
     "name": "stdout",
     "output_type": "stream",
     "text": [
      "Epoch: 169 - train_elbo: -149.6736 train_logpx: -143.7779 train_tvo_log_evidence: -143.8228\n"
     ]
    },
    {
     "name": "stderr",
     "output_type": "stream",
     "text": [
      "\r",
      "  3%|██▌                                                                          | 170/5000 [02:58<1:38:33,  1.22s/it]"
     ]
    },
    {
     "name": "stdout",
     "output_type": "stream",
     "text": [
      "Epoch: 170 - train_elbo: -149.3671 train_logpx: -143.7308 train_tvo_log_evidence: -143.7751\n"
     ]
    },
    {
     "name": "stderr",
     "output_type": "stream",
     "text": [
      "\r",
      "  3%|██▋                                                                          | 171/5000 [02:59<1:31:11,  1.13s/it]"
     ]
    },
    {
     "name": "stdout",
     "output_type": "stream",
     "text": [
      "Epoch: 171 - train_elbo: -149.0807 train_logpx: -143.2892 train_tvo_log_evidence: -143.3338\n"
     ]
    },
    {
     "name": "stderr",
     "output_type": "stream",
     "text": [
      "\r",
      "  3%|██▋                                                                          | 172/5000 [02:59<1:26:30,  1.07s/it]"
     ]
    },
    {
     "name": "stdout",
     "output_type": "stream",
     "text": [
      "Epoch: 172 - train_elbo: -148.9343 train_logpx: -142.9802 train_tvo_log_evidence: -143.0250\n"
     ]
    },
    {
     "name": "stderr",
     "output_type": "stream",
     "text": [
      "\r",
      "  3%|██▋                                                                          | 173/5000 [03:00<1:21:41,  1.02s/it]"
     ]
    },
    {
     "name": "stdout",
     "output_type": "stream",
     "text": [
      "Epoch: 173 - train_elbo: -148.5873 train_logpx: -142.6287 train_tvo_log_evidence: -142.6740\n"
     ]
    },
    {
     "name": "stderr",
     "output_type": "stream",
     "text": [
      "\r",
      "  3%|██▋                                                                          | 174/5000 [03:01<1:21:54,  1.02s/it]"
     ]
    },
    {
     "name": "stdout",
     "output_type": "stream",
     "text": [
      "Epoch: 174 - train_elbo: -148.3282 train_logpx: -142.4292 train_tvo_log_evidence: -142.4743\n"
     ]
    },
    {
     "name": "stderr",
     "output_type": "stream",
     "text": [
      "\r",
      "  4%|██▋                                                                          | 175/5000 [03:02<1:19:29,  1.01it/s]"
     ]
    },
    {
     "name": "stdout",
     "output_type": "stream",
     "text": [
      "Epoch: 175 - train_elbo: -148.0421 train_logpx: -142.0985 train_tvo_log_evidence: -142.1440\n"
     ]
    },
    {
     "name": "stderr",
     "output_type": "stream",
     "text": [
      "\r",
      "  4%|██▋                                                                          | 176/5000 [03:03<1:19:00,  1.02it/s]"
     ]
    },
    {
     "name": "stdout",
     "output_type": "stream",
     "text": [
      "==================================\n",
      "K=6 points=tensor([0.0000, 0.0890, 0.1048, 0.1108, 0.2115, 1.0000], device='cuda:0')\n",
      "==================================\n",
      "Epoch: 176 - train_elbo: -148.1089 train_logpx: -141.8320 train_tvo_log_evidence: -141.8786\n"
     ]
    },
    {
     "name": "stderr",
     "output_type": "stream",
     "text": [
      "\r",
      "  4%|██▋                                                                          | 177/5000 [03:05<1:43:06,  1.28s/it]"
     ]
    },
    {
     "name": "stdout",
     "output_type": "stream",
     "text": [
      "Epoch: 177 - train_elbo: -148.2571 train_logpx: -141.5140 train_tvo_log_evidence: -141.5614\n"
     ]
    },
    {
     "name": "stderr",
     "output_type": "stream",
     "text": [
      "\r",
      "  4%|██▋                                                                          | 178/5000 [03:06<1:33:53,  1.17s/it]"
     ]
    },
    {
     "name": "stdout",
     "output_type": "stream",
     "text": [
      "Epoch: 178 - train_elbo: -148.1469 train_logpx: -141.3939 train_tvo_log_evidence: -141.4413\n"
     ]
    },
    {
     "name": "stderr",
     "output_type": "stream",
     "text": [
      "\r",
      "  4%|██▊                                                                          | 179/5000 [03:07<1:27:14,  1.09s/it]"
     ]
    },
    {
     "name": "stdout",
     "output_type": "stream",
     "text": [
      "Epoch: 179 - train_elbo: -147.5652 train_logpx: -141.0034 train_tvo_log_evidence: -141.0504\n"
     ]
    },
    {
     "name": "stderr",
     "output_type": "stream",
     "text": [
      "\r",
      "  4%|██▊                                                                          | 180/5000 [03:08<1:25:20,  1.06s/it]"
     ]
    },
    {
     "name": "stdout",
     "output_type": "stream",
     "text": [
      "Epoch: 180 - train_elbo: -147.3300 train_logpx: -140.7359 train_tvo_log_evidence: -140.7825\n"
     ]
    },
    {
     "name": "stderr",
     "output_type": "stream",
     "text": [
      "\r",
      "  4%|██▊                                                                          | 181/5000 [03:09<1:22:11,  1.02s/it]"
     ]
    },
    {
     "name": "stdout",
     "output_type": "stream",
     "text": [
      "Epoch: 181 - train_elbo: -146.9686 train_logpx: -140.4261 train_tvo_log_evidence: -140.4730\n"
     ]
    },
    {
     "name": "stderr",
     "output_type": "stream",
     "text": [
      "\r",
      "  4%|██▊                                                                          | 182/5000 [03:10<1:20:46,  1.01s/it]"
     ]
    },
    {
     "name": "stdout",
     "output_type": "stream",
     "text": [
      "Epoch: 182 - train_elbo: -146.5189 train_logpx: -140.2053 train_tvo_log_evidence: -140.2515\n"
     ]
    },
    {
     "name": "stderr",
     "output_type": "stream",
     "text": [
      "\r",
      "  4%|██▊                                                                          | 183/5000 [03:11<1:19:27,  1.01it/s]"
     ]
    },
    {
     "name": "stdout",
     "output_type": "stream",
     "text": [
      "Epoch: 183 - train_elbo: -146.2056 train_logpx: -139.9348 train_tvo_log_evidence: -139.9804\n"
     ]
    },
    {
     "name": "stderr",
     "output_type": "stream",
     "text": [
      "\r",
      "  4%|██▊                                                                          | 184/5000 [03:12<1:19:12,  1.01it/s]"
     ]
    },
    {
     "name": "stdout",
     "output_type": "stream",
     "text": [
      "==================================\n",
      "K=6 points=tensor([0.0000, 0.0671, 0.0738, 0.1103, 0.8226, 1.0000], device='cuda:0')\n",
      "==================================\n",
      "Epoch: 184 - train_elbo: -145.8008 train_logpx: -139.8095 train_tvo_log_evidence: -139.8539\n"
     ]
    },
    {
     "name": "stderr",
     "output_type": "stream",
     "text": [
      "\r",
      "  4%|██▊                                                                          | 185/5000 [03:14<1:46:17,  1.32s/it]"
     ]
    },
    {
     "name": "stdout",
     "output_type": "stream",
     "text": [
      "Epoch: 185 - train_elbo: -145.2776 train_logpx: -139.8660 train_tvo_log_evidence: -139.9103\n"
     ]
    },
    {
     "name": "stderr",
     "output_type": "stream",
     "text": [
      "\r",
      "  4%|██▊                                                                          | 186/5000 [03:15<1:36:24,  1.20s/it]"
     ]
    },
    {
     "name": "stdout",
     "output_type": "stream",
     "text": [
      "Epoch: 186 - train_elbo: -145.0488 train_logpx: -139.5101 train_tvo_log_evidence: -139.5543\n"
     ]
    },
    {
     "name": "stderr",
     "output_type": "stream",
     "text": [
      "\r",
      "  4%|██▉                                                                          | 187/5000 [03:16<1:30:41,  1.13s/it]"
     ]
    },
    {
     "name": "stdout",
     "output_type": "stream",
     "text": [
      "Epoch: 187 - train_elbo: -144.9288 train_logpx: -139.2101 train_tvo_log_evidence: -139.2544\n"
     ]
    },
    {
     "name": "stderr",
     "output_type": "stream",
     "text": [
      "\r",
      "  4%|██▉                                                                          | 188/5000 [03:17<1:24:51,  1.06s/it]"
     ]
    },
    {
     "name": "stdout",
     "output_type": "stream",
     "text": [
      "Epoch: 188 - train_elbo: -144.6236 train_logpx: -139.1371 train_tvo_log_evidence: -139.1814\n"
     ]
    },
    {
     "name": "stderr",
     "output_type": "stream",
     "text": [
      "\r",
      "  4%|██▉                                                                          | 189/5000 [03:18<1:21:41,  1.02s/it]"
     ]
    },
    {
     "name": "stdout",
     "output_type": "stream",
     "text": [
      "Epoch: 189 - train_elbo: -144.4237 train_logpx: -138.9339 train_tvo_log_evidence: -138.9786\n"
     ]
    },
    {
     "name": "stderr",
     "output_type": "stream",
     "text": [
      "\r",
      "  4%|██▉                                                                          | 190/5000 [03:19<1:19:59,  1.00it/s]"
     ]
    },
    {
     "name": "stdout",
     "output_type": "stream",
     "text": [
      "Epoch: 190 - train_elbo: -144.0288 train_logpx: -138.7011 train_tvo_log_evidence: -138.7446\n"
     ]
    },
    {
     "name": "stderr",
     "output_type": "stream",
     "text": [
      "\r",
      "  4%|██▉                                                                          | 191/5000 [03:20<1:17:46,  1.03it/s]"
     ]
    },
    {
     "name": "stdout",
     "output_type": "stream",
     "text": [
      "Epoch: 191 - train_elbo: -143.6149 train_logpx: -138.3516 train_tvo_log_evidence: -138.3946\n"
     ]
    },
    {
     "name": "stderr",
     "output_type": "stream",
     "text": [
      "\r",
      "  4%|██▉                                                                          | 192/5000 [03:20<1:15:57,  1.05it/s]"
     ]
    },
    {
     "name": "stdout",
     "output_type": "stream",
     "text": [
      "==================================\n",
      "K=6 points=tensor([0.0000, 0.0761, 0.0907, 0.1053, 0.1975, 1.0000], device='cuda:0')\n",
      "==================================\n",
      "Epoch: 192 - train_elbo: -143.5865 train_logpx: -138.0941 train_tvo_log_evidence: -138.1373\n"
     ]
    },
    {
     "name": "stderr",
     "output_type": "stream",
     "text": [
      "\r",
      "  4%|██▉                                                                          | 193/5000 [03:22<1:29:56,  1.12s/it]"
     ]
    },
    {
     "name": "stdout",
     "output_type": "stream",
     "text": [
      "Epoch: 193 - train_elbo: -143.8440 train_logpx: -137.7613 train_tvo_log_evidence: -137.8064\n"
     ]
    },
    {
     "name": "stderr",
     "output_type": "stream",
     "text": [
      "\r",
      "  4%|██▉                                                                          | 194/5000 [03:23<1:25:39,  1.07s/it]"
     ]
    },
    {
     "name": "stdout",
     "output_type": "stream",
     "text": [
      "Epoch: 194 - train_elbo: -143.4599 train_logpx: -137.5547 train_tvo_log_evidence: -137.5990\n"
     ]
    },
    {
     "name": "stderr",
     "output_type": "stream",
     "text": [
      "\r",
      "  4%|███                                                                          | 195/5000 [03:24<1:22:29,  1.03s/it]"
     ]
    },
    {
     "name": "stdout",
     "output_type": "stream",
     "text": [
      "Epoch: 195 - train_elbo: -142.9703 train_logpx: -137.2995 train_tvo_log_evidence: -137.3434\n"
     ]
    },
    {
     "name": "stderr",
     "output_type": "stream",
     "text": [
      "\r",
      "  4%|███                                                                          | 196/5000 [03:25<1:20:39,  1.01s/it]"
     ]
    },
    {
     "name": "stdout",
     "output_type": "stream",
     "text": [
      "Epoch: 196 - train_elbo: -142.9005 train_logpx: -137.1517 train_tvo_log_evidence: -137.1957\n"
     ]
    },
    {
     "name": "stderr",
     "output_type": "stream",
     "text": [
      "\r",
      "  4%|███                                                                          | 197/5000 [03:26<1:19:19,  1.01it/s]"
     ]
    },
    {
     "name": "stdout",
     "output_type": "stream",
     "text": [
      "Epoch: 197 - train_elbo: -142.6339 train_logpx: -136.8793 train_tvo_log_evidence: -136.9231\n"
     ]
    },
    {
     "name": "stderr",
     "output_type": "stream",
     "text": [
      "\r",
      "  4%|███                                                                          | 198/5000 [03:27<1:19:02,  1.01it/s]"
     ]
    },
    {
     "name": "stdout",
     "output_type": "stream",
     "text": [
      "Epoch: 198 - train_elbo: -142.4941 train_logpx: -136.7023 train_tvo_log_evidence: -136.7465\n"
     ]
    },
    {
     "name": "stderr",
     "output_type": "stream",
     "text": [
      "\r",
      "  4%|███                                                                          | 199/5000 [03:28<1:19:35,  1.01it/s]"
     ]
    },
    {
     "name": "stdout",
     "output_type": "stream",
     "text": [
      "Epoch: 199 - train_elbo: -142.1679 train_logpx: -136.4528 train_tvo_log_evidence: -136.4968\n"
     ]
    },
    {
     "name": "stderr",
     "output_type": "stream",
     "text": [
      "\r",
      "  4%|███                                                                          | 200/5000 [03:29<1:18:28,  1.02it/s]"
     ]
    },
    {
     "name": "stdout",
     "output_type": "stream",
     "text": [
      "==================================\n",
      "K=6 points=tensor([0.0000, 0.0500, 0.0610, 0.0888, 0.7453, 1.0000], device='cuda:0')\n",
      "==================================\n",
      "Epoch: 200 - train_elbo: -141.9122 train_logpx: -136.3428 train_tvo_log_evidence: -136.3872\n",
      "Epoch: 200 - test_logpx: -134.1740 test_kl: 5.8645\n"
     ]
    },
    {
     "name": "stderr",
     "output_type": "stream",
     "text": [
      "\r",
      "  4%|███                                                                          | 201/5000 [03:38<4:34:10,  3.43s/it]"
     ]
    },
    {
     "name": "stdout",
     "output_type": "stream",
     "text": [
      "Epoch: 201 - train_elbo: -141.2237 train_logpx: -136.3423 train_tvo_log_evidence: -136.3845\n"
     ]
    },
    {
     "name": "stderr",
     "output_type": "stream",
     "text": [
      "\r",
      "  4%|███                                                                          | 202/5000 [03:39<3:35:42,  2.70s/it]"
     ]
    },
    {
     "name": "stdout",
     "output_type": "stream",
     "text": [
      "Epoch: 202 - train_elbo: -141.0149 train_logpx: -136.1129 train_tvo_log_evidence: -136.1550\n"
     ]
    },
    {
     "name": "stderr",
     "output_type": "stream",
     "text": [
      "\r",
      "  4%|███▏                                                                         | 203/5000 [03:40<2:52:58,  2.16s/it]"
     ]
    },
    {
     "name": "stdout",
     "output_type": "stream",
     "text": [
      "Epoch: 203 - train_elbo: -140.7194 train_logpx: -135.6950 train_tvo_log_evidence: -135.7375\n"
     ]
    },
    {
     "name": "stderr",
     "output_type": "stream",
     "text": [
      "\r",
      "  4%|███▏                                                                         | 204/5000 [03:41<2:24:33,  1.81s/it]"
     ]
    },
    {
     "name": "stdout",
     "output_type": "stream",
     "text": [
      "Epoch: 204 - train_elbo: -140.5386 train_logpx: -135.6442 train_tvo_log_evidence: -135.6862\n"
     ]
    },
    {
     "name": "stderr",
     "output_type": "stream",
     "text": [
      "\r",
      "  4%|███▏                                                                         | 205/5000 [03:42<2:04:42,  1.56s/it]"
     ]
    },
    {
     "name": "stdout",
     "output_type": "stream",
     "text": [
      "Epoch: 205 - train_elbo: -140.3088 train_logpx: -135.3966 train_tvo_log_evidence: -135.4391\n"
     ]
    },
    {
     "name": "stderr",
     "output_type": "stream",
     "text": [
      "\r",
      "  4%|███▏                                                                         | 206/5000 [03:43<1:50:34,  1.38s/it]"
     ]
    },
    {
     "name": "stdout",
     "output_type": "stream",
     "text": [
      "Epoch: 206 - train_elbo: -140.0477 train_logpx: -135.1647 train_tvo_log_evidence: -135.2064\n"
     ]
    },
    {
     "name": "stderr",
     "output_type": "stream",
     "text": [
      "\r",
      "  4%|███▏                                                                         | 207/5000 [03:44<1:39:57,  1.25s/it]"
     ]
    },
    {
     "name": "stdout",
     "output_type": "stream",
     "text": [
      "Epoch: 207 - train_elbo: -139.8421 train_logpx: -135.0267 train_tvo_log_evidence: -135.0683\n"
     ]
    },
    {
     "name": "stderr",
     "output_type": "stream",
     "text": [
      "\r",
      "  4%|███▏                                                                         | 208/5000 [03:45<1:32:24,  1.16s/it]"
     ]
    },
    {
     "name": "stdout",
     "output_type": "stream",
     "text": [
      "estimated [epsilon lengthscale noisevar] [0.9        5.         0.32501422]\n",
      "==================================\n",
      "K=6 points=tensor([0.0000, 0.1135, 0.2259, 0.2742, 0.5698, 1.0000], device='cuda:0')\n",
      "==================================\n",
      "Epoch: 208 - train_elbo: -139.6589 train_logpx: -134.8440 train_tvo_log_evidence: -134.8855\n"
     ]
    },
    {
     "name": "stderr",
     "output_type": "stream",
     "text": [
      "\r",
      "  4%|███▏                                                                         | 209/5000 [03:46<1:49:23,  1.37s/it]"
     ]
    },
    {
     "name": "stdout",
     "output_type": "stream",
     "text": [
      "Epoch: 209 - train_elbo: -139.6099 train_logpx: -134.5469 train_tvo_log_evidence: -134.5892\n"
     ]
    },
    {
     "name": "stderr",
     "output_type": "stream",
     "text": [
      "\r",
      "  4%|███▏                                                                         | 210/5000 [03:47<1:38:06,  1.23s/it]"
     ]
    },
    {
     "name": "stdout",
     "output_type": "stream",
     "text": [
      "Epoch: 210 - train_elbo: -139.5012 train_logpx: -134.1889 train_tvo_log_evidence: -134.2320\n"
     ]
    },
    {
     "name": "stderr",
     "output_type": "stream",
     "text": [
      "\r",
      "  4%|███▏                                                                         | 211/5000 [03:48<1:30:39,  1.14s/it]"
     ]
    },
    {
     "name": "stdout",
     "output_type": "stream",
     "text": [
      "Epoch: 211 - train_elbo: -139.3089 train_logpx: -134.0207 train_tvo_log_evidence: -134.0639\n"
     ]
    },
    {
     "name": "stderr",
     "output_type": "stream",
     "text": [
      "\r",
      "  4%|███▎                                                                         | 212/5000 [03:49<1:27:14,  1.09s/it]"
     ]
    },
    {
     "name": "stdout",
     "output_type": "stream",
     "text": [
      "Epoch: 212 - train_elbo: -139.0435 train_logpx: -133.9028 train_tvo_log_evidence: -133.9456\n"
     ]
    },
    {
     "name": "stderr",
     "output_type": "stream",
     "text": [
      "\r",
      "  4%|███▎                                                                         | 213/5000 [03:50<1:22:59,  1.04s/it]"
     ]
    },
    {
     "name": "stdout",
     "output_type": "stream",
     "text": [
      "Epoch: 213 - train_elbo: -138.7548 train_logpx: -133.6095 train_tvo_log_evidence: -133.6528\n"
     ]
    },
    {
     "name": "stderr",
     "output_type": "stream",
     "text": [
      "\r",
      "  4%|███▎                                                                         | 214/5000 [03:51<1:18:56,  1.01it/s]"
     ]
    },
    {
     "name": "stdout",
     "output_type": "stream",
     "text": [
      "Epoch: 214 - train_elbo: -138.9263 train_logpx: -133.6317 train_tvo_log_evidence: -133.6762\n"
     ]
    },
    {
     "name": "stderr",
     "output_type": "stream",
     "text": [
      "\r",
      "  4%|███▎                                                                         | 215/5000 [03:52<1:19:23,  1.00it/s]"
     ]
    },
    {
     "name": "stdout",
     "output_type": "stream",
     "text": [
      "Epoch: 215 - train_elbo: -138.6423 train_logpx: -133.3369 train_tvo_log_evidence: -133.3810\n"
     ]
    },
    {
     "name": "stderr",
     "output_type": "stream",
     "text": [
      "\r",
      "  4%|███▎                                                                         | 216/5000 [03:53<1:18:05,  1.02it/s]"
     ]
    },
    {
     "name": "stdout",
     "output_type": "stream",
     "text": [
      "==================================\n",
      "K=6 points=tensor([0.0000, 0.0547, 0.0927, 0.1080, 0.3462, 1.0000], device='cuda:0')\n",
      "==================================\n",
      "Epoch: 216 - train_elbo: -138.6249 train_logpx: -133.2436 train_tvo_log_evidence: -133.2881\n"
     ]
    },
    {
     "name": "stderr",
     "output_type": "stream",
     "text": [
      "\r",
      "  4%|███▎                                                                         | 217/5000 [03:54<1:28:56,  1.12s/it]"
     ]
    },
    {
     "name": "stdout",
     "output_type": "stream",
     "text": [
      "Epoch: 217 - train_elbo: -138.5702 train_logpx: -132.8972 train_tvo_log_evidence: -132.9427\n"
     ]
    },
    {
     "name": "stderr",
     "output_type": "stream",
     "text": [
      "\r",
      "  4%|███▎                                                                         | 218/5000 [03:55<1:24:04,  1.05s/it]"
     ]
    },
    {
     "name": "stdout",
     "output_type": "stream",
     "text": [
      "Epoch: 218 - train_elbo: -138.4097 train_logpx: -132.6716 train_tvo_log_evidence: -132.7174\n"
     ]
    },
    {
     "name": "stderr",
     "output_type": "stream",
     "text": [
      "\r",
      "  4%|███▎                                                                         | 219/5000 [03:56<1:21:50,  1.03s/it]"
     ]
    },
    {
     "name": "stdout",
     "output_type": "stream",
     "text": [
      "Epoch: 219 - train_elbo: -138.1395 train_logpx: -132.5176 train_tvo_log_evidence: -132.5631\n"
     ]
    },
    {
     "name": "stderr",
     "output_type": "stream",
     "text": [
      "\r",
      "  4%|███▍                                                                         | 220/5000 [03:57<1:20:35,  1.01s/it]"
     ]
    },
    {
     "name": "stdout",
     "output_type": "stream",
     "text": [
      "Epoch: 220 - train_elbo: -138.0275 train_logpx: -132.3937 train_tvo_log_evidence: -132.4392\n"
     ]
    },
    {
     "name": "stderr",
     "output_type": "stream",
     "text": [
      "\r",
      "  4%|███▍                                                                         | 221/5000 [03:58<1:18:06,  1.02it/s]"
     ]
    },
    {
     "name": "stdout",
     "output_type": "stream",
     "text": [
      "Epoch: 221 - train_elbo: -137.9020 train_logpx: -132.1813 train_tvo_log_evidence: -132.2272\n"
     ]
    },
    {
     "name": "stderr",
     "output_type": "stream",
     "text": [
      "\r",
      "  4%|███▍                                                                         | 222/5000 [03:59<1:18:51,  1.01it/s]"
     ]
    },
    {
     "name": "stdout",
     "output_type": "stream",
     "text": [
      "Epoch: 222 - train_elbo: -137.7583 train_logpx: -132.0068 train_tvo_log_evidence: -132.0529\n"
     ]
    },
    {
     "name": "stderr",
     "output_type": "stream",
     "text": [
      "\r",
      "  4%|███▍                                                                         | 223/5000 [04:00<1:18:35,  1.01it/s]"
     ]
    },
    {
     "name": "stdout",
     "output_type": "stream",
     "text": [
      "Epoch: 223 - train_elbo: -137.5892 train_logpx: -132.0372 train_tvo_log_evidence: -132.0824\n"
     ]
    },
    {
     "name": "stderr",
     "output_type": "stream",
     "text": [
      "\r",
      "  4%|███▍                                                                         | 224/5000 [04:01<1:16:29,  1.04it/s]"
     ]
    },
    {
     "name": "stdout",
     "output_type": "stream",
     "text": [
      "==================================\n",
      "K=6 points=tensor([0.0000, 0.0500, 0.0500, 0.1569, 0.3764, 1.0000], device='cuda:0')\n",
      "==================================\n",
      "args.schedule_update_frequency= 9\n",
      "Epoch: 224 - train_elbo: -137.4765 train_logpx: -131.7753 train_tvo_log_evidence: -131.8218\n"
     ]
    },
    {
     "name": "stderr",
     "output_type": "stream",
     "text": [
      "\r",
      "  4%|███▍                                                                         | 225/5000 [04:02<1:19:07,  1.01it/s]"
     ]
    },
    {
     "name": "stdout",
     "output_type": "stream",
     "text": [
      "==================================\n",
      "K=6 points=tensor([0.0000, 0.0500, 0.0500, 0.1016, 0.7483, 1.0000], device='cuda:0')\n",
      "==================================\n",
      "Epoch: 225 - train_elbo: -137.1766 train_logpx: -131.5842 train_tvo_log_evidence: -131.6298\n"
     ]
    },
    {
     "name": "stderr",
     "output_type": "stream",
     "text": [
      "\r",
      "  5%|███▍                                                                         | 226/5000 [04:03<1:25:12,  1.07s/it]"
     ]
    },
    {
     "name": "stdout",
     "output_type": "stream",
     "text": [
      "Epoch: 226 - train_elbo: -136.6199 train_logpx: -131.6325 train_tvo_log_evidence: -131.6763\n"
     ]
    },
    {
     "name": "stderr",
     "output_type": "stream",
     "text": [
      "\r",
      "  5%|███▍                                                                         | 227/5000 [04:04<1:21:07,  1.02s/it]"
     ]
    },
    {
     "name": "stdout",
     "output_type": "stream",
     "text": [
      "Epoch: 227 - train_elbo: -136.3411 train_logpx: -131.4504 train_tvo_log_evidence: -131.4936\n"
     ]
    },
    {
     "name": "stderr",
     "output_type": "stream",
     "text": [
      "\r",
      "  5%|███▌                                                                         | 228/5000 [04:05<1:18:48,  1.01it/s]"
     ]
    },
    {
     "name": "stdout",
     "output_type": "stream",
     "text": [
      "Epoch: 228 - train_elbo: -136.3674 train_logpx: -131.2110 train_tvo_log_evidence: -131.2549\n"
     ]
    },
    {
     "name": "stderr",
     "output_type": "stream",
     "text": [
      "\r",
      "  5%|███▌                                                                         | 229/5000 [04:06<1:19:05,  1.01it/s]"
     ]
    },
    {
     "name": "stdout",
     "output_type": "stream",
     "text": [
      "Epoch: 229 - train_elbo: -136.2162 train_logpx: -131.1718 train_tvo_log_evidence: -131.2159\n"
     ]
    },
    {
     "name": "stderr",
     "output_type": "stream",
     "text": [
      "\r",
      "  5%|███▌                                                                         | 230/5000 [04:07<1:18:55,  1.01it/s]"
     ]
    },
    {
     "name": "stdout",
     "output_type": "stream",
     "text": [
      "Epoch: 230 - train_elbo: -135.9370 train_logpx: -130.9978 train_tvo_log_evidence: -131.0411\n"
     ]
    },
    {
     "name": "stderr",
     "output_type": "stream",
     "text": [
      "\r",
      "  5%|███▌                                                                         | 231/5000 [04:08<1:19:32,  1.00s/it]"
     ]
    },
    {
     "name": "stdout",
     "output_type": "stream",
     "text": [
      "Epoch: 231 - train_elbo: -135.6325 train_logpx: -130.7570 train_tvo_log_evidence: -130.7997\n"
     ]
    },
    {
     "name": "stderr",
     "output_type": "stream",
     "text": [
      "\r",
      "  5%|███▌                                                                         | 232/5000 [04:09<1:18:45,  1.01it/s]"
     ]
    },
    {
     "name": "stdout",
     "output_type": "stream",
     "text": [
      "Epoch: 232 - train_elbo: -135.5417 train_logpx: -130.7651 train_tvo_log_evidence: -130.8075\n"
     ]
    },
    {
     "name": "stderr",
     "output_type": "stream",
     "text": [
      "\r",
      "  5%|███▌                                                                         | 233/5000 [04:10<1:16:46,  1.03it/s]"
     ]
    },
    {
     "name": "stdout",
     "output_type": "stream",
     "text": [
      "Epoch: 233 - train_elbo: -135.4720 train_logpx: -130.6353 train_tvo_log_evidence: -130.6778\n"
     ]
    },
    {
     "name": "stderr",
     "output_type": "stream",
     "text": [
      "\r",
      "  5%|███▌                                                                         | 234/5000 [04:11<1:16:02,  1.04it/s]"
     ]
    },
    {
     "name": "stdout",
     "output_type": "stream",
     "text": [
      "==================================\n",
      "K=6 points=tensor([0.0000, 0.0582, 0.0789, 0.0893, 0.1882, 1.0000], device='cuda:0')\n",
      "==================================\n",
      "Epoch: 234 - train_elbo: -135.4113 train_logpx: -130.3954 train_tvo_log_evidence: -130.4383\n"
     ]
    },
    {
     "name": "stderr",
     "output_type": "stream",
     "text": [
      "\r",
      "  5%|███▌                                                                         | 235/5000 [04:13<1:32:42,  1.17s/it]"
     ]
    },
    {
     "name": "stdout",
     "output_type": "stream",
     "text": [
      "Epoch: 235 - train_elbo: -135.5427 train_logpx: -130.0380 train_tvo_log_evidence: -130.0825\n"
     ]
    },
    {
     "name": "stderr",
     "output_type": "stream",
     "text": [
      "\r",
      "  5%|███▋                                                                         | 236/5000 [04:14<1:25:27,  1.08s/it]"
     ]
    },
    {
     "name": "stdout",
     "output_type": "stream",
     "text": [
      "Epoch: 236 - train_elbo: -135.2532 train_logpx: -129.9941 train_tvo_log_evidence: -130.0376\n"
     ]
    },
    {
     "name": "stderr",
     "output_type": "stream",
     "text": [
      "\r",
      "  5%|███▋                                                                         | 237/5000 [04:15<1:23:10,  1.05s/it]"
     ]
    },
    {
     "name": "stdout",
     "output_type": "stream",
     "text": [
      "Epoch: 237 - train_elbo: -134.8338 train_logpx: -129.7725 train_tvo_log_evidence: -129.8147\n"
     ]
    },
    {
     "name": "stderr",
     "output_type": "stream",
     "text": [
      "\r",
      "  5%|███▋                                                                         | 238/5000 [04:16<1:21:40,  1.03s/it]"
     ]
    },
    {
     "name": "stdout",
     "output_type": "stream",
     "text": [
      "Epoch: 238 - train_elbo: -134.9580 train_logpx: -129.6941 train_tvo_log_evidence: -129.7375\n"
     ]
    },
    {
     "name": "stderr",
     "output_type": "stream",
     "text": [
      "\r",
      "  5%|███▋                                                                         | 239/5000 [04:16<1:19:25,  1.00s/it]"
     ]
    },
    {
     "name": "stdout",
     "output_type": "stream",
     "text": [
      "Epoch: 239 - train_elbo: -134.6456 train_logpx: -129.4869 train_tvo_log_evidence: -129.5294\n"
     ]
    },
    {
     "name": "stderr",
     "output_type": "stream",
     "text": [
      "\r",
      "  5%|███▋                                                                         | 240/5000 [04:17<1:16:47,  1.03it/s]"
     ]
    },
    {
     "name": "stdout",
     "output_type": "stream",
     "text": [
      "Epoch: 240 - train_elbo: -134.5893 train_logpx: -129.4765 train_tvo_log_evidence: -129.5191\n"
     ]
    },
    {
     "name": "stderr",
     "output_type": "stream",
     "text": [
      "\r",
      "  5%|███▋                                                                         | 241/5000 [04:18<1:14:35,  1.06it/s]"
     ]
    },
    {
     "name": "stdout",
     "output_type": "stream",
     "text": [
      "Epoch: 241 - train_elbo: -134.2636 train_logpx: -129.0944 train_tvo_log_evidence: -129.1373\n"
     ]
    },
    {
     "name": "stderr",
     "output_type": "stream",
     "text": [
      "\r",
      "  5%|███▋                                                                         | 242/5000 [04:19<1:16:01,  1.04it/s]"
     ]
    },
    {
     "name": "stdout",
     "output_type": "stream",
     "text": [
      "Epoch: 242 - train_elbo: -134.3900 train_logpx: -129.1736 train_tvo_log_evidence: -129.2164\n"
     ]
    },
    {
     "name": "stderr",
     "output_type": "stream",
     "text": [
      "\r",
      "  5%|███▋                                                                         | 243/5000 [04:20<1:16:47,  1.03it/s]"
     ]
    },
    {
     "name": "stdout",
     "output_type": "stream",
     "text": [
      "estimated [epsilon lengthscale noisevar] [0.9        5.         0.31141288]\n",
      "==================================\n",
      "K=6 points=tensor([0.0000, 0.1592, 0.2286, 0.2738, 0.3540, 1.0000], device='cuda:0')\n",
      "==================================\n",
      "Epoch: 243 - train_elbo: -134.1223 train_logpx: -128.9865 train_tvo_log_evidence: -129.0293\n"
     ]
    },
    {
     "name": "stderr",
     "output_type": "stream",
     "text": [
      "\r",
      "  5%|███▊                                                                         | 244/5000 [04:23<1:48:11,  1.36s/it]"
     ]
    },
    {
     "name": "stdout",
     "output_type": "stream",
     "text": [
      "Epoch: 244 - train_elbo: -133.9962 train_logpx: -128.9481 train_tvo_log_evidence: -128.9905\n"
     ]
    },
    {
     "name": "stderr",
     "output_type": "stream",
     "text": [
      "\r",
      "  5%|███▊                                                                         | 245/5000 [04:23<1:38:56,  1.25s/it]"
     ]
    },
    {
     "name": "stdout",
     "output_type": "stream",
     "text": [
      "Epoch: 245 - train_elbo: -133.7972 train_logpx: -128.7303 train_tvo_log_evidence: -128.7726\n"
     ]
    },
    {
     "name": "stderr",
     "output_type": "stream",
     "text": [
      "\r",
      "  5%|███▊                                                                         | 246/5000 [04:24<1:33:08,  1.18s/it]"
     ]
    },
    {
     "name": "stdout",
     "output_type": "stream",
     "text": [
      "Epoch: 246 - train_elbo: -133.6473 train_logpx: -128.5883 train_tvo_log_evidence: -128.6311\n"
     ]
    },
    {
     "name": "stderr",
     "output_type": "stream",
     "text": [
      "\r",
      "  5%|███▊                                                                         | 247/5000 [04:25<1:27:29,  1.10s/it]"
     ]
    },
    {
     "name": "stdout",
     "output_type": "stream",
     "text": [
      "Epoch: 247 - train_elbo: -133.5515 train_logpx: -128.5020 train_tvo_log_evidence: -128.5446\n"
     ]
    },
    {
     "name": "stderr",
     "output_type": "stream",
     "text": [
      "\r",
      "  5%|███▊                                                                         | 248/5000 [04:26<1:22:45,  1.04s/it]"
     ]
    },
    {
     "name": "stdout",
     "output_type": "stream",
     "text": [
      "Epoch: 248 - train_elbo: -133.4567 train_logpx: -128.3370 train_tvo_log_evidence: -128.3801\n"
     ]
    },
    {
     "name": "stderr",
     "output_type": "stream",
     "text": [
      "\r",
      "  5%|███▊                                                                         | 249/5000 [04:27<1:20:06,  1.01s/it]"
     ]
    },
    {
     "name": "stdout",
     "output_type": "stream",
     "text": [
      "Epoch: 249 - train_elbo: -133.4215 train_logpx: -128.2483 train_tvo_log_evidence: -128.2914\n"
     ]
    },
    {
     "name": "stderr",
     "output_type": "stream",
     "text": [
      "\r",
      "  5%|███▊                                                                         | 250/5000 [04:28<1:17:04,  1.03it/s]"
     ]
    },
    {
     "name": "stdout",
     "output_type": "stream",
     "text": [
      "Epoch: 250 - train_elbo: -133.2132 train_logpx: -128.1272 train_tvo_log_evidence: -128.1699\n"
     ]
    },
    {
     "name": "stderr",
     "output_type": "stream",
     "text": [
      "\r",
      "  5%|███▊                                                                         | 251/5000 [04:29<1:16:05,  1.04it/s]"
     ]
    },
    {
     "name": "stdout",
     "output_type": "stream",
     "text": [
      "Epoch: 251 - train_elbo: -132.8506 train_logpx: -127.7941 train_tvo_log_evidence: -127.8372\n"
     ]
    },
    {
     "name": "stderr",
     "output_type": "stream",
     "text": [
      "\r",
      "  5%|███▉                                                                         | 252/5000 [04:30<1:14:51,  1.06it/s]"
     ]
    },
    {
     "name": "stdout",
     "output_type": "stream",
     "text": [
      "==================================\n",
      "K=6 points=tensor([0.0000, 0.0589, 0.0705, 0.0820, 0.3415, 1.0000], device='cuda:0')\n",
      "==================================\n",
      "Epoch: 252 - train_elbo: -132.9734 train_logpx: -127.7480 train_tvo_log_evidence: -127.7915\n"
     ]
    },
    {
     "name": "stderr",
     "output_type": "stream",
     "text": [
      "\r",
      "  5%|███▉                                                                         | 253/5000 [04:32<1:32:02,  1.16s/it]"
     ]
    },
    {
     "name": "stdout",
     "output_type": "stream",
     "text": [
      "Epoch: 253 - train_elbo: -132.8291 train_logpx: -127.6446 train_tvo_log_evidence: -127.6878\n"
     ]
    },
    {
     "name": "stderr",
     "output_type": "stream",
     "text": [
      "\r",
      "  5%|███▉                                                                         | 254/5000 [04:33<1:24:49,  1.07s/it]"
     ]
    },
    {
     "name": "stdout",
     "output_type": "stream",
     "text": [
      "Epoch: 254 - train_elbo: -132.6194 train_logpx: -127.5462 train_tvo_log_evidence: -127.5886\n"
     ]
    },
    {
     "name": "stderr",
     "output_type": "stream",
     "text": [
      "\r",
      "  5%|███▉                                                                         | 255/5000 [04:34<1:23:07,  1.05s/it]"
     ]
    },
    {
     "name": "stdout",
     "output_type": "stream",
     "text": [
      "Epoch: 255 - train_elbo: -132.6256 train_logpx: -127.4150 train_tvo_log_evidence: -127.4582\n"
     ]
    },
    {
     "name": "stderr",
     "output_type": "stream",
     "text": [
      "\r",
      "  5%|███▉                                                                         | 256/5000 [04:34<1:20:28,  1.02s/it]"
     ]
    },
    {
     "name": "stdout",
     "output_type": "stream",
     "text": [
      "Epoch: 256 - train_elbo: -132.3107 train_logpx: -127.1634 train_tvo_log_evidence: -127.2067\n"
     ]
    },
    {
     "name": "stderr",
     "output_type": "stream",
     "text": [
      "\r",
      "  5%|███▉                                                                         | 257/5000 [04:35<1:19:32,  1.01s/it]"
     ]
    },
    {
     "name": "stdout",
     "output_type": "stream",
     "text": [
      "Epoch: 257 - train_elbo: -132.3455 train_logpx: -127.2699 train_tvo_log_evidence: -127.3129\n"
     ]
    },
    {
     "name": "stderr",
     "output_type": "stream",
     "text": [
      "\r",
      "  5%|███▉                                                                         | 258/5000 [04:36<1:19:34,  1.01s/it]"
     ]
    },
    {
     "name": "stdout",
     "output_type": "stream",
     "text": [
      "Epoch: 258 - train_elbo: -132.1246 train_logpx: -126.9569 train_tvo_log_evidence: -127.0002\n"
     ]
    },
    {
     "name": "stderr",
     "output_type": "stream",
     "text": [
      "\r",
      "  5%|███▉                                                                         | 259/5000 [04:37<1:18:24,  1.01it/s]"
     ]
    },
    {
     "name": "stdout",
     "output_type": "stream",
     "text": [
      "Epoch: 259 - train_elbo: -132.0467 train_logpx: -126.8923 train_tvo_log_evidence: -126.9357\n"
     ]
    },
    {
     "name": "stderr",
     "output_type": "stream",
     "text": [
      "\r",
      "  5%|████                                                                         | 260/5000 [04:38<1:19:34,  1.01s/it]"
     ]
    },
    {
     "name": "stdout",
     "output_type": "stream",
     "text": [
      "Epoch: 260 - train_elbo: -131.8879 train_logpx: -126.7208 train_tvo_log_evidence: -126.7644\n"
     ]
    },
    {
     "name": "stderr",
     "output_type": "stream",
     "text": [
      "\r",
      "  5%|████                                                                         | 261/5000 [04:39<1:18:46,  1.00it/s]"
     ]
    },
    {
     "name": "stdout",
     "output_type": "stream",
     "text": [
      "==================================\n",
      "K=6 points=tensor([0.0000, 0.0546, 0.0581, 0.0721, 0.2918, 1.0000], device='cuda:0')\n",
      "==================================\n",
      "Epoch: 261 - train_elbo: -131.8282 train_logpx: -126.5878 train_tvo_log_evidence: -126.6322\n"
     ]
    },
    {
     "name": "stderr",
     "output_type": "stream",
     "text": [
      "\r",
      "  5%|████                                                                         | 262/5000 [04:41<1:38:29,  1.25s/it]"
     ]
    },
    {
     "name": "stdout",
     "output_type": "stream",
     "text": [
      "Epoch: 262 - train_elbo: -131.7733 train_logpx: -126.5272 train_tvo_log_evidence: -126.5710\n"
     ]
    },
    {
     "name": "stderr",
     "output_type": "stream",
     "text": [
      "\r",
      "  5%|████                                                                         | 263/5000 [04:42<1:31:15,  1.16s/it]"
     ]
    },
    {
     "name": "stdout",
     "output_type": "stream",
     "text": [
      "Epoch: 263 - train_elbo: -131.7198 train_logpx: -126.4102 train_tvo_log_evidence: -126.4544\n"
     ]
    },
    {
     "name": "stderr",
     "output_type": "stream",
     "text": [
      "\r",
      "  5%|████                                                                         | 264/5000 [04:43<1:25:50,  1.09s/it]"
     ]
    },
    {
     "name": "stdout",
     "output_type": "stream",
     "text": [
      "Epoch: 264 - train_elbo: -131.7073 train_logpx: -126.2481 train_tvo_log_evidence: -126.2933\n"
     ]
    },
    {
     "name": "stderr",
     "output_type": "stream",
     "text": [
      "\r",
      "  5%|████                                                                         | 265/5000 [04:44<1:23:13,  1.05s/it]"
     ]
    },
    {
     "name": "stdout",
     "output_type": "stream",
     "text": [
      "Epoch: 265 - train_elbo: -131.3841 train_logpx: -125.9959 train_tvo_log_evidence: -126.0407\n"
     ]
    },
    {
     "name": "stderr",
     "output_type": "stream",
     "text": [
      "\r",
      "  5%|████                                                                         | 266/5000 [04:45<1:23:21,  1.06s/it]"
     ]
    },
    {
     "name": "stdout",
     "output_type": "stream",
     "text": [
      "Epoch: 266 - train_elbo: -131.1966 train_logpx: -125.8148 train_tvo_log_evidence: -125.8598\n"
     ]
    },
    {
     "name": "stderr",
     "output_type": "stream",
     "text": [
      "\r",
      "  5%|████                                                                         | 267/5000 [04:46<1:19:32,  1.01s/it]"
     ]
    },
    {
     "name": "stdout",
     "output_type": "stream",
     "text": [
      "Epoch: 267 - train_elbo: -131.0627 train_logpx: -125.7506 train_tvo_log_evidence: -125.7952\n"
     ]
    },
    {
     "name": "stderr",
     "output_type": "stream",
     "text": [
      "\r",
      "  5%|████▏                                                                        | 268/5000 [04:47<1:18:14,  1.01it/s]"
     ]
    },
    {
     "name": "stdout",
     "output_type": "stream",
     "text": [
      "Epoch: 268 - train_elbo: -131.0969 train_logpx: -125.7950 train_tvo_log_evidence: -125.8396\n"
     ]
    },
    {
     "name": "stderr",
     "output_type": "stream",
     "text": [
      "\r",
      "  5%|████▏                                                                        | 269/5000 [04:48<1:17:01,  1.02it/s]"
     ]
    },
    {
     "name": "stdout",
     "output_type": "stream",
     "text": [
      "Epoch: 269 - train_elbo: -130.8436 train_logpx: -125.5755 train_tvo_log_evidence: -125.6195\n"
     ]
    },
    {
     "name": "stderr",
     "output_type": "stream",
     "text": [
      "\r",
      "  5%|████▏                                                                        | 270/5000 [04:49<1:16:43,  1.03it/s]"
     ]
    },
    {
     "name": "stdout",
     "output_type": "stream",
     "text": [
      "==================================\n",
      "K=6 points=tensor([0.0000, 0.0601, 0.0618, 0.0714, 0.1185, 1.0000], device='cuda:0')\n",
      "==================================\n",
      "Epoch: 270 - train_elbo: -131.0533 train_logpx: -125.7213 train_tvo_log_evidence: -125.7665\n"
     ]
    },
    {
     "name": "stderr",
     "output_type": "stream",
     "text": [
      "\r",
      "  5%|████▏                                                                        | 271/5000 [04:51<1:30:58,  1.15s/it]"
     ]
    },
    {
     "name": "stdout",
     "output_type": "stream",
     "text": [
      "Epoch: 271 - train_elbo: -130.9880 train_logpx: -125.6617 train_tvo_log_evidence: -125.7075\n"
     ]
    },
    {
     "name": "stderr",
     "output_type": "stream",
     "text": [
      "\r",
      "  5%|████▏                                                                        | 272/5000 [04:51<1:26:49,  1.10s/it]"
     ]
    },
    {
     "name": "stdout",
     "output_type": "stream",
     "text": [
      "Epoch: 272 - train_elbo: -130.7506 train_logpx: -125.4496 train_tvo_log_evidence: -125.4953\n"
     ]
    },
    {
     "name": "stderr",
     "output_type": "stream",
     "text": [
      "\r",
      "  5%|████▏                                                                        | 273/5000 [04:52<1:23:17,  1.06s/it]"
     ]
    },
    {
     "name": "stdout",
     "output_type": "stream",
     "text": [
      "Epoch: 273 - train_elbo: -130.4574 train_logpx: -125.4303 train_tvo_log_evidence: -125.4738\n"
     ]
    },
    {
     "name": "stderr",
     "output_type": "stream",
     "text": [
      "\r",
      "  5%|████▏                                                                        | 274/5000 [04:53<1:21:30,  1.03s/it]"
     ]
    },
    {
     "name": "stdout",
     "output_type": "stream",
     "text": [
      "Epoch: 274 - train_elbo: -130.1590 train_logpx: -125.1786 train_tvo_log_evidence: -125.2214\n"
     ]
    },
    {
     "name": "stderr",
     "output_type": "stream",
     "text": [
      "\r",
      "  6%|████▏                                                                        | 275/5000 [04:54<1:21:06,  1.03s/it]"
     ]
    },
    {
     "name": "stdout",
     "output_type": "stream",
     "text": [
      "Epoch: 275 - train_elbo: -129.9243 train_logpx: -125.0745 train_tvo_log_evidence: -125.1167\n"
     ]
    },
    {
     "name": "stderr",
     "output_type": "stream",
     "text": [
      "\r",
      "  6%|████▎                                                                        | 276/5000 [04:55<1:19:36,  1.01s/it]"
     ]
    },
    {
     "name": "stdout",
     "output_type": "stream",
     "text": [
      "Epoch: 276 - train_elbo: -129.6742 train_logpx: -124.8551 train_tvo_log_evidence: -124.8971\n"
     ]
    },
    {
     "name": "stderr",
     "output_type": "stream",
     "text": [
      "\r",
      "  6%|████▎                                                                        | 277/5000 [04:56<1:20:16,  1.02s/it]"
     ]
    },
    {
     "name": "stdout",
     "output_type": "stream",
     "text": [
      "Epoch: 277 - train_elbo: -129.7296 train_logpx: -124.8561 train_tvo_log_evidence: -124.8984\n"
     ]
    },
    {
     "name": "stderr",
     "output_type": "stream",
     "text": [
      "\r",
      "  6%|████▎                                                                        | 278/5000 [04:57<1:20:00,  1.02s/it]"
     ]
    },
    {
     "name": "stdout",
     "output_type": "stream",
     "text": [
      "Epoch: 278 - train_elbo: -129.5378 train_logpx: -124.7448 train_tvo_log_evidence: -124.7868\n"
     ]
    },
    {
     "name": "stderr",
     "output_type": "stream",
     "text": [
      "\r",
      "  6%|████▎                                                                        | 279/5000 [04:58<1:18:58,  1.00s/it]"
     ]
    },
    {
     "name": "stdout",
     "output_type": "stream",
     "text": [
      "==================================\n",
      "K=6 points=tensor([0.0000, 0.0532, 0.0596, 0.0702, 0.2948, 1.0000], device='cuda:0')\n",
      "==================================\n",
      "Epoch: 279 - train_elbo: -129.3961 train_logpx: -124.5115 train_tvo_log_evidence: -124.5535\n"
     ]
    },
    {
     "name": "stderr",
     "output_type": "stream",
     "text": [
      "\r",
      "  6%|████▎                                                                        | 280/5000 [05:00<1:36:30,  1.23s/it]"
     ]
    },
    {
     "name": "stdout",
     "output_type": "stream",
     "text": [
      "Epoch: 280 - train_elbo: -129.3756 train_logpx: -124.2098 train_tvo_log_evidence: -124.2527\n"
     ]
    },
    {
     "name": "stderr",
     "output_type": "stream",
     "text": [
      "\r",
      "  6%|████▎                                                                        | 281/5000 [05:01<1:29:46,  1.14s/it]"
     ]
    },
    {
     "name": "stdout",
     "output_type": "stream",
     "text": [
      "Epoch: 281 - train_elbo: -129.3555 train_logpx: -124.2825 train_tvo_log_evidence: -124.3252\n"
     ]
    },
    {
     "name": "stderr",
     "output_type": "stream",
     "text": [
      "\r",
      "  6%|████▎                                                                        | 282/5000 [05:02<1:26:20,  1.10s/it]"
     ]
    },
    {
     "name": "stdout",
     "output_type": "stream",
     "text": [
      "Epoch: 282 - train_elbo: -128.9266 train_logpx: -124.0415 train_tvo_log_evidence: -124.0836\n"
     ]
    },
    {
     "name": "stderr",
     "output_type": "stream",
     "text": [
      "\r",
      "  6%|████▎                                                                        | 283/5000 [05:03<1:22:05,  1.04s/it]"
     ]
    },
    {
     "name": "stdout",
     "output_type": "stream",
     "text": [
      "Epoch: 283 - train_elbo: -128.8226 train_logpx: -123.8321 train_tvo_log_evidence: -123.8742\n"
     ]
    },
    {
     "name": "stderr",
     "output_type": "stream",
     "text": [
      "\r",
      "  6%|████▎                                                                        | 284/5000 [05:04<1:18:43,  1.00s/it]"
     ]
    },
    {
     "name": "stdout",
     "output_type": "stream",
     "text": [
      "Epoch: 284 - train_elbo: -128.7788 train_logpx: -123.7577 train_tvo_log_evidence: -123.8002\n"
     ]
    },
    {
     "name": "stderr",
     "output_type": "stream",
     "text": [
      "\r",
      "  6%|████▍                                                                        | 285/5000 [05:05<1:16:43,  1.02it/s]"
     ]
    },
    {
     "name": "stdout",
     "output_type": "stream",
     "text": [
      "Epoch: 285 - train_elbo: -128.7008 train_logpx: -123.8051 train_tvo_log_evidence: -123.8468\n"
     ]
    },
    {
     "name": "stderr",
     "output_type": "stream",
     "text": [
      "\r",
      "  6%|████▍                                                                        | 286/5000 [05:06<1:15:16,  1.04it/s]"
     ]
    },
    {
     "name": "stdout",
     "output_type": "stream",
     "text": [
      "Epoch: 286 - train_elbo: -128.6227 train_logpx: -123.6714 train_tvo_log_evidence: -123.7134\n"
     ]
    },
    {
     "name": "stderr",
     "output_type": "stream",
     "text": [
      "\r",
      "  6%|████▍                                                                        | 287/5000 [05:07<1:14:00,  1.06it/s]"
     ]
    },
    {
     "name": "stdout",
     "output_type": "stream",
     "text": [
      "Epoch: 287 - train_elbo: -128.3663 train_logpx: -123.3047 train_tvo_log_evidence: -123.3472\n"
     ]
    },
    {
     "name": "stderr",
     "output_type": "stream",
     "text": [
      "\r",
      "  6%|████▍                                                                        | 288/5000 [05:08<1:14:16,  1.06it/s]"
     ]
    },
    {
     "name": "stdout",
     "output_type": "stream",
     "text": [
      "estimated [epsilon lengthscale noisevar] [0.9        5.         0.30108802]\n",
      "==================================\n",
      "K=6 points=tensor([0.0000, 0.1134, 0.2304, 0.2741, 0.5769, 1.0000], device='cuda:0')\n",
      "==================================\n",
      "Epoch: 288 - train_elbo: -128.3636 train_logpx: -123.3672 train_tvo_log_evidence: -123.4092\n"
     ]
    },
    {
     "name": "stderr",
     "output_type": "stream",
     "text": [
      "\r",
      "  6%|████▍                                                                        | 289/5000 [05:10<1:46:20,  1.35s/it]"
     ]
    },
    {
     "name": "stdout",
     "output_type": "stream",
     "text": [
      "Epoch: 289 - train_elbo: -128.2537 train_logpx: -123.3633 train_tvo_log_evidence: -123.4056\n"
     ]
    },
    {
     "name": "stderr",
     "output_type": "stream",
     "text": [
      "\r",
      "  6%|████▍                                                                        | 290/5000 [05:11<1:36:41,  1.23s/it]"
     ]
    },
    {
     "name": "stdout",
     "output_type": "stream",
     "text": [
      "Epoch: 290 - train_elbo: -128.1269 train_logpx: -123.2476 train_tvo_log_evidence: -123.2904\n"
     ]
    },
    {
     "name": "stderr",
     "output_type": "stream",
     "text": [
      "\r",
      "  6%|████▍                                                                        | 291/5000 [05:12<1:29:31,  1.14s/it]"
     ]
    },
    {
     "name": "stdout",
     "output_type": "stream",
     "text": [
      "Epoch: 291 - train_elbo: -127.9853 train_logpx: -123.0773 train_tvo_log_evidence: -123.1199\n"
     ]
    },
    {
     "name": "stderr",
     "output_type": "stream",
     "text": [
      "\r",
      "  6%|████▍                                                                        | 292/5000 [05:13<1:23:54,  1.07s/it]"
     ]
    },
    {
     "name": "stdout",
     "output_type": "stream",
     "text": [
      "Epoch: 292 - train_elbo: -127.9854 train_logpx: -123.0196 train_tvo_log_evidence: -123.0623\n"
     ]
    },
    {
     "name": "stderr",
     "output_type": "stream",
     "text": [
      "\r",
      "  6%|████▌                                                                        | 293/5000 [05:14<1:22:59,  1.06s/it]"
     ]
    },
    {
     "name": "stdout",
     "output_type": "stream",
     "text": [
      "Epoch: 293 - train_elbo: -127.8480 train_logpx: -122.8675 train_tvo_log_evidence: -122.9104\n"
     ]
    },
    {
     "name": "stderr",
     "output_type": "stream",
     "text": [
      "\r",
      "  6%|████▌                                                                        | 294/5000 [05:15<1:20:29,  1.03s/it]"
     ]
    },
    {
     "name": "stdout",
     "output_type": "stream",
     "text": [
      "Epoch: 294 - train_elbo: -127.8531 train_logpx: -122.8936 train_tvo_log_evidence: -122.9366\n"
     ]
    },
    {
     "name": "stderr",
     "output_type": "stream",
     "text": [
      "\r",
      "  6%|████▌                                                                        | 295/5000 [05:16<1:17:42,  1.01it/s]"
     ]
    },
    {
     "name": "stdout",
     "output_type": "stream",
     "text": [
      "Epoch: 295 - train_elbo: -127.5166 train_logpx: -122.5997 train_tvo_log_evidence: -122.6424\n"
     ]
    },
    {
     "name": "stderr",
     "output_type": "stream",
     "text": [
      "\r",
      "  6%|████▌                                                                        | 296/5000 [05:17<1:18:00,  1.01it/s]"
     ]
    },
    {
     "name": "stdout",
     "output_type": "stream",
     "text": [
      "Epoch: 296 - train_elbo: -127.6090 train_logpx: -122.6718 train_tvo_log_evidence: -122.7145\n"
     ]
    },
    {
     "name": "stderr",
     "output_type": "stream",
     "text": [
      "\r",
      "  6%|████▌                                                                        | 297/5000 [05:18<1:16:15,  1.03it/s]"
     ]
    },
    {
     "name": "stdout",
     "output_type": "stream",
     "text": [
      "==================================\n",
      "K=6 points=tensor([0.0000, 0.0544, 0.0599, 0.0616, 0.3818, 1.0000], device='cuda:0')\n",
      "==================================\n",
      "Epoch: 297 - train_elbo: -127.4114 train_logpx: -122.4593 train_tvo_log_evidence: -122.5025\n"
     ]
    },
    {
     "name": "stderr",
     "output_type": "stream",
     "text": [
      "\r",
      "  6%|████▌                                                                        | 298/5000 [05:20<1:52:35,  1.44s/it]"
     ]
    },
    {
     "name": "stdout",
     "output_type": "stream",
     "text": [
      "Epoch: 298 - train_elbo: -127.3727 train_logpx: -122.4438 train_tvo_log_evidence: -122.4871\n"
     ]
    },
    {
     "name": "stderr",
     "output_type": "stream",
     "text": [
      "\r",
      "  6%|████▌                                                                        | 299/5000 [05:21<1:40:52,  1.29s/it]"
     ]
    },
    {
     "name": "stdout",
     "output_type": "stream",
     "text": [
      "Epoch: 299 - train_elbo: -127.2028 train_logpx: -122.3206 train_tvo_log_evidence: -122.3636\n"
     ]
    },
    {
     "name": "stderr",
     "output_type": "stream",
     "text": [
      "\r",
      "  6%|████▌                                                                        | 300/5000 [05:22<1:32:44,  1.18s/it]"
     ]
    },
    {
     "name": "stdout",
     "output_type": "stream",
     "text": [
      "Epoch: 300 - train_elbo: -127.0461 train_logpx: -122.2038 train_tvo_log_evidence: -122.2464\n"
     ]
    },
    {
     "name": "stderr",
     "output_type": "stream",
     "text": [
      "\r",
      "  6%|████▋                                                                        | 301/5000 [05:23<1:26:57,  1.11s/it]"
     ]
    },
    {
     "name": "stdout",
     "output_type": "stream",
     "text": [
      "Epoch: 301 - train_elbo: -127.0181 train_logpx: -122.0992 train_tvo_log_evidence: -122.1421\n"
     ]
    },
    {
     "name": "stderr",
     "output_type": "stream",
     "text": [
      "\r",
      "  6%|████▋                                                                        | 302/5000 [05:24<1:23:40,  1.07s/it]"
     ]
    },
    {
     "name": "stdout",
     "output_type": "stream",
     "text": [
      "Epoch: 302 - train_elbo: -127.0146 train_logpx: -122.0125 train_tvo_log_evidence: -122.0563\n"
     ]
    },
    {
     "name": "stderr",
     "output_type": "stream",
     "text": [
      "\r",
      "  6%|████▋                                                                        | 303/5000 [05:25<1:20:43,  1.03s/it]"
     ]
    },
    {
     "name": "stdout",
     "output_type": "stream",
     "text": [
      "Epoch: 303 - train_elbo: -126.8876 train_logpx: -121.9997 train_tvo_log_evidence: -122.0426\n"
     ]
    },
    {
     "name": "stderr",
     "output_type": "stream",
     "text": [
      "\r",
      "  6%|████▋                                                                        | 304/5000 [05:26<1:17:57,  1.00it/s]"
     ]
    },
    {
     "name": "stdout",
     "output_type": "stream",
     "text": [
      "Epoch: 304 - train_elbo: -126.7726 train_logpx: -121.8624 train_tvo_log_evidence: -121.9056\n"
     ]
    },
    {
     "name": "stderr",
     "output_type": "stream",
     "text": [
      "\r",
      "  6%|████▋                                                                        | 305/5000 [05:27<1:18:48,  1.01s/it]"
     ]
    },
    {
     "name": "stdout",
     "output_type": "stream",
     "text": [
      "Epoch: 305 - train_elbo: -126.5680 train_logpx: -121.6605 train_tvo_log_evidence: -121.7035\n"
     ]
    },
    {
     "name": "stderr",
     "output_type": "stream",
     "text": [
      "\r",
      "  6%|████▋                                                                        | 306/5000 [05:28<1:16:56,  1.02it/s]"
     ]
    },
    {
     "name": "stdout",
     "output_type": "stream",
     "text": [
      "==================================\n",
      "K=6 points=tensor([0.0000, 0.0500, 0.0500, 0.0500, 0.3148, 1.0000], device='cuda:0')\n",
      "==================================\n",
      "args.schedule_update_frequency= 10\n",
      "Epoch: 306 - train_elbo: -126.2939 train_logpx: -121.4610 train_tvo_log_evidence: -121.5035\n"
     ]
    },
    {
     "name": "stderr",
     "output_type": "stream",
     "text": [
      "\r",
      "  6%|████▋                                                                        | 307/5000 [05:30<1:51:56,  1.43s/it]"
     ]
    },
    {
     "name": "stdout",
     "output_type": "stream",
     "text": [
      "Epoch: 307 - train_elbo: -126.3674 train_logpx: -121.4334 train_tvo_log_evidence: -121.4763\n"
     ]
    },
    {
     "name": "stderr",
     "output_type": "stream",
     "text": [
      "\r",
      "  6%|████▋                                                                        | 308/5000 [05:31<1:38:27,  1.26s/it]"
     ]
    },
    {
     "name": "stdout",
     "output_type": "stream",
     "text": [
      "Epoch: 308 - train_elbo: -126.2863 train_logpx: -121.2768 train_tvo_log_evidence: -121.3204\n"
     ]
    },
    {
     "name": "stderr",
     "output_type": "stream",
     "text": [
      "\r",
      "  6%|████▊                                                                        | 309/5000 [05:32<1:31:42,  1.17s/it]"
     ]
    },
    {
     "name": "stdout",
     "output_type": "stream",
     "text": [
      "Epoch: 309 - train_elbo: -126.2101 train_logpx: -121.2295 train_tvo_log_evidence: -121.2729\n"
     ]
    },
    {
     "name": "stderr",
     "output_type": "stream",
     "text": [
      "\r",
      "  6%|████▊                                                                        | 310/5000 [05:33<1:28:03,  1.13s/it]"
     ]
    },
    {
     "name": "stdout",
     "output_type": "stream",
     "text": [
      "==================================\n",
      "K=6 points=tensor([0.0000, 0.0505, 0.0514, 0.0529, 0.3024, 1.0000], device='cuda:0')\n",
      "==================================\n",
      "Epoch: 310 - train_elbo: -126.1678 train_logpx: -121.2313 train_tvo_log_evidence: -121.2746\n"
     ]
    },
    {
     "name": "stderr",
     "output_type": "stream",
     "text": [
      "\r",
      "  6%|████▊                                                                        | 311/5000 [05:35<1:56:27,  1.49s/it]"
     ]
    },
    {
     "name": "stdout",
     "output_type": "stream",
     "text": [
      "Epoch: 311 - train_elbo: -126.0338 train_logpx: -121.0255 train_tvo_log_evidence: -121.0693\n"
     ]
    },
    {
     "name": "stderr",
     "output_type": "stream",
     "text": [
      "\r",
      "  6%|████▊                                                                        | 312/5000 [05:36<1:44:35,  1.34s/it]"
     ]
    },
    {
     "name": "stdout",
     "output_type": "stream",
     "text": [
      "Epoch: 312 - train_elbo: -125.9739 train_logpx: -120.9904 train_tvo_log_evidence: -121.0340\n"
     ]
    },
    {
     "name": "stderr",
     "output_type": "stream",
     "text": [
      "\r",
      "  6%|████▊                                                                        | 313/5000 [05:37<1:35:32,  1.22s/it]"
     ]
    },
    {
     "name": "stdout",
     "output_type": "stream",
     "text": [
      "Epoch: 313 - train_elbo: -125.9016 train_logpx: -120.9628 train_tvo_log_evidence: -121.0063\n"
     ]
    },
    {
     "name": "stderr",
     "output_type": "stream",
     "text": [
      "\r",
      "  6%|████▊                                                                        | 314/5000 [05:38<1:32:28,  1.18s/it]"
     ]
    },
    {
     "name": "stdout",
     "output_type": "stream",
     "text": [
      "Epoch: 314 - train_elbo: -125.7387 train_logpx: -120.7389 train_tvo_log_evidence: -120.7823\n"
     ]
    },
    {
     "name": "stderr",
     "output_type": "stream",
     "text": [
      "\r",
      "  6%|████▊                                                                        | 315/5000 [05:39<1:27:07,  1.12s/it]"
     ]
    },
    {
     "name": "stdout",
     "output_type": "stream",
     "text": [
      "Epoch: 315 - train_elbo: -125.7040 train_logpx: -120.6908 train_tvo_log_evidence: -120.7341\n"
     ]
    },
    {
     "name": "stderr",
     "output_type": "stream",
     "text": [
      "\r",
      "  6%|████▊                                                                        | 316/5000 [05:40<1:22:27,  1.06s/it]"
     ]
    },
    {
     "name": "stdout",
     "output_type": "stream",
     "text": [
      "Epoch: 316 - train_elbo: -125.4515 train_logpx: -120.5030 train_tvo_log_evidence: -120.5463\n"
     ]
    },
    {
     "name": "stderr",
     "output_type": "stream",
     "text": [
      "\r",
      "  6%|████▉                                                                        | 317/5000 [05:41<1:18:26,  1.01s/it]"
     ]
    },
    {
     "name": "stdout",
     "output_type": "stream",
     "text": [
      "Epoch: 317 - train_elbo: -125.4623 train_logpx: -120.4817 train_tvo_log_evidence: -120.5249\n"
     ]
    },
    {
     "name": "stderr",
     "output_type": "stream",
     "text": [
      "\r",
      "  6%|████▉                                                                        | 318/5000 [05:42<1:17:03,  1.01it/s]"
     ]
    },
    {
     "name": "stdout",
     "output_type": "stream",
     "text": [
      "Epoch: 318 - train_elbo: -125.3477 train_logpx: -120.3343 train_tvo_log_evidence: -120.3777\n"
     ]
    },
    {
     "name": "stderr",
     "output_type": "stream",
     "text": [
      "\r",
      "  6%|████▉                                                                        | 319/5000 [05:43<1:15:59,  1.03it/s]"
     ]
    },
    {
     "name": "stdout",
     "output_type": "stream",
     "text": [
      "Epoch: 319 - train_elbo: -125.4812 train_logpx: -120.4276 train_tvo_log_evidence: -120.4718\n"
     ]
    },
    {
     "name": "stderr",
     "output_type": "stream",
     "text": [
      "\r",
      "  6%|████▉                                                                        | 320/5000 [05:44<1:15:18,  1.04it/s]"
     ]
    },
    {
     "name": "stdout",
     "output_type": "stream",
     "text": [
      "==================================\n",
      "K=6 points=tensor([0.0000, 0.0500, 0.0500, 0.0500, 0.3114, 1.0000], device='cuda:0')\n",
      "==================================\n",
      "Epoch: 320 - train_elbo: -125.1961 train_logpx: -120.1056 train_tvo_log_evidence: -120.1498\n"
     ]
    },
    {
     "name": "stderr",
     "output_type": "stream",
     "text": [
      "\r",
      "  6%|████▉                                                                        | 321/5000 [05:46<1:47:08,  1.37s/it]"
     ]
    },
    {
     "name": "stdout",
     "output_type": "stream",
     "text": [
      "Epoch: 321 - train_elbo: -125.1174 train_logpx: -119.9741 train_tvo_log_evidence: -120.0187\n"
     ]
    },
    {
     "name": "stderr",
     "output_type": "stream",
     "text": [
      "\r",
      "  6%|████▉                                                                        | 322/5000 [05:47<1:36:53,  1.24s/it]"
     ]
    },
    {
     "name": "stdout",
     "output_type": "stream",
     "text": [
      "Epoch: 322 - train_elbo: -125.0462 train_logpx: -119.9788 train_tvo_log_evidence: -120.0229\n"
     ]
    },
    {
     "name": "stderr",
     "output_type": "stream",
     "text": [
      "\r",
      "  6%|████▉                                                                        | 323/5000 [05:48<1:30:34,  1.16s/it]"
     ]
    },
    {
     "name": "stdout",
     "output_type": "stream",
     "text": [
      "Epoch: 323 - train_elbo: -124.7646 train_logpx: -119.8423 train_tvo_log_evidence: -119.8853\n"
     ]
    },
    {
     "name": "stderr",
     "output_type": "stream",
     "text": [
      "\r",
      "  6%|████▉                                                                        | 324/5000 [05:49<1:25:37,  1.10s/it]"
     ]
    },
    {
     "name": "stdout",
     "output_type": "stream",
     "text": [
      "Epoch: 324 - train_elbo: -124.7917 train_logpx: -119.7935 train_tvo_log_evidence: -119.8372\n"
     ]
    },
    {
     "name": "stderr",
     "output_type": "stream",
     "text": [
      "\r",
      "  6%|█████                                                                        | 325/5000 [05:50<1:24:43,  1.09s/it]"
     ]
    },
    {
     "name": "stdout",
     "output_type": "stream",
     "text": [
      "Epoch: 325 - train_elbo: -124.5698 train_logpx: -119.5736 train_tvo_log_evidence: -119.6169\n"
     ]
    },
    {
     "name": "stderr",
     "output_type": "stream",
     "text": [
      "\r",
      "  7%|█████                                                                        | 326/5000 [05:51<1:21:39,  1.05s/it]"
     ]
    },
    {
     "name": "stdout",
     "output_type": "stream",
     "text": [
      "Epoch: 326 - train_elbo: -124.4790 train_logpx: -119.5369 train_tvo_log_evidence: -119.5807\n"
     ]
    },
    {
     "name": "stderr",
     "output_type": "stream",
     "text": [
      "\r",
      "  7%|█████                                                                        | 327/5000 [05:52<1:19:01,  1.01s/it]"
     ]
    },
    {
     "name": "stdout",
     "output_type": "stream",
     "text": [
      "Epoch: 327 - train_elbo: -124.5418 train_logpx: -119.5145 train_tvo_log_evidence: -119.5587\n"
     ]
    },
    {
     "name": "stderr",
     "output_type": "stream",
     "text": [
      "\r",
      "  7%|█████                                                                        | 328/5000 [05:53<1:17:10,  1.01it/s]"
     ]
    },
    {
     "name": "stdout",
     "output_type": "stream",
     "text": [
      "Epoch: 328 - train_elbo: -124.3820 train_logpx: -119.3628 train_tvo_log_evidence: -119.4063\n"
     ]
    },
    {
     "name": "stderr",
     "output_type": "stream",
     "text": [
      "\r",
      "  7%|█████                                                                        | 329/5000 [05:54<1:17:57,  1.00s/it]"
     ]
    },
    {
     "name": "stdout",
     "output_type": "stream",
     "text": [
      "Epoch: 329 - train_elbo: -124.2882 train_logpx: -119.3671 train_tvo_log_evidence: -119.4105\n"
     ]
    },
    {
     "name": "stderr",
     "output_type": "stream",
     "text": [
      "\r",
      "  7%|█████                                                                        | 330/5000 [05:55<1:16:42,  1.01it/s]"
     ]
    },
    {
     "name": "stdout",
     "output_type": "stream",
     "text": [
      "estimated [epsilon lengthscale noisevar] [0.9        4.77340666 0.27895999]\n",
      "==================================\n",
      "K=6 points=tensor([0.0000, 0.1308, 0.1951, 0.2761, 0.5821, 1.0000], device='cuda:0')\n",
      "==================================\n",
      "Epoch: 330 - train_elbo: -124.1970 train_logpx: -119.2496 train_tvo_log_evidence: -119.2933\n"
     ]
    },
    {
     "name": "stderr",
     "output_type": "stream",
     "text": [
      "\r",
      "  7%|█████                                                                        | 331/5000 [05:57<1:49:55,  1.41s/it]"
     ]
    },
    {
     "name": "stdout",
     "output_type": "stream",
     "text": [
      "Epoch: 331 - train_elbo: -124.1875 train_logpx: -119.2167 train_tvo_log_evidence: -119.2604\n"
     ]
    },
    {
     "name": "stderr",
     "output_type": "stream",
     "text": [
      "\r",
      "  7%|█████                                                                        | 332/5000 [05:58<1:37:53,  1.26s/it]"
     ]
    },
    {
     "name": "stdout",
     "output_type": "stream",
     "text": [
      "Epoch: 332 - train_elbo: -124.2437 train_logpx: -119.1867 train_tvo_log_evidence: -119.2309\n"
     ]
    },
    {
     "name": "stderr",
     "output_type": "stream",
     "text": [
      "\r",
      "  7%|█████▏                                                                       | 333/5000 [05:59<1:30:49,  1.17s/it]"
     ]
    },
    {
     "name": "stdout",
     "output_type": "stream",
     "text": [
      "Epoch: 333 - train_elbo: -124.0319 train_logpx: -118.9721 train_tvo_log_evidence: -119.0164\n"
     ]
    },
    {
     "name": "stderr",
     "output_type": "stream",
     "text": [
      "\r",
      "  7%|█████▏                                                                       | 334/5000 [06:00<1:27:13,  1.12s/it]"
     ]
    },
    {
     "name": "stdout",
     "output_type": "stream",
     "text": [
      "Epoch: 334 - train_elbo: -124.0493 train_logpx: -118.9456 train_tvo_log_evidence: -118.9905\n"
     ]
    },
    {
     "name": "stderr",
     "output_type": "stream",
     "text": [
      "\r",
      "  7%|█████▏                                                                       | 335/5000 [06:01<1:24:32,  1.09s/it]"
     ]
    },
    {
     "name": "stdout",
     "output_type": "stream",
     "text": [
      "Epoch: 335 - train_elbo: -123.9142 train_logpx: -118.7954 train_tvo_log_evidence: -118.8402\n"
     ]
    },
    {
     "name": "stderr",
     "output_type": "stream",
     "text": [
      "\r",
      "  7%|█████▏                                                                       | 336/5000 [06:02<1:20:35,  1.04s/it]"
     ]
    },
    {
     "name": "stdout",
     "output_type": "stream",
     "text": [
      "Epoch: 336 - train_elbo: -123.8729 train_logpx: -118.7294 train_tvo_log_evidence: -118.7745\n"
     ]
    },
    {
     "name": "stderr",
     "output_type": "stream",
     "text": [
      "\r",
      "  7%|█████▏                                                                       | 337/5000 [06:03<1:17:20,  1.00it/s]"
     ]
    },
    {
     "name": "stdout",
     "output_type": "stream",
     "text": [
      "Epoch: 337 - train_elbo: -123.6891 train_logpx: -118.5787 train_tvo_log_evidence: -118.6236\n"
     ]
    },
    {
     "name": "stderr",
     "output_type": "stream",
     "text": [
      "\r",
      "  7%|█████▏                                                                       | 338/5000 [06:04<1:16:01,  1.02it/s]"
     ]
    },
    {
     "name": "stdout",
     "output_type": "stream",
     "text": [
      "Epoch: 338 - train_elbo: -123.7406 train_logpx: -118.6710 train_tvo_log_evidence: -118.7156\n"
     ]
    },
    {
     "name": "stderr",
     "output_type": "stream",
     "text": [
      "\r",
      "  7%|█████▏                                                                       | 339/5000 [06:05<1:13:59,  1.05it/s]"
     ]
    },
    {
     "name": "stdout",
     "output_type": "stream",
     "text": [
      "Epoch: 339 - train_elbo: -123.5254 train_logpx: -118.4132 train_tvo_log_evidence: -118.4581\n"
     ]
    },
    {
     "name": "stderr",
     "output_type": "stream",
     "text": [
      "\r",
      "  7%|█████▏                                                                       | 340/5000 [06:06<1:12:44,  1.07it/s]"
     ]
    },
    {
     "name": "stdout",
     "output_type": "stream",
     "text": [
      "==================================\n",
      "K=6 points=tensor([0.0000, 0.0500, 0.0500, 0.0500, 0.3130, 1.0000], device='cuda:0')\n",
      "==================================\n",
      "Epoch: 340 - train_elbo: -123.7462 train_logpx: -118.4310 train_tvo_log_evidence: -118.4769\n"
     ]
    },
    {
     "name": "stderr",
     "output_type": "stream",
     "text": [
      "\r",
      "  7%|█████▎                                                                       | 341/5000 [06:08<1:43:31,  1.33s/it]"
     ]
    },
    {
     "name": "stdout",
     "output_type": "stream",
     "text": [
      "Epoch: 341 - train_elbo: -123.6117 train_logpx: -118.2661 train_tvo_log_evidence: -118.3122\n"
     ]
    },
    {
     "name": "stderr",
     "output_type": "stream",
     "text": [
      "\r",
      "  7%|█████▎                                                                       | 342/5000 [06:09<1:35:45,  1.23s/it]"
     ]
    },
    {
     "name": "stdout",
     "output_type": "stream",
     "text": [
      "Epoch: 342 - train_elbo: -123.5343 train_logpx: -118.2477 train_tvo_log_evidence: -118.2939\n"
     ]
    },
    {
     "name": "stderr",
     "output_type": "stream",
     "text": [
      "\r",
      "  7%|█████▎                                                                       | 343/5000 [06:10<1:28:18,  1.14s/it]"
     ]
    },
    {
     "name": "stdout",
     "output_type": "stream",
     "text": [
      "Epoch: 343 - train_elbo: -123.3436 train_logpx: -118.1481 train_tvo_log_evidence: -118.1934\n"
     ]
    },
    {
     "name": "stderr",
     "output_type": "stream",
     "text": [
      "\r",
      "  7%|█████▎                                                                       | 344/5000 [06:11<1:23:13,  1.07s/it]"
     ]
    },
    {
     "name": "stdout",
     "output_type": "stream",
     "text": [
      "Epoch: 344 - train_elbo: -123.2538 train_logpx: -118.0110 train_tvo_log_evidence: -118.0569\n"
     ]
    },
    {
     "name": "stderr",
     "output_type": "stream",
     "text": [
      "\r",
      "  7%|█████▎                                                                       | 345/5000 [06:12<1:21:12,  1.05s/it]"
     ]
    },
    {
     "name": "stdout",
     "output_type": "stream",
     "text": [
      "Epoch: 345 - train_elbo: -123.2945 train_logpx: -118.0131 train_tvo_log_evidence: -118.0592\n"
     ]
    },
    {
     "name": "stderr",
     "output_type": "stream",
     "text": [
      "\r",
      "  7%|█████▎                                                                       | 346/5000 [06:13<1:18:21,  1.01s/it]"
     ]
    },
    {
     "name": "stdout",
     "output_type": "stream",
     "text": [
      "Epoch: 346 - train_elbo: -123.0899 train_logpx: -117.8546 train_tvo_log_evidence: -117.9001\n"
     ]
    },
    {
     "name": "stderr",
     "output_type": "stream",
     "text": [
      "\r",
      "  7%|█████▎                                                                       | 347/5000 [06:14<1:16:11,  1.02it/s]"
     ]
    },
    {
     "name": "stdout",
     "output_type": "stream",
     "text": [
      "Epoch: 347 - train_elbo: -123.0630 train_logpx: -117.7927 train_tvo_log_evidence: -117.8383\n"
     ]
    },
    {
     "name": "stderr",
     "output_type": "stream",
     "text": [
      "\r",
      "  7%|█████▎                                                                       | 348/5000 [06:15<1:16:29,  1.01it/s]"
     ]
    },
    {
     "name": "stdout",
     "output_type": "stream",
     "text": [
      "Epoch: 348 - train_elbo: -123.0562 train_logpx: -117.7796 train_tvo_log_evidence: -117.8257\n"
     ]
    },
    {
     "name": "stderr",
     "output_type": "stream",
     "text": [
      "\r",
      "  7%|█████▎                                                                       | 349/5000 [06:16<1:14:21,  1.04it/s]"
     ]
    },
    {
     "name": "stdout",
     "output_type": "stream",
     "text": [
      "Epoch: 349 - train_elbo: -122.9765 train_logpx: -117.6924 train_tvo_log_evidence: -117.7384\n"
     ]
    },
    {
     "name": "stderr",
     "output_type": "stream",
     "text": [
      "\r",
      "  7%|█████▍                                                                       | 350/5000 [06:17<1:15:01,  1.03it/s]"
     ]
    },
    {
     "name": "stdout",
     "output_type": "stream",
     "text": [
      "==================================\n",
      "K=6 points=tensor([0.0000, 0.0500, 0.0500, 0.0501, 0.2177, 1.0000], device='cuda:0')\n",
      "==================================\n",
      "Epoch: 350 - train_elbo: -122.9119 train_logpx: -117.6704 train_tvo_log_evidence: -117.7159\n"
     ]
    },
    {
     "name": "stderr",
     "output_type": "stream",
     "text": [
      "\r",
      "  7%|█████▍                                                                       | 351/5000 [06:19<1:51:19,  1.44s/it]"
     ]
    },
    {
     "name": "stdout",
     "output_type": "stream",
     "text": [
      "Epoch: 351 - train_elbo: -122.8637 train_logpx: -117.4985 train_tvo_log_evidence: -117.5445\n"
     ]
    },
    {
     "name": "stderr",
     "output_type": "stream",
     "text": [
      "\r",
      "  7%|█████▍                                                                       | 352/5000 [06:20<1:39:42,  1.29s/it]"
     ]
    },
    {
     "name": "stdout",
     "output_type": "stream",
     "text": [
      "Epoch: 352 - train_elbo: -122.7194 train_logpx: -117.3842 train_tvo_log_evidence: -117.4299\n"
     ]
    },
    {
     "name": "stderr",
     "output_type": "stream",
     "text": [
      "\r",
      "  7%|█████▍                                                                       | 353/5000 [06:21<1:32:33,  1.20s/it]"
     ]
    },
    {
     "name": "stdout",
     "output_type": "stream",
     "text": [
      "Epoch: 353 - train_elbo: -122.6471 train_logpx: -117.3947 train_tvo_log_evidence: -117.4402\n"
     ]
    },
    {
     "name": "stderr",
     "output_type": "stream",
     "text": [
      "\r",
      "  7%|█████▍                                                                       | 354/5000 [06:22<1:27:20,  1.13s/it]"
     ]
    },
    {
     "name": "stdout",
     "output_type": "stream",
     "text": [
      "Epoch: 354 - train_elbo: -122.9040 train_logpx: -117.4597 train_tvo_log_evidence: -117.5065\n"
     ]
    },
    {
     "name": "stderr",
     "output_type": "stream",
     "text": [
      "\r",
      "  7%|█████▍                                                                       | 355/5000 [06:23<1:21:34,  1.05s/it]"
     ]
    },
    {
     "name": "stdout",
     "output_type": "stream",
     "text": [
      "Epoch: 355 - train_elbo: -122.4956 train_logpx: -117.1536 train_tvo_log_evidence: -117.1996\n"
     ]
    },
    {
     "name": "stderr",
     "output_type": "stream",
     "text": [
      "\r",
      "  7%|█████▍                                                                       | 356/5000 [06:24<1:20:57,  1.05s/it]"
     ]
    },
    {
     "name": "stdout",
     "output_type": "stream",
     "text": [
      "Epoch: 356 - train_elbo: -122.4680 train_logpx: -117.1123 train_tvo_log_evidence: -117.1587\n"
     ]
    },
    {
     "name": "stderr",
     "output_type": "stream",
     "text": [
      "\r",
      "  7%|█████▍                                                                       | 357/5000 [06:25<1:17:52,  1.01s/it]"
     ]
    },
    {
     "name": "stdout",
     "output_type": "stream",
     "text": [
      "Epoch: 357 - train_elbo: -122.5014 train_logpx: -117.0398 train_tvo_log_evidence: -117.0863\n"
     ]
    },
    {
     "name": "stderr",
     "output_type": "stream",
     "text": [
      "\r",
      "  7%|█████▌                                                                       | 358/5000 [06:26<1:16:38,  1.01it/s]"
     ]
    },
    {
     "name": "stdout",
     "output_type": "stream",
     "text": [
      "Epoch: 358 - train_elbo: -122.4518 train_logpx: -117.0116 train_tvo_log_evidence: -117.0583\n"
     ]
    },
    {
     "name": "stderr",
     "output_type": "stream",
     "text": [
      "\r",
      "  7%|█████▌                                                                       | 359/5000 [06:27<1:15:16,  1.03it/s]"
     ]
    },
    {
     "name": "stdout",
     "output_type": "stream",
     "text": [
      "Epoch: 359 - train_elbo: -122.4647 train_logpx: -116.9711 train_tvo_log_evidence: -117.0180\n"
     ]
    },
    {
     "name": "stderr",
     "output_type": "stream",
     "text": [
      "\r",
      "  7%|█████▌                                                                       | 360/5000 [06:28<1:14:16,  1.04it/s]"
     ]
    },
    {
     "name": "stdout",
     "output_type": "stream",
     "text": [
      "==================================\n",
      "K=6 points=tensor([0.0000, 0.0500, 0.0500, 0.0500, 0.3113, 1.0000], device='cuda:0')\n",
      "==================================\n",
      "Epoch: 360 - train_elbo: -122.3115 train_logpx: -116.9598 train_tvo_log_evidence: -117.0063\n"
     ]
    },
    {
     "name": "stderr",
     "output_type": "stream",
     "text": [
      "\r",
      "  7%|█████▌                                                                       | 361/5000 [06:30<1:50:56,  1.43s/it]"
     ]
    },
    {
     "name": "stdout",
     "output_type": "stream",
     "text": [
      "Epoch: 361 - train_elbo: -121.9318 train_logpx: -116.7735 train_tvo_log_evidence: -116.8189\n"
     ]
    },
    {
     "name": "stderr",
     "output_type": "stream",
     "text": [
      "\r",
      "  7%|█████▌                                                                       | 362/5000 [06:31<1:37:40,  1.26s/it]"
     ]
    },
    {
     "name": "stdout",
     "output_type": "stream",
     "text": [
      "Epoch: 362 - train_elbo: -122.0278 train_logpx: -116.8237 train_tvo_log_evidence: -116.8695\n"
     ]
    },
    {
     "name": "stderr",
     "output_type": "stream",
     "text": [
      "\r",
      "  7%|█████▌                                                                       | 363/5000 [06:32<1:30:18,  1.17s/it]"
     ]
    },
    {
     "name": "stdout",
     "output_type": "stream",
     "text": [
      "Epoch: 363 - train_elbo: -121.9412 train_logpx: -116.7010 train_tvo_log_evidence: -116.7466\n"
     ]
    },
    {
     "name": "stderr",
     "output_type": "stream",
     "text": [
      "\r",
      "  7%|█████▌                                                                       | 364/5000 [06:33<1:24:27,  1.09s/it]"
     ]
    },
    {
     "name": "stdout",
     "output_type": "stream",
     "text": [
      "Epoch: 364 - train_elbo: -121.8453 train_logpx: -116.6314 train_tvo_log_evidence: -116.6768\n"
     ]
    },
    {
     "name": "stderr",
     "output_type": "stream",
     "text": [
      "\r",
      "  7%|█████▌                                                                       | 365/5000 [06:34<1:20:54,  1.05s/it]"
     ]
    },
    {
     "name": "stdout",
     "output_type": "stream",
     "text": [
      "Epoch: 365 - train_elbo: -121.6127 train_logpx: -116.4680 train_tvo_log_evidence: -116.5131\n"
     ]
    },
    {
     "name": "stderr",
     "output_type": "stream",
     "text": [
      "\r",
      "  7%|█████▋                                                                       | 366/5000 [06:35<1:18:48,  1.02s/it]"
     ]
    },
    {
     "name": "stdout",
     "output_type": "stream",
     "text": [
      "Epoch: 366 - train_elbo: -121.7183 train_logpx: -116.5115 train_tvo_log_evidence: -116.5568\n"
     ]
    },
    {
     "name": "stderr",
     "output_type": "stream",
     "text": [
      "\r",
      "  7%|█████▋                                                                       | 367/5000 [06:36<1:17:56,  1.01s/it]"
     ]
    },
    {
     "name": "stdout",
     "output_type": "stream",
     "text": [
      "Epoch: 367 - train_elbo: -121.6418 train_logpx: -116.4868 train_tvo_log_evidence: -116.5321\n"
     ]
    },
    {
     "name": "stderr",
     "output_type": "stream",
     "text": [
      "\r",
      "  7%|█████▋                                                                       | 368/5000 [06:37<1:17:03,  1.00it/s]"
     ]
    },
    {
     "name": "stdout",
     "output_type": "stream",
     "text": [
      "Epoch: 368 - train_elbo: -121.5110 train_logpx: -116.3247 train_tvo_log_evidence: -116.3703\n"
     ]
    },
    {
     "name": "stderr",
     "output_type": "stream",
     "text": [
      "\r",
      "  7%|█████▋                                                                       | 369/5000 [06:38<1:14:18,  1.04it/s]"
     ]
    },
    {
     "name": "stdout",
     "output_type": "stream",
     "text": [
      "Epoch: 369 - train_elbo: -121.5684 train_logpx: -116.3454 train_tvo_log_evidence: -116.3909\n"
     ]
    },
    {
     "name": "stderr",
     "output_type": "stream",
     "text": [
      "\r",
      "  7%|█████▋                                                                       | 370/5000 [06:39<1:13:28,  1.05it/s]"
     ]
    },
    {
     "name": "stdout",
     "output_type": "stream",
     "text": [
      "==================================\n",
      "K=6 points=tensor([0.0000, 0.0500, 0.0500, 0.0500, 0.1234, 1.0000], device='cuda:0')\n",
      "==================================\n",
      "Epoch: 370 - train_elbo: -121.4064 train_logpx: -116.2982 train_tvo_log_evidence: -116.3434\n"
     ]
    },
    {
     "name": "stderr",
     "output_type": "stream",
     "text": [
      "\r",
      "  7%|█████▋                                                                       | 371/5000 [06:41<1:47:43,  1.40s/it]"
     ]
    },
    {
     "name": "stdout",
     "output_type": "stream",
     "text": [
      "Epoch: 371 - train_elbo: -121.5183 train_logpx: -116.2274 train_tvo_log_evidence: -116.2746\n"
     ]
    },
    {
     "name": "stderr",
     "output_type": "stream",
     "text": [
      "\r",
      "  7%|█████▋                                                                       | 372/5000 [06:42<1:37:49,  1.27s/it]"
     ]
    },
    {
     "name": "stdout",
     "output_type": "stream",
     "text": [
      "Epoch: 372 - train_elbo: -121.3694 train_logpx: -116.1760 train_tvo_log_evidence: -116.2217\n"
     ]
    },
    {
     "name": "stderr",
     "output_type": "stream",
     "text": [
      "\r",
      "  7%|█████▋                                                                       | 373/5000 [06:43<1:31:02,  1.18s/it]"
     ]
    },
    {
     "name": "stdout",
     "output_type": "stream",
     "text": [
      "Epoch: 373 - train_elbo: -121.2627 train_logpx: -116.0974 train_tvo_log_evidence: -116.1435\n"
     ]
    },
    {
     "name": "stderr",
     "output_type": "stream",
     "text": [
      "\r",
      "  7%|█████▊                                                                       | 374/5000 [06:44<1:25:31,  1.11s/it]"
     ]
    },
    {
     "name": "stdout",
     "output_type": "stream",
     "text": [
      "Epoch: 374 - train_elbo: -121.2497 train_logpx: -115.9751 train_tvo_log_evidence: -116.0216\n"
     ]
    },
    {
     "name": "stderr",
     "output_type": "stream",
     "text": [
      "\r",
      "  8%|█████▊                                                                       | 375/5000 [06:45<1:21:24,  1.06s/it]"
     ]
    },
    {
     "name": "stdout",
     "output_type": "stream",
     "text": [
      "Epoch: 375 - train_elbo: -121.1905 train_logpx: -116.0133 train_tvo_log_evidence: -116.0592\n"
     ]
    },
    {
     "name": "stderr",
     "output_type": "stream",
     "text": [
      "\r",
      "  8%|█████▊                                                                       | 376/5000 [06:46<1:21:12,  1.05s/it]"
     ]
    },
    {
     "name": "stdout",
     "output_type": "stream",
     "text": [
      "Epoch: 376 - train_elbo: -121.1055 train_logpx: -116.0329 train_tvo_log_evidence: -116.0777\n"
     ]
    },
    {
     "name": "stderr",
     "output_type": "stream",
     "text": [
      "\r",
      "  8%|█████▊                                                                       | 377/5000 [06:47<1:18:23,  1.02s/it]"
     ]
    },
    {
     "name": "stdout",
     "output_type": "stream",
     "text": [
      "Epoch: 377 - train_elbo: -121.0004 train_logpx: -115.8845 train_tvo_log_evidence: -115.9300\n"
     ]
    },
    {
     "name": "stderr",
     "output_type": "stream",
     "text": [
      "\r",
      "  8%|█████▊                                                                       | 378/5000 [06:48<1:16:09,  1.01it/s]"
     ]
    },
    {
     "name": "stdout",
     "output_type": "stream",
     "text": [
      "Epoch: 378 - train_elbo: -120.9622 train_logpx: -115.8718 train_tvo_log_evidence: -115.9172\n"
     ]
    },
    {
     "name": "stderr",
     "output_type": "stream",
     "text": [
      "\r",
      "  8%|█████▊                                                                       | 379/5000 [06:49<1:14:17,  1.04it/s]"
     ]
    },
    {
     "name": "stdout",
     "output_type": "stream",
     "text": [
      "Epoch: 379 - train_elbo: -120.7178 train_logpx: -115.7683 train_tvo_log_evidence: -115.8124\n"
     ]
    },
    {
     "name": "stderr",
     "output_type": "stream",
     "text": [
      "\r",
      "  8%|█████▊                                                                       | 380/5000 [06:50<1:13:33,  1.05it/s]"
     ]
    },
    {
     "name": "stdout",
     "output_type": "stream",
     "text": [
      "==================================\n",
      "K=6 points=tensor([0.0000, 0.0765, 0.0805, 0.0914, 0.1268, 1.0000], device='cuda:0')\n",
      "==================================\n",
      "Epoch: 380 - train_elbo: -120.4507 train_logpx: -115.5812 train_tvo_log_evidence: -115.6249\n"
     ]
    },
    {
     "name": "stderr",
     "output_type": "stream",
     "text": [
      "\r",
      "  8%|█████▊                                                                       | 381/5000 [06:53<2:01:00,  1.57s/it]"
     ]
    },
    {
     "name": "stdout",
     "output_type": "stream",
     "text": [
      "Epoch: 381 - train_elbo: -120.5968 train_logpx: -115.7072 train_tvo_log_evidence: -115.7505\n"
     ]
    },
    {
     "name": "stderr",
     "output_type": "stream",
     "text": [
      "\r",
      "  8%|█████▉                                                                       | 382/5000 [06:54<1:46:01,  1.38s/it]"
     ]
    },
    {
     "name": "stdout",
     "output_type": "stream",
     "text": [
      "Epoch: 382 - train_elbo: -120.4913 train_logpx: -115.6283 train_tvo_log_evidence: -115.6716\n"
     ]
    },
    {
     "name": "stderr",
     "output_type": "stream",
     "text": [
      "\r",
      "  8%|█████▉                                                                       | 383/5000 [06:54<1:35:28,  1.24s/it]"
     ]
    },
    {
     "name": "stdout",
     "output_type": "stream",
     "text": [
      "Epoch: 383 - train_elbo: -120.3235 train_logpx: -115.5244 train_tvo_log_evidence: -115.5674\n"
     ]
    },
    {
     "name": "stderr",
     "output_type": "stream",
     "text": [
      "\r",
      "  8%|█████▉                                                                       | 384/5000 [06:55<1:29:00,  1.16s/it]"
     ]
    },
    {
     "name": "stdout",
     "output_type": "stream",
     "text": [
      "Epoch: 384 - train_elbo: -120.2635 train_logpx: -115.4652 train_tvo_log_evidence: -115.5081\n"
     ]
    },
    {
     "name": "stderr",
     "output_type": "stream",
     "text": [
      "\r",
      "  8%|█████▉                                                                       | 385/5000 [06:56<1:23:37,  1.09s/it]"
     ]
    },
    {
     "name": "stdout",
     "output_type": "stream",
     "text": [
      "Epoch: 385 - train_elbo: -120.0635 train_logpx: -115.3401 train_tvo_log_evidence: -115.3824\n"
     ]
    },
    {
     "name": "stderr",
     "output_type": "stream",
     "text": [
      "\r",
      "  8%|█████▉                                                                       | 386/5000 [06:57<1:20:36,  1.05s/it]"
     ]
    },
    {
     "name": "stdout",
     "output_type": "stream",
     "text": [
      "Epoch: 386 - train_elbo: -120.0243 train_logpx: -115.3302 train_tvo_log_evidence: -115.3721\n"
     ]
    },
    {
     "name": "stderr",
     "output_type": "stream",
     "text": [
      "\r",
      "  8%|█████▉                                                                       | 387/5000 [06:58<1:16:47,  1.00it/s]"
     ]
    },
    {
     "name": "stdout",
     "output_type": "stream",
     "text": [
      "Epoch: 387 - train_elbo: -120.0209 train_logpx: -115.3177 train_tvo_log_evidence: -115.3602\n"
     ]
    },
    {
     "name": "stderr",
     "output_type": "stream",
     "text": [
      "\r",
      "  8%|█████▉                                                                       | 388/5000 [06:59<1:16:34,  1.00it/s]"
     ]
    },
    {
     "name": "stdout",
     "output_type": "stream",
     "text": [
      "Epoch: 388 - train_elbo: -119.9521 train_logpx: -115.2752 train_tvo_log_evidence: -115.3168\n"
     ]
    },
    {
     "name": "stderr",
     "output_type": "stream",
     "text": [
      "\r",
      "  8%|█████▉                                                                       | 389/5000 [07:00<1:15:26,  1.02it/s]"
     ]
    },
    {
     "name": "stdout",
     "output_type": "stream",
     "text": [
      "Epoch: 389 - train_elbo: -119.9147 train_logpx: -115.1876 train_tvo_log_evidence: -115.2296\n"
     ]
    },
    {
     "name": "stderr",
     "output_type": "stream",
     "text": [
      "\r",
      "  8%|██████                                                                       | 390/5000 [07:01<1:15:13,  1.02it/s]"
     ]
    },
    {
     "name": "stdout",
     "output_type": "stream",
     "text": [
      "estimated [epsilon lengthscale noisevar] [0.9        5.         0.32066772]\n",
      "==================================\n",
      "K=6 points=tensor([0.0000, 0.1267, 0.2647, 0.2918, 0.3417, 1.0000], device='cuda:0')\n",
      "==================================\n",
      "Epoch: 390 - train_elbo: -119.9053 train_logpx: -115.0387 train_tvo_log_evidence: -115.0817\n"
     ]
    },
    {
     "name": "stderr",
     "output_type": "stream",
     "text": [
      "\r",
      "  8%|██████                                                                       | 391/5000 [07:03<1:45:35,  1.37s/it]"
     ]
    },
    {
     "name": "stdout",
     "output_type": "stream",
     "text": [
      "Epoch: 391 - train_elbo: -119.9050 train_logpx: -114.9364 train_tvo_log_evidence: -114.9793\n"
     ]
    },
    {
     "name": "stderr",
     "output_type": "stream",
     "text": [
      "\r",
      "  8%|██████                                                                       | 392/5000 [07:04<1:34:23,  1.23s/it]"
     ]
    },
    {
     "name": "stdout",
     "output_type": "stream",
     "text": [
      "Epoch: 392 - train_elbo: -119.8447 train_logpx: -114.7522 train_tvo_log_evidence: -114.7961\n"
     ]
    },
    {
     "name": "stderr",
     "output_type": "stream",
     "text": [
      "\r",
      "  8%|██████                                                                       | 393/5000 [07:05<1:30:34,  1.18s/it]"
     ]
    },
    {
     "name": "stdout",
     "output_type": "stream",
     "text": [
      "Epoch: 393 - train_elbo: -119.7226 train_logpx: -114.7387 train_tvo_log_evidence: -114.7819\n"
     ]
    },
    {
     "name": "stderr",
     "output_type": "stream",
     "text": [
      "\r",
      "  8%|██████                                                                       | 394/5000 [07:06<1:26:03,  1.12s/it]"
     ]
    },
    {
     "name": "stdout",
     "output_type": "stream",
     "text": [
      "Epoch: 394 - train_elbo: -119.7138 train_logpx: -114.7438 train_tvo_log_evidence: -114.7871\n"
     ]
    },
    {
     "name": "stderr",
     "output_type": "stream",
     "text": [
      "\r",
      "  8%|██████                                                                       | 395/5000 [07:07<1:23:45,  1.09s/it]"
     ]
    },
    {
     "name": "stdout",
     "output_type": "stream",
     "text": [
      "Epoch: 395 - train_elbo: -119.6183 train_logpx: -114.5343 train_tvo_log_evidence: -114.5785\n"
     ]
    },
    {
     "name": "stderr",
     "output_type": "stream",
     "text": [
      "\r",
      "  8%|██████                                                                       | 396/5000 [07:08<1:20:32,  1.05s/it]"
     ]
    },
    {
     "name": "stdout",
     "output_type": "stream",
     "text": [
      "Epoch: 396 - train_elbo: -119.5492 train_logpx: -114.4408 train_tvo_log_evidence: -114.4849\n"
     ]
    },
    {
     "name": "stderr",
     "output_type": "stream",
     "text": [
      "\r",
      "  8%|██████                                                                       | 397/5000 [07:09<1:18:49,  1.03s/it]"
     ]
    },
    {
     "name": "stdout",
     "output_type": "stream",
     "text": [
      "Epoch: 397 - train_elbo: -119.6024 train_logpx: -114.4743 train_tvo_log_evidence: -114.5189\n"
     ]
    },
    {
     "name": "stderr",
     "output_type": "stream",
     "text": [
      "\r",
      "  8%|██████▏                                                                      | 398/5000 [07:10<1:16:04,  1.01it/s]"
     ]
    },
    {
     "name": "stdout",
     "output_type": "stream",
     "text": [
      "Epoch: 398 - train_elbo: -119.5313 train_logpx: -114.3910 train_tvo_log_evidence: -114.4355\n"
     ]
    },
    {
     "name": "stderr",
     "output_type": "stream",
     "text": [
      "\r",
      "  8%|██████▏                                                                      | 399/5000 [07:11<1:13:29,  1.04it/s]"
     ]
    },
    {
     "name": "stdout",
     "output_type": "stream",
     "text": [
      "Epoch: 399 - train_elbo: -119.4876 train_logpx: -114.4314 train_tvo_log_evidence: -114.4755\n"
     ]
    },
    {
     "name": "stderr",
     "output_type": "stream",
     "text": [
      "\r",
      "  8%|██████▏                                                                      | 400/5000 [07:12<1:13:04,  1.05it/s]"
     ]
    },
    {
     "name": "stdout",
     "output_type": "stream",
     "text": [
      "==================================\n",
      "K=6 points=tensor([0.0000, 0.0664, 0.0949, 0.1110, 0.1226, 1.0000], device='cuda:0')\n",
      "==================================\n",
      "args.schedule_update_frequency= 11\n",
      "Epoch: 400 - train_elbo: -119.4127 train_logpx: -114.3789 train_tvo_log_evidence: -114.4233\n",
      "Epoch: 400 - test_logpx: -113.0664 test_kl: 6.5707\n"
     ]
    },
    {
     "name": "stderr",
     "output_type": "stream",
     "text": [
      "\r",
      "  8%|██████▏                                                                      | 401/5000 [07:23<4:58:56,  3.90s/it]"
     ]
    },
    {
     "name": "stdout",
     "output_type": "stream",
     "text": [
      "Epoch: 401 - train_elbo: -119.2960 train_logpx: -114.3276 train_tvo_log_evidence: -114.3721\n"
     ]
    },
    {
     "name": "stderr",
     "output_type": "stream",
     "text": [
      "\r",
      "  8%|██████▏                                                                      | 402/5000 [07:24<3:50:29,  3.01s/it]"
     ]
    },
    {
     "name": "stdout",
     "output_type": "stream",
     "text": [
      "Epoch: 402 - train_elbo: -119.2682 train_logpx: -114.3292 train_tvo_log_evidence: -114.3735\n"
     ]
    },
    {
     "name": "stderr",
     "output_type": "stream",
     "text": [
      "\r",
      "  8%|██████▏                                                                      | 403/5000 [07:25<3:01:23,  2.37s/it]"
     ]
    },
    {
     "name": "stdout",
     "output_type": "stream",
     "text": [
      "Epoch: 403 - train_elbo: -119.2903 train_logpx: -114.3083 train_tvo_log_evidence: -114.3527\n"
     ]
    },
    {
     "name": "stderr",
     "output_type": "stream",
     "text": [
      "\r",
      "  8%|██████▏                                                                      | 404/5000 [07:25<2:27:08,  1.92s/it]"
     ]
    },
    {
     "name": "stdout",
     "output_type": "stream",
     "text": [
      "Epoch: 404 - train_elbo: -119.3081 train_logpx: -114.3064 train_tvo_log_evidence: -114.3506\n"
     ]
    },
    {
     "name": "stderr",
     "output_type": "stream",
     "text": [
      "\r",
      "  8%|██████▏                                                                      | 405/5000 [07:26<2:04:40,  1.63s/it]"
     ]
    },
    {
     "name": "stdout",
     "output_type": "stream",
     "text": [
      "Epoch: 405 - train_elbo: -119.2276 train_logpx: -114.2338 train_tvo_log_evidence: -114.2785\n"
     ]
    },
    {
     "name": "stderr",
     "output_type": "stream",
     "text": [
      "\r",
      "  8%|██████▎                                                                      | 406/5000 [07:27<1:48:45,  1.42s/it]"
     ]
    },
    {
     "name": "stdout",
     "output_type": "stream",
     "text": [
      "Epoch: 406 - train_elbo: -118.9677 train_logpx: -114.1508 train_tvo_log_evidence: -114.1940\n"
     ]
    },
    {
     "name": "stderr",
     "output_type": "stream",
     "text": [
      "\r",
      "  8%|██████▎                                                                      | 407/5000 [07:28<1:40:31,  1.31s/it]"
     ]
    },
    {
     "name": "stdout",
     "output_type": "stream",
     "text": [
      "==================================\n",
      "K=6 points=tensor([0.0000, 0.0573, 0.0786, 0.0946, 0.3981, 1.0000], device='cuda:0')\n",
      "==================================\n",
      "Epoch: 407 - train_elbo: -118.9578 train_logpx: -114.1448 train_tvo_log_evidence: -114.1878\n"
     ]
    },
    {
     "name": "stderr",
     "output_type": "stream",
     "text": [
      "\r",
      "  8%|██████▎                                                                      | 408/5000 [07:31<2:13:28,  1.74s/it]"
     ]
    },
    {
     "name": "stdout",
     "output_type": "stream",
     "text": [
      "Epoch: 408 - train_elbo: -118.8848 train_logpx: -113.9046 train_tvo_log_evidence: -113.9485\n"
     ]
    },
    {
     "name": "stderr",
     "output_type": "stream",
     "text": [
      "\r",
      "  8%|██████▎                                                                      | 409/5000 [07:32<1:56:12,  1.52s/it]"
     ]
    },
    {
     "name": "stdout",
     "output_type": "stream",
     "text": [
      "Epoch: 409 - train_elbo: -118.7647 train_logpx: -113.8030 train_tvo_log_evidence: -113.8468\n"
     ]
    },
    {
     "name": "stderr",
     "output_type": "stream",
     "text": [
      "\r",
      "  8%|██████▎                                                                      | 410/5000 [07:33<1:42:28,  1.34s/it]"
     ]
    },
    {
     "name": "stdout",
     "output_type": "stream",
     "text": [
      "Epoch: 410 - train_elbo: -118.7141 train_logpx: -113.8414 train_tvo_log_evidence: -113.8846\n"
     ]
    },
    {
     "name": "stderr",
     "output_type": "stream",
     "text": [
      "\r",
      "  8%|██████▎                                                                      | 411/5000 [07:34<1:32:40,  1.21s/it]"
     ]
    },
    {
     "name": "stdout",
     "output_type": "stream",
     "text": [
      "Epoch: 411 - train_elbo: -118.7199 train_logpx: -113.7307 train_tvo_log_evidence: -113.7749\n"
     ]
    },
    {
     "name": "stderr",
     "output_type": "stream",
     "text": [
      "\r",
      "  8%|██████▎                                                                      | 412/5000 [07:35<1:26:27,  1.13s/it]"
     ]
    },
    {
     "name": "stdout",
     "output_type": "stream",
     "text": [
      "Epoch: 412 - train_elbo: -118.7064 train_logpx: -113.6991 train_tvo_log_evidence: -113.7433\n"
     ]
    },
    {
     "name": "stderr",
     "output_type": "stream",
     "text": [
      "\r",
      "  8%|██████▎                                                                      | 413/5000 [07:36<1:21:41,  1.07s/it]"
     ]
    },
    {
     "name": "stdout",
     "output_type": "stream",
     "text": [
      "Epoch: 413 - train_elbo: -118.6078 train_logpx: -113.6199 train_tvo_log_evidence: -113.6636\n"
     ]
    },
    {
     "name": "stderr",
     "output_type": "stream",
     "text": [
      "\r",
      "  8%|██████▍                                                                      | 414/5000 [07:37<1:17:16,  1.01s/it]"
     ]
    },
    {
     "name": "stdout",
     "output_type": "stream",
     "text": [
      "Epoch: 414 - train_elbo: -118.5211 train_logpx: -113.4811 train_tvo_log_evidence: -113.5255\n"
     ]
    },
    {
     "name": "stderr",
     "output_type": "stream",
     "text": [
      "\r",
      "  8%|██████▍                                                                      | 415/5000 [07:38<1:16:09,  1.00it/s]"
     ]
    },
    {
     "name": "stdout",
     "output_type": "stream",
     "text": [
      "Epoch: 415 - train_elbo: -118.4496 train_logpx: -113.4277 train_tvo_log_evidence: -113.4719\n"
     ]
    },
    {
     "name": "stderr",
     "output_type": "stream",
     "text": [
      "\r",
      "  8%|██████▍                                                                      | 416/5000 [07:39<1:17:30,  1.01s/it]"
     ]
    },
    {
     "name": "stdout",
     "output_type": "stream",
     "text": [
      "Epoch: 416 - train_elbo: -118.4164 train_logpx: -113.3644 train_tvo_log_evidence: -113.4089\n"
     ]
    },
    {
     "name": "stderr",
     "output_type": "stream",
     "text": [
      "\r",
      "  8%|██████▍                                                                      | 417/5000 [07:40<1:16:00,  1.01it/s]"
     ]
    },
    {
     "name": "stdout",
     "output_type": "stream",
     "text": [
      "Epoch: 417 - train_elbo: -118.5778 train_logpx: -113.3811 train_tvo_log_evidence: -113.4261\n"
     ]
    },
    {
     "name": "stderr",
     "output_type": "stream",
     "text": [
      "\r",
      "  8%|██████▍                                                                      | 418/5000 [07:41<1:13:46,  1.04it/s]"
     ]
    },
    {
     "name": "stdout",
     "output_type": "stream",
     "text": [
      "==================================\n",
      "K=6 points=tensor([0.0000, 0.0630, 0.0794, 0.0859, 0.3077, 1.0000], device='cuda:0')\n",
      "==================================\n",
      "Epoch: 418 - train_elbo: -118.4324 train_logpx: -113.2779 train_tvo_log_evidence: -113.3228\n"
     ]
    },
    {
     "name": "stderr",
     "output_type": "stream",
     "text": [
      "\r",
      "  8%|██████▍                                                                      | 419/5000 [07:43<1:54:02,  1.49s/it]"
     ]
    },
    {
     "name": "stdout",
     "output_type": "stream",
     "text": [
      "Epoch: 419 - train_elbo: -118.6002 train_logpx: -113.2373 train_tvo_log_evidence: -113.2836\n"
     ]
    },
    {
     "name": "stderr",
     "output_type": "stream",
     "text": [
      "\r",
      "  8%|██████▍                                                                      | 420/5000 [07:44<1:41:51,  1.33s/it]"
     ]
    },
    {
     "name": "stdout",
     "output_type": "stream",
     "text": [
      "Epoch: 420 - train_elbo: -118.5039 train_logpx: -113.1778 train_tvo_log_evidence: -113.2240\n"
     ]
    },
    {
     "name": "stderr",
     "output_type": "stream",
     "text": [
      "\r",
      "  8%|██████▍                                                                      | 421/5000 [07:45<1:33:47,  1.23s/it]"
     ]
    },
    {
     "name": "stdout",
     "output_type": "stream",
     "text": [
      "Epoch: 421 - train_elbo: -118.3502 train_logpx: -113.1005 train_tvo_log_evidence: -113.1464\n"
     ]
    },
    {
     "name": "stderr",
     "output_type": "stream",
     "text": [
      "\r",
      "  8%|██████▍                                                                      | 422/5000 [07:46<1:28:35,  1.16s/it]"
     ]
    },
    {
     "name": "stdout",
     "output_type": "stream",
     "text": [
      "Epoch: 422 - train_elbo: -118.3527 train_logpx: -113.0270 train_tvo_log_evidence: -113.0732\n"
     ]
    },
    {
     "name": "stderr",
     "output_type": "stream",
     "text": [
      "\r",
      "  8%|██████▌                                                                      | 423/5000 [07:47<1:23:01,  1.09s/it]"
     ]
    },
    {
     "name": "stdout",
     "output_type": "stream",
     "text": [
      "Epoch: 423 - train_elbo: -118.5245 train_logpx: -113.1331 train_tvo_log_evidence: -113.1794\n"
     ]
    },
    {
     "name": "stderr",
     "output_type": "stream",
     "text": [
      "\r",
      "  8%|██████▌                                                                      | 424/5000 [07:48<1:19:04,  1.04s/it]"
     ]
    },
    {
     "name": "stdout",
     "output_type": "stream",
     "text": [
      "Epoch: 424 - train_elbo: -118.4932 train_logpx: -113.0508 train_tvo_log_evidence: -113.0976\n"
     ]
    },
    {
     "name": "stderr",
     "output_type": "stream",
     "text": [
      "\r",
      "  8%|██████▌                                                                      | 425/5000 [07:49<1:18:10,  1.03s/it]"
     ]
    },
    {
     "name": "stdout",
     "output_type": "stream",
     "text": [
      "Epoch: 425 - train_elbo: -118.1767 train_logpx: -112.8044 train_tvo_log_evidence: -112.8510\n"
     ]
    },
    {
     "name": "stderr",
     "output_type": "stream",
     "text": [
      "\r",
      "  9%|██████▌                                                                      | 426/5000 [07:50<1:15:21,  1.01it/s]"
     ]
    },
    {
     "name": "stdout",
     "output_type": "stream",
     "text": [
      "Epoch: 426 - train_elbo: -118.1443 train_logpx: -112.7603 train_tvo_log_evidence: -112.8067\n"
     ]
    },
    {
     "name": "stderr",
     "output_type": "stream",
     "text": [
      "\r",
      "  9%|██████▌                                                                      | 427/5000 [07:51<1:15:18,  1.01it/s]"
     ]
    },
    {
     "name": "stdout",
     "output_type": "stream",
     "text": [
      "Epoch: 427 - train_elbo: -118.1593 train_logpx: -112.7557 train_tvo_log_evidence: -112.8021\n"
     ]
    },
    {
     "name": "stderr",
     "output_type": "stream",
     "text": [
      "\r",
      "  9%|██████▌                                                                      | 428/5000 [07:52<1:14:20,  1.02it/s]"
     ]
    },
    {
     "name": "stdout",
     "output_type": "stream",
     "text": [
      "Epoch: 428 - train_elbo: -118.1573 train_logpx: -112.7492 train_tvo_log_evidence: -112.7957\n"
     ]
    },
    {
     "name": "stderr",
     "output_type": "stream",
     "text": [
      "\r",
      "  9%|██████▌                                                                      | 429/5000 [07:53<1:13:51,  1.03it/s]"
     ]
    },
    {
     "name": "stdout",
     "output_type": "stream",
     "text": [
      "==================================\n",
      "K=6 points=tensor([0.0000, 0.0662, 0.0946, 0.1106, 0.1243, 1.0000], device='cuda:0')\n",
      "==================================\n",
      "Epoch: 429 - train_elbo: -117.9920 train_logpx: -112.7046 train_tvo_log_evidence: -112.7508\n"
     ]
    },
    {
     "name": "stderr",
     "output_type": "stream",
     "text": [
      "\r",
      "  9%|██████▌                                                                      | 430/5000 [07:56<1:59:19,  1.57s/it]"
     ]
    },
    {
     "name": "stdout",
     "output_type": "stream",
     "text": [
      "Epoch: 430 - train_elbo: -117.9552 train_logpx: -112.7911 train_tvo_log_evidence: -112.8374\n"
     ]
    },
    {
     "name": "stderr",
     "output_type": "stream",
     "text": [
      "\r",
      "  9%|██████▋                                                                      | 431/5000 [07:57<1:44:39,  1.37s/it]"
     ]
    },
    {
     "name": "stdout",
     "output_type": "stream",
     "text": [
      "Epoch: 431 - train_elbo: -118.1425 train_logpx: -112.7974 train_tvo_log_evidence: -112.8448\n"
     ]
    },
    {
     "name": "stderr",
     "output_type": "stream",
     "text": [
      "\r",
      "  9%|██████▋                                                                      | 432/5000 [07:58<1:35:10,  1.25s/it]"
     ]
    },
    {
     "name": "stdout",
     "output_type": "stream",
     "text": [
      "Epoch: 432 - train_elbo: -117.9981 train_logpx: -112.6923 train_tvo_log_evidence: -112.7392\n"
     ]
    },
    {
     "name": "stderr",
     "output_type": "stream",
     "text": [
      "\r",
      "  9%|██████▋                                                                      | 433/5000 [07:59<1:26:51,  1.14s/it]"
     ]
    },
    {
     "name": "stdout",
     "output_type": "stream",
     "text": [
      "Epoch: 433 - train_elbo: -117.8036 train_logpx: -112.6766 train_tvo_log_evidence: -112.7224\n"
     ]
    },
    {
     "name": "stderr",
     "output_type": "stream",
     "text": [
      "\r",
      "  9%|██████▋                                                                      | 434/5000 [08:00<1:21:42,  1.07s/it]"
     ]
    },
    {
     "name": "stdout",
     "output_type": "stream",
     "text": [
      "Epoch: 434 - train_elbo: -117.6482 train_logpx: -112.5587 train_tvo_log_evidence: -112.6040\n"
     ]
    },
    {
     "name": "stderr",
     "output_type": "stream",
     "text": [
      "\r",
      "  9%|██████▋                                                                      | 435/5000 [08:01<1:18:33,  1.03s/it]"
     ]
    },
    {
     "name": "stdout",
     "output_type": "stream",
     "text": [
      "Epoch: 435 - train_elbo: -117.6706 train_logpx: -112.5427 train_tvo_log_evidence: -112.5883\n"
     ]
    },
    {
     "name": "stderr",
     "output_type": "stream",
     "text": [
      "\r",
      "  9%|██████▋                                                                      | 436/5000 [08:01<1:15:21,  1.01it/s]"
     ]
    },
    {
     "name": "stdout",
     "output_type": "stream",
     "text": [
      "Epoch: 436 - train_elbo: -117.6838 train_logpx: -112.5552 train_tvo_log_evidence: -112.6005\n"
     ]
    },
    {
     "name": "stderr",
     "output_type": "stream",
     "text": [
      "\r",
      "  9%|██████▋                                                                      | 437/5000 [08:02<1:14:33,  1.02it/s]"
     ]
    },
    {
     "name": "stdout",
     "output_type": "stream",
     "text": [
      "Epoch: 437 - train_elbo: -117.3491 train_logpx: -112.4521 train_tvo_log_evidence: -112.4966\n"
     ]
    },
    {
     "name": "stderr",
     "output_type": "stream",
     "text": [
      "\r",
      "  9%|██████▋                                                                      | 438/5000 [08:03<1:13:42,  1.03it/s]"
     ]
    },
    {
     "name": "stdout",
     "output_type": "stream",
     "text": [
      "Epoch: 438 - train_elbo: -117.2627 train_logpx: -112.3050 train_tvo_log_evidence: -112.3494\n"
     ]
    },
    {
     "name": "stderr",
     "output_type": "stream",
     "text": [
      "\r",
      "  9%|██████▊                                                                      | 439/5000 [08:04<1:13:37,  1.03it/s]"
     ]
    },
    {
     "name": "stdout",
     "output_type": "stream",
     "text": [
      "Epoch: 439 - train_elbo: -117.3676 train_logpx: -112.3326 train_tvo_log_evidence: -112.3774\n"
     ]
    },
    {
     "name": "stderr",
     "output_type": "stream",
     "text": [
      "\r",
      "  9%|██████▊                                                                      | 440/5000 [08:05<1:15:52,  1.00it/s]"
     ]
    },
    {
     "name": "stdout",
     "output_type": "stream",
     "text": [
      "estimated [epsilon lengthscale noisevar] [0.9        5.         0.29793685]\n",
      "==================================\n",
      "K=6 points=tensor([0.0000, 0.1271, 0.2654, 0.2925, 0.3426, 1.0000], device='cuda:0')\n",
      "==================================\n",
      "Epoch: 440 - train_elbo: -117.4782 train_logpx: -112.3423 train_tvo_log_evidence: -112.3879\n"
     ]
    },
    {
     "name": "stderr",
     "output_type": "stream",
     "text": [
      "\r",
      "  9%|██████▊                                                                      | 441/5000 [08:08<1:44:25,  1.37s/it]"
     ]
    },
    {
     "name": "stdout",
     "output_type": "stream",
     "text": [
      "Epoch: 441 - train_elbo: -117.4898 train_logpx: -112.2163 train_tvo_log_evidence: -112.2624\n"
     ]
    },
    {
     "name": "stderr",
     "output_type": "stream",
     "text": [
      "\r",
      "  9%|██████▊                                                                      | 442/5000 [08:09<1:34:37,  1.25s/it]"
     ]
    },
    {
     "name": "stdout",
     "output_type": "stream",
     "text": [
      "Epoch: 442 - train_elbo: -117.5891 train_logpx: -112.1952 train_tvo_log_evidence: -112.2415\n"
     ]
    },
    {
     "name": "stderr",
     "output_type": "stream",
     "text": [
      "\r",
      "  9%|██████▊                                                                      | 443/5000 [08:09<1:26:47,  1.14s/it]"
     ]
    },
    {
     "name": "stdout",
     "output_type": "stream",
     "text": [
      "Epoch: 443 - train_elbo: -117.2137 train_logpx: -111.9226 train_tvo_log_evidence: -111.9686\n"
     ]
    },
    {
     "name": "stderr",
     "output_type": "stream",
     "text": [
      "\r",
      "  9%|██████▊                                                                      | 444/5000 [08:10<1:23:09,  1.10s/it]"
     ]
    },
    {
     "name": "stdout",
     "output_type": "stream",
     "text": [
      "Epoch: 444 - train_elbo: -117.2497 train_logpx: -111.9370 train_tvo_log_evidence: -111.9832\n"
     ]
    },
    {
     "name": "stderr",
     "output_type": "stream",
     "text": [
      "\r",
      "  9%|██████▊                                                                      | 445/5000 [08:11<1:21:25,  1.07s/it]"
     ]
    },
    {
     "name": "stdout",
     "output_type": "stream",
     "text": [
      "Epoch: 445 - train_elbo: -117.3574 train_logpx: -111.9026 train_tvo_log_evidence: -111.9496\n"
     ]
    },
    {
     "name": "stderr",
     "output_type": "stream",
     "text": [
      "\r",
      "  9%|██████▊                                                                      | 446/5000 [08:12<1:18:14,  1.03s/it]"
     ]
    },
    {
     "name": "stdout",
     "output_type": "stream",
     "text": [
      "Epoch: 446 - train_elbo: -117.1860 train_logpx: -111.8027 train_tvo_log_evidence: -111.8487\n"
     ]
    },
    {
     "name": "stderr",
     "output_type": "stream",
     "text": [
      "\r",
      "  9%|██████▉                                                                      | 447/5000 [08:13<1:15:33,  1.00it/s]"
     ]
    },
    {
     "name": "stdout",
     "output_type": "stream",
     "text": [
      "Epoch: 447 - train_elbo: -117.2529 train_logpx: -111.8227 train_tvo_log_evidence: -111.8698\n"
     ]
    },
    {
     "name": "stderr",
     "output_type": "stream",
     "text": [
      "\r",
      "  9%|██████▉                                                                      | 448/5000 [08:14<1:14:27,  1.02it/s]"
     ]
    },
    {
     "name": "stdout",
     "output_type": "stream",
     "text": [
      "Epoch: 448 - train_elbo: -117.1322 train_logpx: -111.6535 train_tvo_log_evidence: -111.7011\n"
     ]
    },
    {
     "name": "stderr",
     "output_type": "stream",
     "text": [
      "\r",
      "  9%|██████▉                                                                      | 449/5000 [08:15<1:16:19,  1.01s/it]"
     ]
    },
    {
     "name": "stdout",
     "output_type": "stream",
     "text": [
      "Epoch: 449 - train_elbo: -117.1825 train_logpx: -111.7030 train_tvo_log_evidence: -111.7502\n"
     ]
    },
    {
     "name": "stderr",
     "output_type": "stream",
     "text": [
      "\r",
      "  9%|██████▉                                                                      | 450/5000 [08:16<1:14:46,  1.01it/s]"
     ]
    },
    {
     "name": "stdout",
     "output_type": "stream",
     "text": [
      "Epoch: 450 - train_elbo: -117.1254 train_logpx: -111.6060 train_tvo_log_evidence: -111.6536\n"
     ]
    },
    {
     "name": "stderr",
     "output_type": "stream",
     "text": [
      "\r",
      "  9%|██████▉                                                                      | 451/5000 [08:17<1:14:23,  1.02it/s]"
     ]
    },
    {
     "name": "stdout",
     "output_type": "stream",
     "text": [
      "==================================\n",
      "K=6 points=tensor([0.0000, 0.0628, 0.0845, 0.0951, 0.2185, 1.0000], device='cuda:0')\n",
      "==================================\n",
      "Epoch: 451 - train_elbo: -116.9669 train_logpx: -111.4450 train_tvo_log_evidence: -111.4924\n"
     ]
    },
    {
     "name": "stderr",
     "output_type": "stream",
     "text": [
      "\r",
      "  9%|██████▉                                                                      | 452/5000 [08:20<1:58:05,  1.56s/it]"
     ]
    },
    {
     "name": "stdout",
     "output_type": "stream",
     "text": [
      "Epoch: 452 - train_elbo: -117.0773 train_logpx: -111.4996 train_tvo_log_evidence: -111.5474\n"
     ]
    },
    {
     "name": "stderr",
     "output_type": "stream",
     "text": [
      "\r",
      "  9%|██████▉                                                                      | 453/5000 [08:21<1:44:05,  1.37s/it]"
     ]
    },
    {
     "name": "stdout",
     "output_type": "stream",
     "text": [
      "Epoch: 453 - train_elbo: -117.0946 train_logpx: -111.5031 train_tvo_log_evidence: -111.5509\n"
     ]
    },
    {
     "name": "stderr",
     "output_type": "stream",
     "text": [
      "\r",
      "  9%|██████▉                                                                      | 454/5000 [08:22<1:34:21,  1.25s/it]"
     ]
    },
    {
     "name": "stdout",
     "output_type": "stream",
     "text": [
      "Epoch: 454 - train_elbo: -116.9184 train_logpx: -111.3907 train_tvo_log_evidence: -111.4382\n"
     ]
    },
    {
     "name": "stderr",
     "output_type": "stream",
     "text": [
      "\r",
      "  9%|███████                                                                      | 455/5000 [08:23<1:27:42,  1.16s/it]"
     ]
    },
    {
     "name": "stdout",
     "output_type": "stream",
     "text": [
      "Epoch: 455 - train_elbo: -116.9613 train_logpx: -111.3303 train_tvo_log_evidence: -111.3783\n"
     ]
    },
    {
     "name": "stderr",
     "output_type": "stream",
     "text": [
      "\r",
      "  9%|███████                                                                      | 456/5000 [08:24<1:22:04,  1.08s/it]"
     ]
    },
    {
     "name": "stdout",
     "output_type": "stream",
     "text": [
      "Epoch: 456 - train_elbo: -116.8035 train_logpx: -111.2204 train_tvo_log_evidence: -111.2680\n"
     ]
    },
    {
     "name": "stderr",
     "output_type": "stream",
     "text": [
      "\r",
      "  9%|███████                                                                      | 457/5000 [08:25<1:19:20,  1.05s/it]"
     ]
    },
    {
     "name": "stdout",
     "output_type": "stream",
     "text": [
      "Epoch: 457 - train_elbo: -116.8850 train_logpx: -111.3643 train_tvo_log_evidence: -111.4119\n"
     ]
    },
    {
     "name": "stderr",
     "output_type": "stream",
     "text": [
      "\r",
      "  9%|███████                                                                      | 458/5000 [08:26<1:18:06,  1.03s/it]"
     ]
    },
    {
     "name": "stdout",
     "output_type": "stream",
     "text": [
      "Epoch: 458 - train_elbo: -116.8321 train_logpx: -111.3282 train_tvo_log_evidence: -111.3759\n"
     ]
    },
    {
     "name": "stderr",
     "output_type": "stream",
     "text": [
      "\r",
      "  9%|███████                                                                      | 459/5000 [08:27<1:15:42,  1.00s/it]"
     ]
    },
    {
     "name": "stdout",
     "output_type": "stream",
     "text": [
      "Epoch: 459 - train_elbo: -117.0158 train_logpx: -111.3089 train_tvo_log_evidence: -111.3575\n"
     ]
    },
    {
     "name": "stderr",
     "output_type": "stream",
     "text": [
      "\r",
      "  9%|███████                                                                      | 460/5000 [08:28<1:15:15,  1.01it/s]"
     ]
    },
    {
     "name": "stdout",
     "output_type": "stream",
     "text": [
      "Epoch: 460 - train_elbo: -116.6549 train_logpx: -111.0252 train_tvo_log_evidence: -111.0729\n"
     ]
    },
    {
     "name": "stderr",
     "output_type": "stream",
     "text": [
      "\r",
      "  9%|███████                                                                      | 461/5000 [08:29<1:14:26,  1.02it/s]"
     ]
    },
    {
     "name": "stdout",
     "output_type": "stream",
     "text": [
      "Epoch: 461 - train_elbo: -116.6999 train_logpx: -111.0818 train_tvo_log_evidence: -111.1298\n"
     ]
    },
    {
     "name": "stderr",
     "output_type": "stream",
     "text": [
      "\r",
      "  9%|███████                                                                      | 462/5000 [08:30<1:13:29,  1.03it/s]"
     ]
    },
    {
     "name": "stdout",
     "output_type": "stream",
     "text": [
      "==================================\n",
      "K=6 points=tensor([0.0000, 0.0627, 0.0664, 0.0949, 0.4040, 1.0000], device='cuda:0')\n",
      "==================================\n",
      "Epoch: 462 - train_elbo: -116.6805 train_logpx: -111.0179 train_tvo_log_evidence: -111.0658\n"
     ]
    },
    {
     "name": "stderr",
     "output_type": "stream",
     "text": [
      "\r",
      "  9%|███████▏                                                                     | 463/5000 [08:32<1:49:41,  1.45s/it]"
     ]
    },
    {
     "name": "stdout",
     "output_type": "stream",
     "text": [
      "Epoch: 463 - train_elbo: -116.4072 train_logpx: -111.0364 train_tvo_log_evidence: -111.0834\n"
     ]
    },
    {
     "name": "stderr",
     "output_type": "stream",
     "text": [
      "\r",
      "  9%|███████▏                                                                     | 464/5000 [08:33<1:40:52,  1.33s/it]"
     ]
    },
    {
     "name": "stdout",
     "output_type": "stream",
     "text": [
      "Epoch: 464 - train_elbo: -116.2888 train_logpx: -110.9883 train_tvo_log_evidence: -111.0355\n"
     ]
    },
    {
     "name": "stderr",
     "output_type": "stream",
     "text": [
      "\r",
      "  9%|███████▏                                                                     | 465/5000 [08:34<1:31:17,  1.21s/it]"
     ]
    },
    {
     "name": "stdout",
     "output_type": "stream",
     "text": [
      "Epoch: 465 - train_elbo: -116.1012 train_logpx: -110.7390 train_tvo_log_evidence: -110.7858\n"
     ]
    },
    {
     "name": "stderr",
     "output_type": "stream",
     "text": [
      "\r",
      "  9%|███████▏                                                                     | 466/5000 [08:35<1:25:03,  1.13s/it]"
     ]
    },
    {
     "name": "stdout",
     "output_type": "stream",
     "text": [
      "Epoch: 466 - train_elbo: -116.2765 train_logpx: -110.8038 train_tvo_log_evidence: -110.8513\n"
     ]
    },
    {
     "name": "stderr",
     "output_type": "stream",
     "text": [
      "\r",
      "  9%|███████▏                                                                     | 467/5000 [08:36<1:20:35,  1.07s/it]"
     ]
    },
    {
     "name": "stdout",
     "output_type": "stream",
     "text": [
      "Epoch: 467 - train_elbo: -116.2287 train_logpx: -110.8629 train_tvo_log_evidence: -110.9099\n"
     ]
    },
    {
     "name": "stderr",
     "output_type": "stream",
     "text": [
      "\r",
      "  9%|███████▏                                                                     | 468/5000 [08:37<1:18:30,  1.04s/it]"
     ]
    },
    {
     "name": "stdout",
     "output_type": "stream",
     "text": [
      "Epoch: 468 - train_elbo: -116.0871 train_logpx: -110.7903 train_tvo_log_evidence: -110.8370\n"
     ]
    },
    {
     "name": "stderr",
     "output_type": "stream",
     "text": [
      "\r",
      "  9%|███████▏                                                                     | 469/5000 [08:38<1:16:09,  1.01s/it]"
     ]
    },
    {
     "name": "stdout",
     "output_type": "stream",
     "text": [
      "Epoch: 469 - train_elbo: -115.9991 train_logpx: -110.6721 train_tvo_log_evidence: -110.7186\n"
     ]
    },
    {
     "name": "stderr",
     "output_type": "stream",
     "text": [
      "\r",
      "  9%|███████▏                                                                     | 470/5000 [08:39<1:14:46,  1.01it/s]"
     ]
    },
    {
     "name": "stdout",
     "output_type": "stream",
     "text": [
      "Epoch: 470 - train_elbo: -116.0077 train_logpx: -110.6443 train_tvo_log_evidence: -110.6916\n"
     ]
    },
    {
     "name": "stderr",
     "output_type": "stream",
     "text": [
      "\r",
      "  9%|███████▎                                                                     | 471/5000 [08:40<1:14:15,  1.02it/s]"
     ]
    },
    {
     "name": "stdout",
     "output_type": "stream",
     "text": [
      "Epoch: 471 - train_elbo: -116.0697 train_logpx: -110.7086 train_tvo_log_evidence: -110.7558\n"
     ]
    },
    {
     "name": "stderr",
     "output_type": "stream",
     "text": [
      "\r",
      "  9%|███████▎                                                                     | 472/5000 [08:41<1:12:47,  1.04it/s]"
     ]
    },
    {
     "name": "stdout",
     "output_type": "stream",
     "text": [
      "Epoch: 472 - train_elbo: -115.8228 train_logpx: -110.4494 train_tvo_log_evidence: -110.4966\n"
     ]
    },
    {
     "name": "stderr",
     "output_type": "stream",
     "text": [
      "\r",
      "  9%|███████▎                                                                     | 473/5000 [08:42<1:11:07,  1.06it/s]"
     ]
    },
    {
     "name": "stdout",
     "output_type": "stream",
     "text": [
      "==================================\n",
      "K=6 points=tensor([0.0000, 0.0627, 0.0788, 0.0844, 0.3127, 1.0000], device='cuda:0')\n",
      "==================================\n",
      "Epoch: 473 - train_elbo: -115.8094 train_logpx: -110.3482 train_tvo_log_evidence: -110.3957\n"
     ]
    },
    {
     "name": "stderr",
     "output_type": "stream",
     "text": [
      "\r",
      "  9%|███████▎                                                                     | 474/5000 [08:45<1:58:11,  1.57s/it]"
     ]
    },
    {
     "name": "stdout",
     "output_type": "stream",
     "text": [
      "Epoch: 474 - train_elbo: -116.1903 train_logpx: -110.5086 train_tvo_log_evidence: -110.5572\n"
     ]
    },
    {
     "name": "stderr",
     "output_type": "stream",
     "text": [
      "\r",
      " 10%|███████▎                                                                     | 475/5000 [08:46<1:44:47,  1.39s/it]"
     ]
    },
    {
     "name": "stdout",
     "output_type": "stream",
     "text": [
      "Epoch: 475 - train_elbo: -116.0338 train_logpx: -110.4438 train_tvo_log_evidence: -110.4919\n"
     ]
    },
    {
     "name": "stderr",
     "output_type": "stream",
     "text": [
      "\r",
      " 10%|███████▎                                                                     | 476/5000 [08:47<1:34:10,  1.25s/it]"
     ]
    },
    {
     "name": "stdout",
     "output_type": "stream",
     "text": [
      "Epoch: 476 - train_elbo: -115.9500 train_logpx: -110.3998 train_tvo_log_evidence: -110.4481\n"
     ]
    },
    {
     "name": "stderr",
     "output_type": "stream",
     "text": [
      "\r",
      " 10%|███████▎                                                                     | 477/5000 [08:48<1:27:33,  1.16s/it]"
     ]
    },
    {
     "name": "stdout",
     "output_type": "stream",
     "text": [
      "Epoch: 477 - train_elbo: -115.9472 train_logpx: -110.2809 train_tvo_log_evidence: -110.3298\n"
     ]
    },
    {
     "name": "stderr",
     "output_type": "stream",
     "text": [
      "\r",
      " 10%|███████▎                                                                     | 478/5000 [08:48<1:22:21,  1.09s/it]"
     ]
    },
    {
     "name": "stdout",
     "output_type": "stream",
     "text": [
      "Epoch: 478 - train_elbo: -115.9935 train_logpx: -110.3789 train_tvo_log_evidence: -110.4272\n"
     ]
    },
    {
     "name": "stderr",
     "output_type": "stream",
     "text": [
      "\r",
      " 10%|███████▍                                                                     | 479/5000 [08:49<1:18:59,  1.05s/it]"
     ]
    },
    {
     "name": "stdout",
     "output_type": "stream",
     "text": [
      "Epoch: 479 - train_elbo: -115.8913 train_logpx: -110.2293 train_tvo_log_evidence: -110.2784\n"
     ]
    },
    {
     "name": "stderr",
     "output_type": "stream",
     "text": [
      "\r",
      " 10%|███████▍                                                                     | 480/5000 [08:50<1:16:34,  1.02s/it]"
     ]
    },
    {
     "name": "stdout",
     "output_type": "stream",
     "text": [
      "Epoch: 480 - train_elbo: -115.7912 train_logpx: -110.1422 train_tvo_log_evidence: -110.1908\n"
     ]
    },
    {
     "name": "stderr",
     "output_type": "stream",
     "text": [
      "\r",
      " 10%|███████▍                                                                     | 481/5000 [08:51<1:14:54,  1.01it/s]"
     ]
    },
    {
     "name": "stdout",
     "output_type": "stream",
     "text": [
      "Epoch: 481 - train_elbo: -115.8281 train_logpx: -110.1154 train_tvo_log_evidence: -110.1644\n"
     ]
    },
    {
     "name": "stderr",
     "output_type": "stream",
     "text": [
      "\r",
      " 10%|███████▍                                                                     | 482/5000 [08:52<1:14:09,  1.02it/s]"
     ]
    },
    {
     "name": "stdout",
     "output_type": "stream",
     "text": [
      "Epoch: 482 - train_elbo: -115.8414 train_logpx: -110.1634 train_tvo_log_evidence: -110.2123\n"
     ]
    },
    {
     "name": "stderr",
     "output_type": "stream",
     "text": [
      "\r",
      " 10%|███████▍                                                                     | 483/5000 [08:53<1:12:40,  1.04it/s]"
     ]
    },
    {
     "name": "stdout",
     "output_type": "stream",
     "text": [
      "Epoch: 483 - train_elbo: -115.7515 train_logpx: -110.0482 train_tvo_log_evidence: -110.0972\n"
     ]
    },
    {
     "name": "stderr",
     "output_type": "stream",
     "text": [
      "\r",
      " 10%|███████▍                                                                     | 484/5000 [08:54<1:12:49,  1.03it/s]"
     ]
    },
    {
     "name": "stdout",
     "output_type": "stream",
     "text": [
      "==================================\n",
      "K=6 points=tensor([0.0000, 0.0629, 0.0670, 0.1121, 0.3125, 1.0000], device='cuda:0')\n",
      "==================================\n",
      "Epoch: 484 - train_elbo: -115.7639 train_logpx: -109.9777 train_tvo_log_evidence: -110.0274\n"
     ]
    },
    {
     "name": "stderr",
     "output_type": "stream",
     "text": [
      "\r",
      " 10%|███████▍                                                                     | 485/5000 [08:57<1:53:26,  1.51s/it]"
     ]
    },
    {
     "name": "stdout",
     "output_type": "stream",
     "text": [
      "Epoch: 485 - train_elbo: -115.7591 train_logpx: -109.9517 train_tvo_log_evidence: -110.0013\n"
     ]
    },
    {
     "name": "stderr",
     "output_type": "stream",
     "text": [
      "\r",
      " 10%|███████▍                                                                     | 486/5000 [08:58<1:40:56,  1.34s/it]"
     ]
    },
    {
     "name": "stdout",
     "output_type": "stream",
     "text": [
      "Epoch: 486 - train_elbo: -115.6743 train_logpx: -109.9267 train_tvo_log_evidence: -109.9758\n"
     ]
    },
    {
     "name": "stderr",
     "output_type": "stream",
     "text": [
      "\r",
      " 10%|███████▍                                                                     | 487/5000 [08:59<1:32:38,  1.23s/it]"
     ]
    },
    {
     "name": "stdout",
     "output_type": "stream",
     "text": [
      "Epoch: 487 - train_elbo: -115.6882 train_logpx: -109.8771 train_tvo_log_evidence: -109.9263\n"
     ]
    },
    {
     "name": "stderr",
     "output_type": "stream",
     "text": [
      "\r",
      " 10%|███████▌                                                                     | 488/5000 [09:00<1:26:31,  1.15s/it]"
     ]
    },
    {
     "name": "stdout",
     "output_type": "stream",
     "text": [
      "Epoch: 488 - train_elbo: -115.5423 train_logpx: -109.7641 train_tvo_log_evidence: -109.8132\n"
     ]
    },
    {
     "name": "stderr",
     "output_type": "stream",
     "text": [
      "\r",
      " 10%|███████▌                                                                     | 489/5000 [09:01<1:21:32,  1.08s/it]"
     ]
    },
    {
     "name": "stdout",
     "output_type": "stream",
     "text": [
      "Epoch: 489 - train_elbo: -115.5043 train_logpx: -109.7604 train_tvo_log_evidence: -109.8096\n"
     ]
    },
    {
     "name": "stderr",
     "output_type": "stream",
     "text": [
      "\r",
      " 10%|███████▌                                                                     | 490/5000 [09:02<1:17:23,  1.03s/it]"
     ]
    },
    {
     "name": "stdout",
     "output_type": "stream",
     "text": [
      "Epoch: 490 - train_elbo: -115.3568 train_logpx: -109.5988 train_tvo_log_evidence: -109.6478\n"
     ]
    },
    {
     "name": "stderr",
     "output_type": "stream",
     "text": [
      "\r",
      " 10%|███████▌                                                                     | 491/5000 [09:03<1:14:54,  1.00it/s]"
     ]
    },
    {
     "name": "stdout",
     "output_type": "stream",
     "text": [
      "Epoch: 491 - train_elbo: -115.4047 train_logpx: -109.6505 train_tvo_log_evidence: -109.6998\n"
     ]
    },
    {
     "name": "stderr",
     "output_type": "stream",
     "text": [
      "\r",
      " 10%|███████▌                                                                     | 492/5000 [09:04<1:14:40,  1.01it/s]"
     ]
    },
    {
     "name": "stdout",
     "output_type": "stream",
     "text": [
      "Epoch: 492 - train_elbo: -115.5192 train_logpx: -109.6939 train_tvo_log_evidence: -109.7437\n"
     ]
    },
    {
     "name": "stderr",
     "output_type": "stream",
     "text": [
      "\r",
      " 10%|███████▌                                                                     | 493/5000 [09:05<1:13:16,  1.03it/s]"
     ]
    },
    {
     "name": "stdout",
     "output_type": "stream",
     "text": [
      "Epoch: 493 - train_elbo: -115.4155 train_logpx: -109.5238 train_tvo_log_evidence: -109.5736\n"
     ]
    },
    {
     "name": "stderr",
     "output_type": "stream",
     "text": [
      "\r",
      " 10%|███████▌                                                                     | 494/5000 [09:05<1:13:03,  1.03it/s]"
     ]
    },
    {
     "name": "stdout",
     "output_type": "stream",
     "text": [
      "Epoch: 494 - train_elbo: -115.3294 train_logpx: -109.4707 train_tvo_log_evidence: -109.5203\n"
     ]
    },
    {
     "name": "stderr",
     "output_type": "stream",
     "text": [
      "\r",
      " 10%|███████▌                                                                     | 495/5000 [09:06<1:13:03,  1.03it/s]"
     ]
    },
    {
     "name": "stdout",
     "output_type": "stream",
     "text": [
      "==================================\n",
      "K=6 points=tensor([0.0000, 0.0579, 0.0929, 0.1083, 0.2210, 1.0000], device='cuda:0')\n",
      "==================================\n",
      "Epoch: 495 - train_elbo: -115.1457 train_logpx: -109.3731 train_tvo_log_evidence: -109.4225\n"
     ]
    },
    {
     "name": "stderr",
     "output_type": "stream",
     "text": [
      "\r",
      " 10%|███████▋                                                                     | 496/5000 [09:10<2:07:38,  1.70s/it]"
     ]
    },
    {
     "name": "stdout",
     "output_type": "stream",
     "text": [
      "Epoch: 496 - train_elbo: -115.3766 train_logpx: -109.5783 train_tvo_log_evidence: -109.6275\n"
     ]
    },
    {
     "name": "stderr",
     "output_type": "stream",
     "text": [
      "\r",
      " 10%|███████▋                                                                     | 497/5000 [09:11<1:49:27,  1.46s/it]"
     ]
    },
    {
     "name": "stdout",
     "output_type": "stream",
     "text": [
      "Epoch: 497 - train_elbo: -115.4072 train_logpx: -109.4803 train_tvo_log_evidence: -109.5309\n"
     ]
    },
    {
     "name": "stderr",
     "output_type": "stream",
     "text": [
      "\r",
      " 10%|███████▋                                                                     | 498/5000 [09:12<1:39:35,  1.33s/it]"
     ]
    },
    {
     "name": "stdout",
     "output_type": "stream",
     "text": [
      "Epoch: 498 - train_elbo: -115.3576 train_logpx: -109.4686 train_tvo_log_evidence: -109.5191\n"
     ]
    },
    {
     "name": "stderr",
     "output_type": "stream",
     "text": [
      "\r",
      " 10%|███████▋                                                                     | 499/5000 [09:13<1:31:14,  1.22s/it]"
     ]
    },
    {
     "name": "stdout",
     "output_type": "stream",
     "text": [
      "Epoch: 499 - train_elbo: -115.3455 train_logpx: -109.4616 train_tvo_log_evidence: -109.5119\n"
     ]
    },
    {
     "name": "stderr",
     "output_type": "stream",
     "text": [
      "\r",
      " 10%|███████▋                                                                     | 500/5000 [09:14<1:25:05,  1.13s/it]"
     ]
    },
    {
     "name": "stdout",
     "output_type": "stream",
     "text": [
      "Epoch: 500 - train_elbo: -115.1494 train_logpx: -109.2372 train_tvo_log_evidence: -109.2876\n"
     ]
    },
    {
     "name": "stderr",
     "output_type": "stream",
     "text": [
      "\r",
      " 10%|███████▋                                                                     | 501/5000 [09:15<1:19:38,  1.06s/it]"
     ]
    },
    {
     "name": "stdout",
     "output_type": "stream",
     "text": [
      "Epoch: 501 - train_elbo: -115.2754 train_logpx: -109.2915 train_tvo_log_evidence: -109.3421\n"
     ]
    },
    {
     "name": "stderr",
     "output_type": "stream",
     "text": [
      "\r",
      " 10%|███████▋                                                                     | 502/5000 [09:16<1:17:17,  1.03s/it]"
     ]
    },
    {
     "name": "stdout",
     "output_type": "stream",
     "text": [
      "Epoch: 502 - train_elbo: -115.3376 train_logpx: -109.2754 train_tvo_log_evidence: -109.3268\n"
     ]
    },
    {
     "name": "stderr",
     "output_type": "stream",
     "text": [
      "\r",
      " 10%|███████▋                                                                     | 503/5000 [09:16<1:14:50,  1.00it/s]"
     ]
    },
    {
     "name": "stdout",
     "output_type": "stream",
     "text": [
      "Epoch: 503 - train_elbo: -115.1684 train_logpx: -109.1507 train_tvo_log_evidence: -109.2019\n"
     ]
    },
    {
     "name": "stderr",
     "output_type": "stream",
     "text": [
      "\r",
      " 10%|███████▊                                                                     | 504/5000 [09:17<1:15:37,  1.01s/it]"
     ]
    },
    {
     "name": "stdout",
     "output_type": "stream",
     "text": [
      "Epoch: 504 - train_elbo: -115.1342 train_logpx: -109.3016 train_tvo_log_evidence: -109.3519\n"
     ]
    },
    {
     "name": "stderr",
     "output_type": "stream",
     "text": [
      "\r",
      " 10%|███████▊                                                                     | 505/5000 [09:18<1:14:27,  1.01it/s]"
     ]
    },
    {
     "name": "stdout",
     "output_type": "stream",
     "text": [
      "Epoch: 505 - train_elbo: -114.9290 train_logpx: -109.1330 train_tvo_log_evidence: -109.1826\n"
     ]
    },
    {
     "name": "stderr",
     "output_type": "stream",
     "text": [
      "\r",
      " 10%|███████▊                                                                     | 506/5000 [09:19<1:15:58,  1.01s/it]"
     ]
    },
    {
     "name": "stdout",
     "output_type": "stream",
     "text": [
      "estimated [epsilon lengthscale noisevar] [0.9        1.96234368 0.22726121]\n",
      "==================================\n",
      "K=6 points=tensor([0.0000, 0.1162, 0.2840, 0.3188, 0.4794, 1.0000], device='cuda:0')\n",
      "==================================\n",
      "args.schedule_update_frequency= 12\n",
      "Epoch: 506 - train_elbo: -114.7719 train_logpx: -109.0294 train_tvo_log_evidence: -109.0788\n"
     ]
    },
    {
     "name": "stderr",
     "output_type": "stream",
     "text": [
      "\r",
      " 10%|███████▊                                                                     | 507/5000 [09:22<1:44:26,  1.39s/it]"
     ]
    },
    {
     "name": "stdout",
     "output_type": "stream",
     "text": [
      "Epoch: 507 - train_elbo: -114.7206 train_logpx: -109.2070 train_tvo_log_evidence: -109.2555\n"
     ]
    },
    {
     "name": "stderr",
     "output_type": "stream",
     "text": [
      "\r",
      " 10%|███████▊                                                                     | 508/5000 [09:23<1:34:27,  1.26s/it]"
     ]
    },
    {
     "name": "stdout",
     "output_type": "stream",
     "text": [
      "Epoch: 508 - train_elbo: -114.5230 train_logpx: -109.1422 train_tvo_log_evidence: -109.1900\n"
     ]
    },
    {
     "name": "stderr",
     "output_type": "stream",
     "text": [
      "\r",
      " 10%|███████▊                                                                     | 509/5000 [09:24<1:26:18,  1.15s/it]"
     ]
    },
    {
     "name": "stdout",
     "output_type": "stream",
     "text": [
      "Epoch: 509 - train_elbo: -114.4205 train_logpx: -109.0264 train_tvo_log_evidence: -109.0746\n"
     ]
    },
    {
     "name": "stderr",
     "output_type": "stream",
     "text": [
      "\r",
      " 10%|███████▊                                                                     | 510/5000 [09:25<1:22:26,  1.10s/it]"
     ]
    },
    {
     "name": "stdout",
     "output_type": "stream",
     "text": [
      "Epoch: 510 - train_elbo: -114.5407 train_logpx: -109.0744 train_tvo_log_evidence: -109.1226\n"
     ]
    },
    {
     "name": "stderr",
     "output_type": "stream",
     "text": [
      "\r",
      " 10%|███████▊                                                                     | 511/5000 [09:26<1:18:55,  1.05s/it]"
     ]
    },
    {
     "name": "stdout",
     "output_type": "stream",
     "text": [
      "Epoch: 511 - train_elbo: -114.5019 train_logpx: -109.0209 train_tvo_log_evidence: -109.0693\n"
     ]
    },
    {
     "name": "stderr",
     "output_type": "stream",
     "text": [
      "\r",
      " 10%|███████▉                                                                     | 512/5000 [09:26<1:15:02,  1.00s/it]"
     ]
    },
    {
     "name": "stdout",
     "output_type": "stream",
     "text": [
      "Epoch: 512 - train_elbo: -114.3133 train_logpx: -108.8632 train_tvo_log_evidence: -108.9117\n"
     ]
    },
    {
     "name": "stderr",
     "output_type": "stream",
     "text": [
      "\r",
      " 10%|███████▉                                                                     | 513/5000 [09:27<1:15:44,  1.01s/it]"
     ]
    },
    {
     "name": "stdout",
     "output_type": "stream",
     "text": [
      "Epoch: 513 - train_elbo: -114.4539 train_logpx: -108.9426 train_tvo_log_evidence: -108.9918\n"
     ]
    },
    {
     "name": "stderr",
     "output_type": "stream",
     "text": [
      "\r",
      " 10%|███████▉                                                                     | 514/5000 [09:28<1:13:59,  1.01it/s]"
     ]
    },
    {
     "name": "stdout",
     "output_type": "stream",
     "text": [
      "Epoch: 514 - train_elbo: -114.5396 train_logpx: -108.9014 train_tvo_log_evidence: -108.9514\n"
     ]
    },
    {
     "name": "stderr",
     "output_type": "stream",
     "text": [
      "\r",
      " 10%|███████▉                                                                     | 515/5000 [09:29<1:12:29,  1.03it/s]"
     ]
    },
    {
     "name": "stdout",
     "output_type": "stream",
     "text": [
      "Epoch: 515 - train_elbo: -114.3409 train_logpx: -108.7563 train_tvo_log_evidence: -108.8056\n"
     ]
    },
    {
     "name": "stderr",
     "output_type": "stream",
     "text": [
      "\r",
      " 10%|███████▉                                                                     | 516/5000 [09:30<1:13:03,  1.02it/s]"
     ]
    },
    {
     "name": "stdout",
     "output_type": "stream",
     "text": [
      "==================================\n",
      "K=6 points=tensor([0.0000, 0.0612, 0.0810, 0.0895, 0.2175, 1.0000], device='cuda:0')\n",
      "==================================\n",
      "Epoch: 516 - train_elbo: -114.3156 train_logpx: -108.6465 train_tvo_log_evidence: -108.6966\n"
     ]
    },
    {
     "name": "stderr",
     "output_type": "stream",
     "text": [
      "\r",
      " 10%|███████▉                                                                     | 517/5000 [09:33<1:54:46,  1.54s/it]"
     ]
    },
    {
     "name": "stdout",
     "output_type": "stream",
     "text": [
      "Epoch: 517 - train_elbo: -114.5931 train_logpx: -108.7109 train_tvo_log_evidence: -108.7616\n"
     ]
    },
    {
     "name": "stderr",
     "output_type": "stream",
     "text": [
      "\r",
      " 10%|███████▉                                                                     | 518/5000 [09:34<1:42:17,  1.37s/it]"
     ]
    },
    {
     "name": "stdout",
     "output_type": "stream",
     "text": [
      "Epoch: 518 - train_elbo: -114.3527 train_logpx: -108.5591 train_tvo_log_evidence: -108.6088\n"
     ]
    },
    {
     "name": "stderr",
     "output_type": "stream",
     "text": [
      "\r",
      " 10%|███████▉                                                                     | 519/5000 [09:35<1:32:30,  1.24s/it]"
     ]
    },
    {
     "name": "stdout",
     "output_type": "stream",
     "text": [
      "Epoch: 519 - train_elbo: -114.2830 train_logpx: -108.5485 train_tvo_log_evidence: -108.5985\n"
     ]
    },
    {
     "name": "stderr",
     "output_type": "stream",
     "text": [
      "\r",
      " 10%|████████                                                                     | 520/5000 [09:36<1:24:34,  1.13s/it]"
     ]
    },
    {
     "name": "stdout",
     "output_type": "stream",
     "text": [
      "Epoch: 520 - train_elbo: -114.2492 train_logpx: -108.5209 train_tvo_log_evidence: -108.5708\n"
     ]
    },
    {
     "name": "stderr",
     "output_type": "stream",
     "text": [
      "\r",
      " 10%|████████                                                                     | 521/5000 [09:37<1:19:57,  1.07s/it]"
     ]
    },
    {
     "name": "stdout",
     "output_type": "stream",
     "text": [
      "Epoch: 521 - train_elbo: -114.2702 train_logpx: -108.4907 train_tvo_log_evidence: -108.5408\n"
     ]
    },
    {
     "name": "stderr",
     "output_type": "stream",
     "text": [
      "\r",
      " 10%|████████                                                                     | 522/5000 [09:38<1:17:12,  1.03s/it]"
     ]
    },
    {
     "name": "stdout",
     "output_type": "stream",
     "text": [
      "Epoch: 522 - train_elbo: -114.2501 train_logpx: -108.4284 train_tvo_log_evidence: -108.4790\n"
     ]
    },
    {
     "name": "stderr",
     "output_type": "stream",
     "text": [
      "\r",
      " 10%|████████                                                                     | 523/5000 [09:39<1:15:39,  1.01s/it]"
     ]
    },
    {
     "name": "stdout",
     "output_type": "stream",
     "text": [
      "Epoch: 523 - train_elbo: -114.2418 train_logpx: -108.5313 train_tvo_log_evidence: -108.5810\n"
     ]
    },
    {
     "name": "stderr",
     "output_type": "stream",
     "text": [
      "\r",
      " 10%|████████                                                                     | 524/5000 [09:40<1:15:44,  1.02s/it]"
     ]
    },
    {
     "name": "stdout",
     "output_type": "stream",
     "text": [
      "Epoch: 524 - train_elbo: -114.2067 train_logpx: -108.4589 train_tvo_log_evidence: -108.5088\n"
     ]
    },
    {
     "name": "stderr",
     "output_type": "stream",
     "text": [
      "\r",
      " 10%|████████                                                                     | 525/5000 [09:41<1:12:47,  1.02it/s]"
     ]
    },
    {
     "name": "stdout",
     "output_type": "stream",
     "text": [
      "Epoch: 525 - train_elbo: -114.1814 train_logpx: -108.4176 train_tvo_log_evidence: -108.4675\n"
     ]
    },
    {
     "name": "stderr",
     "output_type": "stream",
     "text": [
      "\r",
      " 11%|████████                                                                     | 526/5000 [09:42<1:12:39,  1.03it/s]"
     ]
    },
    {
     "name": "stdout",
     "output_type": "stream",
     "text": [
      "Epoch: 526 - train_elbo: -114.2275 train_logpx: -108.4114 train_tvo_log_evidence: -108.4615\n"
     ]
    },
    {
     "name": "stderr",
     "output_type": "stream",
     "text": [
      "\r",
      " 11%|████████                                                                     | 527/5000 [09:43<1:12:27,  1.03it/s]"
     ]
    },
    {
     "name": "stdout",
     "output_type": "stream",
     "text": [
      "Epoch: 527 - train_elbo: -113.9873 train_logpx: -108.3387 train_tvo_log_evidence: -108.3880\n"
     ]
    },
    {
     "name": "stderr",
     "output_type": "stream",
     "text": [
      "\r",
      " 11%|████████▏                                                                    | 528/5000 [09:44<1:11:46,  1.04it/s]"
     ]
    },
    {
     "name": "stdout",
     "output_type": "stream",
     "text": [
      "==================================\n",
      "K=6 points=tensor([0.0000, 0.0564, 0.0755, 0.0898, 0.4050, 1.0000], device='cuda:0')\n",
      "==================================\n",
      "Epoch: 528 - train_elbo: -113.8960 train_logpx: -108.3569 train_tvo_log_evidence: -108.4055\n"
     ]
    },
    {
     "name": "stderr",
     "output_type": "stream",
     "text": [
      "\r",
      " 11%|████████▏                                                                    | 529/5000 [09:46<1:51:00,  1.49s/it]"
     ]
    },
    {
     "name": "stdout",
     "output_type": "stream",
     "text": [
      "Epoch: 529 - train_elbo: -113.6941 train_logpx: -108.2597 train_tvo_log_evidence: -108.3081\n"
     ]
    },
    {
     "name": "stderr",
     "output_type": "stream",
     "text": [
      "\r",
      " 11%|████████▏                                                                    | 530/5000 [09:47<1:40:24,  1.35s/it]"
     ]
    },
    {
     "name": "stdout",
     "output_type": "stream",
     "text": [
      "Epoch: 530 - train_elbo: -113.5208 train_logpx: -108.2273 train_tvo_log_evidence: -108.2753\n"
     ]
    },
    {
     "name": "stderr",
     "output_type": "stream",
     "text": [
      "\r",
      " 11%|████████▏                                                                    | 531/5000 [09:48<1:32:50,  1.25s/it]"
     ]
    },
    {
     "name": "stdout",
     "output_type": "stream",
     "text": [
      "Epoch: 531 - train_elbo: -113.6561 train_logpx: -108.2373 train_tvo_log_evidence: -108.2855\n"
     ]
    },
    {
     "name": "stderr",
     "output_type": "stream",
     "text": [
      "\r",
      " 11%|████████▏                                                                    | 532/5000 [09:49<1:26:51,  1.17s/it]"
     ]
    },
    {
     "name": "stdout",
     "output_type": "stream",
     "text": [
      "Epoch: 532 - train_elbo: -113.4764 train_logpx: -108.0480 train_tvo_log_evidence: -108.0965\n"
     ]
    },
    {
     "name": "stderr",
     "output_type": "stream",
     "text": [
      "\r",
      " 11%|████████▏                                                                    | 533/5000 [09:50<1:21:00,  1.09s/it]"
     ]
    },
    {
     "name": "stdout",
     "output_type": "stream",
     "text": [
      "Epoch: 533 - train_elbo: -113.4008 train_logpx: -108.0868 train_tvo_log_evidence: -108.1344\n"
     ]
    },
    {
     "name": "stderr",
     "output_type": "stream",
     "text": [
      "\r",
      " 11%|████████▏                                                                    | 534/5000 [09:51<1:17:16,  1.04s/it]"
     ]
    },
    {
     "name": "stdout",
     "output_type": "stream",
     "text": [
      "Epoch: 534 - train_elbo: -113.3660 train_logpx: -107.9875 train_tvo_log_evidence: -108.0358\n"
     ]
    },
    {
     "name": "stderr",
     "output_type": "stream",
     "text": [
      "\r",
      " 11%|████████▏                                                                    | 535/5000 [09:52<1:13:52,  1.01it/s]"
     ]
    },
    {
     "name": "stdout",
     "output_type": "stream",
     "text": [
      "Epoch: 535 - train_elbo: -113.5016 train_logpx: -108.0578 train_tvo_log_evidence: -108.1063\n"
     ]
    },
    {
     "name": "stderr",
     "output_type": "stream",
     "text": [
      "\r",
      " 11%|████████▎                                                                    | 536/5000 [09:53<1:13:56,  1.01it/s]"
     ]
    },
    {
     "name": "stdout",
     "output_type": "stream",
     "text": [
      "Epoch: 536 - train_elbo: -113.6113 train_logpx: -108.1719 train_tvo_log_evidence: -108.2202\n"
     ]
    },
    {
     "name": "stderr",
     "output_type": "stream",
     "text": [
      "\r",
      " 11%|████████▎                                                                    | 537/5000 [09:54<1:14:48,  1.01s/it]"
     ]
    },
    {
     "name": "stdout",
     "output_type": "stream",
     "text": [
      "Epoch: 537 - train_elbo: -113.5424 train_logpx: -108.1138 train_tvo_log_evidence: -108.1623\n"
     ]
    },
    {
     "name": "stderr",
     "output_type": "stream",
     "text": [
      "\r",
      " 11%|████████▎                                                                    | 538/5000 [09:55<1:13:47,  1.01it/s]"
     ]
    },
    {
     "name": "stdout",
     "output_type": "stream",
     "text": [
      "Epoch: 538 - train_elbo: -113.1535 train_logpx: -107.8364 train_tvo_log_evidence: -107.8842\n"
     ]
    },
    {
     "name": "stderr",
     "output_type": "stream",
     "text": [
      "\r",
      " 11%|████████▎                                                                    | 539/5000 [09:56<1:13:33,  1.01it/s]"
     ]
    },
    {
     "name": "stdout",
     "output_type": "stream",
     "text": [
      "Epoch: 539 - train_elbo: -113.2616 train_logpx: -107.8302 train_tvo_log_evidence: -107.8787\n"
     ]
    },
    {
     "name": "stderr",
     "output_type": "stream",
     "text": [
      "\r",
      " 11%|████████▎                                                                    | 540/5000 [09:57<1:13:23,  1.01it/s]"
     ]
    },
    {
     "name": "stdout",
     "output_type": "stream",
     "text": [
      "==================================\n",
      "K=6 points=tensor([0.0000, 0.0609, 0.0641, 0.1023, 0.3140, 1.0000], device='cuda:0')\n",
      "==================================\n",
      "Epoch: 540 - train_elbo: -113.2372 train_logpx: -107.7186 train_tvo_log_evidence: -107.7674\n"
     ]
    },
    {
     "name": "stderr",
     "output_type": "stream",
     "text": [
      "\r",
      " 11%|████████▎                                                                    | 541/5000 [10:00<1:49:50,  1.48s/it]"
     ]
    },
    {
     "name": "stdout",
     "output_type": "stream",
     "text": [
      "Epoch: 541 - train_elbo: -113.4751 train_logpx: -107.7920 train_tvo_log_evidence: -107.8414\n"
     ]
    },
    {
     "name": "stderr",
     "output_type": "stream",
     "text": [
      "\r",
      " 11%|████████▎                                                                    | 542/5000 [10:01<1:38:36,  1.33s/it]"
     ]
    },
    {
     "name": "stdout",
     "output_type": "stream",
     "text": [
      "Epoch: 542 - train_elbo: -113.3227 train_logpx: -107.6628 train_tvo_log_evidence: -107.7122\n"
     ]
    },
    {
     "name": "stderr",
     "output_type": "stream",
     "text": [
      "\r",
      " 11%|████████▎                                                                    | 543/5000 [10:02<1:30:34,  1.22s/it]"
     ]
    },
    {
     "name": "stdout",
     "output_type": "stream",
     "text": [
      "Epoch: 543 - train_elbo: -113.4369 train_logpx: -107.8104 train_tvo_log_evidence: -107.8596\n"
     ]
    },
    {
     "name": "stderr",
     "output_type": "stream",
     "text": [
      "\r",
      " 11%|████████▍                                                                    | 544/5000 [10:03<1:26:09,  1.16s/it]"
     ]
    },
    {
     "name": "stdout",
     "output_type": "stream",
     "text": [
      "Epoch: 544 - train_elbo: -113.2390 train_logpx: -107.6290 train_tvo_log_evidence: -107.6783\n"
     ]
    },
    {
     "name": "stderr",
     "output_type": "stream",
     "text": [
      "\r",
      " 11%|████████▍                                                                    | 545/5000 [10:04<1:23:22,  1.12s/it]"
     ]
    },
    {
     "name": "stdout",
     "output_type": "stream",
     "text": [
      "Epoch: 545 - train_elbo: -113.1260 train_logpx: -107.5046 train_tvo_log_evidence: -107.5537\n"
     ]
    },
    {
     "name": "stderr",
     "output_type": "stream",
     "text": [
      "\r",
      " 11%|████████▍                                                                    | 546/5000 [10:05<1:19:45,  1.07s/it]"
     ]
    },
    {
     "name": "stdout",
     "output_type": "stream",
     "text": [
      "Epoch: 546 - train_elbo: -113.2443 train_logpx: -107.6046 train_tvo_log_evidence: -107.6546\n"
     ]
    },
    {
     "name": "stderr",
     "output_type": "stream",
     "text": [
      "\r",
      " 11%|████████▍                                                                    | 547/5000 [10:05<1:16:16,  1.03s/it]"
     ]
    },
    {
     "name": "stdout",
     "output_type": "stream",
     "text": [
      "Epoch: 547 - train_elbo: -113.2382 train_logpx: -107.6160 train_tvo_log_evidence: -107.6652\n"
     ]
    },
    {
     "name": "stderr",
     "output_type": "stream",
     "text": [
      "\r",
      " 11%|████████▍                                                                    | 548/5000 [10:06<1:14:45,  1.01s/it]"
     ]
    },
    {
     "name": "stdout",
     "output_type": "stream",
     "text": [
      "Epoch: 548 - train_elbo: -113.2092 train_logpx: -107.5072 train_tvo_log_evidence: -107.5569\n"
     ]
    },
    {
     "name": "stderr",
     "output_type": "stream",
     "text": [
      "\r",
      " 11%|████████▍                                                                    | 549/5000 [10:07<1:13:40,  1.01it/s]"
     ]
    },
    {
     "name": "stdout",
     "output_type": "stream",
     "text": [
      "Epoch: 549 - train_elbo: -113.1069 train_logpx: -107.3355 train_tvo_log_evidence: -107.3859\n"
     ]
    },
    {
     "name": "stderr",
     "output_type": "stream",
     "text": [
      "\r",
      " 11%|████████▍                                                                    | 550/5000 [10:08<1:11:41,  1.03it/s]"
     ]
    },
    {
     "name": "stdout",
     "output_type": "stream",
     "text": [
      "Epoch: 550 - train_elbo: -113.0370 train_logpx: -107.4372 train_tvo_log_evidence: -107.4865\n"
     ]
    },
    {
     "name": "stderr",
     "output_type": "stream",
     "text": [
      "\r",
      " 11%|████████▍                                                                    | 551/5000 [10:09<1:13:47,  1.00it/s]"
     ]
    },
    {
     "name": "stdout",
     "output_type": "stream",
     "text": [
      "Epoch: 551 - train_elbo: -113.1825 train_logpx: -107.5016 train_tvo_log_evidence: -107.5511\n"
     ]
    },
    {
     "name": "stderr",
     "output_type": "stream",
     "text": [
      "\r",
      " 11%|████████▌                                                                    | 552/5000 [10:10<1:12:11,  1.03it/s]"
     ]
    },
    {
     "name": "stdout",
     "output_type": "stream",
     "text": [
      "==================================\n",
      "K=6 points=tensor([0.0000, 0.0607, 0.0647, 0.0877, 0.4167, 1.0000], device='cuda:0')\n",
      "==================================\n",
      "Epoch: 552 - train_elbo: -112.9854 train_logpx: -107.3876 train_tvo_log_evidence: -107.4369\n"
     ]
    },
    {
     "name": "stderr",
     "output_type": "stream",
     "text": [
      "\r",
      " 11%|████████▌                                                                    | 553/5000 [10:13<1:45:34,  1.42s/it]"
     ]
    },
    {
     "name": "stdout",
     "output_type": "stream",
     "text": [
      "Epoch: 553 - train_elbo: -112.6730 train_logpx: -107.4245 train_tvo_log_evidence: -107.4723\n"
     ]
    },
    {
     "name": "stderr",
     "output_type": "stream",
     "text": [
      "\r",
      " 11%|████████▌                                                                    | 554/5000 [10:14<1:35:44,  1.29s/it]"
     ]
    },
    {
     "name": "stdout",
     "output_type": "stream",
     "text": [
      "Epoch: 554 - train_elbo: -112.7310 train_logpx: -107.4571 train_tvo_log_evidence: -107.5049\n"
     ]
    },
    {
     "name": "stderr",
     "output_type": "stream",
     "text": [
      "\r",
      " 11%|████████▌                                                                    | 555/5000 [10:15<1:28:53,  1.20s/it]"
     ]
    },
    {
     "name": "stdout",
     "output_type": "stream",
     "text": [
      "Epoch: 555 - train_elbo: -112.8120 train_logpx: -107.4027 train_tvo_log_evidence: -107.4506\n"
     ]
    },
    {
     "name": "stderr",
     "output_type": "stream",
     "text": [
      "\r",
      " 11%|████████▌                                                                    | 556/5000 [10:16<1:23:26,  1.13s/it]"
     ]
    },
    {
     "name": "stdout",
     "output_type": "stream",
     "text": [
      "Epoch: 556 - train_elbo: -112.6726 train_logpx: -107.2931 train_tvo_log_evidence: -107.3416\n"
     ]
    },
    {
     "name": "stderr",
     "output_type": "stream",
     "text": [
      "\r",
      " 11%|████████▌                                                                    | 557/5000 [10:17<1:19:55,  1.08s/it]"
     ]
    },
    {
     "name": "stdout",
     "output_type": "stream",
     "text": [
      "Epoch: 557 - train_elbo: -112.5588 train_logpx: -107.3396 train_tvo_log_evidence: -107.3871\n"
     ]
    },
    {
     "name": "stderr",
     "output_type": "stream",
     "text": [
      "\r",
      " 11%|████████▌                                                                    | 558/5000 [10:18<1:16:37,  1.04s/it]"
     ]
    },
    {
     "name": "stdout",
     "output_type": "stream",
     "text": [
      "Epoch: 558 - train_elbo: -112.5877 train_logpx: -107.3221 train_tvo_log_evidence: -107.3698\n"
     ]
    },
    {
     "name": "stderr",
     "output_type": "stream",
     "text": [
      "\r",
      " 11%|████████▌                                                                    | 559/5000 [10:19<1:14:23,  1.01s/it]"
     ]
    },
    {
     "name": "stdout",
     "output_type": "stream",
     "text": [
      "Epoch: 559 - train_elbo: -112.5327 train_logpx: -107.1606 train_tvo_log_evidence: -107.2094\n"
     ]
    },
    {
     "name": "stderr",
     "output_type": "stream",
     "text": [
      "\r",
      " 11%|████████▌                                                                    | 560/5000 [10:20<1:13:47,  1.00it/s]"
     ]
    },
    {
     "name": "stdout",
     "output_type": "stream",
     "text": [
      "Epoch: 560 - train_elbo: -112.6316 train_logpx: -107.3119 train_tvo_log_evidence: -107.3600\n"
     ]
    },
    {
     "name": "stderr",
     "output_type": "stream",
     "text": [
      "\r",
      " 11%|████████▋                                                                    | 561/5000 [10:21<1:14:46,  1.01s/it]"
     ]
    },
    {
     "name": "stdout",
     "output_type": "stream",
     "text": [
      "Epoch: 561 - train_elbo: -112.5881 train_logpx: -107.2569 train_tvo_log_evidence: -107.3053\n"
     ]
    },
    {
     "name": "stderr",
     "output_type": "stream",
     "text": [
      "\r",
      " 11%|████████▋                                                                    | 562/5000 [10:21<1:12:58,  1.01it/s]"
     ]
    },
    {
     "name": "stdout",
     "output_type": "stream",
     "text": [
      "Epoch: 562 - train_elbo: -112.3353 train_logpx: -107.0596 train_tvo_log_evidence: -107.1081\n"
     ]
    },
    {
     "name": "stderr",
     "output_type": "stream",
     "text": [
      "\r",
      " 11%|████████▋                                                                    | 563/5000 [10:22<1:11:07,  1.04it/s]"
     ]
    },
    {
     "name": "stdout",
     "output_type": "stream",
     "text": [
      "Epoch: 563 - train_elbo: -112.3552 train_logpx: -107.0244 train_tvo_log_evidence: -107.0726\n"
     ]
    },
    {
     "name": "stderr",
     "output_type": "stream",
     "text": [
      "\r",
      " 11%|████████▋                                                                    | 564/5000 [10:23<1:12:05,  1.03it/s]"
     ]
    },
    {
     "name": "stdout",
     "output_type": "stream",
     "text": [
      "estimated [epsilon lengthscale noisevar] [0.9        2.04867628 0.21429328]\n",
      "==================================\n",
      "K=6 points=tensor([0.0000, 0.1687, 0.1999, 0.3665, 0.3675, 1.0000], device='cuda:0')\n",
      "==================================\n",
      "Epoch: 564 - train_elbo: -112.3679 train_logpx: -107.0222 train_tvo_log_evidence: -107.0705\n"
     ]
    },
    {
     "name": "stderr",
     "output_type": "stream",
     "text": [
      "\r",
      " 11%|████████▋                                                                    | 565/5000 [10:26<1:41:00,  1.37s/it]"
     ]
    },
    {
     "name": "stdout",
     "output_type": "stream",
     "text": [
      "Epoch: 565 - train_elbo: -112.3467 train_logpx: -107.0183 train_tvo_log_evidence: -107.0663\n"
     ]
    },
    {
     "name": "stderr",
     "output_type": "stream",
     "text": [
      "\r",
      " 11%|████████▋                                                                    | 566/5000 [10:27<1:31:11,  1.23s/it]"
     ]
    },
    {
     "name": "stdout",
     "output_type": "stream",
     "text": [
      "Epoch: 566 - train_elbo: -112.2545 train_logpx: -106.9635 train_tvo_log_evidence: -107.0118\n"
     ]
    },
    {
     "name": "stderr",
     "output_type": "stream",
     "text": [
      "\r",
      " 11%|████████▋                                                                    | 567/5000 [10:28<1:24:18,  1.14s/it]"
     ]
    },
    {
     "name": "stdout",
     "output_type": "stream",
     "text": [
      "Epoch: 567 - train_elbo: -112.2769 train_logpx: -106.9693 train_tvo_log_evidence: -107.0170\n"
     ]
    },
    {
     "name": "stderr",
     "output_type": "stream",
     "text": [
      "\r",
      " 11%|████████▋                                                                    | 568/5000 [10:28<1:18:56,  1.07s/it]"
     ]
    },
    {
     "name": "stdout",
     "output_type": "stream",
     "text": [
      "Epoch: 568 - train_elbo: -112.1899 train_logpx: -106.7731 train_tvo_log_evidence: -106.8217\n"
     ]
    },
    {
     "name": "stderr",
     "output_type": "stream",
     "text": [
      "\r",
      " 11%|████████▊                                                                    | 569/5000 [10:29<1:17:33,  1.05s/it]"
     ]
    },
    {
     "name": "stdout",
     "output_type": "stream",
     "text": [
      "Epoch: 569 - train_elbo: -112.3573 train_logpx: -106.8988 train_tvo_log_evidence: -106.9473\n"
     ]
    },
    {
     "name": "stderr",
     "output_type": "stream",
     "text": [
      "\r",
      " 11%|████████▊                                                                    | 570/5000 [10:30<1:14:53,  1.01s/it]"
     ]
    },
    {
     "name": "stdout",
     "output_type": "stream",
     "text": [
      "Epoch: 570 - train_elbo: -112.1514 train_logpx: -106.7776 train_tvo_log_evidence: -106.8262\n"
     ]
    },
    {
     "name": "stderr",
     "output_type": "stream",
     "text": [
      "\r",
      " 11%|████████▊                                                                    | 571/5000 [10:31<1:14:39,  1.01s/it]"
     ]
    },
    {
     "name": "stdout",
     "output_type": "stream",
     "text": [
      "Epoch: 571 - train_elbo: -112.1341 train_logpx: -106.7868 train_tvo_log_evidence: -106.8350\n"
     ]
    },
    {
     "name": "stderr",
     "output_type": "stream",
     "text": [
      "\r",
      " 11%|████████▊                                                                    | 572/5000 [10:32<1:14:44,  1.01s/it]"
     ]
    },
    {
     "name": "stdout",
     "output_type": "stream",
     "text": [
      "Epoch: 572 - train_elbo: -112.2220 train_logpx: -106.8246 train_tvo_log_evidence: -106.8735\n"
     ]
    },
    {
     "name": "stderr",
     "output_type": "stream",
     "text": [
      "\r",
      " 11%|████████▊                                                                    | 573/5000 [10:33<1:12:41,  1.02it/s]"
     ]
    },
    {
     "name": "stdout",
     "output_type": "stream",
     "text": [
      "Epoch: 573 - train_elbo: -112.2202 train_logpx: -106.8215 train_tvo_log_evidence: -106.8705\n"
     ]
    },
    {
     "name": "stderr",
     "output_type": "stream",
     "text": [
      "\r",
      " 11%|████████▊                                                                    | 574/5000 [10:34<1:11:46,  1.03it/s]"
     ]
    },
    {
     "name": "stdout",
     "output_type": "stream",
     "text": [
      "Epoch: 574 - train_elbo: -112.1410 train_logpx: -106.7310 train_tvo_log_evidence: -106.7796\n"
     ]
    },
    {
     "name": "stderr",
     "output_type": "stream",
     "text": [
      "\r",
      " 12%|████████▊                                                                    | 575/5000 [10:35<1:10:38,  1.04it/s]"
     ]
    },
    {
     "name": "stdout",
     "output_type": "stream",
     "text": [
      "Epoch: 575 - train_elbo: -112.2589 train_logpx: -106.7949 train_tvo_log_evidence: -106.8440\n"
     ]
    },
    {
     "name": "stderr",
     "output_type": "stream",
     "text": [
      "\r",
      " 12%|████████▊                                                                    | 576/5000 [10:36<1:10:07,  1.05it/s]"
     ]
    },
    {
     "name": "stdout",
     "output_type": "stream",
     "text": [
      "==================================\n",
      "K=6 points=tensor([0.0000, 0.0734, 0.0814, 0.0865, 0.1276, 1.0000], device='cuda:0')\n",
      "==================================\n",
      "Epoch: 576 - train_elbo: -112.2040 train_logpx: -106.7474 train_tvo_log_evidence: -106.7966\n"
     ]
    },
    {
     "name": "stderr",
     "output_type": "stream",
     "text": [
      "\r",
      " 12%|████████▉                                                                    | 577/5000 [10:38<1:36:10,  1.30s/it]"
     ]
    },
    {
     "name": "stdout",
     "output_type": "stream",
     "text": [
      "Epoch: 577 - train_elbo: -112.2133 train_logpx: -106.7632 train_tvo_log_evidence: -106.8130\n"
     ]
    },
    {
     "name": "stderr",
     "output_type": "stream",
     "text": [
      "\r",
      " 12%|████████▉                                                                    | 578/5000 [10:39<1:27:55,  1.19s/it]"
     ]
    },
    {
     "name": "stdout",
     "output_type": "stream",
     "text": [
      "Epoch: 578 - train_elbo: -112.2250 train_logpx: -106.7177 train_tvo_log_evidence: -106.7673\n"
     ]
    },
    {
     "name": "stderr",
     "output_type": "stream",
     "text": [
      "\r",
      " 12%|████████▉                                                                    | 579/5000 [10:40<1:21:35,  1.11s/it]"
     ]
    },
    {
     "name": "stdout",
     "output_type": "stream",
     "text": [
      "Epoch: 579 - train_elbo: -112.1271 train_logpx: -106.6971 train_tvo_log_evidence: -106.7463\n"
     ]
    },
    {
     "name": "stderr",
     "output_type": "stream",
     "text": [
      "\r",
      " 12%|████████▉                                                                    | 580/5000 [10:41<1:19:29,  1.08s/it]"
     ]
    },
    {
     "name": "stdout",
     "output_type": "stream",
     "text": [
      "Epoch: 580 - train_elbo: -112.0737 train_logpx: -106.6249 train_tvo_log_evidence: -106.6746\n"
     ]
    },
    {
     "name": "stderr",
     "output_type": "stream",
     "text": [
      "\r",
      " 12%|████████▉                                                                    | 581/5000 [10:42<1:16:26,  1.04s/it]"
     ]
    },
    {
     "name": "stdout",
     "output_type": "stream",
     "text": [
      "Epoch: 581 - train_elbo: -112.2609 train_logpx: -106.6408 train_tvo_log_evidence: -106.6914\n"
     ]
    },
    {
     "name": "stderr",
     "output_type": "stream",
     "text": [
      "\r",
      " 12%|████████▉                                                                    | 582/5000 [10:43<1:14:39,  1.01s/it]"
     ]
    },
    {
     "name": "stdout",
     "output_type": "stream",
     "text": [
      "Epoch: 582 - train_elbo: -112.0794 train_logpx: -106.5853 train_tvo_log_evidence: -106.6353\n"
     ]
    },
    {
     "name": "stderr",
     "output_type": "stream",
     "text": [
      "\r",
      " 12%|████████▉                                                                    | 583/5000 [10:44<1:12:52,  1.01it/s]"
     ]
    },
    {
     "name": "stdout",
     "output_type": "stream",
     "text": [
      "Epoch: 583 - train_elbo: -112.2751 train_logpx: -106.7066 train_tvo_log_evidence: -106.7570\n"
     ]
    },
    {
     "name": "stderr",
     "output_type": "stream",
     "text": [
      "\r",
      " 12%|████████▉                                                                    | 584/5000 [10:45<1:11:55,  1.02it/s]"
     ]
    },
    {
     "name": "stdout",
     "output_type": "stream",
     "text": [
      "Epoch: 584 - train_elbo: -112.0901 train_logpx: -106.5320 train_tvo_log_evidence: -106.5822\n"
     ]
    },
    {
     "name": "stderr",
     "output_type": "stream",
     "text": [
      "\r",
      " 12%|█████████                                                                    | 585/5000 [10:46<1:10:08,  1.05it/s]"
     ]
    },
    {
     "name": "stdout",
     "output_type": "stream",
     "text": [
      "Epoch: 585 - train_elbo: -111.9749 train_logpx: -106.5856 train_tvo_log_evidence: -106.6349\n"
     ]
    },
    {
     "name": "stderr",
     "output_type": "stream",
     "text": [
      "\r",
      " 12%|█████████                                                                    | 586/5000 [10:47<1:10:02,  1.05it/s]"
     ]
    },
    {
     "name": "stdout",
     "output_type": "stream",
     "text": [
      "Epoch: 586 - train_elbo: -111.8115 train_logpx: -106.5607 train_tvo_log_evidence: -106.6087\n"
     ]
    },
    {
     "name": "stderr",
     "output_type": "stream",
     "text": [
      "\r",
      " 12%|█████████                                                                    | 587/5000 [10:48<1:10:09,  1.05it/s]"
     ]
    },
    {
     "name": "stdout",
     "output_type": "stream",
     "text": [
      "Epoch: 587 - train_elbo: -111.6856 train_logpx: -106.4274 train_tvo_log_evidence: -106.4752\n"
     ]
    },
    {
     "name": "stderr",
     "output_type": "stream",
     "text": [
      "\r",
      " 12%|█████████                                                                    | 588/5000 [10:49<1:10:59,  1.04it/s]"
     ]
    },
    {
     "name": "stdout",
     "output_type": "stream",
     "text": [
      "==================================\n",
      "K=6 points=tensor([0.0000, 0.0648, 0.0865, 0.0996, 0.1275, 1.0000], device='cuda:0')\n",
      "==================================\n",
      "Epoch: 588 - train_elbo: -111.7304 train_logpx: -106.5745 train_tvo_log_evidence: -106.6218\n"
     ]
    },
    {
     "name": "stderr",
     "output_type": "stream",
     "text": [
      "\r",
      " 12%|█████████                                                                    | 589/5000 [10:51<1:47:04,  1.46s/it]"
     ]
    },
    {
     "name": "stdout",
     "output_type": "stream",
     "text": [
      "Epoch: 589 - train_elbo: -111.4382 train_logpx: -106.3444 train_tvo_log_evidence: -106.3912\n"
     ]
    },
    {
     "name": "stderr",
     "output_type": "stream",
     "text": [
      "\r",
      " 12%|█████████                                                                    | 590/5000 [10:52<1:35:04,  1.29s/it]"
     ]
    },
    {
     "name": "stdout",
     "output_type": "stream",
     "text": [
      "Epoch: 590 - train_elbo: -111.4415 train_logpx: -106.3562 train_tvo_log_evidence: -106.4024\n"
     ]
    },
    {
     "name": "stderr",
     "output_type": "stream",
     "text": [
      "\r",
      " 12%|█████████                                                                    | 591/5000 [10:53<1:27:32,  1.19s/it]"
     ]
    },
    {
     "name": "stdout",
     "output_type": "stream",
     "text": [
      "Epoch: 591 - train_elbo: -111.6468 train_logpx: -106.4501 train_tvo_log_evidence: -106.4976\n"
     ]
    },
    {
     "name": "stderr",
     "output_type": "stream",
     "text": [
      "\r",
      " 12%|█████████                                                                    | 592/5000 [10:54<1:23:52,  1.14s/it]"
     ]
    },
    {
     "name": "stdout",
     "output_type": "stream",
     "text": [
      "Epoch: 592 - train_elbo: -111.4047 train_logpx: -106.3268 train_tvo_log_evidence: -106.3737\n"
     ]
    },
    {
     "name": "stderr",
     "output_type": "stream",
     "text": [
      "\r",
      " 12%|█████████▏                                                                   | 593/5000 [10:55<1:20:09,  1.09s/it]"
     ]
    },
    {
     "name": "stdout",
     "output_type": "stream",
     "text": [
      "Epoch: 593 - train_elbo: -111.3031 train_logpx: -106.1678 train_tvo_log_evidence: -106.2149\n"
     ]
    },
    {
     "name": "stderr",
     "output_type": "stream",
     "text": [
      "\r",
      " 12%|█████████▏                                                                   | 594/5000 [10:56<1:17:00,  1.05s/it]"
     ]
    },
    {
     "name": "stdout",
     "output_type": "stream",
     "text": [
      "Epoch: 594 - train_elbo: -111.2429 train_logpx: -106.1623 train_tvo_log_evidence: -106.2088\n"
     ]
    },
    {
     "name": "stderr",
     "output_type": "stream",
     "text": [
      "\r",
      " 12%|█████████▏                                                                   | 595/5000 [10:57<1:15:27,  1.03s/it]"
     ]
    },
    {
     "name": "stdout",
     "output_type": "stream",
     "text": [
      "Epoch: 595 - train_elbo: -111.3882 train_logpx: -106.2474 train_tvo_log_evidence: -106.2946\n"
     ]
    },
    {
     "name": "stderr",
     "output_type": "stream",
     "text": [
      "\r",
      " 12%|█████████▏                                                                   | 596/5000 [10:58<1:13:19,  1.00it/s]"
     ]
    },
    {
     "name": "stdout",
     "output_type": "stream",
     "text": [
      "Epoch: 596 - train_elbo: -111.3756 train_logpx: -106.2171 train_tvo_log_evidence: -106.2639\n"
     ]
    },
    {
     "name": "stderr",
     "output_type": "stream",
     "text": [
      "\r",
      " 12%|█████████▏                                                                   | 597/5000 [10:59<1:11:48,  1.02it/s]"
     ]
    },
    {
     "name": "stdout",
     "output_type": "stream",
     "text": [
      "Epoch: 597 - train_elbo: -111.1060 train_logpx: -106.0448 train_tvo_log_evidence: -106.0911\n"
     ]
    },
    {
     "name": "stderr",
     "output_type": "stream",
     "text": [
      "\r",
      " 12%|█████████▏                                                                   | 598/5000 [11:00<1:10:45,  1.04it/s]"
     ]
    },
    {
     "name": "stdout",
     "output_type": "stream",
     "text": [
      "Epoch: 598 - train_elbo: -111.2218 train_logpx: -106.2012 train_tvo_log_evidence: -106.2470\n"
     ]
    },
    {
     "name": "stderr",
     "output_type": "stream",
     "text": [
      "\r",
      " 12%|█████████▏                                                                   | 599/5000 [11:01<1:09:30,  1.06it/s]"
     ]
    },
    {
     "name": "stdout",
     "output_type": "stream",
     "text": [
      "Epoch: 599 - train_elbo: -111.1595 train_logpx: -106.1803 train_tvo_log_evidence: -106.2261\n"
     ]
    },
    {
     "name": "stderr",
     "output_type": "stream",
     "text": [
      "\r",
      " 12%|█████████▏                                                                   | 600/5000 [11:02<1:09:33,  1.05it/s]"
     ]
    },
    {
     "name": "stdout",
     "output_type": "stream",
     "text": [
      "==================================\n",
      "K=6 points=tensor([0.0000, 0.0723, 0.0795, 0.0848, 0.1277, 1.0000], device='cuda:0')\n",
      "==================================\n",
      "Epoch: 600 - train_elbo: -110.9970 train_logpx: -106.0797 train_tvo_log_evidence: -106.1252\n",
      "Epoch: 600 - test_logpx: -105.5328 test_kl: 6.7180\n"
     ]
    },
    {
     "name": "stderr",
     "output_type": "stream",
     "text": [
      "\r",
      " 12%|█████████▎                                                                   | 601/5000 [11:12<4:34:30,  3.74s/it]"
     ]
    },
    {
     "name": "stdout",
     "output_type": "stream",
     "text": [
      "Epoch: 601 - train_elbo: -111.0892 train_logpx: -106.1242 train_tvo_log_evidence: -106.1699\n"
     ]
    },
    {
     "name": "stderr",
     "output_type": "stream",
     "text": [
      "\r",
      " 12%|█████████▎                                                                   | 602/5000 [11:13<3:31:48,  2.89s/it]"
     ]
    },
    {
     "name": "stdout",
     "output_type": "stream",
     "text": [
      "Epoch: 602 - train_elbo: -110.9585 train_logpx: -106.0570 train_tvo_log_evidence: -106.1019\n"
     ]
    },
    {
     "name": "stderr",
     "output_type": "stream",
     "text": [
      "\r",
      " 12%|█████████▎                                                                   | 603/5000 [11:14<2:47:33,  2.29s/it]"
     ]
    },
    {
     "name": "stdout",
     "output_type": "stream",
     "text": [
      "Epoch: 603 - train_elbo: -110.9249 train_logpx: -106.0774 train_tvo_log_evidence: -106.1222\n"
     ]
    },
    {
     "name": "stderr",
     "output_type": "stream",
     "text": [
      "\r",
      " 12%|█████████▎                                                                   | 604/5000 [11:15<2:18:45,  1.89s/it]"
     ]
    },
    {
     "name": "stdout",
     "output_type": "stream",
     "text": [
      "Epoch: 604 - train_elbo: -110.9208 train_logpx: -106.0368 train_tvo_log_evidence: -106.0819\n"
     ]
    },
    {
     "name": "stderr",
     "output_type": "stream",
     "text": [
      "\r",
      " 12%|█████████▎                                                                   | 605/5000 [11:16<1:58:32,  1.62s/it]"
     ]
    },
    {
     "name": "stdout",
     "output_type": "stream",
     "text": [
      "Epoch: 605 - train_elbo: -110.8495 train_logpx: -105.9350 train_tvo_log_evidence: -105.9807\n"
     ]
    },
    {
     "name": "stderr",
     "output_type": "stream",
     "text": [
      "\r",
      " 12%|█████████▎                                                                   | 606/5000 [11:17<1:42:13,  1.40s/it]"
     ]
    },
    {
     "name": "stdout",
     "output_type": "stream",
     "text": [
      "Epoch: 606 - train_elbo: -110.9139 train_logpx: -105.8691 train_tvo_log_evidence: -105.9156\n"
     ]
    },
    {
     "name": "stderr",
     "output_type": "stream",
     "text": [
      "\r",
      " 12%|█████████▎                                                                   | 607/5000 [11:18<1:32:19,  1.26s/it]"
     ]
    },
    {
     "name": "stdout",
     "output_type": "stream",
     "text": [
      "Epoch: 607 - train_elbo: -110.7940 train_logpx: -105.8413 train_tvo_log_evidence: -105.8870\n"
     ]
    },
    {
     "name": "stderr",
     "output_type": "stream",
     "text": [
      "\r",
      " 12%|█████████▎                                                                   | 608/5000 [11:18<1:24:36,  1.16s/it]"
     ]
    },
    {
     "name": "stdout",
     "output_type": "stream",
     "text": [
      "Epoch: 608 - train_elbo: -110.7966 train_logpx: -105.9590 train_tvo_log_evidence: -106.0039\n"
     ]
    },
    {
     "name": "stderr",
     "output_type": "stream",
     "text": [
      "\r",
      " 12%|█████████▍                                                                   | 609/5000 [11:19<1:20:32,  1.10s/it]"
     ]
    },
    {
     "name": "stdout",
     "output_type": "stream",
     "text": [
      "Epoch: 609 - train_elbo: -110.9593 train_logpx: -105.8763 train_tvo_log_evidence: -105.9228\n"
     ]
    },
    {
     "name": "stderr",
     "output_type": "stream",
     "text": [
      "\r",
      " 12%|█████████▍                                                                   | 610/5000 [11:20<1:18:58,  1.08s/it]"
     ]
    },
    {
     "name": "stdout",
     "output_type": "stream",
     "text": [
      "Epoch: 610 - train_elbo: -110.8717 train_logpx: -105.7885 train_tvo_log_evidence: -105.8351\n"
     ]
    },
    {
     "name": "stderr",
     "output_type": "stream",
     "text": [
      "\r",
      " 12%|█████████▍                                                                   | 611/5000 [11:21<1:16:21,  1.04s/it]"
     ]
    },
    {
     "name": "stdout",
     "output_type": "stream",
     "text": [
      "Epoch: 611 - train_elbo: -110.9720 train_logpx: -105.9160 train_tvo_log_evidence: -105.9628\n"
     ]
    },
    {
     "name": "stderr",
     "output_type": "stream",
     "text": [
      "\r",
      " 12%|█████████▍                                                                   | 612/5000 [11:22<1:15:08,  1.03s/it]"
     ]
    },
    {
     "name": "stdout",
     "output_type": "stream",
     "text": [
      "==================================\n",
      "K=6 points=tensor([0.0000, 0.0723, 0.0796, 0.0847, 0.1276, 1.0000], device='cuda:0')\n",
      "==================================\n",
      "Epoch: 612 - train_elbo: -111.0475 train_logpx: -105.8725 train_tvo_log_evidence: -105.9198\n"
     ]
    },
    {
     "name": "stderr",
     "output_type": "stream",
     "text": [
      "\r",
      " 12%|█████████▍                                                                   | 613/5000 [11:25<1:55:18,  1.58s/it]"
     ]
    },
    {
     "name": "stdout",
     "output_type": "stream",
     "text": [
      "Epoch: 613 - train_elbo: -110.8363 train_logpx: -105.8257 train_tvo_log_evidence: -105.8721\n"
     ]
    },
    {
     "name": "stderr",
     "output_type": "stream",
     "text": [
      "\r",
      " 12%|█████████▍                                                                   | 614/5000 [11:26<1:44:42,  1.43s/it]"
     ]
    },
    {
     "name": "stdout",
     "output_type": "stream",
     "text": [
      "Epoch: 614 - train_elbo: -110.6937 train_logpx: -105.7697 train_tvo_log_evidence: -105.8154\n"
     ]
    },
    {
     "name": "stderr",
     "output_type": "stream",
     "text": [
      "\r",
      " 12%|█████████▍                                                                   | 615/5000 [11:27<1:34:22,  1.29s/it]"
     ]
    },
    {
     "name": "stdout",
     "output_type": "stream",
     "text": [
      "Epoch: 615 - train_elbo: -110.5904 train_logpx: -105.6870 train_tvo_log_evidence: -105.7323\n"
     ]
    },
    {
     "name": "stderr",
     "output_type": "stream",
     "text": [
      "\r",
      " 12%|█████████▍                                                                   | 616/5000 [11:28<1:27:01,  1.19s/it]"
     ]
    },
    {
     "name": "stdout",
     "output_type": "stream",
     "text": [
      "Epoch: 616 - train_elbo: -110.7065 train_logpx: -105.7950 train_tvo_log_evidence: -105.8402\n"
     ]
    },
    {
     "name": "stderr",
     "output_type": "stream",
     "text": [
      "\r",
      " 12%|█████████▌                                                                   | 617/5000 [11:29<1:22:13,  1.13s/it]"
     ]
    },
    {
     "name": "stdout",
     "output_type": "stream",
     "text": [
      "Epoch: 617 - train_elbo: -110.4450 train_logpx: -105.5922 train_tvo_log_evidence: -105.6371\n"
     ]
    },
    {
     "name": "stderr",
     "output_type": "stream",
     "text": [
      "\r",
      " 12%|█████████▌                                                                   | 618/5000 [11:30<1:19:56,  1.09s/it]"
     ]
    },
    {
     "name": "stdout",
     "output_type": "stream",
     "text": [
      "Epoch: 618 - train_elbo: -110.4465 train_logpx: -105.5828 train_tvo_log_evidence: -105.6279\n"
     ]
    },
    {
     "name": "stderr",
     "output_type": "stream",
     "text": [
      "\r",
      " 12%|█████████▌                                                                   | 619/5000 [11:31<1:17:22,  1.06s/it]"
     ]
    },
    {
     "name": "stdout",
     "output_type": "stream",
     "text": [
      "Epoch: 619 - train_elbo: -110.4651 train_logpx: -105.5748 train_tvo_log_evidence: -105.6196\n"
     ]
    },
    {
     "name": "stderr",
     "output_type": "stream",
     "text": [
      "\r",
      " 12%|█████████▌                                                                   | 620/5000 [11:32<1:13:30,  1.01s/it]"
     ]
    },
    {
     "name": "stdout",
     "output_type": "stream",
     "text": [
      "Epoch: 620 - train_elbo: -110.4236 train_logpx: -105.6153 train_tvo_log_evidence: -105.6594\n"
     ]
    },
    {
     "name": "stderr",
     "output_type": "stream",
     "text": [
      "\r",
      " 12%|█████████▌                                                                   | 621/5000 [11:33<1:11:33,  1.02it/s]"
     ]
    },
    {
     "name": "stdout",
     "output_type": "stream",
     "text": [
      "Epoch: 621 - train_elbo: -110.3403 train_logpx: -105.5233 train_tvo_log_evidence: -105.5672\n"
     ]
    },
    {
     "name": "stderr",
     "output_type": "stream",
     "text": [
      "\r",
      " 12%|█████████▌                                                                   | 622/5000 [11:34<1:11:08,  1.03it/s]"
     ]
    },
    {
     "name": "stdout",
     "output_type": "stream",
     "text": [
      "Epoch: 622 - train_elbo: -110.3967 train_logpx: -105.5558 train_tvo_log_evidence: -105.6003\n"
     ]
    },
    {
     "name": "stderr",
     "output_type": "stream",
     "text": [
      "\r",
      " 12%|█████████▌                                                                   | 623/5000 [11:35<1:09:52,  1.04it/s]"
     ]
    },
    {
     "name": "stdout",
     "output_type": "stream",
     "text": [
      "Epoch: 623 - train_elbo: -110.3306 train_logpx: -105.4953 train_tvo_log_evidence: -105.5400\n"
     ]
    },
    {
     "name": "stderr",
     "output_type": "stream",
     "text": [
      "\r",
      " 12%|█████████▌                                                                   | 624/5000 [11:36<1:08:45,  1.06it/s]"
     ]
    },
    {
     "name": "stdout",
     "output_type": "stream",
     "text": [
      "estimated [epsilon lengthscale noisevar] [0.9        1.99983964 0.19969811]\n",
      "==================================\n",
      "K=6 points=tensor([0.0000, 0.1401, 0.1999, 0.2836, 0.6216, 1.0000], device='cuda:0')\n",
      "==================================\n",
      "args.schedule_update_frequency= 13\n",
      "Epoch: 624 - train_elbo: -110.3515 train_logpx: -105.3116 train_tvo_log_evidence: -105.3579\n"
     ]
    },
    {
     "name": "stderr",
     "output_type": "stream",
     "text": [
      "\r",
      " 12%|█████████▋                                                                   | 625/5000 [11:38<1:34:40,  1.30s/it]"
     ]
    },
    {
     "name": "stdout",
     "output_type": "stream",
     "text": [
      "Epoch: 625 - train_elbo: -110.5342 train_logpx: -105.4086 train_tvo_log_evidence: -105.4553\n"
     ]
    },
    {
     "name": "stderr",
     "output_type": "stream",
     "text": [
      "\r",
      " 13%|█████████▋                                                                   | 626/5000 [11:39<1:27:02,  1.19s/it]"
     ]
    },
    {
     "name": "stdout",
     "output_type": "stream",
     "text": [
      "Epoch: 626 - train_elbo: -110.3866 train_logpx: -105.3370 train_tvo_log_evidence: -105.3828\n"
     ]
    },
    {
     "name": "stderr",
     "output_type": "stream",
     "text": [
      "\r",
      " 13%|█████████▋                                                                   | 627/5000 [11:40<1:20:44,  1.11s/it]"
     ]
    },
    {
     "name": "stdout",
     "output_type": "stream",
     "text": [
      "Epoch: 627 - train_elbo: -110.2528 train_logpx: -105.3288 train_tvo_log_evidence: -105.3742\n"
     ]
    },
    {
     "name": "stderr",
     "output_type": "stream",
     "text": [
      "\r",
      " 13%|█████████▋                                                                   | 628/5000 [11:41<1:17:33,  1.06s/it]"
     ]
    },
    {
     "name": "stdout",
     "output_type": "stream",
     "text": [
      "Epoch: 628 - train_elbo: -110.1925 train_logpx: -105.2705 train_tvo_log_evidence: -105.3160\n"
     ]
    },
    {
     "name": "stderr",
     "output_type": "stream",
     "text": [
      "\r",
      " 13%|█████████▋                                                                   | 629/5000 [11:42<1:15:11,  1.03s/it]"
     ]
    },
    {
     "name": "stdout",
     "output_type": "stream",
     "text": [
      "Epoch: 629 - train_elbo: -110.1741 train_logpx: -105.2581 train_tvo_log_evidence: -105.3038\n"
     ]
    },
    {
     "name": "stderr",
     "output_type": "stream",
     "text": [
      "\r",
      " 13%|█████████▋                                                                   | 630/5000 [11:43<1:14:19,  1.02s/it]"
     ]
    },
    {
     "name": "stdout",
     "output_type": "stream",
     "text": [
      "Epoch: 630 - train_elbo: -109.9697 train_logpx: -105.0541 train_tvo_log_evidence: -105.0994\n"
     ]
    },
    {
     "name": "stderr",
     "output_type": "stream",
     "text": [
      "\r",
      " 13%|█████████▋                                                                   | 631/5000 [11:44<1:11:17,  1.02it/s]"
     ]
    },
    {
     "name": "stdout",
     "output_type": "stream",
     "text": [
      "Epoch: 631 - train_elbo: -110.1148 train_logpx: -105.1511 train_tvo_log_evidence: -105.1963\n"
     ]
    },
    {
     "name": "stderr",
     "output_type": "stream",
     "text": [
      "\r",
      " 13%|█████████▋                                                                   | 632/5000 [11:45<1:09:58,  1.04it/s]"
     ]
    },
    {
     "name": "stdout",
     "output_type": "stream",
     "text": [
      "Epoch: 632 - train_elbo: -110.0945 train_logpx: -105.0781 train_tvo_log_evidence: -105.1236\n"
     ]
    },
    {
     "name": "stderr",
     "output_type": "stream",
     "text": [
      "\r",
      " 13%|█████████▋                                                                   | 633/5000 [11:45<1:09:34,  1.05it/s]"
     ]
    },
    {
     "name": "stdout",
     "output_type": "stream",
     "text": [
      "Epoch: 633 - train_elbo: -110.0015 train_logpx: -105.0453 train_tvo_log_evidence: -105.0908\n"
     ]
    },
    {
     "name": "stderr",
     "output_type": "stream",
     "text": [
      "\r",
      " 13%|█████████▊                                                                   | 634/5000 [11:46<1:08:03,  1.07it/s]"
     ]
    },
    {
     "name": "stdout",
     "output_type": "stream",
     "text": [
      "Epoch: 634 - train_elbo: -110.0041 train_logpx: -105.0443 train_tvo_log_evidence: -105.0898\n"
     ]
    },
    {
     "name": "stderr",
     "output_type": "stream",
     "text": [
      "\r",
      " 13%|█████████▊                                                                   | 635/5000 [11:47<1:07:51,  1.07it/s]"
     ]
    },
    {
     "name": "stdout",
     "output_type": "stream",
     "text": [
      "Epoch: 635 - train_elbo: -110.1592 train_logpx: -105.1202 train_tvo_log_evidence: -105.1662\n"
     ]
    },
    {
     "name": "stderr",
     "output_type": "stream",
     "text": [
      "\r",
      " 13%|█████████▊                                                                   | 636/5000 [11:48<1:10:29,  1.03it/s]"
     ]
    },
    {
     "name": "stdout",
     "output_type": "stream",
     "text": [
      "Epoch: 636 - train_elbo: -110.0534 train_logpx: -105.0282 train_tvo_log_evidence: -105.0741\n"
     ]
    },
    {
     "name": "stderr",
     "output_type": "stream",
     "text": [
      "\r",
      " 13%|█████████▊                                                                   | 637/5000 [11:49<1:10:40,  1.03it/s]"
     ]
    },
    {
     "name": "stdout",
     "output_type": "stream",
     "text": [
      "==================================\n",
      "K=6 points=tensor([0.0000, 0.0562, 0.0848, 0.0973, 0.2258, 1.0000], device='cuda:0')\n",
      "==================================\n",
      "Epoch: 637 - train_elbo: -110.0732 train_logpx: -104.9861 train_tvo_log_evidence: -105.0321\n"
     ]
    },
    {
     "name": "stderr",
     "output_type": "stream",
     "text": [
      "\r",
      " 13%|█████████▊                                                                   | 638/5000 [11:52<1:47:47,  1.48s/it]"
     ]
    },
    {
     "name": "stdout",
     "output_type": "stream",
     "text": [
      "Epoch: 638 - train_elbo: -110.1934 train_logpx: -104.8592 train_tvo_log_evidence: -104.9067\n"
     ]
    },
    {
     "name": "stderr",
     "output_type": "stream",
     "text": [
      "\r",
      " 13%|█████████▊                                                                   | 639/5000 [11:53<1:35:56,  1.32s/it]"
     ]
    },
    {
     "name": "stdout",
     "output_type": "stream",
     "text": [
      "Epoch: 639 - train_elbo: -110.1938 train_logpx: -104.8697 train_tvo_log_evidence: -104.9175\n"
     ]
    },
    {
     "name": "stderr",
     "output_type": "stream",
     "text": [
      "\r",
      " 13%|█████████▊                                                                   | 640/5000 [11:54<1:26:06,  1.18s/it]"
     ]
    },
    {
     "name": "stdout",
     "output_type": "stream",
     "text": [
      "Epoch: 640 - train_elbo: -110.1644 train_logpx: -104.8268 train_tvo_log_evidence: -104.8746\n"
     ]
    },
    {
     "name": "stderr",
     "output_type": "stream",
     "text": [
      "\r",
      " 13%|█████████▊                                                                   | 641/5000 [11:55<1:21:26,  1.12s/it]"
     ]
    },
    {
     "name": "stdout",
     "output_type": "stream",
     "text": [
      "Epoch: 641 - train_elbo: -110.2747 train_logpx: -104.8595 train_tvo_log_evidence: -104.9076\n"
     ]
    },
    {
     "name": "stderr",
     "output_type": "stream",
     "text": [
      "\r",
      " 13%|█████████▉                                                                   | 642/5000 [11:56<1:17:55,  1.07s/it]"
     ]
    },
    {
     "name": "stdout",
     "output_type": "stream",
     "text": [
      "Epoch: 642 - train_elbo: -110.2582 train_logpx: -104.7620 train_tvo_log_evidence: -104.8108\n"
     ]
    },
    {
     "name": "stderr",
     "output_type": "stream",
     "text": [
      "\r",
      " 13%|█████████▉                                                                   | 643/5000 [11:57<1:15:21,  1.04s/it]"
     ]
    },
    {
     "name": "stdout",
     "output_type": "stream",
     "text": [
      "Epoch: 643 - train_elbo: -110.3552 train_logpx: -104.8752 train_tvo_log_evidence: -104.9238\n"
     ]
    },
    {
     "name": "stderr",
     "output_type": "stream",
     "text": [
      "\r",
      " 13%|█████████▉                                                                   | 644/5000 [11:58<1:13:24,  1.01s/it]"
     ]
    },
    {
     "name": "stdout",
     "output_type": "stream",
     "text": [
      "Epoch: 644 - train_elbo: -110.1898 train_logpx: -104.7096 train_tvo_log_evidence: -104.7582\n"
     ]
    },
    {
     "name": "stderr",
     "output_type": "stream",
     "text": [
      "\r",
      " 13%|█████████▉                                                                   | 645/5000 [11:59<1:10:45,  1.03it/s]"
     ]
    },
    {
     "name": "stdout",
     "output_type": "stream",
     "text": [
      "Epoch: 645 - train_elbo: -110.2164 train_logpx: -104.7145 train_tvo_log_evidence: -104.7626\n"
     ]
    },
    {
     "name": "stderr",
     "output_type": "stream",
     "text": [
      "\r",
      " 13%|█████████▉                                                                   | 646/5000 [11:59<1:09:27,  1.04it/s]"
     ]
    },
    {
     "name": "stdout",
     "output_type": "stream",
     "text": [
      "Epoch: 646 - train_elbo: -110.0568 train_logpx: -104.5427 train_tvo_log_evidence: -104.5916\n"
     ]
    },
    {
     "name": "stderr",
     "output_type": "stream",
     "text": [
      "\r",
      " 13%|█████████▉                                                                   | 647/5000 [12:00<1:08:46,  1.05it/s]"
     ]
    },
    {
     "name": "stdout",
     "output_type": "stream",
     "text": [
      "Epoch: 647 - train_elbo: -110.1482 train_logpx: -104.7006 train_tvo_log_evidence: -104.7490\n"
     ]
    },
    {
     "name": "stderr",
     "output_type": "stream",
     "text": [
      "\r",
      " 13%|█████████▉                                                                   | 648/5000 [12:01<1:08:16,  1.06it/s]"
     ]
    },
    {
     "name": "stdout",
     "output_type": "stream",
     "text": [
      "Epoch: 648 - train_elbo: -109.9120 train_logpx: -104.5645 train_tvo_log_evidence: -104.6119\n"
     ]
    },
    {
     "name": "stderr",
     "output_type": "stream",
     "text": [
      "\r",
      " 13%|█████████▉                                                                   | 649/5000 [12:02<1:07:44,  1.07it/s]"
     ]
    },
    {
     "name": "stdout",
     "output_type": "stream",
     "text": [
      "Epoch: 649 - train_elbo: -109.8243 train_logpx: -104.4904 train_tvo_log_evidence: -104.5377\n"
     ]
    },
    {
     "name": "stderr",
     "output_type": "stream",
     "text": [
      "\r",
      " 13%|██████████                                                                   | 650/5000 [12:03<1:07:53,  1.07it/s]"
     ]
    },
    {
     "name": "stdout",
     "output_type": "stream",
     "text": [
      "==================================\n",
      "K=6 points=tensor([0.0000, 0.0640, 0.0848, 0.0973, 0.1275, 1.0000], device='cuda:0')\n",
      "==================================\n",
      "Epoch: 650 - train_elbo: -109.9095 train_logpx: -104.7144 train_tvo_log_evidence: -104.7615\n"
     ]
    },
    {
     "name": "stderr",
     "output_type": "stream",
     "text": [
      "\r",
      " 13%|██████████                                                                   | 651/5000 [12:06<1:52:09,  1.55s/it]"
     ]
    },
    {
     "name": "stdout",
     "output_type": "stream",
     "text": [
      "Epoch: 651 - train_elbo: -109.8072 train_logpx: -104.7714 train_tvo_log_evidence: -104.8181\n"
     ]
    },
    {
     "name": "stderr",
     "output_type": "stream",
     "text": [
      "\r",
      " 13%|██████████                                                                   | 652/5000 [12:07<1:39:29,  1.37s/it]"
     ]
    },
    {
     "name": "stdout",
     "output_type": "stream",
     "text": [
      "Epoch: 652 - train_elbo: -109.8102 train_logpx: -104.6472 train_tvo_log_evidence: -104.6940\n"
     ]
    },
    {
     "name": "stderr",
     "output_type": "stream",
     "text": [
      "\r",
      " 13%|██████████                                                                   | 653/5000 [12:08<1:31:50,  1.27s/it]"
     ]
    },
    {
     "name": "stdout",
     "output_type": "stream",
     "text": [
      "Epoch: 653 - train_elbo: -109.7994 train_logpx: -104.6344 train_tvo_log_evidence: -104.6814\n"
     ]
    },
    {
     "name": "stderr",
     "output_type": "stream",
     "text": [
      "\r",
      " 13%|██████████                                                                   | 654/5000 [12:09<1:26:52,  1.20s/it]"
     ]
    },
    {
     "name": "stdout",
     "output_type": "stream",
     "text": [
      "Epoch: 654 - train_elbo: -109.7415 train_logpx: -104.7057 train_tvo_log_evidence: -104.7519\n"
     ]
    },
    {
     "name": "stderr",
     "output_type": "stream",
     "text": [
      "\r",
      " 13%|██████████                                                                   | 655/5000 [12:10<1:20:57,  1.12s/it]"
     ]
    },
    {
     "name": "stdout",
     "output_type": "stream",
     "text": [
      "Epoch: 655 - train_elbo: -109.6477 train_logpx: -104.5972 train_tvo_log_evidence: -104.6439\n"
     ]
    },
    {
     "name": "stderr",
     "output_type": "stream",
     "text": [
      "\r",
      " 13%|██████████                                                                   | 656/5000 [12:11<1:16:57,  1.06s/it]"
     ]
    },
    {
     "name": "stdout",
     "output_type": "stream",
     "text": [
      "Epoch: 656 - train_elbo: -109.7215 train_logpx: -104.7028 train_tvo_log_evidence: -104.7487\n"
     ]
    },
    {
     "name": "stderr",
     "output_type": "stream",
     "text": [
      "\r",
      " 13%|██████████                                                                   | 657/5000 [12:12<1:15:34,  1.04s/it]"
     ]
    },
    {
     "name": "stdout",
     "output_type": "stream",
     "text": [
      "Epoch: 657 - train_elbo: -109.5975 train_logpx: -104.6579 train_tvo_log_evidence: -104.7037\n"
     ]
    },
    {
     "name": "stderr",
     "output_type": "stream",
     "text": [
      "\r",
      " 13%|██████████▏                                                                  | 658/5000 [12:13<1:13:14,  1.01s/it]"
     ]
    },
    {
     "name": "stdout",
     "output_type": "stream",
     "text": [
      "Epoch: 658 - train_elbo: -109.6524 train_logpx: -104.5716 train_tvo_log_evidence: -104.6181\n"
     ]
    },
    {
     "name": "stderr",
     "output_type": "stream",
     "text": [
      "\r",
      " 13%|██████████▏                                                                  | 659/5000 [12:14<1:12:14,  1.00it/s]"
     ]
    },
    {
     "name": "stdout",
     "output_type": "stream",
     "text": [
      "Epoch: 659 - train_elbo: -109.6906 train_logpx: -104.6113 train_tvo_log_evidence: -104.6579\n"
     ]
    },
    {
     "name": "stderr",
     "output_type": "stream",
     "text": [
      "\r",
      " 13%|██████████▏                                                                  | 660/5000 [12:15<1:10:09,  1.03it/s]"
     ]
    },
    {
     "name": "stdout",
     "output_type": "stream",
     "text": [
      "Epoch: 660 - train_elbo: -109.5213 train_logpx: -104.6137 train_tvo_log_evidence: -104.6592\n"
     ]
    },
    {
     "name": "stderr",
     "output_type": "stream",
     "text": [
      "\r",
      " 13%|██████████▏                                                                  | 661/5000 [12:16<1:13:09,  1.01s/it]"
     ]
    },
    {
     "name": "stdout",
     "output_type": "stream",
     "text": [
      "Epoch: 661 - train_elbo: -109.4925 train_logpx: -104.6203 train_tvo_log_evidence: -104.6658\n"
     ]
    },
    {
     "name": "stderr",
     "output_type": "stream",
     "text": [
      "\r",
      " 13%|██████████▏                                                                  | 662/5000 [12:17<1:12:40,  1.01s/it]"
     ]
    },
    {
     "name": "stdout",
     "output_type": "stream",
     "text": [
      "Epoch: 662 - train_elbo: -109.4811 train_logpx: -104.5200 train_tvo_log_evidence: -104.5659\n"
     ]
    },
    {
     "name": "stderr",
     "output_type": "stream",
     "text": [
      "\r",
      " 13%|██████████▏                                                                  | 663/5000 [12:18<1:11:37,  1.01it/s]"
     ]
    },
    {
     "name": "stdout",
     "output_type": "stream",
     "text": [
      "==================================\n",
      "K=6 points=tensor([0.0000, 0.0599, 0.0721, 0.0725, 0.4214, 1.0000], device='cuda:0')\n",
      "==================================\n",
      "Epoch: 663 - train_elbo: -109.4628 train_logpx: -104.3709 train_tvo_log_evidence: -104.4178\n"
     ]
    },
    {
     "name": "stderr",
     "output_type": "stream",
     "text": [
      "\r",
      " 13%|██████████▏                                                                  | 664/5000 [12:21<1:53:53,  1.58s/it]"
     ]
    },
    {
     "name": "stdout",
     "output_type": "stream",
     "text": [
      "Epoch: 664 - train_elbo: -109.3558 train_logpx: -104.4810 train_tvo_log_evidence: -104.5266\n"
     ]
    },
    {
     "name": "stderr",
     "output_type": "stream",
     "text": [
      "\r",
      " 13%|██████████▏                                                                  | 665/5000 [12:22<1:42:55,  1.42s/it]"
     ]
    },
    {
     "name": "stdout",
     "output_type": "stream",
     "text": [
      "Epoch: 665 - train_elbo: -109.3785 train_logpx: -104.5652 train_tvo_log_evidence: -104.6101\n"
     ]
    },
    {
     "name": "stderr",
     "output_type": "stream",
     "text": [
      "\r",
      " 13%|██████████▎                                                                  | 666/5000 [12:23<1:33:26,  1.29s/it]"
     ]
    },
    {
     "name": "stdout",
     "output_type": "stream",
     "text": [
      "Epoch: 666 - train_elbo: -109.2570 train_logpx: -104.3616 train_tvo_log_evidence: -104.4066\n"
     ]
    },
    {
     "name": "stderr",
     "output_type": "stream",
     "text": [
      "\r",
      " 13%|██████████▎                                                                  | 667/5000 [12:24<1:25:08,  1.18s/it]"
     ]
    },
    {
     "name": "stdout",
     "output_type": "stream",
     "text": [
      "Epoch: 667 - train_elbo: -109.2393 train_logpx: -104.3642 train_tvo_log_evidence: -104.4092\n"
     ]
    },
    {
     "name": "stderr",
     "output_type": "stream",
     "text": [
      "\r",
      " 13%|██████████▎                                                                  | 668/5000 [12:25<1:19:53,  1.11s/it]"
     ]
    },
    {
     "name": "stdout",
     "output_type": "stream",
     "text": [
      "Epoch: 668 - train_elbo: -109.2225 train_logpx: -104.3709 train_tvo_log_evidence: -104.4156\n"
     ]
    },
    {
     "name": "stderr",
     "output_type": "stream",
     "text": [
      "\r",
      " 13%|██████████▎                                                                  | 669/5000 [12:26<1:16:31,  1.06s/it]"
     ]
    },
    {
     "name": "stdout",
     "output_type": "stream",
     "text": [
      "Epoch: 669 - train_elbo: -109.2548 train_logpx: -104.4159 train_tvo_log_evidence: -104.4609\n"
     ]
    },
    {
     "name": "stderr",
     "output_type": "stream",
     "text": [
      "\r",
      " 13%|██████████▎                                                                  | 670/5000 [12:27<1:14:05,  1.03s/it]"
     ]
    },
    {
     "name": "stdout",
     "output_type": "stream",
     "text": [
      "Epoch: 670 - train_elbo: -109.0973 train_logpx: -104.1856 train_tvo_log_evidence: -104.2310\n"
     ]
    },
    {
     "name": "stderr",
     "output_type": "stream",
     "text": [
      "\r",
      " 13%|██████████▎                                                                  | 671/5000 [12:28<1:13:35,  1.02s/it]"
     ]
    },
    {
     "name": "stdout",
     "output_type": "stream",
     "text": [
      "Epoch: 671 - train_elbo: -109.0267 train_logpx: -104.1402 train_tvo_log_evidence: -104.1853\n"
     ]
    },
    {
     "name": "stderr",
     "output_type": "stream",
     "text": [
      "\r",
      " 13%|██████████▎                                                                  | 672/5000 [12:29<1:12:57,  1.01s/it]"
     ]
    },
    {
     "name": "stdout",
     "output_type": "stream",
     "text": [
      "Epoch: 672 - train_elbo: -109.0042 train_logpx: -104.1615 train_tvo_log_evidence: -104.2066\n"
     ]
    },
    {
     "name": "stderr",
     "output_type": "stream",
     "text": [
      "\r",
      " 13%|██████████▎                                                                  | 673/5000 [12:30<1:13:06,  1.01s/it]"
     ]
    },
    {
     "name": "stdout",
     "output_type": "stream",
     "text": [
      "Epoch: 673 - train_elbo: -108.9638 train_logpx: -104.1040 train_tvo_log_evidence: -104.1491\n"
     ]
    },
    {
     "name": "stderr",
     "output_type": "stream",
     "text": [
      "\r",
      " 13%|██████████▍                                                                  | 674/5000 [12:31<1:10:00,  1.03it/s]"
     ]
    },
    {
     "name": "stdout",
     "output_type": "stream",
     "text": [
      "Epoch: 674 - train_elbo: -109.0963 train_logpx: -104.2025 train_tvo_log_evidence: -104.2479\n"
     ]
    },
    {
     "name": "stderr",
     "output_type": "stream",
     "text": [
      "\r",
      " 14%|██████████▍                                                                  | 675/5000 [12:31<1:08:39,  1.05it/s]"
     ]
    },
    {
     "name": "stdout",
     "output_type": "stream",
     "text": [
      "Epoch: 675 - train_elbo: -108.8781 train_logpx: -104.0346 train_tvo_log_evidence: -104.0797\n"
     ]
    },
    {
     "name": "stderr",
     "output_type": "stream",
     "text": [
      "\r",
      " 14%|██████████▍                                                                  | 676/5000 [12:32<1:07:53,  1.06it/s]"
     ]
    },
    {
     "name": "stdout",
     "output_type": "stream",
     "text": [
      "==================================\n",
      "K=6 points=tensor([0.0000, 0.0599, 0.0722, 0.0977, 0.2252, 1.0000], device='cuda:0')\n",
      "==================================\n",
      "Epoch: 676 - train_elbo: -109.0933 train_logpx: -104.0405 train_tvo_log_evidence: -104.0869\n"
     ]
    },
    {
     "name": "stderr",
     "output_type": "stream",
     "text": [
      "\r",
      " 14%|██████████▍                                                                  | 677/5000 [12:35<1:44:05,  1.44s/it]"
     ]
    },
    {
     "name": "stdout",
     "output_type": "stream",
     "text": [
      "Epoch: 677 - train_elbo: -109.4075 train_logpx: -103.9713 train_tvo_log_evidence: -104.0197\n"
     ]
    },
    {
     "name": "stderr",
     "output_type": "stream",
     "text": [
      "\r",
      " 14%|██████████▍                                                                  | 678/5000 [12:36<1:32:38,  1.29s/it]"
     ]
    },
    {
     "name": "stdout",
     "output_type": "stream",
     "text": [
      "Epoch: 678 - train_elbo: -109.3927 train_logpx: -103.9338 train_tvo_log_evidence: -103.9821\n"
     ]
    },
    {
     "name": "stderr",
     "output_type": "stream",
     "text": [
      "\r",
      " 14%|██████████▍                                                                  | 679/5000 [12:37<1:23:38,  1.16s/it]"
     ]
    },
    {
     "name": "stdout",
     "output_type": "stream",
     "text": [
      "Epoch: 679 - train_elbo: -109.1816 train_logpx: -103.9151 train_tvo_log_evidence: -103.9621\n"
     ]
    },
    {
     "name": "stderr",
     "output_type": "stream",
     "text": [
      "\r",
      " 14%|██████████▍                                                                  | 680/5000 [12:38<1:20:38,  1.12s/it]"
     ]
    },
    {
     "name": "stdout",
     "output_type": "stream",
     "text": [
      "Epoch: 680 - train_elbo: -109.3545 train_logpx: -103.9780 train_tvo_log_evidence: -104.0260\n"
     ]
    },
    {
     "name": "stderr",
     "output_type": "stream",
     "text": [
      "\r",
      " 14%|██████████▍                                                                  | 681/5000 [12:39<1:17:01,  1.07s/it]"
     ]
    },
    {
     "name": "stdout",
     "output_type": "stream",
     "text": [
      "Epoch: 681 - train_elbo: -109.5728 train_logpx: -104.0075 train_tvo_log_evidence: -104.0569\n"
     ]
    },
    {
     "name": "stderr",
     "output_type": "stream",
     "text": [
      "\r",
      " 14%|██████████▌                                                                  | 682/5000 [12:40<1:14:09,  1.03s/it]"
     ]
    },
    {
     "name": "stdout",
     "output_type": "stream",
     "text": [
      "Epoch: 682 - train_elbo: -109.2885 train_logpx: -103.8725 train_tvo_log_evidence: -103.9208\n"
     ]
    },
    {
     "name": "stderr",
     "output_type": "stream",
     "text": [
      "\r",
      " 14%|██████████▌                                                                  | 683/5000 [12:41<1:14:12,  1.03s/it]"
     ]
    },
    {
     "name": "stdout",
     "output_type": "stream",
     "text": [
      "Epoch: 683 - train_elbo: -109.2421 train_logpx: -103.8399 train_tvo_log_evidence: -103.8883\n"
     ]
    },
    {
     "name": "stderr",
     "output_type": "stream",
     "text": [
      "\r",
      " 14%|██████████▌                                                                  | 684/5000 [12:42<1:11:42,  1.00it/s]"
     ]
    },
    {
     "name": "stdout",
     "output_type": "stream",
     "text": [
      "Epoch: 684 - train_elbo: -109.4218 train_logpx: -103.9494 train_tvo_log_evidence: -103.9979\n"
     ]
    },
    {
     "name": "stderr",
     "output_type": "stream",
     "text": [
      "\r",
      " 14%|██████████▌                                                                  | 685/5000 [12:43<1:12:06,  1.00s/it]"
     ]
    },
    {
     "name": "stdout",
     "output_type": "stream",
     "text": [
      "Epoch: 685 - train_elbo: -109.3771 train_logpx: -103.8594 train_tvo_log_evidence: -103.9083\n"
     ]
    },
    {
     "name": "stderr",
     "output_type": "stream",
     "text": [
      "\r",
      " 14%|██████████▌                                                                  | 686/5000 [12:44<1:11:16,  1.01it/s]"
     ]
    },
    {
     "name": "stdout",
     "output_type": "stream",
     "text": [
      "Epoch: 686 - train_elbo: -109.4349 train_logpx: -103.9783 train_tvo_log_evidence: -104.0263\n"
     ]
    },
    {
     "name": "stderr",
     "output_type": "stream",
     "text": [
      "\r",
      " 14%|██████████▌                                                                  | 687/5000 [12:45<1:09:25,  1.04it/s]"
     ]
    },
    {
     "name": "stdout",
     "output_type": "stream",
     "text": [
      "Epoch: 687 - train_elbo: -109.2305 train_logpx: -103.8142 train_tvo_log_evidence: -103.8626\n"
     ]
    },
    {
     "name": "stderr",
     "output_type": "stream",
     "text": [
      "\r",
      " 14%|██████████▌                                                                  | 688/5000 [12:45<1:08:45,  1.05it/s]"
     ]
    },
    {
     "name": "stdout",
     "output_type": "stream",
     "text": [
      "Epoch: 688 - train_elbo: -109.1802 train_logpx: -103.7962 train_tvo_log_evidence: -103.8445\n"
     ]
    },
    {
     "name": "stderr",
     "output_type": "stream",
     "text": [
      "\r",
      " 14%|██████████▌                                                                  | 689/5000 [12:47<1:13:08,  1.02s/it]"
     ]
    },
    {
     "name": "stdout",
     "output_type": "stream",
     "text": [
      "estimated [epsilon lengthscale noisevar] [0.9        1.96690704 0.19133851]\n",
      "==================================\n",
      "K=6 points=tensor([0.0000, 0.1160, 0.2834, 0.3204, 0.4838, 1.0000], device='cuda:0')\n",
      "==================================\n",
      "Epoch: 689 - train_elbo: -109.0161 train_logpx: -103.5972 train_tvo_log_evidence: -103.6452\n"
     ]
    },
    {
     "name": "stderr",
     "output_type": "stream",
     "text": [
      "\r",
      " 14%|██████████▋                                                                  | 690/5000 [12:49<1:41:29,  1.41s/it]"
     ]
    },
    {
     "name": "stdout",
     "output_type": "stream",
     "text": [
      "Epoch: 690 - train_elbo: -108.9455 train_logpx: -103.6871 train_tvo_log_evidence: -103.7347\n"
     ]
    },
    {
     "name": "stderr",
     "output_type": "stream",
     "text": [
      "\r",
      " 14%|██████████▋                                                                  | 691/5000 [12:50<1:32:14,  1.28s/it]"
     ]
    },
    {
     "name": "stdout",
     "output_type": "stream",
     "text": [
      "Epoch: 691 - train_elbo: -108.9407 train_logpx: -103.8302 train_tvo_log_evidence: -103.8774\n"
     ]
    },
    {
     "name": "stderr",
     "output_type": "stream",
     "text": [
      "\r",
      " 14%|██████████▋                                                                  | 692/5000 [12:51<1:24:37,  1.18s/it]"
     ]
    },
    {
     "name": "stdout",
     "output_type": "stream",
     "text": [
      "Epoch: 692 - train_elbo: -108.7878 train_logpx: -103.6747 train_tvo_log_evidence: -103.7214\n"
     ]
    },
    {
     "name": "stderr",
     "output_type": "stream",
     "text": [
      "\r",
      " 14%|██████████▋                                                                  | 693/5000 [12:52<1:21:30,  1.14s/it]"
     ]
    },
    {
     "name": "stdout",
     "output_type": "stream",
     "text": [
      "Epoch: 693 - train_elbo: -108.9041 train_logpx: -103.7116 train_tvo_log_evidence: -103.7589\n"
     ]
    },
    {
     "name": "stderr",
     "output_type": "stream",
     "text": [
      "\r",
      " 14%|██████████▋                                                                  | 694/5000 [12:53<1:18:26,  1.09s/it]"
     ]
    },
    {
     "name": "stdout",
     "output_type": "stream",
     "text": [
      "Epoch: 694 - train_elbo: -108.9375 train_logpx: -103.6744 train_tvo_log_evidence: -103.7224\n"
     ]
    },
    {
     "name": "stderr",
     "output_type": "stream",
     "text": [
      "\r",
      " 14%|██████████▋                                                                  | 695/5000 [12:54<1:15:08,  1.05s/it]"
     ]
    },
    {
     "name": "stdout",
     "output_type": "stream",
     "text": [
      "Epoch: 695 - train_elbo: -108.8940 train_logpx: -103.6800 train_tvo_log_evidence: -103.7275\n"
     ]
    },
    {
     "name": "stderr",
     "output_type": "stream",
     "text": [
      "\r",
      " 14%|██████████▋                                                                  | 696/5000 [12:55<1:12:02,  1.00s/it]"
     ]
    },
    {
     "name": "stdout",
     "output_type": "stream",
     "text": [
      "Epoch: 696 - train_elbo: -108.8289 train_logpx: -103.6641 train_tvo_log_evidence: -103.7113\n"
     ]
    },
    {
     "name": "stderr",
     "output_type": "stream",
     "text": [
      "\r",
      " 14%|██████████▋                                                                  | 697/5000 [12:56<1:10:44,  1.01it/s]"
     ]
    },
    {
     "name": "stdout",
     "output_type": "stream",
     "text": [
      "Epoch: 697 - train_elbo: -108.7500 train_logpx: -103.5834 train_tvo_log_evidence: -103.6305\n"
     ]
    },
    {
     "name": "stderr",
     "output_type": "stream",
     "text": [
      "\r",
      " 14%|██████████▋                                                                  | 698/5000 [12:57<1:12:20,  1.01s/it]"
     ]
    },
    {
     "name": "stdout",
     "output_type": "stream",
     "text": [
      "Epoch: 698 - train_elbo: -108.7594 train_logpx: -103.5836 train_tvo_log_evidence: -103.6310\n"
     ]
    },
    {
     "name": "stderr",
     "output_type": "stream",
     "text": [
      "\r",
      " 14%|██████████▊                                                                  | 699/5000 [12:58<1:10:49,  1.01it/s]"
     ]
    },
    {
     "name": "stdout",
     "output_type": "stream",
     "text": [
      "Epoch: 699 - train_elbo: -108.6588 train_logpx: -103.5086 train_tvo_log_evidence: -103.5555\n"
     ]
    },
    {
     "name": "stderr",
     "output_type": "stream",
     "text": [
      "\r",
      " 14%|██████████▊                                                                  | 700/5000 [12:59<1:11:22,  1.00it/s]"
     ]
    },
    {
     "name": "stdout",
     "output_type": "stream",
     "text": [
      "Epoch: 700 - train_elbo: -108.8785 train_logpx: -103.6122 train_tvo_log_evidence: -103.6599\n"
     ]
    },
    {
     "name": "stderr",
     "output_type": "stream",
     "text": [
      "\r",
      " 14%|██████████▊                                                                  | 701/5000 [13:00<1:10:13,  1.02it/s]"
     ]
    },
    {
     "name": "stdout",
     "output_type": "stream",
     "text": [
      "Epoch: 701 - train_elbo: -108.5824 train_logpx: -103.3894 train_tvo_log_evidence: -103.4368\n"
     ]
    },
    {
     "name": "stderr",
     "output_type": "stream",
     "text": [
      "\r",
      " 14%|██████████▊                                                                  | 702/5000 [13:01<1:10:16,  1.02it/s]"
     ]
    },
    {
     "name": "stdout",
     "output_type": "stream",
     "text": [
      "==================================\n",
      "K=6 points=tensor([0.0000, 0.0600, 0.0645, 0.0978, 0.3212, 1.0000], device='cuda:0')\n",
      "==================================\n",
      "Epoch: 702 - train_elbo: -108.6387 train_logpx: -103.3968 train_tvo_log_evidence: -103.4446\n"
     ]
    },
    {
     "name": "stderr",
     "output_type": "stream",
     "text": [
      "\r",
      " 14%|██████████▊                                                                  | 703/5000 [13:03<1:41:15,  1.41s/it]"
     ]
    },
    {
     "name": "stdout",
     "output_type": "stream",
     "text": [
      "Epoch: 703 - train_elbo: -108.9642 train_logpx: -103.4908 train_tvo_log_evidence: -103.5398\n"
     ]
    },
    {
     "name": "stderr",
     "output_type": "stream",
     "text": [
      "\r",
      " 14%|██████████▊                                                                  | 704/5000 [13:04<1:30:48,  1.27s/it]"
     ]
    },
    {
     "name": "stdout",
     "output_type": "stream",
     "text": [
      "Epoch: 704 - train_elbo: -108.8988 train_logpx: -103.4219 train_tvo_log_evidence: -103.4706\n"
     ]
    },
    {
     "name": "stderr",
     "output_type": "stream",
     "text": [
      "\r",
      " 14%|██████████▊                                                                  | 705/5000 [13:05<1:23:02,  1.16s/it]"
     ]
    },
    {
     "name": "stdout",
     "output_type": "stream",
     "text": [
      "Epoch: 705 - train_elbo: -108.8160 train_logpx: -103.4244 train_tvo_log_evidence: -103.4730\n"
     ]
    },
    {
     "name": "stderr",
     "output_type": "stream",
     "text": [
      "\r",
      " 14%|██████████▊                                                                  | 706/5000 [13:06<1:18:09,  1.09s/it]"
     ]
    },
    {
     "name": "stdout",
     "output_type": "stream",
     "text": [
      "Epoch: 706 - train_elbo: -108.7531 train_logpx: -103.3320 train_tvo_log_evidence: -103.3808\n"
     ]
    },
    {
     "name": "stderr",
     "output_type": "stream",
     "text": [
      "\r",
      " 14%|██████████▉                                                                  | 707/5000 [13:07<1:15:57,  1.06s/it]"
     ]
    },
    {
     "name": "stdout",
     "output_type": "stream",
     "text": [
      "Epoch: 707 - train_elbo: -108.8942 train_logpx: -103.4166 train_tvo_log_evidence: -103.4656\n"
     ]
    },
    {
     "name": "stderr",
     "output_type": "stream",
     "text": [
      "\r",
      " 14%|██████████▉                                                                  | 708/5000 [13:08<1:13:29,  1.03s/it]"
     ]
    },
    {
     "name": "stdout",
     "output_type": "stream",
     "text": [
      "Epoch: 708 - train_elbo: -108.8428 train_logpx: -103.3977 train_tvo_log_evidence: -103.4467\n"
     ]
    },
    {
     "name": "stderr",
     "output_type": "stream",
     "text": [
      "\r",
      " 14%|██████████▉                                                                  | 709/5000 [13:09<1:11:58,  1.01s/it]"
     ]
    },
    {
     "name": "stdout",
     "output_type": "stream",
     "text": [
      "Epoch: 709 - train_elbo: -108.7904 train_logpx: -103.3083 train_tvo_log_evidence: -103.3571\n"
     ]
    },
    {
     "name": "stderr",
     "output_type": "stream",
     "text": [
      "\r",
      " 14%|██████████▉                                                                  | 710/5000 [13:10<1:10:38,  1.01it/s]"
     ]
    },
    {
     "name": "stdout",
     "output_type": "stream",
     "text": [
      "Epoch: 710 - train_elbo: -108.8033 train_logpx: -103.2755 train_tvo_log_evidence: -103.3246\n"
     ]
    },
    {
     "name": "stderr",
     "output_type": "stream",
     "text": [
      "\r",
      " 14%|██████████▉                                                                  | 711/5000 [13:11<1:08:13,  1.05it/s]"
     ]
    },
    {
     "name": "stdout",
     "output_type": "stream",
     "text": [
      "Epoch: 711 - train_elbo: -108.8002 train_logpx: -103.2337 train_tvo_log_evidence: -103.2830\n"
     ]
    },
    {
     "name": "stderr",
     "output_type": "stream",
     "text": [
      "\r",
      " 14%|██████████▉                                                                  | 712/5000 [13:11<1:08:18,  1.05it/s]"
     ]
    },
    {
     "name": "stdout",
     "output_type": "stream",
     "text": [
      "Epoch: 712 - train_elbo: -108.8755 train_logpx: -103.2713 train_tvo_log_evidence: -103.3210\n"
     ]
    },
    {
     "name": "stderr",
     "output_type": "stream",
     "text": [
      "\r",
      " 14%|██████████▉                                                                  | 713/5000 [13:12<1:07:40,  1.06it/s]"
     ]
    },
    {
     "name": "stdout",
     "output_type": "stream",
     "text": [
      "Epoch: 713 - train_elbo: -108.7053 train_logpx: -103.1481 train_tvo_log_evidence: -103.1976\n"
     ]
    },
    {
     "name": "stderr",
     "output_type": "stream",
     "text": [
      "\r",
      " 14%|██████████▉                                                                  | 714/5000 [13:13<1:07:25,  1.06it/s]"
     ]
    },
    {
     "name": "stdout",
     "output_type": "stream",
     "text": [
      "Epoch: 714 - train_elbo: -108.6501 train_logpx: -103.1726 train_tvo_log_evidence: -103.2214\n"
     ]
    },
    {
     "name": "stderr",
     "output_type": "stream",
     "text": [
      "\r",
      " 14%|███████████                                                                  | 715/5000 [13:14<1:07:16,  1.06it/s]"
     ]
    },
    {
     "name": "stdout",
     "output_type": "stream",
     "text": [
      "==================================\n",
      "K=6 points=tensor([0.0000, 0.0599, 0.0727, 0.0973, 0.2249, 1.0000], device='cuda:0')\n",
      "==================================\n",
      "Epoch: 715 - train_elbo: -108.8807 train_logpx: -103.3352 train_tvo_log_evidence: -103.3847\n"
     ]
    },
    {
     "name": "stderr",
     "output_type": "stream",
     "text": [
      "\r",
      " 14%|███████████                                                                  | 716/5000 [13:17<1:44:18,  1.46s/it]"
     ]
    },
    {
     "name": "stdout",
     "output_type": "stream",
     "text": [
      "Epoch: 716 - train_elbo: -108.7884 train_logpx: -103.2421 train_tvo_log_evidence: -103.2916\n"
     ]
    },
    {
     "name": "stderr",
     "output_type": "stream",
     "text": [
      "\r",
      " 14%|███████████                                                                  | 717/5000 [13:18<1:33:46,  1.31s/it]"
     ]
    },
    {
     "name": "stdout",
     "output_type": "stream",
     "text": [
      "Epoch: 717 - train_elbo: -108.7604 train_logpx: -103.1736 train_tvo_log_evidence: -103.2229\n"
     ]
    },
    {
     "name": "stderr",
     "output_type": "stream",
     "text": [
      "\r",
      " 14%|███████████                                                                  | 718/5000 [13:19<1:25:03,  1.19s/it]"
     ]
    },
    {
     "name": "stdout",
     "output_type": "stream",
     "text": [
      "Epoch: 718 - train_elbo: -108.6823 train_logpx: -103.1100 train_tvo_log_evidence: -103.1597\n"
     ]
    },
    {
     "name": "stderr",
     "output_type": "stream",
     "text": [
      "\r",
      " 14%|███████████                                                                  | 719/5000 [13:20<1:19:53,  1.12s/it]"
     ]
    },
    {
     "name": "stdout",
     "output_type": "stream",
     "text": [
      "Epoch: 719 - train_elbo: -108.7365 train_logpx: -103.1074 train_tvo_log_evidence: -103.1573\n"
     ]
    },
    {
     "name": "stderr",
     "output_type": "stream",
     "text": [
      "\r",
      " 14%|███████████                                                                  | 720/5000 [13:21<1:15:36,  1.06s/it]"
     ]
    },
    {
     "name": "stdout",
     "output_type": "stream",
     "text": [
      "Epoch: 720 - train_elbo: -108.7216 train_logpx: -103.0945 train_tvo_log_evidence: -103.1442\n"
     ]
    },
    {
     "name": "stderr",
     "output_type": "stream",
     "text": [
      "\r",
      " 14%|███████████                                                                  | 721/5000 [13:22<1:12:36,  1.02s/it]"
     ]
    },
    {
     "name": "stdout",
     "output_type": "stream",
     "text": [
      "Epoch: 721 - train_elbo: -108.6544 train_logpx: -103.0492 train_tvo_log_evidence: -103.0987\n"
     ]
    },
    {
     "name": "stderr",
     "output_type": "stream",
     "text": [
      "\r",
      " 14%|███████████                                                                  | 722/5000 [13:23<1:10:17,  1.01it/s]"
     ]
    },
    {
     "name": "stdout",
     "output_type": "stream",
     "text": [
      "Epoch: 722 - train_elbo: -108.6504 train_logpx: -103.0104 train_tvo_log_evidence: -103.0605\n"
     ]
    },
    {
     "name": "stderr",
     "output_type": "stream",
     "text": [
      "\r",
      " 14%|███████████▏                                                                 | 723/5000 [13:24<1:10:22,  1.01it/s]"
     ]
    },
    {
     "name": "stdout",
     "output_type": "stream",
     "text": [
      "Epoch: 723 - train_elbo: -108.5423 train_logpx: -103.0196 train_tvo_log_evidence: -103.0684\n"
     ]
    },
    {
     "name": "stderr",
     "output_type": "stream",
     "text": [
      "\r",
      " 14%|███████████▏                                                                 | 724/5000 [13:24<1:09:07,  1.03it/s]"
     ]
    },
    {
     "name": "stdout",
     "output_type": "stream",
     "text": [
      "Epoch: 724 - train_elbo: -108.5487 train_logpx: -102.9540 train_tvo_log_evidence: -103.0036\n"
     ]
    },
    {
     "name": "stderr",
     "output_type": "stream",
     "text": [
      "\r",
      " 14%|███████████▏                                                                 | 725/5000 [13:25<1:10:15,  1.01it/s]"
     ]
    },
    {
     "name": "stdout",
     "output_type": "stream",
     "text": [
      "Epoch: 725 - train_elbo: -108.4909 train_logpx: -102.9680 train_tvo_log_evidence: -103.0172\n"
     ]
    },
    {
     "name": "stderr",
     "output_type": "stream",
     "text": [
      "\r",
      " 15%|███████████▏                                                                 | 726/5000 [13:26<1:09:22,  1.03it/s]"
     ]
    },
    {
     "name": "stdout",
     "output_type": "stream",
     "text": [
      "Epoch: 726 - train_elbo: -108.6771 train_logpx: -103.0963 train_tvo_log_evidence: -103.1460\n"
     ]
    },
    {
     "name": "stderr",
     "output_type": "stream",
     "text": [
      "\r",
      " 15%|███████████▏                                                                 | 727/5000 [13:27<1:08:32,  1.04it/s]"
     ]
    },
    {
     "name": "stdout",
     "output_type": "stream",
     "text": [
      "Epoch: 727 - train_elbo: -108.4823 train_logpx: -102.8908 train_tvo_log_evidence: -102.9400\n"
     ]
    },
    {
     "name": "stderr",
     "output_type": "stream",
     "text": [
      "\r",
      " 15%|███████████▏                                                                 | 728/5000 [13:28<1:07:35,  1.05it/s]"
     ]
    },
    {
     "name": "stdout",
     "output_type": "stream",
     "text": [
      "==================================\n",
      "K=6 points=tensor([0.0000, 0.0598, 0.0814, 0.0846, 0.2245, 1.0000], device='cuda:0')\n",
      "==================================\n",
      "Epoch: 728 - train_elbo: -108.6397 train_logpx: -103.0461 train_tvo_log_evidence: -103.0955\n"
     ]
    },
    {
     "name": "stderr",
     "output_type": "stream",
     "text": [
      "\r",
      " 15%|███████████▏                                                                 | 729/5000 [13:31<1:36:01,  1.35s/it]"
     ]
    },
    {
     "name": "stdout",
     "output_type": "stream",
     "text": [
      "Epoch: 729 - train_elbo: -108.4449 train_logpx: -102.8307 train_tvo_log_evidence: -102.8807\n"
     ]
    },
    {
     "name": "stderr",
     "output_type": "stream",
     "text": [
      "\r",
      " 15%|███████████▏                                                                 | 730/5000 [13:32<1:27:23,  1.23s/it]"
     ]
    },
    {
     "name": "stdout",
     "output_type": "stream",
     "text": [
      "Epoch: 730 - train_elbo: -108.5508 train_logpx: -102.9464 train_tvo_log_evidence: -102.9960\n"
     ]
    },
    {
     "name": "stderr",
     "output_type": "stream",
     "text": [
      "\r",
      " 15%|███████████▎                                                                 | 731/5000 [13:32<1:21:45,  1.15s/it]"
     ]
    },
    {
     "name": "stdout",
     "output_type": "stream",
     "text": [
      "Epoch: 731 - train_elbo: -108.4435 train_logpx: -102.8760 train_tvo_log_evidence: -102.9255\n"
     ]
    },
    {
     "name": "stderr",
     "output_type": "stream",
     "text": [
      "\r",
      " 15%|███████████▎                                                                 | 732/5000 [13:33<1:18:50,  1.11s/it]"
     ]
    },
    {
     "name": "stdout",
     "output_type": "stream",
     "text": [
      "Epoch: 732 - train_elbo: -108.3370 train_logpx: -102.7174 train_tvo_log_evidence: -102.7671\n"
     ]
    },
    {
     "name": "stderr",
     "output_type": "stream",
     "text": [
      "\r",
      " 15%|███████████▎                                                                 | 733/5000 [13:34<1:14:44,  1.05s/it]"
     ]
    },
    {
     "name": "stdout",
     "output_type": "stream",
     "text": [
      "Epoch: 733 - train_elbo: -108.5564 train_logpx: -102.9623 train_tvo_log_evidence: -103.0121\n"
     ]
    },
    {
     "name": "stderr",
     "output_type": "stream",
     "text": [
      "\r",
      " 15%|███████████▎                                                                 | 734/5000 [13:35<1:12:17,  1.02s/it]"
     ]
    },
    {
     "name": "stdout",
     "output_type": "stream",
     "text": [
      "Epoch: 734 - train_elbo: -108.3841 train_logpx: -102.7729 train_tvo_log_evidence: -102.8228\n"
     ]
    },
    {
     "name": "stderr",
     "output_type": "stream",
     "text": [
      "\r",
      " 15%|███████████▎                                                                 | 735/5000 [13:36<1:11:59,  1.01s/it]"
     ]
    },
    {
     "name": "stdout",
     "output_type": "stream",
     "text": [
      "Epoch: 735 - train_elbo: -108.4927 train_logpx: -102.9009 train_tvo_log_evidence: -102.9506\n"
     ]
    },
    {
     "name": "stderr",
     "output_type": "stream",
     "text": [
      "\r",
      " 15%|███████████▎                                                                 | 736/5000 [13:37<1:10:04,  1.01it/s]"
     ]
    },
    {
     "name": "stdout",
     "output_type": "stream",
     "text": [
      "Epoch: 736 - train_elbo: -108.4038 train_logpx: -102.8857 train_tvo_log_evidence: -102.9347\n"
     ]
    },
    {
     "name": "stderr",
     "output_type": "stream",
     "text": [
      "\r",
      " 15%|███████████▎                                                                 | 737/5000 [13:38<1:10:41,  1.00it/s]"
     ]
    },
    {
     "name": "stdout",
     "output_type": "stream",
     "text": [
      "Epoch: 737 - train_elbo: -108.3522 train_logpx: -102.8492 train_tvo_log_evidence: -102.8980\n"
     ]
    },
    {
     "name": "stderr",
     "output_type": "stream",
     "text": [
      "\r",
      " 15%|███████████▎                                                                 | 738/5000 [13:39<1:10:28,  1.01it/s]"
     ]
    },
    {
     "name": "stdout",
     "output_type": "stream",
     "text": [
      "Epoch: 738 - train_elbo: -108.4463 train_logpx: -102.8871 train_tvo_log_evidence: -102.9363\n"
     ]
    },
    {
     "name": "stderr",
     "output_type": "stream",
     "text": [
      "\r",
      " 15%|███████████▍                                                                 | 739/5000 [13:40<1:11:07,  1.00s/it]"
     ]
    },
    {
     "name": "stdout",
     "output_type": "stream",
     "text": [
      "Epoch: 739 - train_elbo: -108.1281 train_logpx: -102.6497 train_tvo_log_evidence: -102.6988\n"
     ]
    },
    {
     "name": "stderr",
     "output_type": "stream",
     "text": [
      "\r",
      " 15%|███████████▍                                                                 | 740/5000 [13:41<1:09:49,  1.02it/s]"
     ]
    },
    {
     "name": "stdout",
     "output_type": "stream",
     "text": [
      "Epoch: 740 - train_elbo: -108.1712 train_logpx: -102.6068 train_tvo_log_evidence: -102.6562\n"
     ]
    },
    {
     "name": "stderr",
     "output_type": "stream",
     "text": [
      "\r",
      " 15%|███████████▍                                                                 | 741/5000 [13:42<1:08:39,  1.03it/s]"
     ]
    },
    {
     "name": "stdout",
     "output_type": "stream",
     "text": [
      "==================================\n",
      "K=6 points=tensor([0.0000, 0.0598, 0.0649, 0.0846, 0.4191, 1.0000], device='cuda:0')\n",
      "==================================\n",
      "Epoch: 741 - train_elbo: -108.0487 train_logpx: -102.5596 train_tvo_log_evidence: -102.6085\n"
     ]
    },
    {
     "name": "stderr",
     "output_type": "stream",
     "text": [
      "\r",
      " 15%|███████████▍                                                                 | 742/5000 [13:45<1:51:44,  1.57s/it]"
     ]
    },
    {
     "name": "stdout",
     "output_type": "stream",
     "text": [
      "Epoch: 742 - train_elbo: -108.0546 train_logpx: -102.8385 train_tvo_log_evidence: -102.8864\n"
     ]
    },
    {
     "name": "stderr",
     "output_type": "stream",
     "text": [
      "\r",
      " 15%|███████████▍                                                                 | 743/5000 [13:46<1:39:01,  1.40s/it]"
     ]
    },
    {
     "name": "stdout",
     "output_type": "stream",
     "text": [
      "Epoch: 743 - train_elbo: -107.8959 train_logpx: -102.7521 train_tvo_log_evidence: -102.8000\n"
     ]
    },
    {
     "name": "stderr",
     "output_type": "stream",
     "text": [
      "\r",
      " 15%|███████████▍                                                                 | 744/5000 [13:47<1:29:34,  1.26s/it]"
     ]
    },
    {
     "name": "stdout",
     "output_type": "stream",
     "text": [
      "Epoch: 744 - train_elbo: -107.8421 train_logpx: -102.6203 train_tvo_log_evidence: -102.6677\n"
     ]
    },
    {
     "name": "stderr",
     "output_type": "stream",
     "text": [
      "\r",
      " 15%|███████████▍                                                                 | 745/5000 [13:48<1:23:05,  1.17s/it]"
     ]
    },
    {
     "name": "stdout",
     "output_type": "stream",
     "text": [
      "Epoch: 745 - train_elbo: -107.9986 train_logpx: -102.7462 train_tvo_log_evidence: -102.7943\n"
     ]
    },
    {
     "name": "stderr",
     "output_type": "stream",
     "text": [
      "\r",
      " 15%|███████████▍                                                                 | 746/5000 [13:49<1:17:31,  1.09s/it]"
     ]
    },
    {
     "name": "stdout",
     "output_type": "stream",
     "text": [
      "Epoch: 746 - train_elbo: -107.8556 train_logpx: -102.7408 train_tvo_log_evidence: -102.7879\n"
     ]
    },
    {
     "name": "stderr",
     "output_type": "stream",
     "text": [
      "\r",
      " 15%|███████████▌                                                                 | 747/5000 [13:50<1:15:11,  1.06s/it]"
     ]
    },
    {
     "name": "stdout",
     "output_type": "stream",
     "text": [
      "Epoch: 747 - train_elbo: -107.9511 train_logpx: -102.8196 train_tvo_log_evidence: -102.8670\n"
     ]
    },
    {
     "name": "stderr",
     "output_type": "stream",
     "text": [
      "\r",
      " 15%|███████████▌                                                                 | 748/5000 [13:51<1:12:34,  1.02s/it]"
     ]
    },
    {
     "name": "stdout",
     "output_type": "stream",
     "text": [
      "Epoch: 748 - train_elbo: -107.8570 train_logpx: -102.6474 train_tvo_log_evidence: -102.6955\n"
     ]
    },
    {
     "name": "stderr",
     "output_type": "stream",
     "text": [
      "\r",
      " 15%|███████████▌                                                                 | 749/5000 [13:52<1:10:59,  1.00s/it]"
     ]
    },
    {
     "name": "stdout",
     "output_type": "stream",
     "text": [
      "Epoch: 749 - train_elbo: -107.8159 train_logpx: -102.6165 train_tvo_log_evidence: -102.6647\n"
     ]
    },
    {
     "name": "stderr",
     "output_type": "stream",
     "text": [
      "\r",
      " 15%|███████████▌                                                                 | 750/5000 [13:53<1:08:54,  1.03it/s]"
     ]
    },
    {
     "name": "stdout",
     "output_type": "stream",
     "text": [
      "Epoch: 750 - train_elbo: -107.8652 train_logpx: -102.7558 train_tvo_log_evidence: -102.8029\n"
     ]
    },
    {
     "name": "stderr",
     "output_type": "stream",
     "text": [
      "\r",
      " 15%|███████████▌                                                                 | 751/5000 [13:54<1:07:18,  1.05it/s]"
     ]
    },
    {
     "name": "stdout",
     "output_type": "stream",
     "text": [
      "Epoch: 751 - train_elbo: -107.8288 train_logpx: -102.6827 train_tvo_log_evidence: -102.7303\n"
     ]
    },
    {
     "name": "stderr",
     "output_type": "stream",
     "text": [
      "\r",
      " 15%|███████████▌                                                                 | 752/5000 [13:55<1:07:30,  1.05it/s]"
     ]
    },
    {
     "name": "stdout",
     "output_type": "stream",
     "text": [
      "Epoch: 752 - train_elbo: -107.6979 train_logpx: -102.5305 train_tvo_log_evidence: -102.5782\n"
     ]
    },
    {
     "name": "stderr",
     "output_type": "stream",
     "text": [
      "\r",
      " 15%|███████████▌                                                                 | 753/5000 [13:56<1:07:01,  1.06it/s]"
     ]
    },
    {
     "name": "stdout",
     "output_type": "stream",
     "text": [
      "Epoch: 753 - train_elbo: -107.7350 train_logpx: -102.5986 train_tvo_log_evidence: -102.6460\n"
     ]
    },
    {
     "name": "stderr",
     "output_type": "stream",
     "text": [
      "\r",
      " 15%|███████████▌                                                                 | 754/5000 [13:56<1:06:02,  1.07it/s]"
     ]
    },
    {
     "name": "stdout",
     "output_type": "stream",
     "text": [
      "estimated [epsilon lengthscale noisevar] [0.9        1.96917917 0.18160448]\n",
      "==================================\n",
      "K=6 points=tensor([0.0000, 0.1695, 0.1996, 0.3667, 0.3701, 1.0000], device='cuda:0')\n",
      "==================================\n",
      "args.schedule_update_frequency= 14\n",
      "Epoch: 754 - train_elbo: -107.7851 train_logpx: -102.5651 train_tvo_log_evidence: -102.6127\n"
     ]
    },
    {
     "name": "stderr",
     "output_type": "stream",
     "text": [
      "\r",
      " 15%|███████████▋                                                                 | 755/5000 [13:59<1:30:41,  1.28s/it]"
     ]
    },
    {
     "name": "stdout",
     "output_type": "stream",
     "text": [
      "Epoch: 755 - train_elbo: -107.9434 train_logpx: -102.6068 train_tvo_log_evidence: -102.6553\n"
     ]
    },
    {
     "name": "stderr",
     "output_type": "stream",
     "text": [
      "\r",
      " 15%|███████████▋                                                                 | 756/5000 [13:59<1:23:10,  1.18s/it]"
     ]
    },
    {
     "name": "stdout",
     "output_type": "stream",
     "text": [
      "==================================\n",
      "K=6 points=tensor([0.0000, 0.0721, 0.0816, 0.0845, 0.1274, 1.0000], device='cuda:0')\n",
      "==================================\n",
      "Epoch: 756 - train_elbo: -107.8350 train_logpx: -102.5467 train_tvo_log_evidence: -102.5950\n"
     ]
    },
    {
     "name": "stderr",
     "output_type": "stream",
     "text": [
      "\r",
      " 15%|███████████▋                                                                 | 757/5000 [14:02<1:51:08,  1.57s/it]"
     ]
    },
    {
     "name": "stdout",
     "output_type": "stream",
     "text": [
      "Epoch: 757 - train_elbo: -107.7899 train_logpx: -102.5492 train_tvo_log_evidence: -102.5979\n"
     ]
    },
    {
     "name": "stderr",
     "output_type": "stream",
     "text": [
      "\r",
      " 15%|███████████▋                                                                 | 758/5000 [14:03<1:37:28,  1.38s/it]"
     ]
    },
    {
     "name": "stdout",
     "output_type": "stream",
     "text": [
      "Epoch: 758 - train_elbo: -107.7413 train_logpx: -102.4752 train_tvo_log_evidence: -102.5241\n"
     ]
    },
    {
     "name": "stderr",
     "output_type": "stream",
     "text": [
      "\r",
      " 15%|███████████▋                                                                 | 759/5000 [14:04<1:26:52,  1.23s/it]"
     ]
    },
    {
     "name": "stdout",
     "output_type": "stream",
     "text": [
      "Epoch: 759 - train_elbo: -107.7973 train_logpx: -102.5038 train_tvo_log_evidence: -102.5524\n"
     ]
    },
    {
     "name": "stderr",
     "output_type": "stream",
     "text": [
      "\r",
      " 15%|███████████▋                                                                 | 760/5000 [14:05<1:22:38,  1.17s/it]"
     ]
    },
    {
     "name": "stdout",
     "output_type": "stream",
     "text": [
      "Epoch: 760 - train_elbo: -107.7462 train_logpx: -102.5446 train_tvo_log_evidence: -102.5926\n"
     ]
    },
    {
     "name": "stderr",
     "output_type": "stream",
     "text": [
      "\r",
      " 15%|███████████▋                                                                 | 761/5000 [14:06<1:17:42,  1.10s/it]"
     ]
    },
    {
     "name": "stdout",
     "output_type": "stream",
     "text": [
      "Epoch: 761 - train_elbo: -107.7669 train_logpx: -102.6089 train_tvo_log_evidence: -102.6569\n"
     ]
    },
    {
     "name": "stderr",
     "output_type": "stream",
     "text": [
      "\r",
      " 15%|███████████▋                                                                 | 762/5000 [14:07<1:13:32,  1.04s/it]"
     ]
    },
    {
     "name": "stdout",
     "output_type": "stream",
     "text": [
      "Epoch: 762 - train_elbo: -107.8410 train_logpx: -102.5315 train_tvo_log_evidence: -102.5801\n"
     ]
    },
    {
     "name": "stderr",
     "output_type": "stream",
     "text": [
      "\r",
      " 15%|███████████▊                                                                 | 763/5000 [14:07<1:09:46,  1.01it/s]"
     ]
    },
    {
     "name": "stdout",
     "output_type": "stream",
     "text": [
      "Epoch: 763 - train_elbo: -107.7752 train_logpx: -102.5279 train_tvo_log_evidence: -102.5763\n"
     ]
    },
    {
     "name": "stderr",
     "output_type": "stream",
     "text": [
      "\r",
      " 15%|███████████▊                                                                 | 764/5000 [14:08<1:08:06,  1.04it/s]"
     ]
    },
    {
     "name": "stdout",
     "output_type": "stream",
     "text": [
      "Epoch: 764 - train_elbo: -107.8255 train_logpx: -102.6926 train_tvo_log_evidence: -102.7407\n"
     ]
    },
    {
     "name": "stderr",
     "output_type": "stream",
     "text": [
      "\r",
      " 15%|███████████▊                                                                 | 765/5000 [14:09<1:07:03,  1.05it/s]"
     ]
    },
    {
     "name": "stdout",
     "output_type": "stream",
     "text": [
      "Epoch: 765 - train_elbo: -107.7881 train_logpx: -102.5396 train_tvo_log_evidence: -102.5880\n"
     ]
    },
    {
     "name": "stderr",
     "output_type": "stream",
     "text": [
      "\r",
      " 15%|███████████▊                                                                 | 766/5000 [14:10<1:07:05,  1.05it/s]"
     ]
    },
    {
     "name": "stdout",
     "output_type": "stream",
     "text": [
      "Epoch: 766 - train_elbo: -107.7354 train_logpx: -102.5043 train_tvo_log_evidence: -102.5526\n"
     ]
    },
    {
     "name": "stderr",
     "output_type": "stream",
     "text": [
      "\r",
      " 15%|███████████▊                                                                 | 767/5000 [14:11<1:06:08,  1.07it/s]"
     ]
    },
    {
     "name": "stdout",
     "output_type": "stream",
     "text": [
      "Epoch: 767 - train_elbo: -107.7822 train_logpx: -102.6044 train_tvo_log_evidence: -102.6527\n"
     ]
    },
    {
     "name": "stderr",
     "output_type": "stream",
     "text": [
      "\r",
      " 15%|███████████▊                                                                 | 768/5000 [14:12<1:06:21,  1.06it/s]"
     ]
    },
    {
     "name": "stdout",
     "output_type": "stream",
     "text": [
      "Epoch: 768 - train_elbo: -107.6379 train_logpx: -102.4298 train_tvo_log_evidence: -102.4780\n"
     ]
    },
    {
     "name": "stderr",
     "output_type": "stream",
     "text": [
      "\r",
      " 15%|███████████▊                                                                 | 769/5000 [14:13<1:05:06,  1.08it/s]"
     ]
    },
    {
     "name": "stdout",
     "output_type": "stream",
     "text": [
      "Epoch: 769 - train_elbo: -107.8145 train_logpx: -102.5485 train_tvo_log_evidence: -102.5974\n"
     ]
    },
    {
     "name": "stderr",
     "output_type": "stream",
     "text": [
      "\r",
      " 15%|███████████▊                                                                 | 770/5000 [14:14<1:03:51,  1.10it/s]"
     ]
    },
    {
     "name": "stdout",
     "output_type": "stream",
     "text": [
      "==================================\n",
      "K=6 points=tensor([0.0000, 0.0566, 0.0720, 0.0842, 0.4223, 1.0000], device='cuda:0')\n",
      "==================================\n",
      "Epoch: 770 - train_elbo: -107.7191 train_logpx: -102.3884 train_tvo_log_evidence: -102.4378\n"
     ]
    },
    {
     "name": "stderr",
     "output_type": "stream",
     "text": [
      "\r",
      " 15%|███████████▊                                                                 | 771/5000 [14:17<1:42:33,  1.46s/it]"
     ]
    },
    {
     "name": "stdout",
     "output_type": "stream",
     "text": [
      "Epoch: 771 - train_elbo: -107.5692 train_logpx: -102.3974 train_tvo_log_evidence: -102.4451\n"
     ]
    },
    {
     "name": "stderr",
     "output_type": "stream",
     "text": [
      "\r",
      " 15%|███████████▉                                                                 | 772/5000 [14:18<1:31:57,  1.30s/it]"
     ]
    },
    {
     "name": "stdout",
     "output_type": "stream",
     "text": [
      "Epoch: 772 - train_elbo: -107.3117 train_logpx: -102.2563 train_tvo_log_evidence: -102.3031\n"
     ]
    },
    {
     "name": "stderr",
     "output_type": "stream",
     "text": [
      "\r",
      " 15%|███████████▉                                                                 | 773/5000 [14:19<1:24:56,  1.21s/it]"
     ]
    },
    {
     "name": "stdout",
     "output_type": "stream",
     "text": [
      "Epoch: 773 - train_elbo: -107.4222 train_logpx: -102.3995 train_tvo_log_evidence: -102.4461\n"
     ]
    },
    {
     "name": "stderr",
     "output_type": "stream",
     "text": [
      "\r",
      " 15%|███████████▉                                                                 | 774/5000 [14:20<1:20:12,  1.14s/it]"
     ]
    },
    {
     "name": "stdout",
     "output_type": "stream",
     "text": [
      "Epoch: 774 - train_elbo: -107.3535 train_logpx: -102.2698 train_tvo_log_evidence: -102.3172\n"
     ]
    },
    {
     "name": "stderr",
     "output_type": "stream",
     "text": [
      "\r",
      " 16%|███████████▉                                                                 | 775/5000 [14:21<1:18:05,  1.11s/it]"
     ]
    },
    {
     "name": "stdout",
     "output_type": "stream",
     "text": [
      "Epoch: 775 - train_elbo: -106.9912 train_logpx: -101.9981 train_tvo_log_evidence: -102.0446\n"
     ]
    },
    {
     "name": "stderr",
     "output_type": "stream",
     "text": [
      "\r",
      " 16%|███████████▉                                                                 | 776/5000 [14:22<1:14:42,  1.06s/it]"
     ]
    },
    {
     "name": "stdout",
     "output_type": "stream",
     "text": [
      "Epoch: 776 - train_elbo: -107.2782 train_logpx: -102.2629 train_tvo_log_evidence: -102.3097\n"
     ]
    },
    {
     "name": "stderr",
     "output_type": "stream",
     "text": [
      "\r",
      " 16%|███████████▉                                                                 | 777/5000 [14:22<1:12:51,  1.04s/it]"
     ]
    },
    {
     "name": "stdout",
     "output_type": "stream",
     "text": [
      "Epoch: 777 - train_elbo: -107.2436 train_logpx: -102.2154 train_tvo_log_evidence: -102.2620\n"
     ]
    },
    {
     "name": "stderr",
     "output_type": "stream",
     "text": [
      "\r",
      " 16%|███████████▉                                                                 | 778/5000 [14:23<1:11:14,  1.01s/it]"
     ]
    },
    {
     "name": "stdout",
     "output_type": "stream",
     "text": [
      "Epoch: 778 - train_elbo: -107.2391 train_logpx: -102.1540 train_tvo_log_evidence: -102.2013\n"
     ]
    },
    {
     "name": "stderr",
     "output_type": "stream",
     "text": [
      "\r",
      " 16%|███████████▉                                                                 | 779/5000 [14:24<1:09:12,  1.02it/s]"
     ]
    },
    {
     "name": "stdout",
     "output_type": "stream",
     "text": [
      "Epoch: 779 - train_elbo: -107.2537 train_logpx: -102.2527 train_tvo_log_evidence: -102.2995\n"
     ]
    },
    {
     "name": "stderr",
     "output_type": "stream",
     "text": [
      "\r",
      " 16%|████████████                                                                 | 780/5000 [14:25<1:10:03,  1.00it/s]"
     ]
    },
    {
     "name": "stdout",
     "output_type": "stream",
     "text": [
      "Epoch: 780 - train_elbo: -107.0524 train_logpx: -102.0095 train_tvo_log_evidence: -102.0568\n"
     ]
    },
    {
     "name": "stderr",
     "output_type": "stream",
     "text": [
      "\r",
      " 16%|████████████                                                                 | 781/5000 [14:26<1:08:19,  1.03it/s]"
     ]
    },
    {
     "name": "stdout",
     "output_type": "stream",
     "text": [
      "Epoch: 781 - train_elbo: -107.2003 train_logpx: -102.1694 train_tvo_log_evidence: -102.2163\n"
     ]
    },
    {
     "name": "stderr",
     "output_type": "stream",
     "text": [
      "\r",
      " 16%|████████████                                                                 | 782/5000 [14:27<1:06:14,  1.06it/s]"
     ]
    },
    {
     "name": "stdout",
     "output_type": "stream",
     "text": [
      "Epoch: 782 - train_elbo: -107.1117 train_logpx: -102.1179 train_tvo_log_evidence: -102.1645\n"
     ]
    },
    {
     "name": "stderr",
     "output_type": "stream",
     "text": [
      "\r",
      " 16%|████████████                                                                 | 783/5000 [14:28<1:06:23,  1.06it/s]"
     ]
    },
    {
     "name": "stdout",
     "output_type": "stream",
     "text": [
      "Epoch: 783 - train_elbo: -107.1016 train_logpx: -102.1155 train_tvo_log_evidence: -102.1618\n"
     ]
    },
    {
     "name": "stderr",
     "output_type": "stream",
     "text": [
      "\r",
      " 16%|████████████                                                                 | 784/5000 [14:29<1:05:05,  1.08it/s]"
     ]
    },
    {
     "name": "stdout",
     "output_type": "stream",
     "text": [
      "==================================\n",
      "K=6 points=tensor([0.0000, 0.0650, 0.0843, 0.0966, 0.1274, 1.0000], device='cuda:0')\n",
      "==================================\n",
      "Epoch: 784 - train_elbo: -107.1323 train_logpx: -102.0696 train_tvo_log_evidence: -102.1169\n"
     ]
    },
    {
     "name": "stderr",
     "output_type": "stream",
     "text": [
      "\r",
      " 16%|████████████                                                                 | 785/5000 [14:32<1:47:58,  1.54s/it]"
     ]
    },
    {
     "name": "stdout",
     "output_type": "stream",
     "text": [
      "Epoch: 785 - train_elbo: -107.3377 train_logpx: -102.2095 train_tvo_log_evidence: -102.2572\n"
     ]
    },
    {
     "name": "stderr",
     "output_type": "stream",
     "text": [
      "\r",
      " 16%|████████████                                                                 | 786/5000 [14:33<1:37:30,  1.39s/it]"
     ]
    },
    {
     "name": "stdout",
     "output_type": "stream",
     "text": [
      "Epoch: 786 - train_elbo: -107.2777 train_logpx: -102.0455 train_tvo_log_evidence: -102.0937\n"
     ]
    },
    {
     "name": "stderr",
     "output_type": "stream",
     "text": [
      "\r",
      " 16%|████████████                                                                 | 787/5000 [14:34<1:27:34,  1.25s/it]"
     ]
    },
    {
     "name": "stdout",
     "output_type": "stream",
     "text": [
      "Epoch: 787 - train_elbo: -107.2100 train_logpx: -102.0249 train_tvo_log_evidence: -102.0729\n"
     ]
    },
    {
     "name": "stderr",
     "output_type": "stream",
     "text": [
      "\r",
      " 16%|████████████▏                                                                | 788/5000 [14:35<1:20:08,  1.14s/it]"
     ]
    },
    {
     "name": "stdout",
     "output_type": "stream",
     "text": [
      "Epoch: 788 - train_elbo: -107.2142 train_logpx: -102.0987 train_tvo_log_evidence: -102.1462\n"
     ]
    },
    {
     "name": "stderr",
     "output_type": "stream",
     "text": [
      "\r",
      " 16%|████████████▏                                                                | 789/5000 [14:36<1:18:04,  1.11s/it]"
     ]
    },
    {
     "name": "stdout",
     "output_type": "stream",
     "text": [
      "Epoch: 789 - train_elbo: -107.3002 train_logpx: -102.1754 train_tvo_log_evidence: -102.2234\n"
     ]
    },
    {
     "name": "stderr",
     "output_type": "stream",
     "text": [
      "\r",
      " 16%|████████████▏                                                                | 790/5000 [14:37<1:14:57,  1.07s/it]"
     ]
    },
    {
     "name": "stdout",
     "output_type": "stream",
     "text": [
      "Epoch: 790 - train_elbo: -107.3219 train_logpx: -102.1389 train_tvo_log_evidence: -102.1870\n"
     ]
    },
    {
     "name": "stderr",
     "output_type": "stream",
     "text": [
      "\r",
      " 16%|████████████▏                                                                | 791/5000 [14:38<1:11:26,  1.02s/it]"
     ]
    },
    {
     "name": "stdout",
     "output_type": "stream",
     "text": [
      "Epoch: 791 - train_elbo: -107.1508 train_logpx: -102.1082 train_tvo_log_evidence: -102.1556\n"
     ]
    },
    {
     "name": "stderr",
     "output_type": "stream",
     "text": [
      "\r",
      " 16%|████████████▏                                                                | 792/5000 [14:39<1:08:58,  1.02it/s]"
     ]
    },
    {
     "name": "stdout",
     "output_type": "stream",
     "text": [
      "Epoch: 792 - train_elbo: -107.2458 train_logpx: -102.0238 train_tvo_log_evidence: -102.0719\n"
     ]
    },
    {
     "name": "stderr",
     "output_type": "stream",
     "text": [
      "\r",
      " 16%|████████████▏                                                                | 793/5000 [14:40<1:08:40,  1.02it/s]"
     ]
    },
    {
     "name": "stdout",
     "output_type": "stream",
     "text": [
      "Epoch: 793 - train_elbo: -107.1733 train_logpx: -102.0429 train_tvo_log_evidence: -102.0905\n"
     ]
    },
    {
     "name": "stderr",
     "output_type": "stream",
     "text": [
      "\r",
      " 16%|████████████▏                                                                | 794/5000 [14:41<1:09:04,  1.01it/s]"
     ]
    },
    {
     "name": "stdout",
     "output_type": "stream",
     "text": [
      "Epoch: 794 - train_elbo: -107.2038 train_logpx: -102.0518 train_tvo_log_evidence: -102.1004\n"
     ]
    },
    {
     "name": "stderr",
     "output_type": "stream",
     "text": [
      "\r",
      " 16%|████████████▏                                                                | 795/5000 [14:42<1:08:23,  1.02it/s]"
     ]
    },
    {
     "name": "stdout",
     "output_type": "stream",
     "text": [
      "Epoch: 795 - train_elbo: -107.1094 train_logpx: -101.9582 train_tvo_log_evidence: -102.0060\n"
     ]
    },
    {
     "name": "stderr",
     "output_type": "stream",
     "text": [
      "\r",
      " 16%|████████████▎                                                                | 796/5000 [14:43<1:08:51,  1.02it/s]"
     ]
    },
    {
     "name": "stdout",
     "output_type": "stream",
     "text": [
      "Epoch: 796 - train_elbo: -107.0235 train_logpx: -101.8228 train_tvo_log_evidence: -101.8704\n"
     ]
    },
    {
     "name": "stderr",
     "output_type": "stream",
     "text": [
      "\r",
      " 16%|████████████▎                                                                | 797/5000 [14:44<1:08:49,  1.02it/s]"
     ]
    },
    {
     "name": "stdout",
     "output_type": "stream",
     "text": [
      "Epoch: 797 - train_elbo: -106.9280 train_logpx: -101.9340 train_tvo_log_evidence: -101.9807\n"
     ]
    },
    {
     "name": "stderr",
     "output_type": "stream",
     "text": [
      "\r",
      " 16%|████████████▎                                                                | 798/5000 [14:45<1:09:40,  1.01it/s]"
     ]
    },
    {
     "name": "stdout",
     "output_type": "stream",
     "text": [
      "==================================\n",
      "K=6 points=tensor([0.0000, 0.0718, 0.0731, 0.0962, 0.1275, 1.0000], device='cuda:0')\n",
      "==================================\n",
      "Epoch: 798 - train_elbo: -107.0054 train_logpx: -101.8962 train_tvo_log_evidence: -101.9440\n"
     ]
    },
    {
     "name": "stderr",
     "output_type": "stream",
     "text": [
      "\r",
      " 16%|████████████▎                                                                | 799/5000 [14:47<1:48:34,  1.55s/it]"
     ]
    },
    {
     "name": "stdout",
     "output_type": "stream",
     "text": [
      "Epoch: 799 - train_elbo: -107.0928 train_logpx: -101.9231 train_tvo_log_evidence: -101.9711\n"
     ]
    },
    {
     "name": "stderr",
     "output_type": "stream",
     "text": [
      "\r",
      " 16%|████████████▎                                                                | 800/5000 [14:48<1:35:12,  1.36s/it]"
     ]
    },
    {
     "name": "stdout",
     "output_type": "stream",
     "text": [
      "Epoch: 800 - train_elbo: -106.9835 train_logpx: -101.9210 train_tvo_log_evidence: -101.9678\n",
      "Epoch: 800 - test_logpx: -102.1501 test_kl: 7.1391\n"
     ]
    },
    {
     "name": "stderr",
     "output_type": "stream",
     "text": [
      "\r",
      " 16%|████████████▎                                                                | 801/5000 [14:58<4:20:17,  3.72s/it]"
     ]
    },
    {
     "name": "stdout",
     "output_type": "stream",
     "text": [
      "Epoch: 801 - train_elbo: -106.9295 train_logpx: -101.9207 train_tvo_log_evidence: -101.9678\n"
     ]
    },
    {
     "name": "stderr",
     "output_type": "stream",
     "text": [
      "\r",
      " 16%|████████████▎                                                                | 802/5000 [14:59<3:22:44,  2.90s/it]"
     ]
    },
    {
     "name": "stdout",
     "output_type": "stream",
     "text": [
      "Epoch: 802 - train_elbo: -106.9027 train_logpx: -101.9019 train_tvo_log_evidence: -101.9487\n"
     ]
    },
    {
     "name": "stderr",
     "output_type": "stream",
     "text": [
      "\r",
      " 16%|████████████▎                                                                | 803/5000 [14:59<2:41:14,  2.31s/it]"
     ]
    },
    {
     "name": "stdout",
     "output_type": "stream",
     "text": [
      "Epoch: 803 - train_elbo: -106.9535 train_logpx: -101.9860 train_tvo_log_evidence: -102.0325\n"
     ]
    },
    {
     "name": "stderr",
     "output_type": "stream",
     "text": [
      "\r",
      " 16%|████████████▍                                                                | 804/5000 [15:00<2:12:43,  1.90s/it]"
     ]
    },
    {
     "name": "stdout",
     "output_type": "stream",
     "text": [
      "Epoch: 804 - train_elbo: -106.7814 train_logpx: -101.7816 train_tvo_log_evidence: -101.8280\n"
     ]
    },
    {
     "name": "stderr",
     "output_type": "stream",
     "text": [
      "\r",
      " 16%|████████████▍                                                                | 805/5000 [15:01<1:52:42,  1.61s/it]"
     ]
    },
    {
     "name": "stdout",
     "output_type": "stream",
     "text": [
      "Epoch: 805 - train_elbo: -106.8323 train_logpx: -101.8588 train_tvo_log_evidence: -101.9058\n"
     ]
    },
    {
     "name": "stderr",
     "output_type": "stream",
     "text": [
      "\r",
      " 16%|████████████▍                                                                | 806/5000 [15:02<1:40:05,  1.43s/it]"
     ]
    },
    {
     "name": "stdout",
     "output_type": "stream",
     "text": [
      "Epoch: 806 - train_elbo: -106.8227 train_logpx: -101.8844 train_tvo_log_evidence: -101.9308\n"
     ]
    },
    {
     "name": "stderr",
     "output_type": "stream",
     "text": [
      "\r",
      " 16%|████████████▍                                                                | 807/5000 [15:03<1:30:10,  1.29s/it]"
     ]
    },
    {
     "name": "stdout",
     "output_type": "stream",
     "text": [
      "Epoch: 807 - train_elbo: -106.8374 train_logpx: -101.8871 train_tvo_log_evidence: -101.9332\n"
     ]
    },
    {
     "name": "stderr",
     "output_type": "stream",
     "text": [
      "\r",
      " 16%|████████████▍                                                                | 808/5000 [15:04<1:23:14,  1.19s/it]"
     ]
    },
    {
     "name": "stdout",
     "output_type": "stream",
     "text": [
      "Epoch: 808 - train_elbo: -106.7974 train_logpx: -101.8319 train_tvo_log_evidence: -101.8785\n"
     ]
    },
    {
     "name": "stderr",
     "output_type": "stream",
     "text": [
      "\r",
      " 16%|████████████▍                                                                | 809/5000 [15:05<1:19:08,  1.13s/it]"
     ]
    },
    {
     "name": "stdout",
     "output_type": "stream",
     "text": [
      "Epoch: 809 - train_elbo: -106.8759 train_logpx: -101.8604 train_tvo_log_evidence: -101.9076\n"
     ]
    },
    {
     "name": "stderr",
     "output_type": "stream",
     "text": [
      "\r",
      " 16%|████████████▍                                                                | 810/5000 [15:06<1:14:09,  1.06s/it]"
     ]
    },
    {
     "name": "stdout",
     "output_type": "stream",
     "text": [
      "Epoch: 810 - train_elbo: -106.6998 train_logpx: -101.7533 train_tvo_log_evidence: -101.7994\n"
     ]
    },
    {
     "name": "stderr",
     "output_type": "stream",
     "text": [
      "\r",
      " 16%|████████████▍                                                                | 811/5000 [15:07<1:10:18,  1.01s/it]"
     ]
    },
    {
     "name": "stdout",
     "output_type": "stream",
     "text": [
      "Epoch: 811 - train_elbo: -106.6558 train_logpx: -101.7892 train_tvo_log_evidence: -101.8351\n"
     ]
    },
    {
     "name": "stderr",
     "output_type": "stream",
     "text": [
      "\r",
      " 16%|████████████▌                                                                | 812/5000 [15:08<1:08:44,  1.02it/s]"
     ]
    },
    {
     "name": "stdout",
     "output_type": "stream",
     "text": [
      "estimated [epsilon lengthscale noisevar] [0.9        1.95036259 0.17278236]\n",
      "==================================\n",
      "K=6 points=tensor([0.0000, 0.1159, 0.1994, 0.4730, 0.4863, 1.0000], device='cuda:0')\n",
      "==================================\n",
      "Epoch: 812 - train_elbo: -106.8338 train_logpx: -101.7475 train_tvo_log_evidence: -101.7948\n"
     ]
    },
    {
     "name": "stderr",
     "output_type": "stream",
     "text": [
      "\r",
      " 16%|████████████▌                                                                | 813/5000 [15:10<1:37:45,  1.40s/it]"
     ]
    },
    {
     "name": "stdout",
     "output_type": "stream",
     "text": [
      "Epoch: 813 - train_elbo: -106.8327 train_logpx: -101.7048 train_tvo_log_evidence: -101.7519\n"
     ]
    },
    {
     "name": "stderr",
     "output_type": "stream",
     "text": [
      "\r",
      " 16%|████████████▌                                                                | 814/5000 [15:11<1:29:38,  1.28s/it]"
     ]
    },
    {
     "name": "stdout",
     "output_type": "stream",
     "text": [
      "Epoch: 814 - train_elbo: -106.7645 train_logpx: -101.7089 train_tvo_log_evidence: -101.7554\n"
     ]
    },
    {
     "name": "stderr",
     "output_type": "stream",
     "text": [
      "\r",
      " 16%|████████████▌                                                                | 815/5000 [15:12<1:21:37,  1.17s/it]"
     ]
    },
    {
     "name": "stdout",
     "output_type": "stream",
     "text": [
      "Epoch: 815 - train_elbo: -106.7234 train_logpx: -101.6511 train_tvo_log_evidence: -101.6981\n"
     ]
    },
    {
     "name": "stderr",
     "output_type": "stream",
     "text": [
      "\r",
      " 16%|████████████▌                                                                | 816/5000 [15:13<1:16:18,  1.09s/it]"
     ]
    },
    {
     "name": "stdout",
     "output_type": "stream",
     "text": [
      "Epoch: 816 - train_elbo: -106.4419 train_logpx: -101.5031 train_tvo_log_evidence: -101.5488\n"
     ]
    },
    {
     "name": "stderr",
     "output_type": "stream",
     "text": [
      "\r",
      " 16%|████████████▌                                                                | 817/5000 [15:14<1:11:44,  1.03s/it]"
     ]
    },
    {
     "name": "stdout",
     "output_type": "stream",
     "text": [
      "Epoch: 817 - train_elbo: -106.5737 train_logpx: -101.5934 train_tvo_log_evidence: -101.6397\n"
     ]
    },
    {
     "name": "stderr",
     "output_type": "stream",
     "text": [
      "\r",
      " 16%|████████████▌                                                                | 818/5000 [15:15<1:08:49,  1.01it/s]"
     ]
    },
    {
     "name": "stdout",
     "output_type": "stream",
     "text": [
      "Epoch: 818 - train_elbo: -106.5519 train_logpx: -101.5785 train_tvo_log_evidence: -101.6248\n"
     ]
    },
    {
     "name": "stderr",
     "output_type": "stream",
     "text": [
      "\r",
      " 16%|████████████▌                                                                | 819/5000 [15:16<1:07:37,  1.03it/s]"
     ]
    },
    {
     "name": "stdout",
     "output_type": "stream",
     "text": [
      "Epoch: 819 - train_elbo: -106.4216 train_logpx: -101.4274 train_tvo_log_evidence: -101.4733\n"
     ]
    },
    {
     "name": "stderr",
     "output_type": "stream",
     "text": [
      "\r",
      " 16%|████████████▋                                                                | 820/5000 [15:17<1:07:30,  1.03it/s]"
     ]
    },
    {
     "name": "stdout",
     "output_type": "stream",
     "text": [
      "Epoch: 820 - train_elbo: -106.4485 train_logpx: -101.4903 train_tvo_log_evidence: -101.5363\n"
     ]
    },
    {
     "name": "stderr",
     "output_type": "stream",
     "text": [
      "\r",
      " 16%|████████████▋                                                                | 821/5000 [15:18<1:06:12,  1.05it/s]"
     ]
    },
    {
     "name": "stdout",
     "output_type": "stream",
     "text": [
      "Epoch: 821 - train_elbo: -106.3640 train_logpx: -101.4014 train_tvo_log_evidence: -101.4479\n"
     ]
    },
    {
     "name": "stderr",
     "output_type": "stream",
     "text": [
      "\r",
      " 16%|████████████▋                                                                | 822/5000 [15:19<1:08:22,  1.02it/s]"
     ]
    },
    {
     "name": "stdout",
     "output_type": "stream",
     "text": [
      "Epoch: 822 - train_elbo: -106.4187 train_logpx: -101.4286 train_tvo_log_evidence: -101.4749\n"
     ]
    },
    {
     "name": "stderr",
     "output_type": "stream",
     "text": [
      "\r",
      " 16%|████████████▋                                                                | 823/5000 [15:20<1:07:14,  1.04it/s]"
     ]
    },
    {
     "name": "stdout",
     "output_type": "stream",
     "text": [
      "Epoch: 823 - train_elbo: -106.5898 train_logpx: -101.5290 train_tvo_log_evidence: -101.5756\n"
     ]
    },
    {
     "name": "stderr",
     "output_type": "stream",
     "text": [
      "\r",
      " 16%|████████████▋                                                                | 824/5000 [15:21<1:10:01,  1.01s/it]"
     ]
    },
    {
     "name": "stdout",
     "output_type": "stream",
     "text": [
      "Epoch: 824 - train_elbo: -106.4984 train_logpx: -101.4225 train_tvo_log_evidence: -101.4693\n"
     ]
    },
    {
     "name": "stderr",
     "output_type": "stream",
     "text": [
      "\r",
      " 16%|████████████▋                                                                | 825/5000 [15:22<1:08:24,  1.02it/s]"
     ]
    },
    {
     "name": "stdout",
     "output_type": "stream",
     "text": [
      "Epoch: 825 - train_elbo: -106.4562 train_logpx: -101.3338 train_tvo_log_evidence: -101.3809\n"
     ]
    },
    {
     "name": "stderr",
     "output_type": "stream",
     "text": [
      "\r",
      " 17%|████████████▋                                                                | 826/5000 [15:23<1:07:58,  1.02it/s]"
     ]
    },
    {
     "name": "stdout",
     "output_type": "stream",
     "text": [
      "==================================\n",
      "K=6 points=tensor([0.0000, 0.0596, 0.0718, 0.0813, 0.3237, 1.0000], device='cuda:0')\n",
      "==================================\n",
      "Epoch: 826 - train_elbo: -106.4935 train_logpx: -101.3664 train_tvo_log_evidence: -101.4139\n"
     ]
    },
    {
     "name": "stderr",
     "output_type": "stream",
     "text": [
      "\r",
      " 17%|████████████▋                                                                | 827/5000 [15:25<1:42:06,  1.47s/it]"
     ]
    },
    {
     "name": "stdout",
     "output_type": "stream",
     "text": [
      "Epoch: 827 - train_elbo: -106.6188 train_logpx: -101.3702 train_tvo_log_evidence: -101.4180\n"
     ]
    },
    {
     "name": "stderr",
     "output_type": "stream",
     "text": [
      "\r",
      " 17%|████████████▊                                                                | 828/5000 [15:26<1:30:16,  1.30s/it]"
     ]
    },
    {
     "name": "stdout",
     "output_type": "stream",
     "text": [
      "Epoch: 828 - train_elbo: -106.6531 train_logpx: -101.3889 train_tvo_log_evidence: -101.4370\n"
     ]
    },
    {
     "name": "stderr",
     "output_type": "stream",
     "text": [
      "\r",
      " 17%|████████████▊                                                                | 829/5000 [15:27<1:21:27,  1.17s/it]"
     ]
    },
    {
     "name": "stdout",
     "output_type": "stream",
     "text": [
      "Epoch: 829 - train_elbo: -106.5307 train_logpx: -101.3231 train_tvo_log_evidence: -101.3709\n"
     ]
    },
    {
     "name": "stderr",
     "output_type": "stream",
     "text": [
      "\r",
      " 17%|████████████▊                                                                | 830/5000 [15:28<1:16:34,  1.10s/it]"
     ]
    },
    {
     "name": "stdout",
     "output_type": "stream",
     "text": [
      "Epoch: 830 - train_elbo: -106.5533 train_logpx: -101.3196 train_tvo_log_evidence: -101.3675\n"
     ]
    },
    {
     "name": "stderr",
     "output_type": "stream",
     "text": [
      "\r",
      " 17%|████████████▊                                                                | 831/5000 [15:29<1:12:36,  1.05s/it]"
     ]
    },
    {
     "name": "stdout",
     "output_type": "stream",
     "text": [
      "Epoch: 831 - train_elbo: -106.5781 train_logpx: -101.3299 train_tvo_log_evidence: -101.3779\n"
     ]
    },
    {
     "name": "stderr",
     "output_type": "stream",
     "text": [
      "\r",
      " 17%|████████████▊                                                                | 832/5000 [15:30<1:11:18,  1.03s/it]"
     ]
    },
    {
     "name": "stdout",
     "output_type": "stream",
     "text": [
      "Epoch: 832 - train_elbo: -106.5039 train_logpx: -101.3340 train_tvo_log_evidence: -101.3816\n"
     ]
    },
    {
     "name": "stderr",
     "output_type": "stream",
     "text": [
      "\r",
      " 17%|████████████▊                                                                | 833/5000 [15:31<1:09:49,  1.01s/it]"
     ]
    },
    {
     "name": "stdout",
     "output_type": "stream",
     "text": [
      "Epoch: 833 - train_elbo: -106.3234 train_logpx: -101.1885 train_tvo_log_evidence: -101.2361\n"
     ]
    },
    {
     "name": "stderr",
     "output_type": "stream",
     "text": [
      "\r",
      " 17%|████████████▊                                                                | 834/5000 [15:32<1:08:06,  1.02it/s]"
     ]
    },
    {
     "name": "stdout",
     "output_type": "stream",
     "text": [
      "Epoch: 834 - train_elbo: -106.3770 train_logpx: -101.1958 train_tvo_log_evidence: -101.2435\n"
     ]
    },
    {
     "name": "stderr",
     "output_type": "stream",
     "text": [
      "\r",
      " 17%|████████████▊                                                                | 835/5000 [15:33<1:06:37,  1.04it/s]"
     ]
    },
    {
     "name": "stdout",
     "output_type": "stream",
     "text": [
      "Epoch: 835 - train_elbo: -106.5194 train_logpx: -101.2506 train_tvo_log_evidence: -101.2987\n"
     ]
    },
    {
     "name": "stderr",
     "output_type": "stream",
     "text": [
      "\r",
      " 17%|████████████▊                                                                | 836/5000 [15:34<1:05:25,  1.06it/s]"
     ]
    },
    {
     "name": "stdout",
     "output_type": "stream",
     "text": [
      "Epoch: 836 - train_elbo: -106.2995 train_logpx: -101.1395 train_tvo_log_evidence: -101.1868\n"
     ]
    },
    {
     "name": "stderr",
     "output_type": "stream",
     "text": [
      "\r",
      " 17%|████████████▉                                                                | 837/5000 [15:35<1:05:29,  1.06it/s]"
     ]
    },
    {
     "name": "stdout",
     "output_type": "stream",
     "text": [
      "Epoch: 837 - train_elbo: -106.5184 train_logpx: -101.3534 train_tvo_log_evidence: -101.4009\n"
     ]
    },
    {
     "name": "stderr",
     "output_type": "stream",
     "text": [
      "\r",
      " 17%|████████████▉                                                                | 838/5000 [15:36<1:05:50,  1.05it/s]"
     ]
    },
    {
     "name": "stdout",
     "output_type": "stream",
     "text": [
      "Epoch: 838 - train_elbo: -106.3223 train_logpx: -101.1553 train_tvo_log_evidence: -101.2027\n"
     ]
    },
    {
     "name": "stderr",
     "output_type": "stream",
     "text": [
      "\r",
      " 17%|████████████▉                                                                | 839/5000 [15:36<1:05:21,  1.06it/s]"
     ]
    },
    {
     "name": "stdout",
     "output_type": "stream",
     "text": [
      "Epoch: 839 - train_elbo: -106.4302 train_logpx: -101.2432 train_tvo_log_evidence: -101.2907\n"
     ]
    },
    {
     "name": "stderr",
     "output_type": "stream",
     "text": [
      "\r",
      " 17%|████████████▉                                                                | 840/5000 [15:37<1:05:14,  1.06it/s]"
     ]
    },
    {
     "name": "stdout",
     "output_type": "stream",
     "text": [
      "==================================\n",
      "K=6 points=tensor([0.0000, 0.0566, 0.0718, 0.0840, 0.4213, 1.0000], device='cuda:0')\n",
      "==================================\n",
      "Epoch: 840 - train_elbo: -106.3449 train_logpx: -101.2370 train_tvo_log_evidence: -101.2842\n"
     ]
    },
    {
     "name": "stderr",
     "output_type": "stream",
     "text": [
      "\r",
      " 17%|████████████▉                                                                | 841/5000 [15:40<1:31:11,  1.32s/it]"
     ]
    },
    {
     "name": "stdout",
     "output_type": "stream",
     "text": [
      "Epoch: 841 - train_elbo: -106.2884 train_logpx: -101.3478 train_tvo_log_evidence: -101.3943\n"
     ]
    },
    {
     "name": "stderr",
     "output_type": "stream",
     "text": [
      "\r",
      " 17%|████████████▉                                                                | 842/5000 [15:41<1:25:12,  1.23s/it]"
     ]
    },
    {
     "name": "stdout",
     "output_type": "stream",
     "text": [
      "===early update=== logtvopx[-1]-average_y[-1] -0.0639 drip_threshold -0.05\n",
      "==================================\n",
      "K=6 points=tensor([0.0000, 0.0597, 0.0719, 0.0801, 0.3272, 1.0000], device='cuda:0')\n",
      "==================================\n",
      "Epoch: 842 - train_elbo: -106.0452 train_logpx: -101.0813 train_tvo_log_evidence: -101.1280\n"
     ]
    },
    {
     "name": "stderr",
     "output_type": "stream",
     "text": [
      "\r",
      " 17%|████████████▉                                                                | 843/5000 [15:43<1:54:41,  1.66s/it]"
     ]
    },
    {
     "name": "stdout",
     "output_type": "stream",
     "text": [
      "Epoch: 843 - train_elbo: -106.3874 train_logpx: -101.1633 train_tvo_log_evidence: -101.2112\n"
     ]
    },
    {
     "name": "stderr",
     "output_type": "stream",
     "text": [
      "\r",
      " 17%|████████████▉                                                                | 844/5000 [15:44<1:38:27,  1.42s/it]"
     ]
    },
    {
     "name": "stdout",
     "output_type": "stream",
     "text": [
      "Epoch: 844 - train_elbo: -106.4094 train_logpx: -101.1721 train_tvo_log_evidence: -101.2195\n"
     ]
    },
    {
     "name": "stderr",
     "output_type": "stream",
     "text": [
      "\r",
      " 17%|█████████████                                                                | 845/5000 [15:45<1:28:18,  1.28s/it]"
     ]
    },
    {
     "name": "stdout",
     "output_type": "stream",
     "text": [
      "Epoch: 845 - train_elbo: -106.1414 train_logpx: -101.0503 train_tvo_log_evidence: -101.0972\n"
     ]
    },
    {
     "name": "stderr",
     "output_type": "stream",
     "text": [
      "\r",
      " 17%|█████████████                                                                | 846/5000 [15:46<1:22:07,  1.19s/it]"
     ]
    },
    {
     "name": "stdout",
     "output_type": "stream",
     "text": [
      "Epoch: 846 - train_elbo: -106.1830 train_logpx: -101.1277 train_tvo_log_evidence: -101.1746\n"
     ]
    },
    {
     "name": "stderr",
     "output_type": "stream",
     "text": [
      "\r",
      " 17%|█████████████                                                                | 847/5000 [15:47<1:17:12,  1.12s/it]"
     ]
    },
    {
     "name": "stdout",
     "output_type": "stream",
     "text": [
      "Epoch: 847 - train_elbo: -106.4009 train_logpx: -101.1450 train_tvo_log_evidence: -101.1930\n"
     ]
    },
    {
     "name": "stderr",
     "output_type": "stream",
     "text": [
      "\r",
      " 17%|█████████████                                                                | 848/5000 [15:48<1:15:01,  1.08s/it]"
     ]
    },
    {
     "name": "stdout",
     "output_type": "stream",
     "text": [
      "Epoch: 848 - train_elbo: -106.3269 train_logpx: -101.0974 train_tvo_log_evidence: -101.1453\n"
     ]
    },
    {
     "name": "stderr",
     "output_type": "stream",
     "text": [
      "\r",
      " 17%|█████████████                                                                | 849/5000 [15:49<1:11:09,  1.03s/it]"
     ]
    },
    {
     "name": "stdout",
     "output_type": "stream",
     "text": [
      "Epoch: 849 - train_elbo: -106.1668 train_logpx: -101.0109 train_tvo_log_evidence: -101.0580\n"
     ]
    },
    {
     "name": "stderr",
     "output_type": "stream",
     "text": [
      "\r",
      " 17%|█████████████                                                                | 850/5000 [15:50<1:09:44,  1.01s/it]"
     ]
    },
    {
     "name": "stdout",
     "output_type": "stream",
     "text": [
      "Epoch: 850 - train_elbo: -106.3226 train_logpx: -101.1554 train_tvo_log_evidence: -101.2030\n"
     ]
    },
    {
     "name": "stderr",
     "output_type": "stream",
     "text": [
      "\r",
      " 17%|█████████████                                                                | 851/5000 [15:51<1:08:26,  1.01it/s]"
     ]
    },
    {
     "name": "stdout",
     "output_type": "stream",
     "text": [
      "Epoch: 851 - train_elbo: -106.1660 train_logpx: -100.9739 train_tvo_log_evidence: -101.0216\n"
     ]
    },
    {
     "name": "stderr",
     "output_type": "stream",
     "text": [
      "\r",
      " 17%|█████████████                                                                | 852/5000 [15:52<1:08:04,  1.02it/s]"
     ]
    },
    {
     "name": "stdout",
     "output_type": "stream",
     "text": [
      "Epoch: 852 - train_elbo: -106.3082 train_logpx: -101.0105 train_tvo_log_evidence: -101.0586\n"
     ]
    },
    {
     "name": "stderr",
     "output_type": "stream",
     "text": [
      "\r",
      " 17%|█████████████▏                                                               | 853/5000 [15:53<1:07:47,  1.02it/s]"
     ]
    },
    {
     "name": "stdout",
     "output_type": "stream",
     "text": [
      "Epoch: 853 - train_elbo: -106.2701 train_logpx: -101.0300 train_tvo_log_evidence: -101.0783\n"
     ]
    },
    {
     "name": "stderr",
     "output_type": "stream",
     "text": [
      "\r",
      " 17%|█████████████▏                                                               | 854/5000 [15:54<1:06:46,  1.03it/s]"
     ]
    },
    {
     "name": "stdout",
     "output_type": "stream",
     "text": [
      "==================================\n",
      "K=6 points=tensor([0.0000, 0.0719, 0.0721, 0.0964, 0.1286, 1.0000], device='cuda:0')\n",
      "==================================\n",
      "Epoch: 854 - train_elbo: -106.2692 train_logpx: -101.0061 train_tvo_log_evidence: -101.0545\n"
     ]
    },
    {
     "name": "stderr",
     "output_type": "stream",
     "text": [
      "\r",
      " 17%|█████████████▏                                                               | 855/5000 [15:56<1:40:13,  1.45s/it]"
     ]
    },
    {
     "name": "stdout",
     "output_type": "stream",
     "text": [
      "Epoch: 855 - train_elbo: -106.2221 train_logpx: -101.1130 train_tvo_log_evidence: -101.1610\n"
     ]
    },
    {
     "name": "stderr",
     "output_type": "stream",
     "text": [
      "\r",
      " 17%|█████████████▏                                                               | 856/5000 [15:57<1:30:08,  1.31s/it]"
     ]
    },
    {
     "name": "stdout",
     "output_type": "stream",
     "text": [
      "Epoch: 856 - train_elbo: -106.1631 train_logpx: -101.0920 train_tvo_log_evidence: -101.1394\n"
     ]
    },
    {
     "name": "stderr",
     "output_type": "stream",
     "text": [
      "\r",
      " 17%|█████████████▏                                                               | 857/5000 [15:58<1:24:37,  1.23s/it]"
     ]
    },
    {
     "name": "stdout",
     "output_type": "stream",
     "text": [
      "Epoch: 857 - train_elbo: -106.2286 train_logpx: -101.0022 train_tvo_log_evidence: -101.0510\n"
     ]
    },
    {
     "name": "stderr",
     "output_type": "stream",
     "text": [
      "\r",
      " 17%|█████████████▏                                                               | 858/5000 [15:59<1:18:19,  1.13s/it]"
     ]
    },
    {
     "name": "stdout",
     "output_type": "stream",
     "text": [
      "Epoch: 858 - train_elbo: -106.3424 train_logpx: -101.2388 train_tvo_log_evidence: -101.2865\n"
     ]
    },
    {
     "name": "stderr",
     "output_type": "stream",
     "text": [
      "\r",
      " 17%|█████████████▏                                                               | 859/5000 [16:00<1:15:38,  1.10s/it]"
     ]
    },
    {
     "name": "stdout",
     "output_type": "stream",
     "text": [
      "===early update=== logtvopx[-1]-average_y[-1] -0.1246 drip_threshold -0.05\n",
      "estimated [epsilon lengthscale noisevar] [0.9        1.9269397  0.16602749]\n",
      "==================================\n",
      "K=6 points=tensor([0.0000, 0.1158, 0.2566, 0.2826, 0.6256, 1.0000], device='cuda:0')\n",
      "==================================\n",
      "args.schedule_update_frequency= 15\n",
      "Epoch: 859 - train_elbo: -106.4332 train_logpx: -101.0672 train_tvo_log_evidence: -101.1168\n"
     ]
    },
    {
     "name": "stderr",
     "output_type": "stream",
     "text": [
      "\r",
      " 17%|█████████████▏                                                               | 860/5000 [16:03<1:43:44,  1.50s/it]"
     ]
    },
    {
     "name": "stdout",
     "output_type": "stream",
     "text": [
      "Epoch: 860 - train_elbo: -106.3200 train_logpx: -101.0283 train_tvo_log_evidence: -101.0771\n"
     ]
    },
    {
     "name": "stderr",
     "output_type": "stream",
     "text": [
      "\r",
      " 17%|█████████████▎                                                               | 861/5000 [16:04<1:32:21,  1.34s/it]"
     ]
    },
    {
     "name": "stdout",
     "output_type": "stream",
     "text": [
      "Epoch: 861 - train_elbo: -106.2041 train_logpx: -101.0858 train_tvo_log_evidence: -101.1332\n"
     ]
    },
    {
     "name": "stderr",
     "output_type": "stream",
     "text": [
      "\r",
      " 17%|█████████████▎                                                               | 862/5000 [16:05<1:23:33,  1.21s/it]"
     ]
    },
    {
     "name": "stdout",
     "output_type": "stream",
     "text": [
      "Epoch: 862 - train_elbo: -105.9893 train_logpx: -100.9267 train_tvo_log_evidence: -100.9738\n"
     ]
    },
    {
     "name": "stderr",
     "output_type": "stream",
     "text": [
      "\r",
      " 17%|█████████████▎                                                               | 863/5000 [16:06<1:19:43,  1.16s/it]"
     ]
    },
    {
     "name": "stdout",
     "output_type": "stream",
     "text": [
      "Epoch: 863 - train_elbo: -106.0265 train_logpx: -100.9351 train_tvo_log_evidence: -100.9828\n"
     ]
    },
    {
     "name": "stderr",
     "output_type": "stream",
     "text": [
      "\r",
      " 17%|█████████████▎                                                               | 864/5000 [16:07<1:15:17,  1.09s/it]"
     ]
    },
    {
     "name": "stdout",
     "output_type": "stream",
     "text": [
      "Epoch: 864 - train_elbo: -105.9599 train_logpx: -100.8519 train_tvo_log_evidence: -100.8995\n"
     ]
    },
    {
     "name": "stderr",
     "output_type": "stream",
     "text": [
      "\r",
      " 17%|█████████████▎                                                               | 865/5000 [16:07<1:11:47,  1.04s/it]"
     ]
    },
    {
     "name": "stdout",
     "output_type": "stream",
     "text": [
      "Epoch: 865 - train_elbo: -106.0262 train_logpx: -100.9831 train_tvo_log_evidence: -101.0300\n"
     ]
    },
    {
     "name": "stderr",
     "output_type": "stream",
     "text": [
      "\r",
      " 17%|█████████████▎                                                               | 866/5000 [16:08<1:09:53,  1.01s/it]"
     ]
    },
    {
     "name": "stdout",
     "output_type": "stream",
     "text": [
      "Epoch: 866 - train_elbo: -105.8634 train_logpx: -100.9023 train_tvo_log_evidence: -100.9488\n"
     ]
    },
    {
     "name": "stderr",
     "output_type": "stream",
     "text": [
      "\r",
      " 17%|█████████████▎                                                               | 867/5000 [16:10<1:12:15,  1.05s/it]"
     ]
    },
    {
     "name": "stdout",
     "output_type": "stream",
     "text": [
      "Epoch: 867 - train_elbo: -105.9363 train_logpx: -100.9584 train_tvo_log_evidence: -101.0052\n"
     ]
    },
    {
     "name": "stderr",
     "output_type": "stream",
     "text": [
      "\r",
      " 17%|█████████████▎                                                               | 868/5000 [16:11<1:12:34,  1.05s/it]"
     ]
    },
    {
     "name": "stdout",
     "output_type": "stream",
     "text": [
      "Epoch: 868 - train_elbo: -105.8415 train_logpx: -100.8304 train_tvo_log_evidence: -100.8773\n"
     ]
    },
    {
     "name": "stderr",
     "output_type": "stream",
     "text": [
      "\r",
      " 17%|█████████████▍                                                               | 869/5000 [16:12<1:10:41,  1.03s/it]"
     ]
    },
    {
     "name": "stdout",
     "output_type": "stream",
     "text": [
      "Epoch: 869 - train_elbo: -105.9625 train_logpx: -100.7975 train_tvo_log_evidence: -100.8456\n"
     ]
    },
    {
     "name": "stderr",
     "output_type": "stream",
     "text": [
      "\r",
      " 17%|█████████████▍                                                               | 870/5000 [16:13<1:09:23,  1.01s/it]"
     ]
    },
    {
     "name": "stdout",
     "output_type": "stream",
     "text": [
      "==================================\n",
      "K=6 points=tensor([0.0000, 0.0597, 0.0801, 0.0843, 0.2280, 1.0000], device='cuda:0')\n",
      "==================================\n",
      "Epoch: 870 - train_elbo: -105.9821 train_logpx: -100.7777 train_tvo_log_evidence: -100.8261\n"
     ]
    },
    {
     "name": "stderr",
     "output_type": "stream",
     "text": [
      "\r",
      " 17%|█████████████▍                                                               | 871/5000 [16:15<1:44:58,  1.53s/it]"
     ]
    },
    {
     "name": "stdout",
     "output_type": "stream",
     "text": [
      "Epoch: 871 - train_elbo: -106.2318 train_logpx: -100.7670 train_tvo_log_evidence: -100.8164\n"
     ]
    },
    {
     "name": "stderr",
     "output_type": "stream",
     "text": [
      "\r",
      " 17%|█████████████▍                                                               | 872/5000 [16:16<1:33:29,  1.36s/it]"
     ]
    },
    {
     "name": "stdout",
     "output_type": "stream",
     "text": [
      "Epoch: 872 - train_elbo: -106.2627 train_logpx: -100.8900 train_tvo_log_evidence: -100.9387\n"
     ]
    },
    {
     "name": "stderr",
     "output_type": "stream",
     "text": [
      "\r",
      " 17%|█████████████▍                                                               | 873/5000 [16:17<1:24:30,  1.23s/it]"
     ]
    },
    {
     "name": "stdout",
     "output_type": "stream",
     "text": [
      "Epoch: 873 - train_elbo: -106.0744 train_logpx: -100.8524 train_tvo_log_evidence: -100.9005\n"
     ]
    },
    {
     "name": "stderr",
     "output_type": "stream",
     "text": [
      "\r",
      " 17%|█████████████▍                                                               | 874/5000 [16:18<1:19:16,  1.15s/it]"
     ]
    },
    {
     "name": "stdout",
     "output_type": "stream",
     "text": [
      "Epoch: 874 - train_elbo: -106.0495 train_logpx: -100.5772 train_tvo_log_evidence: -100.6265\n"
     ]
    },
    {
     "name": "stderr",
     "output_type": "stream",
     "text": [
      "\r",
      " 18%|█████████████▍                                                               | 875/5000 [16:19<1:14:49,  1.09s/it]"
     ]
    },
    {
     "name": "stdout",
     "output_type": "stream",
     "text": [
      "Epoch: 875 - train_elbo: -106.3008 train_logpx: -100.7740 train_tvo_log_evidence: -100.8237\n"
     ]
    },
    {
     "name": "stderr",
     "output_type": "stream",
     "text": [
      "\r",
      " 18%|█████████████▍                                                               | 876/5000 [16:20<1:12:43,  1.06s/it]"
     ]
    },
    {
     "name": "stdout",
     "output_type": "stream",
     "text": [
      "Epoch: 876 - train_elbo: -106.2239 train_logpx: -100.8005 train_tvo_log_evidence: -100.8498\n"
     ]
    },
    {
     "name": "stderr",
     "output_type": "stream",
     "text": [
      "\r",
      " 18%|█████████████▌                                                               | 877/5000 [16:21<1:11:11,  1.04s/it]"
     ]
    },
    {
     "name": "stdout",
     "output_type": "stream",
     "text": [
      "Epoch: 877 - train_elbo: -106.1251 train_logpx: -100.6569 train_tvo_log_evidence: -100.7066\n"
     ]
    },
    {
     "name": "stderr",
     "output_type": "stream",
     "text": [
      "\r",
      " 18%|█████████████▌                                                               | 878/5000 [16:22<1:08:34,  1.00it/s]"
     ]
    },
    {
     "name": "stdout",
     "output_type": "stream",
     "text": [
      "Epoch: 878 - train_elbo: -106.0694 train_logpx: -100.6763 train_tvo_log_evidence: -100.7248\n"
     ]
    },
    {
     "name": "stderr",
     "output_type": "stream",
     "text": [
      "\r",
      " 18%|█████████████▌                                                               | 879/5000 [16:23<1:10:51,  1.03s/it]"
     ]
    },
    {
     "name": "stdout",
     "output_type": "stream",
     "text": [
      "Epoch: 879 - train_elbo: -106.0878 train_logpx: -100.6747 train_tvo_log_evidence: -100.7237\n"
     ]
    },
    {
     "name": "stderr",
     "output_type": "stream",
     "text": [
      "\r",
      " 18%|█████████████▌                                                               | 880/5000 [16:24<1:11:38,  1.04s/it]"
     ]
    },
    {
     "name": "stdout",
     "output_type": "stream",
     "text": [
      "Epoch: 880 - train_elbo: -106.0842 train_logpx: -100.7086 train_tvo_log_evidence: -100.7575\n"
     ]
    },
    {
     "name": "stderr",
     "output_type": "stream",
     "text": [
      "\r",
      " 18%|█████████████▌                                                               | 881/5000 [16:25<1:08:45,  1.00s/it]"
     ]
    },
    {
     "name": "stdout",
     "output_type": "stream",
     "text": [
      "Epoch: 881 - train_elbo: -106.2776 train_logpx: -100.7730 train_tvo_log_evidence: -100.8224\n"
     ]
    },
    {
     "name": "stderr",
     "output_type": "stream",
     "text": [
      "\r",
      " 18%|█████████████▌                                                               | 882/5000 [16:26<1:08:01,  1.01it/s]"
     ]
    },
    {
     "name": "stdout",
     "output_type": "stream",
     "text": [
      "Epoch: 882 - train_elbo: -106.2528 train_logpx: -100.6555 train_tvo_log_evidence: -100.7056\n"
     ]
    },
    {
     "name": "stderr",
     "output_type": "stream",
     "text": [
      "\r",
      " 18%|█████████████▌                                                               | 883/5000 [16:27<1:06:35,  1.03it/s]"
     ]
    },
    {
     "name": "stdout",
     "output_type": "stream",
     "text": [
      "Epoch: 883 - train_elbo: -105.8989 train_logpx: -100.5906 train_tvo_log_evidence: -100.6389\n"
     ]
    },
    {
     "name": "stderr",
     "output_type": "stream",
     "text": [
      "\r",
      " 18%|█████████████▌                                                               | 884/5000 [16:28<1:06:19,  1.03it/s]"
     ]
    },
    {
     "name": "stdout",
     "output_type": "stream",
     "text": [
      "Epoch: 884 - train_elbo: -106.0873 train_logpx: -100.6926 train_tvo_log_evidence: -100.7416\n"
     ]
    },
    {
     "name": "stderr",
     "output_type": "stream",
     "text": [
      "\r",
      " 18%|█████████████▋                                                               | 885/5000 [16:29<1:05:49,  1.04it/s]"
     ]
    },
    {
     "name": "stdout",
     "output_type": "stream",
     "text": [
      "==================================\n",
      "K=6 points=tensor([0.0000, 0.0597, 0.0720, 0.0801, 0.3274, 1.0000], device='cuda:0')\n",
      "==================================\n",
      "Epoch: 885 - train_elbo: -105.9865 train_logpx: -100.6047 train_tvo_log_evidence: -100.6538\n"
     ]
    },
    {
     "name": "stderr",
     "output_type": "stream",
     "text": [
      "\r",
      " 18%|█████████████▋                                                               | 886/5000 [16:32<1:43:11,  1.51s/it]"
     ]
    },
    {
     "name": "stdout",
     "output_type": "stream",
     "text": [
      "Epoch: 886 - train_elbo: -105.8433 train_logpx: -100.5648 train_tvo_log_evidence: -100.6131\n"
     ]
    },
    {
     "name": "stderr",
     "output_type": "stream",
     "text": [
      "\r",
      " 18%|█████████████▋                                                               | 887/5000 [16:33<1:32:07,  1.34s/it]"
     ]
    },
    {
     "name": "stdout",
     "output_type": "stream",
     "text": [
      "Epoch: 887 - train_elbo: -105.7550 train_logpx: -100.5450 train_tvo_log_evidence: -100.5930\n"
     ]
    },
    {
     "name": "stderr",
     "output_type": "stream",
     "text": [
      "\r",
      " 18%|█████████████▋                                                               | 888/5000 [16:34<1:24:49,  1.24s/it]"
     ]
    },
    {
     "name": "stdout",
     "output_type": "stream",
     "text": [
      "Epoch: 888 - train_elbo: -105.8058 train_logpx: -100.6419 train_tvo_log_evidence: -100.6893\n"
     ]
    },
    {
     "name": "stderr",
     "output_type": "stream",
     "text": [
      "\r",
      " 18%|█████████████▋                                                               | 889/5000 [16:35<1:20:54,  1.18s/it]"
     ]
    },
    {
     "name": "stdout",
     "output_type": "stream",
     "text": [
      "Epoch: 889 - train_elbo: -105.8011 train_logpx: -100.4733 train_tvo_log_evidence: -100.5219\n"
     ]
    },
    {
     "name": "stderr",
     "output_type": "stream",
     "text": [
      "\r",
      " 18%|█████████████▋                                                               | 890/5000 [16:36<1:17:40,  1.13s/it]"
     ]
    },
    {
     "name": "stdout",
     "output_type": "stream",
     "text": [
      "Epoch: 890 - train_elbo: -105.9323 train_logpx: -100.6475 train_tvo_log_evidence: -100.6958\n"
     ]
    },
    {
     "name": "stderr",
     "output_type": "stream",
     "text": [
      "\r",
      " 18%|█████████████▋                                                               | 891/5000 [16:37<1:13:54,  1.08s/it]"
     ]
    },
    {
     "name": "stdout",
     "output_type": "stream",
     "text": [
      "Epoch: 891 - train_elbo: -105.8464 train_logpx: -100.6446 train_tvo_log_evidence: -100.6926\n"
     ]
    },
    {
     "name": "stderr",
     "output_type": "stream",
     "text": [
      "\r",
      " 18%|█████████████▋                                                               | 892/5000 [16:38<1:12:24,  1.06s/it]"
     ]
    },
    {
     "name": "stdout",
     "output_type": "stream",
     "text": [
      "Epoch: 892 - train_elbo: -105.7158 train_logpx: -100.4435 train_tvo_log_evidence: -100.4918\n"
     ]
    },
    {
     "name": "stderr",
     "output_type": "stream",
     "text": [
      "\r",
      " 18%|█████████████▊                                                               | 893/5000 [16:39<1:11:04,  1.04s/it]"
     ]
    },
    {
     "name": "stdout",
     "output_type": "stream",
     "text": [
      "Epoch: 893 - train_elbo: -105.6509 train_logpx: -100.3990 train_tvo_log_evidence: -100.4474\n"
     ]
    },
    {
     "name": "stderr",
     "output_type": "stream",
     "text": [
      "\r",
      " 18%|█████████████▊                                                               | 894/5000 [16:40<1:10:08,  1.02s/it]"
     ]
    },
    {
     "name": "stdout",
     "output_type": "stream",
     "text": [
      "Epoch: 894 - train_elbo: -105.5845 train_logpx: -100.3725 train_tvo_log_evidence: -100.4203\n"
     ]
    },
    {
     "name": "stderr",
     "output_type": "stream",
     "text": [
      "\r",
      " 18%|█████████████▊                                                               | 895/5000 [16:41<1:08:14,  1.00it/s]"
     ]
    },
    {
     "name": "stdout",
     "output_type": "stream",
     "text": [
      "Epoch: 895 - train_elbo: -105.6613 train_logpx: -100.3331 train_tvo_log_evidence: -100.3817\n"
     ]
    },
    {
     "name": "stderr",
     "output_type": "stream",
     "text": [
      "\r",
      " 18%|█████████████▊                                                               | 896/5000 [16:41<1:06:53,  1.02it/s]"
     ]
    },
    {
     "name": "stdout",
     "output_type": "stream",
     "text": [
      "Epoch: 896 - train_elbo: -105.8775 train_logpx: -100.5357 train_tvo_log_evidence: -100.5844\n"
     ]
    },
    {
     "name": "stderr",
     "output_type": "stream",
     "text": [
      "\r",
      " 18%|█████████████▊                                                               | 897/5000 [16:42<1:05:50,  1.04it/s]"
     ]
    },
    {
     "name": "stdout",
     "output_type": "stream",
     "text": [
      "Epoch: 897 - train_elbo: -105.7497 train_logpx: -100.4853 train_tvo_log_evidence: -100.5335\n"
     ]
    },
    {
     "name": "stderr",
     "output_type": "stream",
     "text": [
      "\r",
      " 18%|█████████████▊                                                               | 898/5000 [16:43<1:06:05,  1.03it/s]"
     ]
    },
    {
     "name": "stdout",
     "output_type": "stream",
     "text": [
      "Epoch: 898 - train_elbo: -105.6145 train_logpx: -100.3870 train_tvo_log_evidence: -100.4352\n"
     ]
    },
    {
     "name": "stderr",
     "output_type": "stream",
     "text": [
      "\r",
      " 18%|█████████████▊                                                               | 899/5000 [16:44<1:06:43,  1.02it/s]"
     ]
    },
    {
     "name": "stdout",
     "output_type": "stream",
     "text": [
      "Epoch: 899 - train_elbo: -105.4943 train_logpx: -100.3067 train_tvo_log_evidence: -100.3544\n"
     ]
    },
    {
     "name": "stderr",
     "output_type": "stream",
     "text": [
      "\r",
      " 18%|█████████████▊                                                               | 900/5000 [16:45<1:04:21,  1.06it/s]"
     ]
    },
    {
     "name": "stdout",
     "output_type": "stream",
     "text": [
      "==================================\n",
      "K=6 points=tensor([0.0000, 0.0597, 0.0720, 0.0721, 0.4275, 1.0000], device='cuda:0')\n",
      "==================================\n",
      "Epoch: 900 - train_elbo: -105.4704 train_logpx: -100.3521 train_tvo_log_evidence: -100.4001\n"
     ]
    },
    {
     "name": "stderr",
     "output_type": "stream",
     "text": [
      "\r",
      " 18%|█████████████▉                                                               | 901/5000 [16:48<1:37:54,  1.43s/it]"
     ]
    },
    {
     "name": "stdout",
     "output_type": "stream",
     "text": [
      "Epoch: 901 - train_elbo: -105.4381 train_logpx: -100.5941 train_tvo_log_evidence: -100.6406\n"
     ]
    },
    {
     "name": "stderr",
     "output_type": "stream",
     "text": [
      "\r",
      " 18%|█████████████▉                                                               | 902/5000 [16:49<1:29:10,  1.31s/it]"
     ]
    },
    {
     "name": "stdout",
     "output_type": "stream",
     "text": [
      "===early update=== logtvopx[-1]-average_y[-1] -0.1001 drip_threshold -0.05\n",
      "==================================\n",
      "K=6 points=tensor([0.0000, 0.0561, 0.0721, 0.0845, 0.4295, 1.0000], device='cuda:0')\n",
      "==================================\n",
      "Epoch: 902 - train_elbo: -105.4524 train_logpx: -100.5312 train_tvo_log_evidence: -100.5778\n"
     ]
    },
    {
     "name": "stderr",
     "output_type": "stream",
     "text": [
      "\r",
      " 18%|█████████████▉                                                               | 903/5000 [16:52<2:00:09,  1.76s/it]"
     ]
    },
    {
     "name": "stdout",
     "output_type": "stream",
     "text": [
      "===early update=== logtvopx[-1]-average_y[-1] -0.0574 drip_threshold -0.05\n",
      "estimated [epsilon lengthscale noisevar] [0.9        1.91908091 0.16046133]\n",
      "==================================\n",
      "K=6 points=tensor([0.0000, 0.1157, 0.1990, 0.4742, 0.4884, 1.0000], device='cuda:0')\n",
      "==================================\n",
      "Epoch: 903 - train_elbo: -105.5452 train_logpx: -100.4041 train_tvo_log_evidence: -100.4516\n"
     ]
    },
    {
     "name": "stderr",
     "output_type": "stream",
     "text": [
      "\r",
      " 18%|█████████████▉                                                               | 904/5000 [16:54<2:10:41,  1.91s/it]"
     ]
    },
    {
     "name": "stdout",
     "output_type": "stream",
     "text": [
      "Epoch: 904 - train_elbo: -105.3717 train_logpx: -100.1321 train_tvo_log_evidence: -100.1802\n"
     ]
    },
    {
     "name": "stderr",
     "output_type": "stream",
     "text": [
      "\r",
      " 18%|█████████████▉                                                               | 905/5000 [16:55<1:51:14,  1.63s/it]"
     ]
    },
    {
     "name": "stdout",
     "output_type": "stream",
     "text": [
      "Epoch: 905 - train_elbo: -105.6472 train_logpx: -100.4734 train_tvo_log_evidence: -100.5208\n"
     ]
    },
    {
     "name": "stderr",
     "output_type": "stream",
     "text": [
      "\r",
      " 18%|█████████████▉                                                               | 906/5000 [16:56<1:37:44,  1.43s/it]"
     ]
    },
    {
     "name": "stdout",
     "output_type": "stream",
     "text": [
      "Epoch: 906 - train_elbo: -105.5558 train_logpx: -100.4376 train_tvo_log_evidence: -100.4850\n"
     ]
    },
    {
     "name": "stderr",
     "output_type": "stream",
     "text": [
      "\r",
      " 18%|█████████████▉                                                               | 907/5000 [16:57<1:27:15,  1.28s/it]"
     ]
    },
    {
     "name": "stdout",
     "output_type": "stream",
     "text": [
      "Epoch: 907 - train_elbo: -105.5457 train_logpx: -100.3767 train_tvo_log_evidence: -100.4250\n"
     ]
    },
    {
     "name": "stderr",
     "output_type": "stream",
     "text": [
      "\r",
      " 18%|█████████████▉                                                               | 908/5000 [16:58<1:19:12,  1.16s/it]"
     ]
    },
    {
     "name": "stdout",
     "output_type": "stream",
     "text": [
      "Epoch: 908 - train_elbo: -105.5157 train_logpx: -100.4032 train_tvo_log_evidence: -100.4508\n"
     ]
    },
    {
     "name": "stderr",
     "output_type": "stream",
     "text": [
      "\r",
      " 18%|█████████████▉                                                               | 909/5000 [16:59<1:15:34,  1.11s/it]"
     ]
    },
    {
     "name": "stdout",
     "output_type": "stream",
     "text": [
      "Epoch: 909 - train_elbo: -105.3681 train_logpx: -100.1956 train_tvo_log_evidence: -100.2435\n"
     ]
    },
    {
     "name": "stderr",
     "output_type": "stream",
     "text": [
      "\r",
      " 18%|██████████████                                                               | 910/5000 [17:00<1:14:20,  1.09s/it]"
     ]
    },
    {
     "name": "stdout",
     "output_type": "stream",
     "text": [
      "Epoch: 910 - train_elbo: -105.4465 train_logpx: -100.2197 train_tvo_log_evidence: -100.2683\n"
     ]
    },
    {
     "name": "stderr",
     "output_type": "stream",
     "text": [
      "\r",
      " 18%|██████████████                                                               | 911/5000 [17:01<1:10:32,  1.04s/it]"
     ]
    },
    {
     "name": "stdout",
     "output_type": "stream",
     "text": [
      "Epoch: 911 - train_elbo: -105.4624 train_logpx: -100.2592 train_tvo_log_evidence: -100.3078\n"
     ]
    },
    {
     "name": "stderr",
     "output_type": "stream",
     "text": [
      "\r",
      " 18%|██████████████                                                               | 912/5000 [17:02<1:09:48,  1.02s/it]"
     ]
    },
    {
     "name": "stdout",
     "output_type": "stream",
     "text": [
      "Epoch: 912 - train_elbo: -105.5618 train_logpx: -100.3270 train_tvo_log_evidence: -100.3754\n"
     ]
    },
    {
     "name": "stderr",
     "output_type": "stream",
     "text": [
      "\r",
      " 18%|██████████████                                                               | 913/5000 [17:02<1:07:32,  1.01it/s]"
     ]
    },
    {
     "name": "stdout",
     "output_type": "stream",
     "text": [
      "Epoch: 913 - train_elbo: -105.4942 train_logpx: -100.2631 train_tvo_log_evidence: -100.3116\n"
     ]
    },
    {
     "name": "stderr",
     "output_type": "stream",
     "text": [
      "\r",
      " 18%|██████████████                                                               | 914/5000 [17:03<1:07:35,  1.01it/s]"
     ]
    },
    {
     "name": "stdout",
     "output_type": "stream",
     "text": [
      "Epoch: 914 - train_elbo: -105.5061 train_logpx: -100.2524 train_tvo_log_evidence: -100.3012\n"
     ]
    },
    {
     "name": "stderr",
     "output_type": "stream",
     "text": [
      "\r",
      " 18%|██████████████                                                               | 915/5000 [17:05<1:09:04,  1.01s/it]"
     ]
    },
    {
     "name": "stdout",
     "output_type": "stream",
     "text": [
      "==================================\n",
      "K=6 points=tensor([0.0000, 0.0561, 0.0721, 0.0969, 0.3296, 1.0000], device='cuda:0')\n",
      "==================================\n",
      "Epoch: 915 - train_elbo: -105.5157 train_logpx: -100.2038 train_tvo_log_evidence: -100.2528\n"
     ]
    },
    {
     "name": "stderr",
     "output_type": "stream",
     "text": [
      "\r",
      " 18%|██████████████                                                               | 916/5000 [17:07<1:46:55,  1.57s/it]"
     ]
    },
    {
     "name": "stdout",
     "output_type": "stream",
     "text": [
      "Epoch: 916 - train_elbo: -105.5190 train_logpx: -100.0641 train_tvo_log_evidence: -100.1137\n"
     ]
    },
    {
     "name": "stderr",
     "output_type": "stream",
     "text": [
      "\r",
      " 18%|██████████████                                                               | 917/5000 [17:08<1:35:59,  1.41s/it]"
     ]
    },
    {
     "name": "stdout",
     "output_type": "stream",
     "text": [
      "Epoch: 917 - train_elbo: -105.5260 train_logpx: -100.1480 train_tvo_log_evidence: -100.1969\n"
     ]
    },
    {
     "name": "stderr",
     "output_type": "stream",
     "text": [
      "\r",
      " 18%|██████████████▏                                                              | 918/5000 [17:09<1:26:55,  1.28s/it]"
     ]
    },
    {
     "name": "stdout",
     "output_type": "stream",
     "text": [
      "Epoch: 918 - train_elbo: -105.5471 train_logpx: -100.1880 train_tvo_log_evidence: -100.2371\n"
     ]
    },
    {
     "name": "stderr",
     "output_type": "stream",
     "text": [
      "\r",
      " 18%|██████████████▏                                                              | 919/5000 [17:10<1:21:13,  1.19s/it]"
     ]
    },
    {
     "name": "stdout",
     "output_type": "stream",
     "text": [
      "Epoch: 919 - train_elbo: -105.7264 train_logpx: -100.1739 train_tvo_log_evidence: -100.2238\n"
     ]
    },
    {
     "name": "stderr",
     "output_type": "stream",
     "text": [
      "\r",
      " 18%|██████████████▏                                                              | 920/5000 [17:11<1:15:53,  1.12s/it]"
     ]
    },
    {
     "name": "stdout",
     "output_type": "stream",
     "text": [
      "Epoch: 920 - train_elbo: -105.7558 train_logpx: -100.2091 train_tvo_log_evidence: -100.2593\n"
     ]
    },
    {
     "name": "stderr",
     "output_type": "stream",
     "text": [
      "\r",
      " 18%|██████████████▏                                                              | 921/5000 [17:12<1:13:02,  1.07s/it]"
     ]
    },
    {
     "name": "stdout",
     "output_type": "stream",
     "text": [
      "Epoch: 921 - train_elbo: -105.6808 train_logpx: -100.1694 train_tvo_log_evidence: -100.2193\n"
     ]
    },
    {
     "name": "stderr",
     "output_type": "stream",
     "text": [
      "\r",
      " 18%|██████████████▏                                                              | 922/5000 [17:13<1:09:11,  1.02s/it]"
     ]
    },
    {
     "name": "stdout",
     "output_type": "stream",
     "text": [
      "Epoch: 922 - train_elbo: -105.6913 train_logpx: -100.2166 train_tvo_log_evidence: -100.2667\n"
     ]
    },
    {
     "name": "stderr",
     "output_type": "stream",
     "text": [
      "\r",
      " 18%|██████████████▏                                                              | 923/5000 [17:14<1:08:28,  1.01s/it]"
     ]
    },
    {
     "name": "stdout",
     "output_type": "stream",
     "text": [
      "Epoch: 923 - train_elbo: -105.7342 train_logpx: -100.2422 train_tvo_log_evidence: -100.2924\n"
     ]
    },
    {
     "name": "stderr",
     "output_type": "stream",
     "text": [
      "\r",
      " 18%|██████████████▏                                                              | 924/5000 [17:15<1:06:38,  1.02it/s]"
     ]
    },
    {
     "name": "stdout",
     "output_type": "stream",
     "text": [
      "Epoch: 924 - train_elbo: -105.4597 train_logpx: -99.9650 train_tvo_log_evidence: -100.0147\n"
     ]
    },
    {
     "name": "stderr",
     "output_type": "stream",
     "text": [
      "\r",
      " 18%|██████████████▏                                                              | 925/5000 [17:16<1:06:40,  1.02it/s]"
     ]
    },
    {
     "name": "stdout",
     "output_type": "stream",
     "text": [
      "Epoch: 925 - train_elbo: -105.5229 train_logpx: -100.0194 train_tvo_log_evidence: -100.0694\n"
     ]
    },
    {
     "name": "stderr",
     "output_type": "stream",
     "text": [
      "\r",
      " 19%|██████████████▎                                                              | 926/5000 [17:17<1:05:45,  1.03it/s]"
     ]
    },
    {
     "name": "stdout",
     "output_type": "stream",
     "text": [
      "Epoch: 926 - train_elbo: -105.7107 train_logpx: -100.2003 train_tvo_log_evidence: -100.2505\n"
     ]
    },
    {
     "name": "stderr",
     "output_type": "stream",
     "text": [
      "\r",
      " 19%|██████████████▎                                                              | 927/5000 [17:18<1:05:04,  1.04it/s]"
     ]
    },
    {
     "name": "stdout",
     "output_type": "stream",
     "text": [
      "Epoch: 927 - train_elbo: -105.6334 train_logpx: -100.0488 train_tvo_log_evidence: -100.0993\n"
     ]
    },
    {
     "name": "stderr",
     "output_type": "stream",
     "text": [
      "\r",
      " 19%|██████████████▎                                                              | 928/5000 [17:19<1:04:12,  1.06it/s]"
     ]
    },
    {
     "name": "stdout",
     "output_type": "stream",
     "text": [
      "Epoch: 928 - train_elbo: -105.7212 train_logpx: -100.1244 train_tvo_log_evidence: -100.1750\n"
     ]
    },
    {
     "name": "stderr",
     "output_type": "stream",
     "text": [
      "\r",
      " 19%|██████████████▎                                                              | 929/5000 [17:20<1:04:54,  1.05it/s]"
     ]
    },
    {
     "name": "stdout",
     "output_type": "stream",
     "text": [
      "Epoch: 929 - train_elbo: -105.4743 train_logpx: -100.0252 train_tvo_log_evidence: -100.0746\n"
     ]
    },
    {
     "name": "stderr",
     "output_type": "stream",
     "text": [
      "\r",
      " 19%|██████████████▎                                                              | 930/5000 [17:21<1:06:11,  1.02it/s]"
     ]
    },
    {
     "name": "stdout",
     "output_type": "stream",
     "text": [
      "==================================\n",
      "K=6 points=tensor([0.0000, 0.0717, 0.0800, 0.0838, 0.1298, 1.0000], device='cuda:0')\n",
      "==================================\n",
      "Epoch: 930 - train_elbo: -105.4818 train_logpx: -100.2209 train_tvo_log_evidence: -100.2698\n"
     ]
    },
    {
     "name": "stderr",
     "output_type": "stream",
     "text": [
      "\r",
      " 19%|██████████████▎                                                              | 931/5000 [17:24<1:42:08,  1.51s/it]"
     ]
    },
    {
     "name": "stdout",
     "output_type": "stream",
     "text": [
      "===early update=== logtvopx[-1]-average_y[-1] -0.0868 drip_threshold -0.05\n",
      "==================================\n",
      "K=6 points=tensor([0.0000, 0.0595, 0.0644, 0.0958, 0.3317, 1.0000], device='cuda:0')\n",
      "==================================\n",
      "Epoch: 931 - train_elbo: -105.4727 train_logpx: -100.2170 train_tvo_log_evidence: -100.2665\n"
     ]
    },
    {
     "name": "stderr",
     "output_type": "stream",
     "text": [
      "\r",
      " 19%|██████████████▎                                                              | 932/5000 [17:26<2:08:17,  1.89s/it]"
     ]
    },
    {
     "name": "stdout",
     "output_type": "stream",
     "text": [
      "Epoch: 932 - train_elbo: -105.7024 train_logpx: -100.0464 train_tvo_log_evidence: -100.0969\n"
     ]
    },
    {
     "name": "stderr",
     "output_type": "stream",
     "text": [
      "\r",
      " 19%|██████████████▎                                                              | 933/5000 [17:27<1:47:56,  1.59s/it]"
     ]
    },
    {
     "name": "stdout",
     "output_type": "stream",
     "text": [
      "Epoch: 933 - train_elbo: -105.5954 train_logpx: -99.9278 train_tvo_log_evidence: -99.9787\n"
     ]
    },
    {
     "name": "stderr",
     "output_type": "stream",
     "text": [
      "\r",
      " 19%|██████████████▍                                                              | 934/5000 [17:28<1:34:07,  1.39s/it]"
     ]
    },
    {
     "name": "stdout",
     "output_type": "stream",
     "text": [
      "Epoch: 934 - train_elbo: -105.3027 train_logpx: -99.9683 train_tvo_log_evidence: -100.0173\n"
     ]
    },
    {
     "name": "stderr",
     "output_type": "stream",
     "text": [
      "\r",
      " 19%|██████████████▍                                                              | 935/5000 [17:29<1:25:57,  1.27s/it]"
     ]
    },
    {
     "name": "stdout",
     "output_type": "stream",
     "text": [
      "Epoch: 935 - train_elbo: -105.4709 train_logpx: -100.0407 train_tvo_log_evidence: -100.0907\n"
     ]
    },
    {
     "name": "stderr",
     "output_type": "stream",
     "text": [
      "\r",
      " 19%|██████████████▍                                                              | 936/5000 [17:30<1:18:57,  1.17s/it]"
     ]
    },
    {
     "name": "stdout",
     "output_type": "stream",
     "text": [
      "Epoch: 936 - train_elbo: -105.5651 train_logpx: -100.0671 train_tvo_log_evidence: -100.1167\n"
     ]
    },
    {
     "name": "stderr",
     "output_type": "stream",
     "text": [
      "\r",
      " 19%|██████████████▍                                                              | 937/5000 [17:31<1:15:40,  1.12s/it]"
     ]
    },
    {
     "name": "stdout",
     "output_type": "stream",
     "text": [
      "Epoch: 937 - train_elbo: -105.4238 train_logpx: -99.8919 train_tvo_log_evidence: -99.9421\n"
     ]
    },
    {
     "name": "stderr",
     "output_type": "stream",
     "text": [
      "\r",
      " 19%|██████████████▍                                                              | 938/5000 [17:32<1:11:29,  1.06s/it]"
     ]
    },
    {
     "name": "stdout",
     "output_type": "stream",
     "text": [
      "Epoch: 938 - train_elbo: -105.5382 train_logpx: -100.1108 train_tvo_log_evidence: -100.1604\n"
     ]
    },
    {
     "name": "stderr",
     "output_type": "stream",
     "text": [
      "\r",
      " 19%|██████████████▍                                                              | 939/5000 [17:33<1:08:51,  1.02s/it]"
     ]
    },
    {
     "name": "stdout",
     "output_type": "stream",
     "text": [
      "Epoch: 939 - train_elbo: -105.4812 train_logpx: -100.0033 train_tvo_log_evidence: -100.0532\n"
     ]
    },
    {
     "name": "stderr",
     "output_type": "stream",
     "text": [
      "\r",
      " 19%|██████████████▍                                                              | 940/5000 [17:34<1:08:18,  1.01s/it]"
     ]
    },
    {
     "name": "stdout",
     "output_type": "stream",
     "text": [
      "Epoch: 940 - train_elbo: -105.4308 train_logpx: -99.9247 train_tvo_log_evidence: -99.9744\n"
     ]
    },
    {
     "name": "stderr",
     "output_type": "stream",
     "text": [
      "\r",
      " 19%|██████████████▍                                                              | 941/5000 [17:35<1:07:04,  1.01it/s]"
     ]
    },
    {
     "name": "stdout",
     "output_type": "stream",
     "text": [
      "Epoch: 941 - train_elbo: -105.4028 train_logpx: -99.9187 train_tvo_log_evidence: -99.9683\n"
     ]
    },
    {
     "name": "stderr",
     "output_type": "stream",
     "text": [
      "\r",
      " 19%|██████████████▌                                                              | 942/5000 [17:36<1:05:23,  1.03it/s]"
     ]
    },
    {
     "name": "stdout",
     "output_type": "stream",
     "text": [
      "Epoch: 942 - train_elbo: -105.2686 train_logpx: -99.8182 train_tvo_log_evidence: -99.8673\n"
     ]
    },
    {
     "name": "stderr",
     "output_type": "stream",
     "text": [
      "\r",
      " 19%|██████████████▌                                                              | 943/5000 [17:37<1:04:55,  1.04it/s]"
     ]
    },
    {
     "name": "stdout",
     "output_type": "stream",
     "text": [
      "Epoch: 943 - train_elbo: -105.1849 train_logpx: -99.7810 train_tvo_log_evidence: -99.8304\n"
     ]
    },
    {
     "name": "stderr",
     "output_type": "stream",
     "text": [
      "\r",
      " 19%|██████████████▌                                                              | 944/5000 [17:38<1:03:43,  1.06it/s]"
     ]
    },
    {
     "name": "stdout",
     "output_type": "stream",
     "text": [
      "Epoch: 944 - train_elbo: -105.3311 train_logpx: -99.8214 train_tvo_log_evidence: -99.8716\n"
     ]
    },
    {
     "name": "stderr",
     "output_type": "stream",
     "text": [
      "\r",
      " 19%|██████████████▌                                                              | 945/5000 [17:39<1:03:25,  1.07it/s]"
     ]
    },
    {
     "name": "stdout",
     "output_type": "stream",
     "text": [
      "==================================\n",
      "K=6 points=tensor([0.0000, 0.0595, 0.0644, 0.0837, 0.4334, 1.0000], device='cuda:0')\n",
      "==================================\n",
      "Epoch: 945 - train_elbo: -105.2225 train_logpx: -99.8280 train_tvo_log_evidence: -99.8773\n"
     ]
    },
    {
     "name": "stderr",
     "output_type": "stream",
     "text": [
      "\r",
      " 19%|██████████████▌                                                              | 946/5000 [17:42<1:48:02,  1.60s/it]"
     ]
    },
    {
     "name": "stdout",
     "output_type": "stream",
     "text": [
      "Epoch: 946 - train_elbo: -104.9983 train_logpx: -99.9544 train_tvo_log_evidence: -100.0025\n"
     ]
    },
    {
     "name": "stderr",
     "output_type": "stream",
     "text": [
      "\r",
      " 19%|██████████████▌                                                              | 947/5000 [17:43<1:34:46,  1.40s/it]"
     ]
    },
    {
     "name": "stdout",
     "output_type": "stream",
     "text": [
      "Epoch: 947 - train_elbo: -104.9957 train_logpx: -99.9611 train_tvo_log_evidence: -100.0089\n"
     ]
    },
    {
     "name": "stderr",
     "output_type": "stream",
     "text": [
      "\r",
      " 19%|██████████████▌                                                              | 948/5000 [17:44<1:24:30,  1.25s/it]"
     ]
    },
    {
     "name": "stdout",
     "output_type": "stream",
     "text": [
      "Epoch: 948 - train_elbo: -105.2009 train_logpx: -100.0217 train_tvo_log_evidence: -100.0700\n"
     ]
    },
    {
     "name": "stderr",
     "output_type": "stream",
     "text": [
      "\r",
      " 19%|██████████████▌                                                              | 949/5000 [17:45<1:18:59,  1.17s/it]"
     ]
    },
    {
     "name": "stdout",
     "output_type": "stream",
     "text": [
      "Epoch: 949 - train_elbo: -105.1155 train_logpx: -99.9238 train_tvo_log_evidence: -99.9722\n"
     ]
    },
    {
     "name": "stderr",
     "output_type": "stream",
     "text": [
      "\r",
      " 19%|██████████████▋                                                              | 950/5000 [17:46<1:14:56,  1.11s/it]"
     ]
    },
    {
     "name": "stdout",
     "output_type": "stream",
     "text": [
      "Epoch: 950 - train_elbo: -105.1244 train_logpx: -100.1395 train_tvo_log_evidence: -100.1870\n"
     ]
    },
    {
     "name": "stderr",
     "output_type": "stream",
     "text": [
      "\r",
      " 19%|██████████████▋                                                              | 951/5000 [17:47<1:13:37,  1.09s/it]"
     ]
    },
    {
     "name": "stdout",
     "output_type": "stream",
     "text": [
      "===early update=== logtvopx[-1]-average_y[-1] -0.1534 drip_threshold -0.05\n",
      "estimated [epsilon lengthscale noisevar] [0.9        1.90320591 0.15567719]\n",
      "==================================\n",
      "K=6 points=tensor([0.0000, 0.1415, 0.2820, 0.3224, 0.3651, 1.0000], device='cuda:0')\n",
      "==================================\n",
      "args.schedule_update_frequency= 16\n",
      "Epoch: 951 - train_elbo: -105.2686 train_logpx: -100.0417 train_tvo_log_evidence: -100.0908\n"
     ]
    },
    {
     "name": "stderr",
     "output_type": "stream",
     "text": [
      "\r",
      " 19%|██████████████▋                                                              | 952/5000 [17:49<1:34:42,  1.40s/it]"
     ]
    },
    {
     "name": "stdout",
     "output_type": "stream",
     "text": [
      "===early update=== logtvopx[-1]-average_y[-1] -0.0711 drip_threshold -0.05\n",
      "==================================\n",
      "K=6 points=tensor([0.0000, 0.0564, 0.0714, 0.0953, 0.3336, 1.0000], device='cuda:0')\n",
      "==================================\n",
      "Epoch: 952 - train_elbo: -105.3443 train_logpx: -99.7578 train_tvo_log_evidence: -99.8086\n"
     ]
    },
    {
     "name": "stderr",
     "output_type": "stream",
     "text": [
      "\r",
      " 19%|██████████████▋                                                              | 953/5000 [17:52<2:10:29,  1.93s/it]"
     ]
    },
    {
     "name": "stdout",
     "output_type": "stream",
     "text": [
      "Epoch: 953 - train_elbo: -105.3498 train_logpx: -99.7230 train_tvo_log_evidence: -99.7739\n"
     ]
    },
    {
     "name": "stderr",
     "output_type": "stream",
     "text": [
      "\r",
      " 19%|██████████████▋                                                              | 954/5000 [17:53<1:50:16,  1.64s/it]"
     ]
    },
    {
     "name": "stdout",
     "output_type": "stream",
     "text": [
      "Epoch: 954 - train_elbo: -105.1892 train_logpx: -99.7620 train_tvo_log_evidence: -99.8119\n"
     ]
    },
    {
     "name": "stderr",
     "output_type": "stream",
     "text": [
      "\r",
      " 19%|██████████████▋                                                              | 955/5000 [17:54<1:37:32,  1.45s/it]"
     ]
    },
    {
     "name": "stdout",
     "output_type": "stream",
     "text": [
      "Epoch: 955 - train_elbo: -105.3077 train_logpx: -99.9181 train_tvo_log_evidence: -99.9672\n"
     ]
    },
    {
     "name": "stderr",
     "output_type": "stream",
     "text": [
      "\r",
      " 19%|██████████████▋                                                              | 956/5000 [17:55<1:26:59,  1.29s/it]"
     ]
    },
    {
     "name": "stdout",
     "output_type": "stream",
     "text": [
      "Epoch: 956 - train_elbo: -105.2799 train_logpx: -99.7269 train_tvo_log_evidence: -99.7770\n"
     ]
    },
    {
     "name": "stderr",
     "output_type": "stream",
     "text": [
      "\r",
      " 19%|██████████████▋                                                              | 957/5000 [17:56<1:18:39,  1.17s/it]"
     ]
    },
    {
     "name": "stdout",
     "output_type": "stream",
     "text": [
      "Epoch: 957 - train_elbo: -105.2175 train_logpx: -99.7622 train_tvo_log_evidence: -99.8117\n"
     ]
    },
    {
     "name": "stderr",
     "output_type": "stream",
     "text": [
      "\r",
      " 19%|██████████████▊                                                              | 958/5000 [17:57<1:15:45,  1.12s/it]"
     ]
    },
    {
     "name": "stdout",
     "output_type": "stream",
     "text": [
      "Epoch: 958 - train_elbo: -105.2590 train_logpx: -99.9201 train_tvo_log_evidence: -99.9694\n"
     ]
    },
    {
     "name": "stderr",
     "output_type": "stream",
     "text": [
      "\r",
      " 19%|██████████████▊                                                              | 959/5000 [17:58<1:10:52,  1.05s/it]"
     ]
    },
    {
     "name": "stdout",
     "output_type": "stream",
     "text": [
      "Epoch: 959 - train_elbo: -105.3521 train_logpx: -99.8835 train_tvo_log_evidence: -99.9332\n"
     ]
    },
    {
     "name": "stderr",
     "output_type": "stream",
     "text": [
      "\r",
      " 19%|██████████████▊                                                              | 960/5000 [17:59<1:11:58,  1.07s/it]"
     ]
    },
    {
     "name": "stdout",
     "output_type": "stream",
     "text": [
      "==================================\n",
      "K=6 points=tensor([0.0000, 0.0558, 0.0681, 0.0882, 0.3028, 1.0000], device='cuda:0')\n",
      "==================================\n",
      "Epoch: 960 - train_elbo: -105.3582 train_logpx: -99.7470 train_tvo_log_evidence: -99.7975\n"
     ]
    },
    {
     "name": "stderr",
     "output_type": "stream",
     "text": [
      "\r",
      " 19%|██████████████▊                                                              | 961/5000 [18:01<1:39:44,  1.48s/it]"
     ]
    },
    {
     "name": "stdout",
     "output_type": "stream",
     "text": [
      "Epoch: 961 - train_elbo: -105.1871 train_logpx: -99.6575 train_tvo_log_evidence: -99.7077\n"
     ]
    },
    {
     "name": "stderr",
     "output_type": "stream",
     "text": [
      "\r",
      " 19%|██████████████▊                                                              | 962/5000 [18:02<1:29:57,  1.34s/it]"
     ]
    },
    {
     "name": "stdout",
     "output_type": "stream",
     "text": [
      "Epoch: 962 - train_elbo: -105.0868 train_logpx: -99.6134 train_tvo_log_evidence: -99.6629\n"
     ]
    },
    {
     "name": "stderr",
     "output_type": "stream",
     "text": [
      "\r",
      " 19%|██████████████▊                                                              | 963/5000 [18:03<1:22:14,  1.22s/it]"
     ]
    },
    {
     "name": "stdout",
     "output_type": "stream",
     "text": [
      "Epoch: 963 - train_elbo: -105.0888 train_logpx: -99.6361 train_tvo_log_evidence: -99.6857\n"
     ]
    },
    {
     "name": "stderr",
     "output_type": "stream",
     "text": [
      "\r",
      " 19%|██████████████▊                                                              | 964/5000 [18:04<1:15:55,  1.13s/it]"
     ]
    },
    {
     "name": "stdout",
     "output_type": "stream",
     "text": [
      "Epoch: 964 - train_elbo: -105.1989 train_logpx: -99.6112 train_tvo_log_evidence: -99.6615\n"
     ]
    },
    {
     "name": "stderr",
     "output_type": "stream",
     "text": [
      "\r",
      " 19%|██████████████▊                                                              | 965/5000 [18:05<1:13:03,  1.09s/it]"
     ]
    },
    {
     "name": "stdout",
     "output_type": "stream",
     "text": [
      "Epoch: 965 - train_elbo: -105.3819 train_logpx: -99.7364 train_tvo_log_evidence: -99.7870\n"
     ]
    },
    {
     "name": "stderr",
     "output_type": "stream",
     "text": [
      "\r",
      " 19%|██████████████▉                                                              | 966/5000 [18:06<1:10:53,  1.05s/it]"
     ]
    },
    {
     "name": "stdout",
     "output_type": "stream",
     "text": [
      "Epoch: 966 - train_elbo: -105.2777 train_logpx: -99.7724 train_tvo_log_evidence: -99.8224\n"
     ]
    },
    {
     "name": "stderr",
     "output_type": "stream",
     "text": [
      "\r",
      " 19%|██████████████▉                                                              | 967/5000 [18:07<1:09:30,  1.03s/it]"
     ]
    },
    {
     "name": "stdout",
     "output_type": "stream",
     "text": [
      "Epoch: 967 - train_elbo: -105.2071 train_logpx: -99.7218 train_tvo_log_evidence: -99.7719\n"
     ]
    },
    {
     "name": "stderr",
     "output_type": "stream",
     "text": [
      "\r",
      " 19%|██████████████▉                                                              | 968/5000 [18:08<1:08:12,  1.01s/it]"
     ]
    },
    {
     "name": "stdout",
     "output_type": "stream",
     "text": [
      "Epoch: 968 - train_elbo: -105.4102 train_logpx: -99.7512 train_tvo_log_evidence: -99.8024\n"
     ]
    },
    {
     "name": "stderr",
     "output_type": "stream",
     "text": [
      "\r",
      " 19%|██████████████▉                                                              | 969/5000 [18:09<1:06:55,  1.00it/s]"
     ]
    },
    {
     "name": "stdout",
     "output_type": "stream",
     "text": [
      "Epoch: 969 - train_elbo: -105.2704 train_logpx: -99.7049 train_tvo_log_evidence: -99.7558\n"
     ]
    },
    {
     "name": "stderr",
     "output_type": "stream",
     "text": [
      "\r",
      " 19%|██████████████▉                                                              | 970/5000 [18:10<1:06:00,  1.02it/s]"
     ]
    },
    {
     "name": "stdout",
     "output_type": "stream",
     "text": [
      "Epoch: 970 - train_elbo: -105.2835 train_logpx: -99.7126 train_tvo_log_evidence: -99.7630\n"
     ]
    },
    {
     "name": "stderr",
     "output_type": "stream",
     "text": [
      "\r",
      " 19%|██████████████▉                                                              | 971/5000 [18:11<1:06:09,  1.01it/s]"
     ]
    },
    {
     "name": "stdout",
     "output_type": "stream",
     "text": [
      "Epoch: 971 - train_elbo: -105.3953 train_logpx: -99.7704 train_tvo_log_evidence: -99.8212\n"
     ]
    },
    {
     "name": "stderr",
     "output_type": "stream",
     "text": [
      "\r",
      " 19%|██████████████▉                                                              | 972/5000 [18:12<1:08:19,  1.02s/it]"
     ]
    },
    {
     "name": "stdout",
     "output_type": "stream",
     "text": [
      "Epoch: 972 - train_elbo: -105.2755 train_logpx: -99.5804 train_tvo_log_evidence: -99.6318\n"
     ]
    },
    {
     "name": "stderr",
     "output_type": "stream",
     "text": [
      "\r",
      " 19%|██████████████▉                                                              | 973/5000 [18:13<1:06:34,  1.01it/s]"
     ]
    },
    {
     "name": "stdout",
     "output_type": "stream",
     "text": [
      "Epoch: 973 - train_elbo: -105.1281 train_logpx: -99.5768 train_tvo_log_evidence: -99.6271\n"
     ]
    },
    {
     "name": "stderr",
     "output_type": "stream",
     "text": [
      "\r",
      " 19%|██████████████▉                                                              | 974/5000 [18:14<1:04:40,  1.04it/s]"
     ]
    },
    {
     "name": "stdout",
     "output_type": "stream",
     "text": [
      "Epoch: 974 - train_elbo: -105.2897 train_logpx: -99.6356 train_tvo_log_evidence: -99.6867\n"
     ]
    },
    {
     "name": "stderr",
     "output_type": "stream",
     "text": [
      "\r",
      " 20%|███████████████                                                              | 975/5000 [18:15<1:04:19,  1.04it/s]"
     ]
    },
    {
     "name": "stdout",
     "output_type": "stream",
     "text": [
      "Epoch: 975 - train_elbo: -105.2122 train_logpx: -99.6405 train_tvo_log_evidence: -99.6906\n"
     ]
    },
    {
     "name": "stderr",
     "output_type": "stream",
     "text": [
      "\r",
      " 20%|███████████████                                                              | 976/5000 [18:16<1:03:05,  1.06it/s]"
     ]
    },
    {
     "name": "stdout",
     "output_type": "stream",
     "text": [
      "==================================\n",
      "K=6 points=tensor([0.0000, 0.0559, 0.0685, 0.0892, 0.3029, 1.0000], device='cuda:0')\n",
      "==================================\n",
      "Epoch: 976 - train_elbo: -105.0910 train_logpx: -99.5613 train_tvo_log_evidence: -99.6115\n"
     ]
    },
    {
     "name": "stderr",
     "output_type": "stream",
     "text": [
      "\r",
      " 20%|███████████████                                                              | 977/5000 [18:18<1:26:07,  1.28s/it]"
     ]
    },
    {
     "name": "stdout",
     "output_type": "stream",
     "text": [
      "Epoch: 977 - train_elbo: -105.0221 train_logpx: -99.5788 train_tvo_log_evidence: -99.6283\n"
     ]
    },
    {
     "name": "stderr",
     "output_type": "stream",
     "text": [
      "\r",
      " 20%|███████████████                                                              | 978/5000 [18:19<1:19:44,  1.19s/it]"
     ]
    },
    {
     "name": "stdout",
     "output_type": "stream",
     "text": [
      "Epoch: 978 - train_elbo: -105.0575 train_logpx: -99.5576 train_tvo_log_evidence: -99.6074\n"
     ]
    },
    {
     "name": "stderr",
     "output_type": "stream",
     "text": [
      "\r",
      " 20%|███████████████                                                              | 979/5000 [18:20<1:15:12,  1.12s/it]"
     ]
    },
    {
     "name": "stdout",
     "output_type": "stream",
     "text": [
      "Epoch: 979 - train_elbo: -105.1091 train_logpx: -99.5517 train_tvo_log_evidence: -99.6018\n"
     ]
    },
    {
     "name": "stderr",
     "output_type": "stream",
     "text": [
      "\r",
      " 20%|███████████████                                                              | 980/5000 [18:21<1:11:51,  1.07s/it]"
     ]
    },
    {
     "name": "stdout",
     "output_type": "stream",
     "text": [
      "Epoch: 980 - train_elbo: -104.9616 train_logpx: -99.5302 train_tvo_log_evidence: -99.5797\n"
     ]
    },
    {
     "name": "stderr",
     "output_type": "stream",
     "text": [
      "\r",
      " 20%|███████████████                                                              | 981/5000 [18:22<1:10:30,  1.05s/it]"
     ]
    },
    {
     "name": "stdout",
     "output_type": "stream",
     "text": [
      "Epoch: 981 - train_elbo: -105.0296 train_logpx: -99.4941 train_tvo_log_evidence: -99.5443\n"
     ]
    },
    {
     "name": "stderr",
     "output_type": "stream",
     "text": [
      "\r",
      " 20%|███████████████                                                              | 982/5000 [18:23<1:08:30,  1.02s/it]"
     ]
    },
    {
     "name": "stdout",
     "output_type": "stream",
     "text": [
      "Epoch: 982 - train_elbo: -105.0848 train_logpx: -99.5790 train_tvo_log_evidence: -99.6290\n"
     ]
    },
    {
     "name": "stderr",
     "output_type": "stream",
     "text": [
      "\r",
      " 20%|███████████████▏                                                             | 983/5000 [18:23<1:06:41,  1.00it/s]"
     ]
    },
    {
     "name": "stdout",
     "output_type": "stream",
     "text": [
      "Epoch: 983 - train_elbo: -104.8818 train_logpx: -99.4260 train_tvo_log_evidence: -99.4755\n"
     ]
    },
    {
     "name": "stderr",
     "output_type": "stream",
     "text": [
      "\r",
      " 20%|███████████████▏                                                             | 984/5000 [18:24<1:06:34,  1.01it/s]"
     ]
    },
    {
     "name": "stdout",
     "output_type": "stream",
     "text": [
      "Epoch: 984 - train_elbo: -105.0173 train_logpx: -99.4480 train_tvo_log_evidence: -99.4984\n"
     ]
    },
    {
     "name": "stderr",
     "output_type": "stream",
     "text": [
      "\r",
      " 20%|███████████████▏                                                             | 985/5000 [18:25<1:04:53,  1.03it/s]"
     ]
    },
    {
     "name": "stdout",
     "output_type": "stream",
     "text": [
      "Epoch: 985 - train_elbo: -105.0443 train_logpx: -99.5140 train_tvo_log_evidence: -99.5641\n"
     ]
    },
    {
     "name": "stderr",
     "output_type": "stream",
     "text": [
      "\r",
      " 20%|███████████████▏                                                             | 986/5000 [18:26<1:03:21,  1.06it/s]"
     ]
    },
    {
     "name": "stdout",
     "output_type": "stream",
     "text": [
      "Epoch: 986 - train_elbo: -105.0407 train_logpx: -99.4799 train_tvo_log_evidence: -99.5306\n"
     ]
    },
    {
     "name": "stderr",
     "output_type": "stream",
     "text": [
      "\r",
      " 20%|███████████████▏                                                             | 987/5000 [18:27<1:05:02,  1.03it/s]"
     ]
    },
    {
     "name": "stdout",
     "output_type": "stream",
     "text": [
      "Epoch: 987 - train_elbo: -104.9170 train_logpx: -99.3233 train_tvo_log_evidence: -99.3738\n"
     ]
    },
    {
     "name": "stderr",
     "output_type": "stream",
     "text": [
      "\r",
      " 20%|███████████████▏                                                             | 988/5000 [18:28<1:04:29,  1.04it/s]"
     ]
    },
    {
     "name": "stdout",
     "output_type": "stream",
     "text": [
      "Epoch: 988 - train_elbo: -105.0986 train_logpx: -99.4680 train_tvo_log_evidence: -99.5187\n"
     ]
    },
    {
     "name": "stderr",
     "output_type": "stream",
     "text": [
      "\r",
      " 20%|███████████████▏                                                             | 989/5000 [18:29<1:03:27,  1.05it/s]"
     ]
    },
    {
     "name": "stdout",
     "output_type": "stream",
     "text": [
      "Epoch: 989 - train_elbo: -105.0547 train_logpx: -99.5716 train_tvo_log_evidence: -99.6213\n"
     ]
    },
    {
     "name": "stderr",
     "output_type": "stream",
     "text": [
      "\r",
      " 20%|███████████████▏                                                             | 990/5000 [18:30<1:03:37,  1.05it/s]"
     ]
    },
    {
     "name": "stdout",
     "output_type": "stream",
     "text": [
      "Epoch: 990 - train_elbo: -104.9950 train_logpx: -99.4301 train_tvo_log_evidence: -99.4803\n"
     ]
    },
    {
     "name": "stderr",
     "output_type": "stream",
     "text": [
      "\r",
      " 20%|███████████████▎                                                             | 991/5000 [18:31<1:03:29,  1.05it/s]"
     ]
    },
    {
     "name": "stdout",
     "output_type": "stream",
     "text": [
      "Epoch: 991 - train_elbo: -105.0762 train_logpx: -99.5010 train_tvo_log_evidence: -99.5513\n"
     ]
    },
    {
     "name": "stderr",
     "output_type": "stream",
     "text": [
      "\r",
      " 20%|███████████████▎                                                             | 992/5000 [18:32<1:03:02,  1.06it/s]"
     ]
    },
    {
     "name": "stdout",
     "output_type": "stream",
     "text": [
      "==================================\n",
      "K=6 points=tensor([0.0000, 0.0582, 0.0633, 0.0892, 0.3029, 1.0000], device='cuda:0')\n",
      "==================================\n",
      "Epoch: 992 - train_elbo: -104.8246 train_logpx: -99.3383 train_tvo_log_evidence: -99.3881\n"
     ]
    },
    {
     "name": "stderr",
     "output_type": "stream",
     "text": [
      "\r",
      " 20%|███████████████▎                                                             | 993/5000 [18:34<1:27:41,  1.31s/it]"
     ]
    },
    {
     "name": "stdout",
     "output_type": "stream",
     "text": [
      "Epoch: 993 - train_elbo: -104.9528 train_logpx: -99.3411 train_tvo_log_evidence: -99.3919\n"
     ]
    },
    {
     "name": "stderr",
     "output_type": "stream",
     "text": [
      "\r",
      " 20%|███████████████▎                                                             | 994/5000 [18:35<1:21:55,  1.23s/it]"
     ]
    },
    {
     "name": "stdout",
     "output_type": "stream",
     "text": [
      "Epoch: 994 - train_elbo: -104.9998 train_logpx: -99.3778 train_tvo_log_evidence: -99.4288\n"
     ]
    },
    {
     "name": "stderr",
     "output_type": "stream",
     "text": [
      "\r",
      " 20%|███████████████▎                                                             | 995/5000 [18:36<1:16:23,  1.14s/it]"
     ]
    },
    {
     "name": "stdout",
     "output_type": "stream",
     "text": [
      "Epoch: 995 - train_elbo: -105.0803 train_logpx: -99.4779 train_tvo_log_evidence: -99.5285\n"
     ]
    },
    {
     "name": "stderr",
     "output_type": "stream",
     "text": [
      "\r",
      " 20%|███████████████▎                                                             | 996/5000 [18:37<1:13:01,  1.09s/it]"
     ]
    },
    {
     "name": "stdout",
     "output_type": "stream",
     "text": [
      "Epoch: 996 - train_elbo: -104.9939 train_logpx: -99.4111 train_tvo_log_evidence: -99.4617\n"
     ]
    },
    {
     "name": "stderr",
     "output_type": "stream",
     "text": [
      "\r",
      " 20%|███████████████▎                                                             | 997/5000 [18:38<1:12:50,  1.09s/it]"
     ]
    },
    {
     "name": "stdout",
     "output_type": "stream",
     "text": [
      "Epoch: 997 - train_elbo: -104.9467 train_logpx: -99.2713 train_tvo_log_evidence: -99.3227\n"
     ]
    },
    {
     "name": "stderr",
     "output_type": "stream",
     "text": [
      "\r",
      " 20%|███████████████▎                                                             | 998/5000 [18:39<1:08:56,  1.03s/it]"
     ]
    },
    {
     "name": "stdout",
     "output_type": "stream",
     "text": [
      "Epoch: 998 - train_elbo: -105.0907 train_logpx: -99.3960 train_tvo_log_evidence: -99.4473\n"
     ]
    },
    {
     "name": "stderr",
     "output_type": "stream",
     "text": [
      "\r",
      " 20%|███████████████▍                                                             | 999/5000 [18:40<1:06:56,  1.00s/it]"
     ]
    },
    {
     "name": "stdout",
     "output_type": "stream",
     "text": [
      "Epoch: 999 - train_elbo: -105.0316 train_logpx: -99.2883 train_tvo_log_evidence: -99.3401\n"
     ]
    },
    {
     "name": "stderr",
     "output_type": "stream",
     "text": [
      "\r",
      " 20%|███████████████▏                                                            | 1000/5000 [18:41<1:06:11,  1.01it/s]"
     ]
    },
    {
     "name": "stdout",
     "output_type": "stream",
     "text": [
      "Epoch: 1000 - train_elbo: -105.0062 train_logpx: -99.2909 train_tvo_log_evidence: -99.3422\n",
      "Epoch: 1000 - test_logpx: -100.5246 test_kl: 7.9662\n"
     ]
    },
    {
     "name": "stderr",
     "output_type": "stream",
     "text": [
      "\r",
      " 20%|███████████████▏                                                            | 1001/5000 [18:50<3:45:00,  3.38s/it]"
     ]
    },
    {
     "name": "stdout",
     "output_type": "stream",
     "text": [
      "Epoch: 1001 - train_elbo: -104.8717 train_logpx: -99.2884 train_tvo_log_evidence: -99.3389\n"
     ]
    },
    {
     "name": "stderr",
     "output_type": "stream",
     "text": [
      "\r",
      " 20%|███████████████▏                                                            | 1002/5000 [18:51<2:55:44,  2.64s/it]"
     ]
    },
    {
     "name": "stdout",
     "output_type": "stream",
     "text": [
      "Epoch: 1002 - train_elbo: -105.0251 train_logpx: -99.3703 train_tvo_log_evidence: -99.4212\n"
     ]
    },
    {
     "name": "stderr",
     "output_type": "stream",
     "text": [
      "\r",
      " 20%|███████████████▏                                                            | 1003/5000 [18:52<2:23:02,  2.15s/it]"
     ]
    },
    {
     "name": "stdout",
     "output_type": "stream",
     "text": [
      "Epoch: 1003 - train_elbo: -104.9333 train_logpx: -99.2949 train_tvo_log_evidence: -99.3455\n"
     ]
    },
    {
     "name": "stderr",
     "output_type": "stream",
     "text": [
      "\r",
      " 20%|███████████████▎                                                            | 1004/5000 [18:53<1:58:36,  1.78s/it]"
     ]
    },
    {
     "name": "stdout",
     "output_type": "stream",
     "text": [
      "Epoch: 1004 - train_elbo: -104.9987 train_logpx: -99.3118 train_tvo_log_evidence: -99.3628\n"
     ]
    },
    {
     "name": "stderr",
     "output_type": "stream",
     "text": [
      "\r",
      " 20%|███████████████▎                                                            | 1005/5000 [18:54<1:41:47,  1.53s/it]"
     ]
    },
    {
     "name": "stdout",
     "output_type": "stream",
     "text": [
      "Epoch: 1005 - train_elbo: -104.7655 train_logpx: -99.2958 train_tvo_log_evidence: -99.3456\n"
     ]
    },
    {
     "name": "stderr",
     "output_type": "stream",
     "text": [
      "\r",
      " 20%|███████████████▎                                                            | 1006/5000 [18:55<1:30:02,  1.35s/it]"
     ]
    },
    {
     "name": "stdout",
     "output_type": "stream",
     "text": [
      "Epoch: 1006 - train_elbo: -104.7548 train_logpx: -99.1453 train_tvo_log_evidence: -99.1964\n"
     ]
    },
    {
     "name": "stderr",
     "output_type": "stream",
     "text": [
      "\r",
      " 20%|███████████████▎                                                            | 1007/5000 [18:56<1:21:52,  1.23s/it]"
     ]
    },
    {
     "name": "stdout",
     "output_type": "stream",
     "text": [
      "Epoch: 1007 - train_elbo: -104.8486 train_logpx: -99.1534 train_tvo_log_evidence: -99.2048\n"
     ]
    },
    {
     "name": "stderr",
     "output_type": "stream",
     "text": [
      "\r",
      " 20%|███████████████▎                                                            | 1008/5000 [18:57<1:16:35,  1.15s/it]"
     ]
    },
    {
     "name": "stdout",
     "output_type": "stream",
     "text": [
      "==================================\n",
      "K=6 points=tensor([0.0000, 0.0582, 0.0633, 0.0789, 0.3935, 1.0000], device='cuda:0')\n",
      "==================================\n",
      "Epoch: 1008 - train_elbo: -104.9448 train_logpx: -99.2972 train_tvo_log_evidence: -99.3481\n"
     ]
    },
    {
     "name": "stderr",
     "output_type": "stream",
     "text": [
      "\r",
      " 20%|███████████████▎                                                            | 1009/5000 [18:59<1:38:53,  1.49s/it]"
     ]
    },
    {
     "name": "stdout",
     "output_type": "stream",
     "text": [
      "Epoch: 1009 - train_elbo: -104.5045 train_logpx: -99.2962 train_tvo_log_evidence: -99.3454\n"
     ]
    },
    {
     "name": "stderr",
     "output_type": "stream",
     "text": [
      "\r",
      " 20%|███████████████▎                                                            | 1010/5000 [19:00<1:27:52,  1.32s/it]"
     ]
    },
    {
     "name": "stdout",
     "output_type": "stream",
     "text": [
      "Epoch: 1010 - train_elbo: -104.5761 train_logpx: -99.3331 train_tvo_log_evidence: -99.3821\n"
     ]
    },
    {
     "name": "stderr",
     "output_type": "stream",
     "text": [
      "\r",
      " 20%|███████████████▎                                                            | 1011/5000 [19:01<1:20:12,  1.21s/it]"
     ]
    },
    {
     "name": "stdout",
     "output_type": "stream",
     "text": [
      "Epoch: 1011 - train_elbo: -104.6935 train_logpx: -99.2181 train_tvo_log_evidence: -99.2683\n"
     ]
    },
    {
     "name": "stderr",
     "output_type": "stream",
     "text": [
      "\r",
      " 20%|███████████████▍                                                            | 1012/5000 [19:02<1:14:25,  1.12s/it]"
     ]
    },
    {
     "name": "stdout",
     "output_type": "stream",
     "text": [
      "Epoch: 1012 - train_elbo: -104.5647 train_logpx: -99.2676 train_tvo_log_evidence: -99.3170\n"
     ]
    },
    {
     "name": "stderr",
     "output_type": "stream",
     "text": [
      "\r",
      " 20%|███████████████▍                                                            | 1013/5000 [19:03<1:13:00,  1.10s/it]"
     ]
    },
    {
     "name": "stdout",
     "output_type": "stream",
     "text": [
      "Epoch: 1013 - train_elbo: -104.4555 train_logpx: -99.2824 train_tvo_log_evidence: -99.3310\n"
     ]
    },
    {
     "name": "stderr",
     "output_type": "stream",
     "text": [
      "\r",
      " 20%|███████████████▍                                                            | 1014/5000 [19:04<1:09:42,  1.05s/it]"
     ]
    },
    {
     "name": "stdout",
     "output_type": "stream",
     "text": [
      "Epoch: 1014 - train_elbo: -104.5610 train_logpx: -99.3357 train_tvo_log_evidence: -99.3844\n"
     ]
    },
    {
     "name": "stderr",
     "output_type": "stream",
     "text": [
      "\r",
      " 20%|███████████████▍                                                            | 1015/5000 [19:05<1:07:13,  1.01s/it]"
     ]
    },
    {
     "name": "stdout",
     "output_type": "stream",
     "text": [
      "Epoch: 1015 - train_elbo: -104.4538 train_logpx: -99.2648 train_tvo_log_evidence: -99.3130\n"
     ]
    },
    {
     "name": "stderr",
     "output_type": "stream",
     "text": [
      "\r",
      " 20%|███████████████▍                                                            | 1016/5000 [19:05<1:05:33,  1.01it/s]"
     ]
    },
    {
     "name": "stdout",
     "output_type": "stream",
     "text": [
      "Epoch: 1016 - train_elbo: -104.6447 train_logpx: -99.4118 train_tvo_log_evidence: -99.4605\n"
     ]
    },
    {
     "name": "stderr",
     "output_type": "stream",
     "text": [
      "\r",
      " 20%|███████████████▍                                                            | 1017/5000 [19:06<1:06:06,  1.00it/s]"
     ]
    },
    {
     "name": "stdout",
     "output_type": "stream",
     "text": [
      "===early update=== logtvopx[-1]-average_y[-1] -0.0939 drip_threshold -0.05\n",
      "estimated [epsilon lengthscale noisevar] [0.9        2.14589303 0.15678372]\n",
      "==================================\n",
      "K=6 points=tensor([0.0000, 0.1137, 0.1943, 0.4681, 0.4802, 1.0000], device='cuda:0')\n",
      "==================================\n",
      "Epoch: 1017 - train_elbo: -104.5947 train_logpx: -99.2922 train_tvo_log_evidence: -99.3419\n"
     ]
    },
    {
     "name": "stderr",
     "output_type": "stream",
     "text": [
      "\r",
      " 20%|███████████████▍                                                            | 1018/5000 [19:09<1:30:38,  1.37s/it]"
     ]
    },
    {
     "name": "stdout",
     "output_type": "stream",
     "text": [
      "Epoch: 1018 - train_elbo: -104.4759 train_logpx: -99.1437 train_tvo_log_evidence: -99.1927\n"
     ]
    },
    {
     "name": "stderr",
     "output_type": "stream",
     "text": [
      "\r",
      " 20%|███████████████▍                                                            | 1019/5000 [19:10<1:23:21,  1.26s/it]"
     ]
    },
    {
     "name": "stdout",
     "output_type": "stream",
     "text": [
      "Epoch: 1019 - train_elbo: -104.6901 train_logpx: -99.2705 train_tvo_log_evidence: -99.3203\n"
     ]
    },
    {
     "name": "stderr",
     "output_type": "stream",
     "text": [
      "\r",
      " 20%|███████████████▌                                                            | 1020/5000 [19:11<1:18:58,  1.19s/it]"
     ]
    },
    {
     "name": "stdout",
     "output_type": "stream",
     "text": [
      "Epoch: 1020 - train_elbo: -104.5401 train_logpx: -99.1989 train_tvo_log_evidence: -99.2483\n"
     ]
    },
    {
     "name": "stderr",
     "output_type": "stream",
     "text": [
      "\r",
      " 20%|███████████████▌                                                            | 1021/5000 [19:12<1:15:00,  1.13s/it]"
     ]
    },
    {
     "name": "stdout",
     "output_type": "stream",
     "text": [
      "Epoch: 1021 - train_elbo: -104.5519 train_logpx: -99.1525 train_tvo_log_evidence: -99.2020\n"
     ]
    },
    {
     "name": "stderr",
     "output_type": "stream",
     "text": [
      "\r",
      " 20%|███████████████▌                                                            | 1022/5000 [19:13<1:11:39,  1.08s/it]"
     ]
    },
    {
     "name": "stdout",
     "output_type": "stream",
     "text": [
      "Epoch: 1022 - train_elbo: -104.5436 train_logpx: -99.1163 train_tvo_log_evidence: -99.1660\n"
     ]
    },
    {
     "name": "stderr",
     "output_type": "stream",
     "text": [
      "\r",
      " 20%|███████████████▌                                                            | 1023/5000 [19:14<1:09:48,  1.05s/it]"
     ]
    },
    {
     "name": "stdout",
     "output_type": "stream",
     "text": [
      "Epoch: 1023 - train_elbo: -104.4237 train_logpx: -99.0348 train_tvo_log_evidence: -99.0843\n"
     ]
    },
    {
     "name": "stderr",
     "output_type": "stream",
     "text": [
      "\r",
      " 20%|███████████████▌                                                            | 1024/5000 [19:15<1:09:56,  1.06s/it]"
     ]
    },
    {
     "name": "stdout",
     "output_type": "stream",
     "text": [
      "==================================\n",
      "K=6 points=tensor([0.0000, 0.0581, 0.0683, 0.0707, 0.3937, 1.0000], device='cuda:0')\n",
      "==================================\n",
      "Epoch: 1024 - train_elbo: -104.3826 train_logpx: -99.1373 train_tvo_log_evidence: -99.1861\n"
     ]
    },
    {
     "name": "stderr",
     "output_type": "stream",
     "text": [
      "\r",
      " 20%|███████████████▌                                                            | 1025/5000 [19:17<1:37:40,  1.47s/it]"
     ]
    },
    {
     "name": "stdout",
     "output_type": "stream",
     "text": [
      "Epoch: 1025 - train_elbo: -104.4266 train_logpx: -99.2410 train_tvo_log_evidence: -99.2899\n"
     ]
    },
    {
     "name": "stderr",
     "output_type": "stream",
     "text": [
      "\r",
      " 21%|███████████████▌                                                            | 1026/5000 [19:18<1:27:33,  1.32s/it]"
     ]
    },
    {
     "name": "stdout",
     "output_type": "stream",
     "text": [
      "Epoch: 1026 - train_elbo: -104.2286 train_logpx: -99.0536 train_tvo_log_evidence: -99.1027\n"
     ]
    },
    {
     "name": "stderr",
     "output_type": "stream",
     "text": [
      "\r",
      " 21%|███████████████▌                                                            | 1027/5000 [19:19<1:21:14,  1.23s/it]"
     ]
    },
    {
     "name": "stdout",
     "output_type": "stream",
     "text": [
      "Epoch: 1027 - train_elbo: -104.3918 train_logpx: -99.1086 train_tvo_log_evidence: -99.1578\n"
     ]
    },
    {
     "name": "stderr",
     "output_type": "stream",
     "text": [
      "\r",
      " 21%|███████████████▋                                                            | 1028/5000 [19:20<1:15:50,  1.15s/it]"
     ]
    },
    {
     "name": "stdout",
     "output_type": "stream",
     "text": [
      "Epoch: 1028 - train_elbo: -104.5184 train_logpx: -99.2127 train_tvo_log_evidence: -99.2620\n"
     ]
    },
    {
     "name": "stderr",
     "output_type": "stream",
     "text": [
      "\r",
      " 21%|███████████████▋                                                            | 1029/5000 [19:21<1:13:00,  1.10s/it]"
     ]
    },
    {
     "name": "stdout",
     "output_type": "stream",
     "text": [
      "Epoch: 1029 - train_elbo: -104.3889 train_logpx: -99.2288 train_tvo_log_evidence: -99.2774\n"
     ]
    },
    {
     "name": "stderr",
     "output_type": "stream",
     "text": [
      "\r",
      " 21%|███████████████▋                                                            | 1030/5000 [19:22<1:09:47,  1.05s/it]"
     ]
    },
    {
     "name": "stdout",
     "output_type": "stream",
     "text": [
      "Epoch: 1030 - train_elbo: -104.3023 train_logpx: -99.0978 train_tvo_log_evidence: -99.1464\n"
     ]
    },
    {
     "name": "stderr",
     "output_type": "stream",
     "text": [
      "\r",
      " 21%|███████████████▋                                                            | 1031/5000 [19:23<1:09:05,  1.04s/it]"
     ]
    },
    {
     "name": "stdout",
     "output_type": "stream",
     "text": [
      "Epoch: 1031 - train_elbo: -104.5100 train_logpx: -99.2638 train_tvo_log_evidence: -99.3133\n"
     ]
    },
    {
     "name": "stderr",
     "output_type": "stream",
     "text": [
      "\r",
      " 21%|███████████████▋                                                            | 1032/5000 [19:24<1:08:13,  1.03s/it]"
     ]
    },
    {
     "name": "stdout",
     "output_type": "stream",
     "text": [
      "Epoch: 1032 - train_elbo: -104.3680 train_logpx: -99.1200 train_tvo_log_evidence: -99.1690\n"
     ]
    },
    {
     "name": "stderr",
     "output_type": "stream",
     "text": [
      "\r",
      " 21%|███████████████▋                                                            | 1033/5000 [19:25<1:07:06,  1.01s/it]"
     ]
    },
    {
     "name": "stdout",
     "output_type": "stream",
     "text": [
      "Epoch: 1033 - train_elbo: -104.3946 train_logpx: -99.1432 train_tvo_log_evidence: -99.1926\n"
     ]
    },
    {
     "name": "stderr",
     "output_type": "stream",
     "text": [
      "\r",
      " 21%|███████████████▋                                                            | 1034/5000 [19:26<1:06:53,  1.01s/it]"
     ]
    },
    {
     "name": "stdout",
     "output_type": "stream",
     "text": [
      "Epoch: 1034 - train_elbo: -104.3947 train_logpx: -99.2144 train_tvo_log_evidence: -99.2636\n"
     ]
    },
    {
     "name": "stderr",
     "output_type": "stream",
     "text": [
      "\r",
      " 21%|███████████████▋                                                            | 1035/5000 [19:27<1:05:53,  1.00it/s]"
     ]
    },
    {
     "name": "stdout",
     "output_type": "stream",
     "text": [
      "Epoch: 1035 - train_elbo: -104.3218 train_logpx: -99.0838 train_tvo_log_evidence: -99.1328\n"
     ]
    },
    {
     "name": "stderr",
     "output_type": "stream",
     "text": [
      "\r",
      " 21%|███████████████▋                                                            | 1036/5000 [19:28<1:05:45,  1.00it/s]"
     ]
    },
    {
     "name": "stdout",
     "output_type": "stream",
     "text": [
      "Epoch: 1036 - train_elbo: -104.4798 train_logpx: -99.2178 train_tvo_log_evidence: -99.2671\n"
     ]
    },
    {
     "name": "stderr",
     "output_type": "stream",
     "text": [
      "\r",
      " 21%|███████████████▊                                                            | 1037/5000 [19:29<1:04:14,  1.03it/s]"
     ]
    },
    {
     "name": "stdout",
     "output_type": "stream",
     "text": [
      "Epoch: 1037 - train_elbo: -104.2889 train_logpx: -99.0826 train_tvo_log_evidence: -99.1316\n"
     ]
    },
    {
     "name": "stderr",
     "output_type": "stream",
     "text": [
      "\r",
      " 21%|███████████████▊                                                            | 1038/5000 [19:30<1:04:22,  1.03it/s]"
     ]
    },
    {
     "name": "stdout",
     "output_type": "stream",
     "text": [
      "Epoch: 1038 - train_elbo: -104.3221 train_logpx: -99.1112 train_tvo_log_evidence: -99.1603\n"
     ]
    },
    {
     "name": "stderr",
     "output_type": "stream",
     "text": [
      "\r",
      " 21%|███████████████▊                                                            | 1039/5000 [19:31<1:03:27,  1.04it/s]"
     ]
    },
    {
     "name": "stdout",
     "output_type": "stream",
     "text": [
      "Epoch: 1039 - train_elbo: -104.2435 train_logpx: -99.0457 train_tvo_log_evidence: -99.0948\n"
     ]
    },
    {
     "name": "stderr",
     "output_type": "stream",
     "text": [
      "\r",
      " 21%|███████████████▊                                                            | 1040/5000 [19:32<1:04:34,  1.02it/s]"
     ]
    },
    {
     "name": "stdout",
     "output_type": "stream",
     "text": [
      "==================================\n",
      "K=6 points=tensor([0.0000, 0.0559, 0.0684, 0.0787, 0.3937, 1.0000], device='cuda:0')\n",
      "==================================\n",
      "Epoch: 1040 - train_elbo: -104.2323 train_logpx: -98.9987 train_tvo_log_evidence: -99.0475\n"
     ]
    },
    {
     "name": "stderr",
     "output_type": "stream",
     "text": [
      "\r",
      " 21%|███████████████▊                                                            | 1041/5000 [19:34<1:36:31,  1.46s/it]"
     ]
    },
    {
     "name": "stdout",
     "output_type": "stream",
     "text": [
      "Epoch: 1041 - train_elbo: -104.4651 train_logpx: -99.0721 train_tvo_log_evidence: -99.1221\n"
     ]
    },
    {
     "name": "stderr",
     "output_type": "stream",
     "text": [
      "\r",
      " 21%|███████████████▊                                                            | 1042/5000 [19:35<1:26:33,  1.31s/it]"
     ]
    },
    {
     "name": "stdout",
     "output_type": "stream",
     "text": [
      "Epoch: 1042 - train_elbo: -104.2739 train_logpx: -98.8747 train_tvo_log_evidence: -98.9248\n"
     ]
    },
    {
     "name": "stderr",
     "output_type": "stream",
     "text": [
      "\r",
      " 21%|███████████████▊                                                            | 1043/5000 [19:36<1:19:52,  1.21s/it]"
     ]
    },
    {
     "name": "stdout",
     "output_type": "stream",
     "text": [
      "Epoch: 1043 - train_elbo: -104.3734 train_logpx: -99.0720 train_tvo_log_evidence: -99.1215\n"
     ]
    },
    {
     "name": "stderr",
     "output_type": "stream",
     "text": [
      "\r",
      " 21%|███████████████▊                                                            | 1044/5000 [19:37<1:15:29,  1.14s/it]"
     ]
    },
    {
     "name": "stdout",
     "output_type": "stream",
     "text": [
      "Epoch: 1044 - train_elbo: -104.4681 train_logpx: -99.0685 train_tvo_log_evidence: -99.1191\n"
     ]
    },
    {
     "name": "stderr",
     "output_type": "stream",
     "text": [
      "\r",
      " 21%|███████████████▉                                                            | 1045/5000 [19:38<1:11:52,  1.09s/it]"
     ]
    },
    {
     "name": "stdout",
     "output_type": "stream",
     "text": [
      "Epoch: 1045 - train_elbo: -104.4640 train_logpx: -99.0836 train_tvo_log_evidence: -99.1338\n"
     ]
    },
    {
     "name": "stderr",
     "output_type": "stream",
     "text": [
      "\r",
      " 21%|███████████████▉                                                            | 1046/5000 [19:39<1:09:56,  1.06s/it]"
     ]
    },
    {
     "name": "stdout",
     "output_type": "stream",
     "text": [
      "Epoch: 1046 - train_elbo: -104.4121 train_logpx: -99.1077 train_tvo_log_evidence: -99.1570\n"
     ]
    },
    {
     "name": "stderr",
     "output_type": "stream",
     "text": [
      "\r",
      " 21%|███████████████▉                                                            | 1047/5000 [19:40<1:08:26,  1.04s/it]"
     ]
    },
    {
     "name": "stdout",
     "output_type": "stream",
     "text": [
      "Epoch: 1047 - train_elbo: -104.1828 train_logpx: -98.9647 train_tvo_log_evidence: -99.0138\n"
     ]
    },
    {
     "name": "stderr",
     "output_type": "stream",
     "text": [
      "\r",
      " 21%|███████████████▉                                                            | 1048/5000 [19:41<1:07:55,  1.03s/it]"
     ]
    },
    {
     "name": "stdout",
     "output_type": "stream",
     "text": [
      "Epoch: 1048 - train_elbo: -104.4743 train_logpx: -99.1523 train_tvo_log_evidence: -99.2022\n"
     ]
    },
    {
     "name": "stderr",
     "output_type": "stream",
     "text": [
      "\r",
      " 21%|███████████████▉                                                            | 1049/5000 [19:42<1:07:42,  1.03s/it]"
     ]
    },
    {
     "name": "stdout",
     "output_type": "stream",
     "text": [
      "Epoch: 1049 - train_elbo: -104.3683 train_logpx: -99.0179 train_tvo_log_evidence: -99.0679\n"
     ]
    },
    {
     "name": "stderr",
     "output_type": "stream",
     "text": [
      "\r",
      " 21%|███████████████▉                                                            | 1050/5000 [19:43<1:06:24,  1.01s/it]"
     ]
    },
    {
     "name": "stdout",
     "output_type": "stream",
     "text": [
      "Epoch: 1050 - train_elbo: -104.2957 train_logpx: -98.9930 train_tvo_log_evidence: -99.0430\n"
     ]
    },
    {
     "name": "stderr",
     "output_type": "stream",
     "text": [
      "\r",
      " 21%|███████████████▉                                                            | 1051/5000 [19:44<1:07:10,  1.02s/it]"
     ]
    },
    {
     "name": "stdout",
     "output_type": "stream",
     "text": [
      "Epoch: 1051 - train_elbo: -104.3462 train_logpx: -99.0382 train_tvo_log_evidence: -99.0879\n"
     ]
    },
    {
     "name": "stderr",
     "output_type": "stream",
     "text": [
      "\r",
      " 21%|███████████████▉                                                            | 1052/5000 [19:45<1:05:46,  1.00it/s]"
     ]
    },
    {
     "name": "stdout",
     "output_type": "stream",
     "text": [
      "Epoch: 1052 - train_elbo: -104.2916 train_logpx: -99.0046 train_tvo_log_evidence: -99.0542\n"
     ]
    },
    {
     "name": "stderr",
     "output_type": "stream",
     "text": [
      "\r",
      " 21%|████████████████                                                            | 1053/5000 [19:46<1:03:45,  1.03it/s]"
     ]
    },
    {
     "name": "stdout",
     "output_type": "stream",
     "text": [
      "Epoch: 1053 - train_elbo: -104.1790 train_logpx: -98.8881 train_tvo_log_evidence: -98.9375\n"
     ]
    },
    {
     "name": "stderr",
     "output_type": "stream",
     "text": [
      "\r",
      " 21%|████████████████                                                            | 1054/5000 [19:47<1:03:08,  1.04it/s]"
     ]
    },
    {
     "name": "stdout",
     "output_type": "stream",
     "text": [
      "Epoch: 1054 - train_elbo: -104.2975 train_logpx: -98.9736 train_tvo_log_evidence: -99.0229\n"
     ]
    },
    {
     "name": "stderr",
     "output_type": "stream",
     "text": [
      "\r",
      " 21%|████████████████                                                            | 1055/5000 [19:48<1:02:25,  1.05it/s]"
     ]
    },
    {
     "name": "stdout",
     "output_type": "stream",
     "text": [
      "Epoch: 1055 - train_elbo: -104.2442 train_logpx: -98.9646 train_tvo_log_evidence: -99.0140\n"
     ]
    },
    {
     "name": "stderr",
     "output_type": "stream",
     "text": [
      "\r",
      " 21%|████████████████                                                            | 1056/5000 [19:49<1:02:15,  1.06it/s]"
     ]
    },
    {
     "name": "stdout",
     "output_type": "stream",
     "text": [
      "==================================\n",
      "K=6 points=tensor([0.0000, 0.0684, 0.0707, 0.0890, 0.1216, 1.0000], device='cuda:0')\n",
      "==================================\n",
      "Epoch: 1056 - train_elbo: -104.4165 train_logpx: -98.9442 train_tvo_log_evidence: -98.9953\n"
     ]
    },
    {
     "name": "stderr",
     "output_type": "stream",
     "text": [
      "\r",
      " 21%|████████████████                                                            | 1057/5000 [19:52<1:36:56,  1.48s/it]"
     ]
    },
    {
     "name": "stdout",
     "output_type": "stream",
     "text": [
      "Epoch: 1057 - train_elbo: -104.5821 train_logpx: -99.0070 train_tvo_log_evidence: -99.0588\n"
     ]
    },
    {
     "name": "stderr",
     "output_type": "stream",
     "text": [
      "\r",
      " 21%|████████████████                                                            | 1058/5000 [19:53<1:28:22,  1.35s/it]"
     ]
    },
    {
     "name": "stdout",
     "output_type": "stream",
     "text": [
      "Epoch: 1058 - train_elbo: -104.9366 train_logpx: -99.1773 train_tvo_log_evidence: -99.2309\n"
     ]
    },
    {
     "name": "stderr",
     "output_type": "stream",
     "text": [
      "\r",
      " 21%|████████████████                                                            | 1059/5000 [19:54<1:19:57,  1.22s/it]"
     ]
    },
    {
     "name": "stdout",
     "output_type": "stream",
     "text": [
      "===early update=== logtvopx[-1]-average_y[-1] -0.1641 drip_threshold -0.05\n",
      "==================================\n",
      "K=6 points=tensor([0.0000, 0.0558, 0.0682, 0.0884, 0.3033, 1.0000], device='cuda:0')\n",
      "==================================\n",
      "args.schedule_update_frequency= 17\n",
      "Epoch: 1059 - train_elbo: -105.0604 train_logpx: -99.1763 train_tvo_log_evidence: -99.2303\n"
     ]
    },
    {
     "name": "stderr",
     "output_type": "stream",
     "text": [
      "\r",
      " 21%|████████████████                                                            | 1060/5000 [19:56<1:40:28,  1.53s/it]"
     ]
    },
    {
     "name": "stdout",
     "output_type": "stream",
     "text": [
      "===early update=== logtvopx[-1]-average_y[-1] -0.1353 drip_threshold -0.05\n",
      "estimated [epsilon lengthscale noisevar] [0.9        2.10518905 0.15166672]\n",
      "==================================\n",
      "K=6 points=tensor([0.0000, 0.1136, 0.2536, 0.2747, 0.6188, 1.0000], device='cuda:0')\n",
      "==================================\n",
      "Epoch: 1060 - train_elbo: -105.1482 train_logpx: -99.0686 train_tvo_log_evidence: -99.1231\n"
     ]
    },
    {
     "name": "stderr",
     "output_type": "stream",
     "text": [
      "\r",
      " 21%|████████████████▏                                                           | 1061/5000 [19:58<1:58:21,  1.80s/it]"
     ]
    },
    {
     "name": "stdout",
     "output_type": "stream",
     "text": [
      "Epoch: 1061 - train_elbo: -104.5921 train_logpx: -99.0166 train_tvo_log_evidence: -99.0683\n"
     ]
    },
    {
     "name": "stderr",
     "output_type": "stream",
     "text": [
      "\r",
      " 21%|████████████████▏                                                           | 1062/5000 [19:59<1:40:32,  1.53s/it]"
     ]
    },
    {
     "name": "stdout",
     "output_type": "stream",
     "text": [
      "Epoch: 1062 - train_elbo: -104.2434 train_logpx: -98.9349 train_tvo_log_evidence: -98.9851\n"
     ]
    },
    {
     "name": "stderr",
     "output_type": "stream",
     "text": [
      "\r",
      " 21%|████████████████▏                                                           | 1063/5000 [20:00<1:28:54,  1.36s/it]"
     ]
    },
    {
     "name": "stdout",
     "output_type": "stream",
     "text": [
      "Epoch: 1063 - train_elbo: -104.3980 train_logpx: -99.0252 train_tvo_log_evidence: -99.0753\n"
     ]
    },
    {
     "name": "stderr",
     "output_type": "stream",
     "text": [
      "\r",
      " 21%|████████████████▏                                                           | 1064/5000 [20:01<1:20:26,  1.23s/it]"
     ]
    },
    {
     "name": "stdout",
     "output_type": "stream",
     "text": [
      "Epoch: 1064 - train_elbo: -104.2597 train_logpx: -98.8575 train_tvo_log_evidence: -98.9076\n"
     ]
    },
    {
     "name": "stderr",
     "output_type": "stream",
     "text": [
      "\r",
      " 21%|████████████████▏                                                           | 1065/5000 [20:02<1:16:51,  1.17s/it]"
     ]
    },
    {
     "name": "stdout",
     "output_type": "stream",
     "text": [
      "Epoch: 1065 - train_elbo: -104.2658 train_logpx: -98.8818 train_tvo_log_evidence: -98.9316\n"
     ]
    },
    {
     "name": "stderr",
     "output_type": "stream",
     "text": [
      "\r",
      " 21%|████████████████▏                                                           | 1066/5000 [20:03<1:12:59,  1.11s/it]"
     ]
    },
    {
     "name": "stdout",
     "output_type": "stream",
     "text": [
      "Epoch: 1066 - train_elbo: -104.1025 train_logpx: -98.7473 train_tvo_log_evidence: -98.7973\n"
     ]
    },
    {
     "name": "stderr",
     "output_type": "stream",
     "text": [
      "\r",
      " 21%|████████████████▏                                                           | 1067/5000 [20:04<1:10:32,  1.08s/it]"
     ]
    },
    {
     "name": "stdout",
     "output_type": "stream",
     "text": [
      "Epoch: 1067 - train_elbo: -103.9929 train_logpx: -98.7568 train_tvo_log_evidence: -98.8054\n"
     ]
    },
    {
     "name": "stderr",
     "output_type": "stream",
     "text": [
      "\r",
      " 21%|████████████████▏                                                           | 1068/5000 [20:05<1:07:58,  1.04s/it]"
     ]
    },
    {
     "name": "stdout",
     "output_type": "stream",
     "text": [
      "Epoch: 1068 - train_elbo: -104.0918 train_logpx: -98.8354 train_tvo_log_evidence: -98.8843\n"
     ]
    },
    {
     "name": "stderr",
     "output_type": "stream",
     "text": [
      "\r",
      " 21%|████████████████▏                                                           | 1069/5000 [20:06<1:06:29,  1.01s/it]"
     ]
    },
    {
     "name": "stdout",
     "output_type": "stream",
     "text": [
      "Epoch: 1069 - train_elbo: -103.9582 train_logpx: -98.7289 train_tvo_log_evidence: -98.7778\n"
     ]
    },
    {
     "name": "stderr",
     "output_type": "stream",
     "text": [
      "\r",
      " 21%|████████████████▎                                                           | 1070/5000 [20:07<1:05:20,  1.00it/s]"
     ]
    },
    {
     "name": "stdout",
     "output_type": "stream",
     "text": [
      "Epoch: 1070 - train_elbo: -103.9860 train_logpx: -98.6989 train_tvo_log_evidence: -98.7484\n"
     ]
    },
    {
     "name": "stderr",
     "output_type": "stream",
     "text": [
      "\r",
      " 21%|████████████████▎                                                           | 1071/5000 [20:08<1:04:25,  1.02it/s]"
     ]
    },
    {
     "name": "stdout",
     "output_type": "stream",
     "text": [
      "==================================\n",
      "K=6 points=tensor([0.0000, 0.0581, 0.0701, 0.0889, 0.2120, 1.0000], device='cuda:0')\n",
      "==================================\n",
      "Epoch: 1071 - train_elbo: -104.1800 train_logpx: -98.7704 train_tvo_log_evidence: -98.8204\n"
     ]
    },
    {
     "name": "stderr",
     "output_type": "stream",
     "text": [
      "\r",
      " 21%|████████████████▎                                                           | 1072/5000 [20:10<1:28:25,  1.35s/it]"
     ]
    },
    {
     "name": "stdout",
     "output_type": "stream",
     "text": [
      "Epoch: 1072 - train_elbo: -104.3316 train_logpx: -98.6459 train_tvo_log_evidence: -98.6970\n"
     ]
    },
    {
     "name": "stderr",
     "output_type": "stream",
     "text": [
      "\r",
      " 21%|████████████████▎                                                           | 1073/5000 [20:11<1:20:26,  1.23s/it]"
     ]
    },
    {
     "name": "stdout",
     "output_type": "stream",
     "text": [
      "Epoch: 1073 - train_elbo: -104.3898 train_logpx: -98.7903 train_tvo_log_evidence: -98.8411\n"
     ]
    },
    {
     "name": "stderr",
     "output_type": "stream",
     "text": [
      "\r",
      " 21%|████████████████▎                                                           | 1074/5000 [20:12<1:17:11,  1.18s/it]"
     ]
    },
    {
     "name": "stdout",
     "output_type": "stream",
     "text": [
      "Epoch: 1074 - train_elbo: -104.4279 train_logpx: -98.7719 train_tvo_log_evidence: -98.8233\n"
     ]
    },
    {
     "name": "stderr",
     "output_type": "stream",
     "text": [
      "\r",
      " 22%|████████████████▎                                                           | 1075/5000 [20:13<1:13:58,  1.13s/it]"
     ]
    },
    {
     "name": "stdout",
     "output_type": "stream",
     "text": [
      "Epoch: 1075 - train_elbo: -104.4879 train_logpx: -98.7139 train_tvo_log_evidence: -98.7663\n"
     ]
    },
    {
     "name": "stderr",
     "output_type": "stream",
     "text": [
      "\r",
      " 22%|████████████████▎                                                           | 1076/5000 [20:14<1:10:05,  1.07s/it]"
     ]
    },
    {
     "name": "stdout",
     "output_type": "stream",
     "text": [
      "Epoch: 1076 - train_elbo: -104.3466 train_logpx: -98.6957 train_tvo_log_evidence: -98.7467\n"
     ]
    },
    {
     "name": "stderr",
     "output_type": "stream",
     "text": [
      "\r",
      " 22%|████████████████▎                                                           | 1077/5000 [20:15<1:07:25,  1.03s/it]"
     ]
    },
    {
     "name": "stdout",
     "output_type": "stream",
     "text": [
      "Epoch: 1077 - train_elbo: -104.5280 train_logpx: -98.6920 train_tvo_log_evidence: -98.7446\n"
     ]
    },
    {
     "name": "stderr",
     "output_type": "stream",
     "text": [
      "\r",
      " 22%|████████████████▍                                                           | 1078/5000 [20:16<1:04:43,  1.01it/s]"
     ]
    },
    {
     "name": "stdout",
     "output_type": "stream",
     "text": [
      "Epoch: 1078 - train_elbo: -104.4599 train_logpx: -98.7041 train_tvo_log_evidence: -98.7555\n"
     ]
    },
    {
     "name": "stderr",
     "output_type": "stream",
     "text": [
      "\r",
      " 22%|████████████████▍                                                           | 1079/5000 [20:17<1:05:40,  1.00s/it]"
     ]
    },
    {
     "name": "stdout",
     "output_type": "stream",
     "text": [
      "Epoch: 1079 - train_elbo: -104.3667 train_logpx: -98.6937 train_tvo_log_evidence: -98.7450\n"
     ]
    },
    {
     "name": "stderr",
     "output_type": "stream",
     "text": [
      "\r",
      " 22%|████████████████▍                                                           | 1080/5000 [20:18<1:05:33,  1.00s/it]"
     ]
    },
    {
     "name": "stdout",
     "output_type": "stream",
     "text": [
      "Epoch: 1080 - train_elbo: -104.2864 train_logpx: -98.6056 train_tvo_log_evidence: -98.6570\n"
     ]
    },
    {
     "name": "stderr",
     "output_type": "stream",
     "text": [
      "\r",
      " 22%|████████████████▍                                                           | 1081/5000 [20:19<1:06:00,  1.01s/it]"
     ]
    },
    {
     "name": "stdout",
     "output_type": "stream",
     "text": [
      "Epoch: 1081 - train_elbo: -104.3607 train_logpx: -98.6497 train_tvo_log_evidence: -98.7011\n"
     ]
    },
    {
     "name": "stderr",
     "output_type": "stream",
     "text": [
      "\r",
      " 22%|████████████████▍                                                           | 1082/5000 [20:20<1:04:16,  1.02it/s]"
     ]
    },
    {
     "name": "stdout",
     "output_type": "stream",
     "text": [
      "Epoch: 1082 - train_elbo: -104.4558 train_logpx: -98.7230 train_tvo_log_evidence: -98.7747\n"
     ]
    },
    {
     "name": "stderr",
     "output_type": "stream",
     "text": [
      "\r",
      " 22%|████████████████▍                                                           | 1083/5000 [20:21<1:05:12,  1.00it/s]"
     ]
    },
    {
     "name": "stdout",
     "output_type": "stream",
     "text": [
      "Epoch: 1083 - train_elbo: -104.4482 train_logpx: -98.6634 train_tvo_log_evidence: -98.7155\n"
     ]
    },
    {
     "name": "stderr",
     "output_type": "stream",
     "text": [
      "\r",
      " 22%|████████████████▍                                                           | 1084/5000 [20:22<1:05:34,  1.00s/it]"
     ]
    },
    {
     "name": "stdout",
     "output_type": "stream",
     "text": [
      "Epoch: 1084 - train_elbo: -104.3858 train_logpx: -98.6801 train_tvo_log_evidence: -98.7319\n"
     ]
    },
    {
     "name": "stderr",
     "output_type": "stream",
     "text": [
      "\r",
      " 22%|████████████████▍                                                           | 1085/5000 [20:23<1:07:46,  1.04s/it]"
     ]
    },
    {
     "name": "stdout",
     "output_type": "stream",
     "text": [
      "Epoch: 1085 - train_elbo: -104.3214 train_logpx: -98.6089 train_tvo_log_evidence: -98.6605\n"
     ]
    },
    {
     "name": "stderr",
     "output_type": "stream",
     "text": [
      "\r",
      " 22%|████████████████▌                                                           | 1086/5000 [20:24<1:07:20,  1.03s/it]"
     ]
    },
    {
     "name": "stdout",
     "output_type": "stream",
     "text": [
      "Epoch: 1086 - train_elbo: -104.1357 train_logpx: -98.4741 train_tvo_log_evidence: -98.5253\n"
     ]
    },
    {
     "name": "stderr",
     "output_type": "stream",
     "text": [
      "\r",
      " 22%|████████████████▌                                                           | 1087/5000 [20:25<1:06:04,  1.01s/it]"
     ]
    },
    {
     "name": "stdout",
     "output_type": "stream",
     "text": [
      "Epoch: 1087 - train_elbo: -104.3228 train_logpx: -98.6446 train_tvo_log_evidence: -98.6961\n"
     ]
    },
    {
     "name": "stderr",
     "output_type": "stream",
     "text": [
      "\r",
      " 22%|████████████████▌                                                           | 1088/5000 [20:26<1:05:57,  1.01s/it]"
     ]
    },
    {
     "name": "stdout",
     "output_type": "stream",
     "text": [
      "==================================\n",
      "K=6 points=tensor([0.0000, 0.0556, 0.0683, 0.0786, 0.3936, 1.0000], device='cuda:0')\n",
      "==================================\n",
      "Epoch: 1088 - train_elbo: -104.1868 train_logpx: -98.5951 train_tvo_log_evidence: -98.6459\n"
     ]
    },
    {
     "name": "stderr",
     "output_type": "stream",
     "text": [
      "\r",
      " 22%|████████████████▌                                                           | 1089/5000 [20:29<1:36:06,  1.47s/it]"
     ]
    },
    {
     "name": "stdout",
     "output_type": "stream",
     "text": [
      "Epoch: 1089 - train_elbo: -104.0143 train_logpx: -98.6617 train_tvo_log_evidence: -98.7115\n"
     ]
    },
    {
     "name": "stderr",
     "output_type": "stream",
     "text": [
      "\r",
      " 22%|████████████████▌                                                           | 1090/5000 [20:30<1:25:55,  1.32s/it]"
     ]
    },
    {
     "name": "stdout",
     "output_type": "stream",
     "text": [
      "Epoch: 1090 - train_elbo: -104.0804 train_logpx: -98.7923 train_tvo_log_evidence: -98.8417\n"
     ]
    },
    {
     "name": "stderr",
     "output_type": "stream",
     "text": [
      "\r",
      " 22%|████████████████▌                                                           | 1091/5000 [20:31<1:18:20,  1.20s/it]"
     ]
    },
    {
     "name": "stdout",
     "output_type": "stream",
     "text": [
      "===early update=== logtvopx[-1]-average_y[-1] -0.1122 drip_threshold -0.05\n",
      "==================================\n",
      "K=6 points=tensor([0.0000, 0.0735, 0.1231, 0.1330, 0.1821, 1.0000], device='cuda:0')\n",
      "==================================\n",
      "Epoch: 1091 - train_elbo: -104.1639 train_logpx: -98.6728 train_tvo_log_evidence: -98.7232\n"
     ]
    },
    {
     "name": "stderr",
     "output_type": "stream",
     "text": [
      "\r",
      " 22%|████████████████▌                                                           | 1092/5000 [20:32<1:30:29,  1.39s/it]"
     ]
    },
    {
     "name": "stdout",
     "output_type": "stream",
     "text": [
      "Epoch: 1092 - train_elbo: -104.2602 train_logpx: -98.6133 train_tvo_log_evidence: -98.6647\n"
     ]
    },
    {
     "name": "stderr",
     "output_type": "stream",
     "text": [
      "\r",
      " 22%|████████████████▌                                                           | 1093/5000 [20:33<1:22:54,  1.27s/it]"
     ]
    },
    {
     "name": "stdout",
     "output_type": "stream",
     "text": [
      "Epoch: 1093 - train_elbo: -104.1686 train_logpx: -98.6586 train_tvo_log_evidence: -98.7090\n"
     ]
    },
    {
     "name": "stderr",
     "output_type": "stream",
     "text": [
      "\r",
      " 22%|████████████████▋                                                           | 1094/5000 [20:34<1:16:33,  1.18s/it]"
     ]
    },
    {
     "name": "stdout",
     "output_type": "stream",
     "text": [
      "Epoch: 1094 - train_elbo: -104.2002 train_logpx: -98.5530 train_tvo_log_evidence: -98.6042\n"
     ]
    },
    {
     "name": "stderr",
     "output_type": "stream",
     "text": [
      "\r",
      " 22%|████████████████▋                                                           | 1095/5000 [20:35<1:11:56,  1.11s/it]"
     ]
    },
    {
     "name": "stdout",
     "output_type": "stream",
     "text": [
      "Epoch: 1095 - train_elbo: -104.3469 train_logpx: -98.6332 train_tvo_log_evidence: -98.6849\n"
     ]
    },
    {
     "name": "stderr",
     "output_type": "stream",
     "text": [
      "\r",
      " 22%|████████████████▋                                                           | 1096/5000 [20:36<1:08:14,  1.05s/it]"
     ]
    },
    {
     "name": "stdout",
     "output_type": "stream",
     "text": [
      "Epoch: 1096 - train_elbo: -104.4415 train_logpx: -98.5909 train_tvo_log_evidence: -98.6436\n"
     ]
    },
    {
     "name": "stderr",
     "output_type": "stream",
     "text": [
      "\r",
      " 22%|████████████████▋                                                           | 1097/5000 [20:37<1:07:23,  1.04s/it]"
     ]
    },
    {
     "name": "stdout",
     "output_type": "stream",
     "text": [
      "Epoch: 1097 - train_elbo: -104.3830 train_logpx: -98.5307 train_tvo_log_evidence: -98.5838\n"
     ]
    },
    {
     "name": "stderr",
     "output_type": "stream",
     "text": [
      "\r",
      " 22%|████████████████▋                                                           | 1098/5000 [20:38<1:05:47,  1.01s/it]"
     ]
    },
    {
     "name": "stdout",
     "output_type": "stream",
     "text": [
      "Epoch: 1098 - train_elbo: -104.3816 train_logpx: -98.6966 train_tvo_log_evidence: -98.7485\n"
     ]
    },
    {
     "name": "stderr",
     "output_type": "stream",
     "text": [
      "\r",
      " 22%|████████████████▋                                                           | 1099/5000 [20:39<1:04:01,  1.02it/s]"
     ]
    },
    {
     "name": "stdout",
     "output_type": "stream",
     "text": [
      "Epoch: 1099 - train_elbo: -104.0935 train_logpx: -98.5131 train_tvo_log_evidence: -98.5639\n"
     ]
    },
    {
     "name": "stderr",
     "output_type": "stream",
     "text": [
      "\r",
      " 22%|████████████████▋                                                           | 1100/5000 [20:40<1:04:48,  1.00it/s]"
     ]
    },
    {
     "name": "stdout",
     "output_type": "stream",
     "text": [
      "Epoch: 1100 - train_elbo: -104.2716 train_logpx: -98.4828 train_tvo_log_evidence: -98.5350\n"
     ]
    },
    {
     "name": "stderr",
     "output_type": "stream",
     "text": [
      "\r",
      " 22%|████████████████▋                                                           | 1101/5000 [20:41<1:03:55,  1.02it/s]"
     ]
    },
    {
     "name": "stdout",
     "output_type": "stream",
     "text": [
      "Epoch: 1101 - train_elbo: -104.3495 train_logpx: -98.5547 train_tvo_log_evidence: -98.6070\n"
     ]
    },
    {
     "name": "stderr",
     "output_type": "stream",
     "text": [
      "\r",
      " 22%|████████████████▊                                                           | 1102/5000 [20:42<1:06:30,  1.02s/it]"
     ]
    },
    {
     "name": "stdout",
     "output_type": "stream",
     "text": [
      "Epoch: 1102 - train_elbo: -104.2440 train_logpx: -98.5053 train_tvo_log_evidence: -98.5577\n"
     ]
    },
    {
     "name": "stderr",
     "output_type": "stream",
     "text": [
      "\r",
      " 22%|████████████████▊                                                           | 1103/5000 [20:43<1:05:23,  1.01s/it]"
     ]
    },
    {
     "name": "stdout",
     "output_type": "stream",
     "text": [
      "Epoch: 1103 - train_elbo: -104.3624 train_logpx: -98.6188 train_tvo_log_evidence: -98.6706\n"
     ]
    },
    {
     "name": "stderr",
     "output_type": "stream",
     "text": [
      "\r",
      " 22%|████████████████▊                                                           | 1104/5000 [20:44<1:05:02,  1.00s/it]"
     ]
    },
    {
     "name": "stdout",
     "output_type": "stream",
     "text": [
      "Epoch: 1104 - train_elbo: -104.4070 train_logpx: -98.6639 train_tvo_log_evidence: -98.7160\n"
     ]
    },
    {
     "name": "stderr",
     "output_type": "stream",
     "text": [
      "\r",
      " 22%|████████████████▊                                                           | 1105/5000 [20:45<1:03:35,  1.02it/s]"
     ]
    },
    {
     "name": "stdout",
     "output_type": "stream",
     "text": [
      "==================================\n",
      "K=6 points=tensor([0.0000, 0.0673, 0.1079, 0.1725, 0.2446, 1.0000], device='cuda:0')\n",
      "==================================\n",
      "Epoch: 1105 - train_elbo: -104.3054 train_logpx: -98.5554 train_tvo_log_evidence: -98.6073\n"
     ]
    },
    {
     "name": "stderr",
     "output_type": "stream",
     "text": [
      "\r",
      " 22%|████████████████▊                                                           | 1106/5000 [20:47<1:20:59,  1.25s/it]"
     ]
    },
    {
     "name": "stdout",
     "output_type": "stream",
     "text": [
      "Epoch: 1106 - train_elbo: -104.4568 train_logpx: -98.4323 train_tvo_log_evidence: -98.4856\n"
     ]
    },
    {
     "name": "stderr",
     "output_type": "stream",
     "text": [
      "\r",
      " 22%|████████████████▊                                                           | 1107/5000 [20:48<1:14:55,  1.15s/it]"
     ]
    },
    {
     "name": "stdout",
     "output_type": "stream",
     "text": [
      "Epoch: 1107 - train_elbo: -104.3084 train_logpx: -98.4293 train_tvo_log_evidence: -98.4815\n"
     ]
    },
    {
     "name": "stderr",
     "output_type": "stream",
     "text": [
      "\r",
      " 22%|████████████████▊                                                           | 1108/5000 [20:49<1:12:13,  1.11s/it]"
     ]
    },
    {
     "name": "stdout",
     "output_type": "stream",
     "text": [
      "Epoch: 1108 - train_elbo: -104.2107 train_logpx: -98.4482 train_tvo_log_evidence: -98.5000\n"
     ]
    },
    {
     "name": "stderr",
     "output_type": "stream",
     "text": [
      "\r",
      " 22%|████████████████▊                                                           | 1109/5000 [20:50<1:09:43,  1.08s/it]"
     ]
    },
    {
     "name": "stdout",
     "output_type": "stream",
     "text": [
      "Epoch: 1109 - train_elbo: -104.2520 train_logpx: -98.4716 train_tvo_log_evidence: -98.5232\n"
     ]
    },
    {
     "name": "stderr",
     "output_type": "stream",
     "text": [
      "\r",
      " 22%|████████████████▊                                                           | 1110/5000 [20:51<1:08:13,  1.05s/it]"
     ]
    },
    {
     "name": "stdout",
     "output_type": "stream",
     "text": [
      "Epoch: 1110 - train_elbo: -104.1236 train_logpx: -98.2715 train_tvo_log_evidence: -98.3235\n"
     ]
    },
    {
     "name": "stderr",
     "output_type": "stream",
     "text": [
      "\r",
      " 22%|████████████████▉                                                           | 1111/5000 [20:52<1:06:33,  1.03s/it]"
     ]
    },
    {
     "name": "stdout",
     "output_type": "stream",
     "text": [
      "Epoch: 1111 - train_elbo: -104.2104 train_logpx: -98.4654 train_tvo_log_evidence: -98.5170\n"
     ]
    },
    {
     "name": "stderr",
     "output_type": "stream",
     "text": [
      "\r",
      " 22%|████████████████▉                                                           | 1112/5000 [20:53<1:06:39,  1.03s/it]"
     ]
    },
    {
     "name": "stdout",
     "output_type": "stream",
     "text": [
      "Epoch: 1112 - train_elbo: -104.2855 train_logpx: -98.4332 train_tvo_log_evidence: -98.4854\n"
     ]
    },
    {
     "name": "stderr",
     "output_type": "stream",
     "text": [
      "\r",
      " 22%|████████████████▉                                                           | 1113/5000 [20:54<1:06:46,  1.03s/it]"
     ]
    },
    {
     "name": "stdout",
     "output_type": "stream",
     "text": [
      "Epoch: 1113 - train_elbo: -104.3385 train_logpx: -98.4565 train_tvo_log_evidence: -98.5091\n"
     ]
    },
    {
     "name": "stderr",
     "output_type": "stream",
     "text": [
      "\r",
      " 22%|████████████████▉                                                           | 1114/5000 [20:55<1:06:28,  1.03s/it]"
     ]
    },
    {
     "name": "stdout",
     "output_type": "stream",
     "text": [
      "Epoch: 1114 - train_elbo: -104.2775 train_logpx: -98.4776 train_tvo_log_evidence: -98.5294\n"
     ]
    },
    {
     "name": "stderr",
     "output_type": "stream",
     "text": [
      "\r",
      " 22%|████████████████▉                                                           | 1115/5000 [20:56<1:06:55,  1.03s/it]"
     ]
    },
    {
     "name": "stdout",
     "output_type": "stream",
     "text": [
      "Epoch: 1115 - train_elbo: -104.2831 train_logpx: -98.5336 train_tvo_log_evidence: -98.5856\n"
     ]
    },
    {
     "name": "stderr",
     "output_type": "stream",
     "text": [
      "\r",
      " 22%|████████████████▉                                                           | 1116/5000 [20:57<1:04:53,  1.00s/it]"
     ]
    },
    {
     "name": "stdout",
     "output_type": "stream",
     "text": [
      "Epoch: 1116 - train_elbo: -104.2150 train_logpx: -98.4185 train_tvo_log_evidence: -98.4701\n"
     ]
    },
    {
     "name": "stderr",
     "output_type": "stream",
     "text": [
      "\r",
      " 22%|████████████████▉                                                           | 1117/5000 [20:58<1:03:57,  1.01it/s]"
     ]
    },
    {
     "name": "stdout",
     "output_type": "stream",
     "text": [
      "Epoch: 1117 - train_elbo: -104.1653 train_logpx: -98.3422 train_tvo_log_evidence: -98.3937\n"
     ]
    },
    {
     "name": "stderr",
     "output_type": "stream",
     "text": [
      "\r",
      " 22%|████████████████▉                                                           | 1118/5000 [20:59<1:02:08,  1.04it/s]"
     ]
    },
    {
     "name": "stdout",
     "output_type": "stream",
     "text": [
      "Epoch: 1118 - train_elbo: -104.2171 train_logpx: -98.4349 train_tvo_log_evidence: -98.4862\n"
     ]
    },
    {
     "name": "stderr",
     "output_type": "stream",
     "text": [
      "\r",
      " 22%|█████████████████                                                           | 1119/5000 [21:00<1:03:22,  1.02it/s]"
     ]
    },
    {
     "name": "stdout",
     "output_type": "stream",
     "text": [
      "Epoch: 1119 - train_elbo: -104.2184 train_logpx: -98.2954 train_tvo_log_evidence: -98.3478\n"
     ]
    },
    {
     "name": "stderr",
     "output_type": "stream",
     "text": [
      "\r",
      " 22%|█████████████████                                                           | 1120/5000 [21:01<1:03:56,  1.01it/s]"
     ]
    },
    {
     "name": "stdout",
     "output_type": "stream",
     "text": [
      "Epoch: 1120 - train_elbo: -104.2575 train_logpx: -98.4058 train_tvo_log_evidence: -98.4581\n"
     ]
    },
    {
     "name": "stderr",
     "output_type": "stream",
     "text": [
      "\r",
      " 22%|█████████████████                                                           | 1121/5000 [21:02<1:03:23,  1.02it/s]"
     ]
    },
    {
     "name": "stdout",
     "output_type": "stream",
     "text": [
      "Epoch: 1121 - train_elbo: -104.0245 train_logpx: -98.1988 train_tvo_log_evidence: -98.2507\n"
     ]
    },
    {
     "name": "stderr",
     "output_type": "stream",
     "text": [
      "\r",
      " 22%|█████████████████                                                           | 1122/5000 [21:03<1:03:22,  1.02it/s]"
     ]
    },
    {
     "name": "stdout",
     "output_type": "stream",
     "text": [
      "==================================\n",
      "K=6 points=tensor([0.0000, 0.0673, 0.1080, 0.1404, 0.3142, 1.0000], device='cuda:0')\n",
      "==================================\n",
      "Epoch: 1122 - train_elbo: -103.9993 train_logpx: -98.1869 train_tvo_log_evidence: -98.2389\n"
     ]
    },
    {
     "name": "stderr",
     "output_type": "stream",
     "text": [
      "\r",
      " 22%|█████████████████                                                           | 1123/5000 [21:05<1:23:22,  1.29s/it]"
     ]
    },
    {
     "name": "stdout",
     "output_type": "stream",
     "text": [
      "Epoch: 1123 - train_elbo: -104.0533 train_logpx: -98.3278 train_tvo_log_evidence: -98.3792\n"
     ]
    },
    {
     "name": "stderr",
     "output_type": "stream",
     "text": [
      "\r",
      " 22%|█████████████████                                                           | 1124/5000 [21:06<1:16:22,  1.18s/it]"
     ]
    },
    {
     "name": "stdout",
     "output_type": "stream",
     "text": [
      "Epoch: 1124 - train_elbo: -104.2218 train_logpx: -98.4780 train_tvo_log_evidence: -98.5295\n"
     ]
    },
    {
     "name": "stderr",
     "output_type": "stream",
     "text": [
      "\r",
      " 22%|█████████████████                                                           | 1125/5000 [21:07<1:11:21,  1.10s/it]"
     ]
    },
    {
     "name": "stdout",
     "output_type": "stream",
     "text": [
      "===early update=== logtvopx[-1]-average_y[-1] -0.0616 drip_threshold -0.05\n",
      "estimated [epsilon lengthscale noisevar] [0.9        1.98004337 0.15180867]\n",
      "==================================\n",
      "K=6 points=tensor([0.0000, 0.1648, 0.1881, 0.3420, 0.3539, 1.0000], device='cuda:0')\n",
      "==================================\n",
      "Epoch: 1125 - train_elbo: -103.9587 train_logpx: -98.2312 train_tvo_log_evidence: -98.2821\n"
     ]
    },
    {
     "name": "stderr",
     "output_type": "stream",
     "text": [
      "\r",
      " 23%|█████████████████                                                           | 1126/5000 [21:08<1:22:02,  1.27s/it]"
     ]
    },
    {
     "name": "stdout",
     "output_type": "stream",
     "text": [
      "Epoch: 1126 - train_elbo: -103.8580 train_logpx: -98.4149 train_tvo_log_evidence: -98.4654\n"
     ]
    },
    {
     "name": "stderr",
     "output_type": "stream",
     "text": [
      "\r",
      " 23%|█████████████████▏                                                          | 1127/5000 [21:09<1:15:04,  1.16s/it]"
     ]
    },
    {
     "name": "stdout",
     "output_type": "stream",
     "text": [
      "===early update=== logtvopx[-1]-average_y[-1] -0.0829 drip_threshold -0.05\n",
      "==================================\n",
      "K=6 points=tensor([0.0000, 0.1092, 0.1105, 0.1129, 0.1753, 1.0000], device='cuda:0')\n",
      "==================================\n",
      "Epoch: 1127 - train_elbo: -103.6532 train_logpx: -98.2274 train_tvo_log_evidence: -98.2778\n"
     ]
    },
    {
     "name": "stderr",
     "output_type": "stream",
     "text": [
      "\r",
      " 23%|█████████████████▏                                                          | 1128/5000 [21:11<1:28:37,  1.37s/it]"
     ]
    },
    {
     "name": "stdout",
     "output_type": "stream",
     "text": [
      "Epoch: 1128 - train_elbo: -103.9492 train_logpx: -98.3205 train_tvo_log_evidence: -98.3720\n"
     ]
    },
    {
     "name": "stderr",
     "output_type": "stream",
     "text": [
      "\r",
      " 23%|█████████████████▏                                                          | 1129/5000 [21:12<1:20:02,  1.24s/it]"
     ]
    },
    {
     "name": "stdout",
     "output_type": "stream",
     "text": [
      "Epoch: 1129 - train_elbo: -103.6855 train_logpx: -98.1253 train_tvo_log_evidence: -98.1766\n"
     ]
    },
    {
     "name": "stderr",
     "output_type": "stream",
     "text": [
      "\r",
      " 23%|█████████████████▏                                                          | 1130/5000 [21:13<1:13:58,  1.15s/it]"
     ]
    },
    {
     "name": "stdout",
     "output_type": "stream",
     "text": [
      "Epoch: 1130 - train_elbo: -103.9575 train_logpx: -98.3777 train_tvo_log_evidence: -98.4286\n"
     ]
    },
    {
     "name": "stderr",
     "output_type": "stream",
     "text": [
      "\r",
      " 23%|█████████████████▏                                                          | 1131/5000 [21:14<1:11:33,  1.11s/it]"
     ]
    },
    {
     "name": "stdout",
     "output_type": "stream",
     "text": [
      "Epoch: 1131 - train_elbo: -103.8032 train_logpx: -98.3356 train_tvo_log_evidence: -98.3861\n"
     ]
    },
    {
     "name": "stderr",
     "output_type": "stream",
     "text": [
      "\r",
      " 23%|█████████████████▏                                                          | 1132/5000 [21:15<1:09:52,  1.08s/it]"
     ]
    },
    {
     "name": "stdout",
     "output_type": "stream",
     "text": [
      "Epoch: 1132 - train_elbo: -103.7634 train_logpx: -98.3964 train_tvo_log_evidence: -98.4456\n"
     ]
    },
    {
     "name": "stderr",
     "output_type": "stream",
     "text": [
      "\r",
      " 23%|█████████████████▏                                                          | 1133/5000 [21:16<1:07:38,  1.05s/it]"
     ]
    },
    {
     "name": "stdout",
     "output_type": "stream",
     "text": [
      "===early update=== logtvopx[-1]-average_y[-1] -0.0666 drip_threshold -0.05\n",
      "==================================\n",
      "K=6 points=tensor([0.0000, 0.0679, 0.1095, 0.1427, 0.3429, 1.0000], device='cuda:0')\n",
      "==================================\n",
      "Epoch: 1133 - train_elbo: -103.9163 train_logpx: -98.3309 train_tvo_log_evidence: -98.3815\n"
     ]
    },
    {
     "name": "stderr",
     "output_type": "stream",
     "text": [
      "\r",
      " 23%|█████████████████▏                                                          | 1134/5000 [21:18<1:33:16,  1.45s/it]"
     ]
    },
    {
     "name": "stdout",
     "output_type": "stream",
     "text": [
      "Epoch: 1134 - train_elbo: -104.0442 train_logpx: -98.2181 train_tvo_log_evidence: -98.2696\n"
     ]
    },
    {
     "name": "stderr",
     "output_type": "stream",
     "text": [
      "\r",
      " 23%|█████████████████▎                                                          | 1135/5000 [21:19<1:25:00,  1.32s/it]"
     ]
    },
    {
     "name": "stdout",
     "output_type": "stream",
     "text": [
      "Epoch: 1135 - train_elbo: -104.0757 train_logpx: -98.3033 train_tvo_log_evidence: -98.3547\n"
     ]
    },
    {
     "name": "stderr",
     "output_type": "stream",
     "text": [
      "\r",
      " 23%|█████████████████▎                                                          | 1136/5000 [21:20<1:18:00,  1.21s/it]"
     ]
    },
    {
     "name": "stdout",
     "output_type": "stream",
     "text": [
      "Epoch: 1136 - train_elbo: -103.8806 train_logpx: -98.1897 train_tvo_log_evidence: -98.2409\n"
     ]
    },
    {
     "name": "stderr",
     "output_type": "stream",
     "text": [
      "\r",
      " 23%|█████████████████▎                                                          | 1137/5000 [21:21<1:12:37,  1.13s/it]"
     ]
    },
    {
     "name": "stdout",
     "output_type": "stream",
     "text": [
      "Epoch: 1137 - train_elbo: -103.9126 train_logpx: -98.2765 train_tvo_log_evidence: -98.3272\n"
     ]
    },
    {
     "name": "stderr",
     "output_type": "stream",
     "text": [
      "\r",
      " 23%|█████████████████▎                                                          | 1138/5000 [21:22<1:09:42,  1.08s/it]"
     ]
    },
    {
     "name": "stdout",
     "output_type": "stream",
     "text": [
      "Epoch: 1138 - train_elbo: -103.9888 train_logpx: -98.2666 train_tvo_log_evidence: -98.3177\n"
     ]
    },
    {
     "name": "stderr",
     "output_type": "stream",
     "text": [
      "\r",
      " 23%|█████████████████▎                                                          | 1139/5000 [21:23<1:07:04,  1.04s/it]"
     ]
    },
    {
     "name": "stdout",
     "output_type": "stream",
     "text": [
      "==================================\n",
      "K=6 points=tensor([0.0000, 0.0763, 0.1137, 0.1761, 0.1888, 1.0000], device='cuda:0')\n",
      "==================================\n",
      "args.schedule_update_frequency= 18\n",
      "Epoch: 1139 - train_elbo: -103.8842 train_logpx: -98.0410 train_tvo_log_evidence: -98.0932\n"
     ]
    },
    {
     "name": "stderr",
     "output_type": "stream",
     "text": [
      "\r",
      " 23%|█████████████████▎                                                          | 1140/5000 [21:25<1:27:47,  1.36s/it]"
     ]
    },
    {
     "name": "stdout",
     "output_type": "stream",
     "text": [
      "Epoch: 1140 - train_elbo: -103.8139 train_logpx: -98.2397 train_tvo_log_evidence: -98.2906\n"
     ]
    },
    {
     "name": "stderr",
     "output_type": "stream",
     "text": [
      "\r",
      " 23%|█████████████████▎                                                          | 1141/5000 [21:26<1:20:44,  1.26s/it]"
     ]
    },
    {
     "name": "stdout",
     "output_type": "stream",
     "text": [
      "Epoch: 1141 - train_elbo: -103.8984 train_logpx: -98.3650 train_tvo_log_evidence: -98.4153\n"
     ]
    },
    {
     "name": "stderr",
     "output_type": "stream",
     "text": [
      "\r",
      " 23%|█████████████████▎                                                          | 1142/5000 [21:27<1:15:34,  1.18s/it]"
     ]
    },
    {
     "name": "stdout",
     "output_type": "stream",
     "text": [
      "===early update=== logtvopx[-1]-average_y[-1] -0.0698 drip_threshold -0.05\n",
      "==================================\n",
      "K=6 points=tensor([0.0000, 0.0680, 0.1427, 0.1760, 0.1895, 1.0000], device='cuda:0')\n",
      "==================================\n",
      "Epoch: 1142 - train_elbo: -103.7801 train_logpx: -98.1348 train_tvo_log_evidence: -98.1858\n"
     ]
    },
    {
     "name": "stderr",
     "output_type": "stream",
     "text": [
      "\r",
      " 23%|█████████████████▎                                                          | 1143/5000 [21:30<1:41:13,  1.57s/it]"
     ]
    },
    {
     "name": "stdout",
     "output_type": "stream",
     "text": [
      "Epoch: 1143 - train_elbo: -103.9134 train_logpx: -98.1233 train_tvo_log_evidence: -98.1750\n"
     ]
    },
    {
     "name": "stderr",
     "output_type": "stream",
     "text": [
      "\r",
      " 23%|█████████████████▍                                                          | 1144/5000 [21:31<1:29:14,  1.39s/it]"
     ]
    },
    {
     "name": "stdout",
     "output_type": "stream",
     "text": [
      "Epoch: 1144 - train_elbo: -103.8072 train_logpx: -98.1772 train_tvo_log_evidence: -98.2283\n"
     ]
    },
    {
     "name": "stderr",
     "output_type": "stream",
     "text": [
      "\r",
      " 23%|█████████████████▍                                                          | 1145/5000 [21:32<1:19:58,  1.24s/it]"
     ]
    },
    {
     "name": "stdout",
     "output_type": "stream",
     "text": [
      "Epoch: 1145 - train_elbo: -103.8044 train_logpx: -98.2557 train_tvo_log_evidence: -98.3065\n"
     ]
    },
    {
     "name": "stderr",
     "output_type": "stream",
     "text": [
      "\r",
      " 23%|█████████████████▍                                                          | 1146/5000 [21:33<1:14:11,  1.16s/it]"
     ]
    },
    {
     "name": "stdout",
     "output_type": "stream",
     "text": [
      "Epoch: 1146 - train_elbo: -103.8235 train_logpx: -98.1302 train_tvo_log_evidence: -98.1811\n"
     ]
    },
    {
     "name": "stderr",
     "output_type": "stream",
     "text": [
      "\r",
      " 23%|█████████████████▍                                                          | 1147/5000 [21:34<1:10:09,  1.09s/it]"
     ]
    },
    {
     "name": "stdout",
     "output_type": "stream",
     "text": [
      "Epoch: 1147 - train_elbo: -103.6804 train_logpx: -98.1600 train_tvo_log_evidence: -98.2106\n"
     ]
    },
    {
     "name": "stderr",
     "output_type": "stream",
     "text": [
      "\r",
      " 23%|█████████████████▍                                                          | 1148/5000 [21:34<1:07:20,  1.05s/it]"
     ]
    },
    {
     "name": "stdout",
     "output_type": "stream",
     "text": [
      "Epoch: 1148 - train_elbo: -103.5863 train_logpx: -98.0898 train_tvo_log_evidence: -98.1397\n"
     ]
    },
    {
     "name": "stderr",
     "output_type": "stream",
     "text": [
      "\r",
      " 23%|█████████████████▍                                                          | 1149/5000 [21:35<1:04:07,  1.00it/s]"
     ]
    },
    {
     "name": "stdout",
     "output_type": "stream",
     "text": [
      "Epoch: 1149 - train_elbo: -103.7468 train_logpx: -98.1632 train_tvo_log_evidence: -98.2142\n"
     ]
    },
    {
     "name": "stderr",
     "output_type": "stream",
     "text": [
      "\r",
      " 23%|█████████████████▍                                                          | 1150/5000 [21:36<1:04:05,  1.00it/s]"
     ]
    },
    {
     "name": "stdout",
     "output_type": "stream",
     "text": [
      "Epoch: 1150 - train_elbo: -103.7190 train_logpx: -98.1064 train_tvo_log_evidence: -98.1573\n"
     ]
    },
    {
     "name": "stderr",
     "output_type": "stream",
     "text": [
      "\r",
      " 23%|█████████████████▍                                                          | 1151/5000 [21:37<1:02:50,  1.02it/s]"
     ]
    },
    {
     "name": "stdout",
     "output_type": "stream",
     "text": [
      "Epoch: 1151 - train_elbo: -103.7771 train_logpx: -98.1324 train_tvo_log_evidence: -98.1839\n"
     ]
    },
    {
     "name": "stderr",
     "output_type": "stream",
     "text": [
      "\r",
      " 23%|█████████████████▌                                                          | 1152/5000 [21:38<1:03:53,  1.00it/s]"
     ]
    },
    {
     "name": "stdout",
     "output_type": "stream",
     "text": [
      "estimated [epsilon lengthscale noisevar] [0.9        1.9548917  0.14745429]\n",
      "==================================\n",
      "K=6 points=tensor([0.0000, 0.1109, 0.2648, 0.3105, 0.4636, 1.0000], device='cuda:0')\n",
      "==================================\n",
      "Epoch: 1152 - train_elbo: -103.6014 train_logpx: -98.1636 train_tvo_log_evidence: -98.2138\n"
     ]
    },
    {
     "name": "stderr",
     "output_type": "stream",
     "text": [
      "\r",
      " 23%|█████████████████▌                                                          | 1153/5000 [21:40<1:20:25,  1.25s/it]"
     ]
    },
    {
     "name": "stdout",
     "output_type": "stream",
     "text": [
      "Epoch: 1153 - train_elbo: -103.6436 train_logpx: -98.2395 train_tvo_log_evidence: -98.2893\n"
     ]
    },
    {
     "name": "stderr",
     "output_type": "stream",
     "text": [
      "\r",
      " 23%|█████████████████▌                                                          | 1154/5000 [21:41<1:14:42,  1.17s/it]"
     ]
    },
    {
     "name": "stdout",
     "output_type": "stream",
     "text": [
      "===early update=== logtvopx[-1]-average_y[-1] -0.0509 drip_threshold -0.05\n",
      "==================================\n",
      "K=6 points=tensor([0.0000, 0.1097, 0.1115, 0.1360, 0.1430, 1.0000], device='cuda:0')\n",
      "==================================\n",
      "Epoch: 1154 - train_elbo: -103.7052 train_logpx: -98.2422 train_tvo_log_evidence: -98.2927\n"
     ]
    },
    {
     "name": "stderr",
     "output_type": "stream",
     "text": [
      "\r",
      " 23%|█████████████████▌                                                          | 1155/5000 [21:43<1:35:15,  1.49s/it]"
     ]
    },
    {
     "name": "stdout",
     "output_type": "stream",
     "text": [
      "Epoch: 1155 - train_elbo: -103.7405 train_logpx: -98.3120 train_tvo_log_evidence: -98.3622\n"
     ]
    },
    {
     "name": "stderr",
     "output_type": "stream",
     "text": [
      "\r",
      " 23%|█████████████████▌                                                          | 1156/5000 [21:44<1:25:47,  1.34s/it]"
     ]
    },
    {
     "name": "stdout",
     "output_type": "stream",
     "text": [
      "===early update=== logtvopx[-1]-average_y[-1] -0.1106 drip_threshold -0.05\n",
      "==================================\n",
      "K=6 points=tensor([0.0000, 0.0764, 0.1098, 0.1353, 0.2667, 1.0000], device='cuda:0')\n",
      "==================================\n",
      "Epoch: 1156 - train_elbo: -103.8512 train_logpx: -98.1904 train_tvo_log_evidence: -98.2417\n"
     ]
    },
    {
     "name": "stderr",
     "output_type": "stream",
     "text": [
      "\r",
      " 23%|█████████████████▌                                                          | 1157/5000 [21:47<1:43:43,  1.62s/it]"
     ]
    },
    {
     "name": "stdout",
     "output_type": "stream",
     "text": [
      "Epoch: 1157 - train_elbo: -104.0162 train_logpx: -98.1118 train_tvo_log_evidence: -98.1642\n"
     ]
    },
    {
     "name": "stderr",
     "output_type": "stream",
     "text": [
      "\r",
      " 23%|█████████████████▌                                                          | 1158/5000 [21:48<1:30:12,  1.41s/it]"
     ]
    },
    {
     "name": "stdout",
     "output_type": "stream",
     "text": [
      "Epoch: 1158 - train_elbo: -103.8806 train_logpx: -98.1108 train_tvo_log_evidence: -98.1626\n"
     ]
    },
    {
     "name": "stderr",
     "output_type": "stream",
     "text": [
      "\r",
      " 23%|█████████████████▌                                                          | 1159/5000 [21:49<1:22:10,  1.28s/it]"
     ]
    },
    {
     "name": "stdout",
     "output_type": "stream",
     "text": [
      "Epoch: 1159 - train_elbo: -103.8767 train_logpx: -98.1887 train_tvo_log_evidence: -98.2400\n"
     ]
    },
    {
     "name": "stderr",
     "output_type": "stream",
     "text": [
      "\r",
      " 23%|█████████████████▋                                                          | 1160/5000 [21:49<1:15:34,  1.18s/it]"
     ]
    },
    {
     "name": "stdout",
     "output_type": "stream",
     "text": [
      "Epoch: 1160 - train_elbo: -103.8296 train_logpx: -98.0314 train_tvo_log_evidence: -98.0829\n"
     ]
    },
    {
     "name": "stderr",
     "output_type": "stream",
     "text": [
      "\r",
      " 23%|█████████████████▋                                                          | 1161/5000 [21:50<1:10:08,  1.10s/it]"
     ]
    },
    {
     "name": "stdout",
     "output_type": "stream",
     "text": [
      "Epoch: 1161 - train_elbo: -103.8801 train_logpx: -98.0976 train_tvo_log_evidence: -98.1495\n"
     ]
    },
    {
     "name": "stderr",
     "output_type": "stream",
     "text": [
      "\r",
      " 23%|█████████████████▋                                                          | 1162/5000 [21:51<1:08:46,  1.08s/it]"
     ]
    },
    {
     "name": "stdout",
     "output_type": "stream",
     "text": [
      "Epoch: 1162 - train_elbo: -103.7573 train_logpx: -98.0842 train_tvo_log_evidence: -98.1353\n"
     ]
    },
    {
     "name": "stderr",
     "output_type": "stream",
     "text": [
      "\r",
      " 23%|█████████████████▋                                                          | 1163/5000 [21:52<1:06:26,  1.04s/it]"
     ]
    },
    {
     "name": "stdout",
     "output_type": "stream",
     "text": [
      "Epoch: 1163 - train_elbo: -103.7018 train_logpx: -98.0015 train_tvo_log_evidence: -98.0527\n"
     ]
    },
    {
     "name": "stderr",
     "output_type": "stream",
     "text": [
      "\r",
      " 23%|█████████████████▋                                                          | 1164/5000 [21:53<1:04:24,  1.01s/it]"
     ]
    },
    {
     "name": "stdout",
     "output_type": "stream",
     "text": [
      "Epoch: 1164 - train_elbo: -103.8706 train_logpx: -98.0141 train_tvo_log_evidence: -98.0662\n"
     ]
    },
    {
     "name": "stderr",
     "output_type": "stream",
     "text": [
      "\r",
      " 23%|█████████████████▋                                                          | 1165/5000 [21:54<1:03:20,  1.01it/s]"
     ]
    },
    {
     "name": "stdout",
     "output_type": "stream",
     "text": [
      "Epoch: 1165 - train_elbo: -103.7709 train_logpx: -97.9760 train_tvo_log_evidence: -98.0278\n"
     ]
    },
    {
     "name": "stderr",
     "output_type": "stream",
     "text": [
      "\r",
      " 23%|█████████████████▋                                                          | 1166/5000 [21:55<1:01:59,  1.03it/s]"
     ]
    },
    {
     "name": "stdout",
     "output_type": "stream",
     "text": [
      "Epoch: 1166 - train_elbo: -103.6296 train_logpx: -97.9470 train_tvo_log_evidence: -97.9979\n"
     ]
    },
    {
     "name": "stderr",
     "output_type": "stream",
     "text": [
      "\r",
      " 23%|█████████████████▋                                                          | 1167/5000 [21:56<1:01:56,  1.03it/s]"
     ]
    },
    {
     "name": "stdout",
     "output_type": "stream",
     "text": [
      "Epoch: 1167 - train_elbo: -103.7905 train_logpx: -98.0284 train_tvo_log_evidence: -98.0800\n"
     ]
    },
    {
     "name": "stderr",
     "output_type": "stream",
     "text": [
      "\r",
      " 23%|█████████████████▊                                                          | 1168/5000 [21:57<1:02:15,  1.03it/s]"
     ]
    },
    {
     "name": "stdout",
     "output_type": "stream",
     "text": [
      "Epoch: 1168 - train_elbo: -103.7778 train_logpx: -97.9806 train_tvo_log_evidence: -98.0321\n"
     ]
    },
    {
     "name": "stderr",
     "output_type": "stream",
     "text": [
      "\r",
      " 23%|█████████████████▊                                                          | 1169/5000 [21:58<1:00:40,  1.05it/s]"
     ]
    },
    {
     "name": "stdout",
     "output_type": "stream",
     "text": [
      "Epoch: 1169 - train_elbo: -103.8451 train_logpx: -98.0090 train_tvo_log_evidence: -98.0613\n"
     ]
    },
    {
     "name": "stderr",
     "output_type": "stream",
     "text": [
      "\r",
      " 23%|█████████████████▊                                                          | 1170/5000 [21:59<1:00:14,  1.06it/s]"
     ]
    },
    {
     "name": "stdout",
     "output_type": "stream",
     "text": [
      "==================================\n",
      "K=6 points=tensor([0.0000, 0.1100, 0.1117, 0.1126, 0.1770, 1.0000], device='cuda:0')\n",
      "==================================\n",
      "Epoch: 1170 - train_elbo: -103.5292 train_logpx: -97.8272 train_tvo_log_evidence: -97.8783\n"
     ]
    },
    {
     "name": "stderr",
     "output_type": "stream",
     "text": [
      "\r",
      " 23%|█████████████████▊                                                          | 1171/5000 [22:01<1:16:25,  1.20s/it]"
     ]
    },
    {
     "name": "stdout",
     "output_type": "stream",
     "text": [
      "Epoch: 1171 - train_elbo: -103.5444 train_logpx: -98.0768 train_tvo_log_evidence: -98.1274\n"
     ]
    },
    {
     "name": "stderr",
     "output_type": "stream",
     "text": [
      "\r",
      " 23%|█████████████████▊                                                          | 1172/5000 [22:02<1:10:41,  1.11s/it]"
     ]
    },
    {
     "name": "stdout",
     "output_type": "stream",
     "text": [
      "Epoch: 1172 - train_elbo: -103.6303 train_logpx: -97.9779 train_tvo_log_evidence: -98.0292\n"
     ]
    },
    {
     "name": "stderr",
     "output_type": "stream",
     "text": [
      "\r",
      " 23%|█████████████████▊                                                          | 1173/5000 [22:03<1:08:29,  1.07s/it]"
     ]
    },
    {
     "name": "stdout",
     "output_type": "stream",
     "text": [
      "Epoch: 1173 - train_elbo: -103.5285 train_logpx: -98.0100 train_tvo_log_evidence: -98.0605\n"
     ]
    },
    {
     "name": "stderr",
     "output_type": "stream",
     "text": [
      "\r",
      " 23%|█████████████████▊                                                          | 1174/5000 [22:04<1:05:58,  1.03s/it]"
     ]
    },
    {
     "name": "stdout",
     "output_type": "stream",
     "text": [
      "Epoch: 1174 - train_elbo: -103.7424 train_logpx: -98.1281 train_tvo_log_evidence: -98.1797\n"
     ]
    },
    {
     "name": "stderr",
     "output_type": "stream",
     "text": [
      "\r",
      " 24%|█████████████████▊                                                          | 1175/5000 [22:05<1:04:06,  1.01s/it]"
     ]
    },
    {
     "name": "stdout",
     "output_type": "stream",
     "text": [
      "Epoch: 1175 - train_elbo: -103.5440 train_logpx: -98.0011 train_tvo_log_evidence: -98.0518\n"
     ]
    },
    {
     "name": "stderr",
     "output_type": "stream",
     "text": [
      "\r",
      " 24%|█████████████████▉                                                          | 1176/5000 [22:05<1:02:55,  1.01it/s]"
     ]
    },
    {
     "name": "stdout",
     "output_type": "stream",
     "text": [
      "Epoch: 1176 - train_elbo: -103.5224 train_logpx: -97.9431 train_tvo_log_evidence: -97.9941\n"
     ]
    },
    {
     "name": "stderr",
     "output_type": "stream",
     "text": [
      "\r",
      " 24%|█████████████████▉                                                          | 1177/5000 [22:06<1:02:07,  1.03it/s]"
     ]
    },
    {
     "name": "stdout",
     "output_type": "stream",
     "text": [
      "Epoch: 1177 - train_elbo: -103.4821 train_logpx: -98.0240 train_tvo_log_evidence: -98.0743\n"
     ]
    },
    {
     "name": "stderr",
     "output_type": "stream",
     "text": [
      "\r",
      " 24%|█████████████████▉                                                          | 1178/5000 [22:07<1:02:40,  1.02it/s]"
     ]
    },
    {
     "name": "stdout",
     "output_type": "stream",
     "text": [
      "Epoch: 1178 - train_elbo: -103.4981 train_logpx: -98.0353 train_tvo_log_evidence: -98.0856\n"
     ]
    },
    {
     "name": "stderr",
     "output_type": "stream",
     "text": [
      "\r",
      " 24%|█████████████████▉                                                          | 1179/5000 [22:08<1:02:00,  1.03it/s]"
     ]
    },
    {
     "name": "stdout",
     "output_type": "stream",
     "text": [
      "Epoch: 1179 - train_elbo: -103.4287 train_logpx: -97.8969 train_tvo_log_evidence: -97.9475\n"
     ]
    },
    {
     "name": "stderr",
     "output_type": "stream",
     "text": [
      "\r",
      " 24%|█████████████████▉                                                          | 1180/5000 [22:09<1:01:41,  1.03it/s]"
     ]
    },
    {
     "name": "stdout",
     "output_type": "stream",
     "text": [
      "Epoch: 1180 - train_elbo: -103.5515 train_logpx: -98.0801 train_tvo_log_evidence: -98.1301\n"
     ]
    },
    {
     "name": "stderr",
     "output_type": "stream",
     "text": [
      "\r",
      " 24%|█████████████████▉                                                          | 1181/5000 [22:10<1:03:05,  1.01it/s]"
     ]
    },
    {
     "name": "stdout",
     "output_type": "stream",
     "text": [
      "Epoch: 1181 - train_elbo: -103.5745 train_logpx: -98.0302 train_tvo_log_evidence: -98.0811\n"
     ]
    },
    {
     "name": "stderr",
     "output_type": "stream",
     "text": [
      "\r",
      " 24%|█████████████████▉                                                          | 1182/5000 [22:11<1:02:24,  1.02it/s]"
     ]
    },
    {
     "name": "stdout",
     "output_type": "stream",
     "text": [
      "Epoch: 1182 - train_elbo: -103.4895 train_logpx: -97.9879 train_tvo_log_evidence: -98.0381\n"
     ]
    },
    {
     "name": "stderr",
     "output_type": "stream",
     "text": [
      "\r",
      " 24%|█████████████████▉                                                          | 1183/5000 [22:12<1:02:59,  1.01it/s]"
     ]
    },
    {
     "name": "stdout",
     "output_type": "stream",
     "text": [
      "Epoch: 1183 - train_elbo: -103.4186 train_logpx: -97.9256 train_tvo_log_evidence: -97.9759\n"
     ]
    },
    {
     "name": "stderr",
     "output_type": "stream",
     "text": [
      "\r",
      " 24%|█████████████████▉                                                          | 1184/5000 [22:13<1:02:44,  1.01it/s]"
     ]
    },
    {
     "name": "stdout",
     "output_type": "stream",
     "text": [
      "Epoch: 1184 - train_elbo: -103.4918 train_logpx: -98.1041 train_tvo_log_evidence: -98.1540\n"
     ]
    },
    {
     "name": "stderr",
     "output_type": "stream",
     "text": [
      "\r",
      " 24%|██████████████████                                                          | 1185/5000 [22:14<1:01:04,  1.04it/s]"
     ]
    }
   ],
   "source": [
    "run main.py with learning_task='continuous_vae' dataset='tiny_mnist' epochs=5000 loss='tvo' K=5 S=10 schedule='gp_bandit' -F ./myresult"
   ]
  },
  {
   "cell_type": "markdown",
   "metadata": {},
   "source": [
    "# Training VAE using TVO and the log schedule"
   ]
  },
  {
   "cell_type": "code",
   "execution_count": null,
   "metadata": {},
   "outputs": [],
   "source": [
    "run main.py with learning_task='continuous_vae' dataset='tiny_mnist' epochs=5000 loss='tvo' K=5 S=10 schedule='log' -F ./myresult"
   ]
  },
  {
   "cell_type": "markdown",
   "metadata": {},
   "source": [
    "# Training VAE using TVO and the linear schedule"
   ]
  },
  {
   "cell_type": "code",
   "execution_count": null,
   "metadata": {},
   "outputs": [],
   "source": [
    "run main.py with learning_task='continuous_vae' dataset='tiny_mnist' epochs=5000 loss='tvo' K=5 S=10 schedule='linear' -F ./myresult"
   ]
  },
  {
   "cell_type": "markdown",
   "metadata": {},
   "source": [
    "# Training VAE using ELBO"
   ]
  },
  {
   "cell_type": "code",
   "execution_count": null,
   "metadata": {},
   "outputs": [],
   "source": [
    "run main.py with learning_task='continuous_vae' dataset='tiny_mnist' epochs=5000 loss='elbo' S=10 -F ./myresult"
   ]
  },
  {
   "cell_type": "markdown",
   "metadata": {},
   "source": [
    "# Plot and compare the performance"
   ]
  },
  {
   "cell_type": "code",
   "execution_count": null,
   "metadata": {},
   "outputs": [],
   "source": [
    "from src.file_reader_helper import get_experiments_from_fs, get_experiments_from_dir, process_dictionary_column, get_data, get_baseline\n",
    "from src.ml_helpers import smooth\n",
    "import numpy as np\n",
    "from matplotlib import pyplot as plt\n",
    "from pathlib import Path\n",
    "import pandas as pd\n",
    "import seaborn as sns\n",
    "from datetime import datetime\n",
    "import itertools\n",
    "\n",
    "from IPython.display import display, HTML\n",
    "from IPython.display import set_matplotlib_formats\n",
    "set_matplotlib_formats('retina')\n",
    "pd.set_option('display.max_columns', None)"
   ]
  },
  {
   "cell_type": "code",
   "execution_count": null,
   "metadata": {},
   "outputs": [],
   "source": [
    "# cols = [\n",
    "#     'schedule_update_frequency',\n",
    "#     'epochs',\n",
    "#     'schedule',\n",
    "#     'K',\n",
    "#     'S',\n",
    "#     'dataset',\n",
    "#     'learning_task',\n",
    "#     'batch_size',\n",
    "#     'bq_log_seed_point',\n",
    "#     'loss',\n",
    "#     'start_time',\n",
    "#     'status',\n",
    "#     'stop_time',\n",
    "#     'test_kl',\n",
    "#     'test_logpx',\n",
    "#     'train_elbo',\n",
    "#     'train_logpx',\n",
    "#     'train_tvo_px'\n",
    "# ]\n"
   ]
  },
  {
   "cell_type": "markdown",
   "metadata": {},
   "source": []
  },
  {
   "cell_type": "code",
   "execution_count": null,
   "metadata": {},
   "outputs": [],
   "source": [
    "def plot_learning_curve(result, dataset,metric='train_logpx', smooth_range=0):\n",
    "    idx = pd.IndexSlice\n",
    "    \n",
    "    fig, ax = plt.subplots(1, 1, \n",
    "                             sharex=True, \n",
    "                             sharey=True,\n",
    "                             #dpi=200, \n",
    "                             figsize=(12, 5))\n",
    "\n",
    "    color_map = {\"log\":\"blue\",}\n",
    "    \n",
    "    S, K = 50,5\n",
    "\n",
    "    # plot baselines\n",
    "    for schedule in ['log', 'linear']:\n",
    "        exps, df = result\n",
    "        filtered = exps.query(\"S==@S and loss=='tvo' and schedule==@schedule and dataset==@dataset and K==@K\")\n",
    "        ids = list(filtered.index)\n",
    "\n",
    "        results = df.loc[idx[ids, metric, :], :]\n",
    "\n",
    "        steps = results.groupby('index').mean()['steps'].values\n",
    "        values = results.groupby('index').mean()['values'].values\n",
    "\n",
    "        if smooth_range > 0:\n",
    "            values = smooth(values, smooth_range)\n",
    "\n",
    "        label = f'{schedule} ({round(values[-1], 3)}) '\n",
    "        ax.plot(steps,values,linestyle = \"-.\",linewidth = 1.5,label = label)\n",
    "\n",
    "    # plot ELBO\n",
    "    exps, df = result\n",
    "    filtered = exps.query(\"S==@S and loss=='elbo' and dataset==@dataset\")\n",
    "    ids = list(filtered.index)\n",
    "\n",
    "    results = df.loc[idx[ids, metric, :], :]\n",
    "    steps = results.groupby('index').mean()['steps'].values\n",
    "    values = results.groupby('index').mean()['values'].values\n",
    "\n",
    "    if smooth_range > 0:\n",
    "        values = smooth(values, smooth_range)\n",
    "\n",
    "    name = f'ELBO'\n",
    "\n",
    "    if len(values) != 0:\n",
    "        label = f'{name} ({round(values[-1], 3)}) '\n",
    "        ax.plot(steps,values,linewidth = 1.5,label = label)\n",
    "\n",
    "\n",
    "    # plot our method         \n",
    "    exps, df = result\n",
    "    filtered = exps.query(\"S==@S and loss=='tvo' and schedule=='gp_bandit' and dataset==@dataset and K==@K\")\n",
    "    ids = list(filtered.index)\n",
    "\n",
    "    results = df.loc[idx[ids, metric, :], :]\n",
    "    steps = results.groupby('index').mean()['steps'].values\n",
    "    values = results.groupby('index').mean()['values'].values\n",
    "\n",
    "    if smooth_range > 0:\n",
    "        values = smooth(values, smooth_range)\n",
    "\n",
    "    name = f'gp_bandit'\n",
    "\n",
    "\n",
    "    if len(values) != 0:\n",
    "        label = f'{name} ({round(values[-1], 3)}) '\n",
    "        ax.plot(steps,values,linewidth = 1.5,label = label)\n",
    "\n",
    "    \n",
    "    if 'px' in metric:\n",
    "        ax.set_ylim([-110,-90])\n",
    "    else: # KL\n",
    "        ax.set_ylim([2,16])\n",
    "\n",
    "    ax.grid(True, axis='y', linewidth=0.2)\n",
    "    ax.set_ylabel(metric,fontsize=14)\n",
    "    ax.set_xlabel('epoch',fontsize=14)\n",
    "    ax.xaxis.set_label_coords(0.5, -0.025)\n",
    "\n",
    "    xmax = 5000\n",
    "\n",
    "    ax.set_xticks([0, xmax])\n",
    "    ax.set_xticklabels([0, str(xmax)])\n",
    "    sns.despine(ax=ax, trim=True)\n",
    "    ax.legend(fontsize=15, frameon=False, loc='lower right')\n",
    "\n",
    "                \n",
    "    cols = ['K: {}'.format(col) for col in [2,5,10,15]]\n",
    "    rows = ['S: {}'.format(row) for row in [10, 50]]\n",
    "\n",
    "    fig.suptitle(f'{dataset} {metric}',fontsize=16)\n",
    "    fig.tight_layout()\n",
    "    \n"
   ]
  },
  {
   "cell_type": "code",
   "execution_count": null,
   "metadata": {},
   "outputs": [],
   "source": [
    "result=get_data(\"./myresult/\")\n",
    "#print(result)\n",
    "plot_learning_curve(result, dataset=\"tiny_mnist\",metric='test_kl', smooth_range=2)\n"
   ]
  }
 ],
 "metadata": {
  "kernelspec": {
   "display_name": "Python 3",
   "language": "python",
   "name": "python3"
  },
  "language_info": {
   "codemirror_mode": {
    "name": "ipython",
    "version": 3
   },
   "file_extension": ".py",
   "mimetype": "text/x-python",
   "name": "python",
   "nbconvert_exporter": "python",
   "pygments_lexer": "ipython3",
   "version": "3.6.8"
  }
 },
 "nbformat": 4,
 "nbformat_minor": 2
}
